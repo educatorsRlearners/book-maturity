{
 "cells": [
  {
   "cell_type": "code",
   "execution_count": 35,
   "metadata": {},
   "outputs": [],
   "source": [
    "import os\n",
    "import string\n",
    "import requests\n",
    "import glob\n",
    "import pandas as pd \n",
    "from bs4 import BeautifulSoup"
   ]
  },
  {
   "cell_type": "code",
   "execution_count": 2,
   "metadata": {},
   "outputs": [
    {
     "data": {
      "text/plain": [
       "['lexile/raw/book-reviews/the-third-twin.html',\n",
       " 'lexile/raw/book-reviews/small-damages.html',\n",
       " 'lexile/raw/book-reviews/the-school-for-good-and-evil-book-1.html',\n",
       " 'lexile/raw/book-reviews/agent-of-chaos-the-x-files-origins-book-1.html',\n",
       " 'lexile/raw/book-reviews/crossing-ebenezer-creek.html',\n",
       " 'lexile/raw/book-reviews/the-real-mccoys-book-1.html',\n",
       " 'lexile/raw/book-reviews/miss-educated-an-upper-class-novel-2.html',\n",
       " 'lexile/raw/book-reviews/flora-and-the-flamingo.html',\n",
       " 'lexile/raw/book-reviews/big-snow.html',\n",
       " 'lexile/raw/book-reviews/english-roses-too-good-to-be-true.html']"
      ]
     },
     "execution_count": 2,
     "metadata": {},
     "output_type": "execute_result"
    }
   ],
   "source": [
    "path = \"lexile/raw/book-reviews/\"\n",
    "files = [f for f in glob.glob(path + \"*.html\", recursive=True)]\n",
    "files[:10]"
   ]
  },
  {
   "cell_type": "code",
   "execution_count": 3,
   "metadata": {},
   "outputs": [],
   "source": [
    "file_names = []\n",
    "\n",
    "for file in files:\n",
    "    f = file.split(\"/\")[3]\n",
    "    file_names.append(f[:-5])"
   ]
  },
  {
   "cell_type": "code",
   "execution_count": 9,
   "metadata": {},
   "outputs": [],
   "source": [
    "csm_ages = []\n",
    "cover_src = []\n",
    "\n",
    "for file in files:\n",
    "    with open(file, 'r') as f: \n",
    "        soup = BeautifulSoup(f.read(), 'html.parser')\n",
    "        csm_ages.append(soup.find(class_=\"csm-green-age\").get_text().replace(\"age \", \"\")[:-1])\n",
    "        cover = soup.find(class_=\"field field-name-field-product-image field-type-image field-label-hidden\")\n",
    "        cover_src.append(cover.find(\"img\").get('src'))"
   ]
  },
  {
   "cell_type": "code",
   "execution_count": 21,
   "metadata": {},
   "outputs": [
    {
     "data": {
      "text/plain": [
       "5816"
      ]
     },
     "execution_count": 21,
     "metadata": {},
     "output_type": "execute_result"
    }
   ],
   "source": [
    "filler = [\"_\" for _ in range(len(csm_ages))]"
   ]
  },
  {
   "cell_type": "code",
   "execution_count": 27,
   "metadata": {},
   "outputs": [
    {
     "data": {
      "text/plain": [
       "'12_the-third-twin'"
      ]
     },
     "execution_count": 27,
     "metadata": {},
     "output_type": "execute_result"
    }
   ],
   "source": [
    "names = [x+y+z for x,y,z in zip(csm_ages,filler,file_names)]"
   ]
  },
  {
   "cell_type": "code",
   "execution_count": 31,
   "metadata": {},
   "outputs": [],
   "source": [
    "info = dict(zip(names, cover_src))"
   ]
  },
  {
   "cell_type": "code",
   "execution_count": 32,
   "metadata": {},
   "outputs": [],
   "source": [
    "!mkdir 'test'"
   ]
  },
  {
   "cell_type": "code",
   "execution_count": null,
   "metadata": {},
   "outputs": [],
   "source": [
    "for file in files:\n",
    "    with open(file, 'r') as f: \n",
    "        soup = BeautifulSoup(f.read(), 'html.parser')\n",
    "        for k, v in info.items():\n",
    "            try: \n",
    "                if '.jpg?' in v:\n",
    "                    with open('./test/' + k + '.jpg', 'wb') as f:\n",
    "                            f.write(requests.get(v).content)\n",
    "                elif '.png?' in v: \n",
    "                    with open('./test/' + k + '.png', 'wb') as f:\n",
    "                            f.write(requests.get(v).content)\n",
    "                else:\n",
    "                    with open('./test/' + k + '.jpeg', 'wb') as f:\n",
    "                            f.write(requests.get(v).content)\n",
    "            except FileNotFoundError as err:\n",
    "                with open('lexile/errors.txt', 'a') as f:\n",
    "                        f.write(k)"
   ]
  },
  {
   "cell_type": "code",
   "execution_count": null,
   "metadata": {},
   "outputs": [],
   "source": []
  }
 ],
 "metadata": {
  "kernelspec": {
   "display_name": "base",
   "language": "python",
   "name": "base"
  },
  "language_info": {
   "codemirror_mode": {
    "name": "ipython",
    "version": 3
   },
   "file_extension": ".py",
   "mimetype": "text/x-python",
   "name": "python",
   "nbconvert_exporter": "python",
   "pygments_lexer": "ipython3",
   "version": "3.7.4"
  }
 },
 "nbformat": 4,
 "nbformat_minor": 4
}
