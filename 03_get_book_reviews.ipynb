{
 "cells": [
  {
   "cell_type": "code",
   "execution_count": 1,
   "metadata": {},
   "outputs": [],
   "source": [
    "import pandas as pd\n",
    "import csv\n",
    "from bs4 import BeautifulSoup\n",
    "import requests\n",
    "import os"
   ]
  },
  {
   "cell_type": "code",
   "execution_count": 2,
   "metadata": {},
   "outputs": [
    {
     "data": {
      "text/html": [
       "<div>\n",
       "<style scoped>\n",
       "    .dataframe tbody tr th:only-of-type {\n",
       "        vertical-align: middle;\n",
       "    }\n",
       "\n",
       "    .dataframe tbody tr th {\n",
       "        vertical-align: top;\n",
       "    }\n",
       "\n",
       "    .dataframe thead th {\n",
       "        text-align: right;\n",
       "    }\n",
       "</style>\n",
       "<table border=\"1\" class=\"dataframe\">\n",
       "  <thead>\n",
       "    <tr style=\"text-align: right;\">\n",
       "      <th></th>\n",
       "      <th>title</th>\n",
       "      <th>f_name</th>\n",
       "      <th>url</th>\n",
       "    </tr>\n",
       "  </thead>\n",
       "  <tbody>\n",
       "    <tr>\n",
       "      <td>0</td>\n",
       "      <td>Joshua Dread</td>\n",
       "      <td>joshua-dread</td>\n",
       "      <td>https://www.commonsensemedia.org/book-reviews/...</td>\n",
       "    </tr>\n",
       "    <tr>\n",
       "      <td>1</td>\n",
       "      <td>Abe Lincoln's Dream</td>\n",
       "      <td>abe-lincolns-dream</td>\n",
       "      <td>https://www.commonsensemedia.org/book-reviews/...</td>\n",
       "    </tr>\n",
       "    <tr>\n",
       "      <td>2</td>\n",
       "      <td>Teeth</td>\n",
       "      <td>teeth</td>\n",
       "      <td>https://www.commonsensemedia.org/book-reviews/...</td>\n",
       "    </tr>\n",
       "    <tr>\n",
       "      <td>3</td>\n",
       "      <td>Nancy Clancy: Secret Admirer</td>\n",
       "      <td>nancy-clancy-secret-admirer</td>\n",
       "      <td>https://www.commonsensemedia.org/book-reviews/...</td>\n",
       "    </tr>\n",
       "    <tr>\n",
       "      <td>4</td>\n",
       "      <td>On the Road to Mr. Mineo's</td>\n",
       "      <td>on-the-road-to-mr-mineos</td>\n",
       "      <td>https://www.commonsensemedia.org/book-reviews/...</td>\n",
       "    </tr>\n",
       "  </tbody>\n",
       "</table>\n",
       "</div>"
      ],
      "text/plain": [
       "                          title                       f_name  \\\n",
       "0                  Joshua Dread                 joshua-dread   \n",
       "1           Abe Lincoln's Dream           abe-lincolns-dream   \n",
       "2                         Teeth                        teeth   \n",
       "3  Nancy Clancy: Secret Admirer  nancy-clancy-secret-admirer   \n",
       "4    On the Road to Mr. Mineo's     on-the-road-to-mr-mineos   \n",
       "\n",
       "                                                 url  \n",
       "0  https://www.commonsensemedia.org/book-reviews/...  \n",
       "1  https://www.commonsensemedia.org/book-reviews/...  \n",
       "2  https://www.commonsensemedia.org/book-reviews/...  \n",
       "3  https://www.commonsensemedia.org/book-reviews/...  \n",
       "4  https://www.commonsensemedia.org/book-reviews/...  "
      ]
     },
     "execution_count": 2,
     "metadata": {},
     "output_type": "execute_result"
    }
   ],
   "source": [
    "df = pd.read_csv('title-url.csv')\n",
    "df.head()"
   ]
  },
  {
   "cell_type": "code",
   "execution_count": 6,
   "metadata": {},
   "outputs": [
    {
     "data": {
      "text/plain": [
       "5816"
      ]
     },
     "execution_count": 6,
     "metadata": {},
     "output_type": "execute_result"
    }
   ],
   "source": [
    "df.shape[0]"
   ]
  },
  {
   "cell_type": "code",
   "execution_count": 3,
   "metadata": {},
   "outputs": [
    {
     "name": "stdout",
     "output_type": "stream",
     "text": [
      "mkdir: cannot create directory ‘lexile/raw/book-reviews’: File exists\n"
     ]
    }
   ],
   "source": [
    "!mkdir lexile/raw/book-reviews"
   ]
  },
  {
   "cell_type": "code",
   "execution_count": 9,
   "metadata": {},
   "outputs": [],
   "source": [
    "path = 'lexile/raw/book-reviews/'\n",
    "\n",
    "for i, j in df.iterrows():\n",
    "    if not os.path.isfile(path + j.f_name + \".html\"):\n",
    "        try: \n",
    "            page = requests.get(j.url)\n",
    "            soup = BeautifulSoup(page.text, 'html.parser')\n",
    "            with open(path + j.f_name + \".html\", 'wb') as f:\n",
    "                try:\n",
    "                    f.write(soup.encode('utf-8'))\n",
    "                except:\n",
    "                    with open(\"lexile/raw/book-errors.txt\", 'a+') as f:\n",
    "                        f.write(j.title + \"\\n\")\n",
    "        except: \n",
    "            with open(\"lexile/raw/book-errors.txt\", 'a+') as f:\n",
    "                        f.write(j.title + \"\\n\")\n",
    "    else: \n",
    "        continue"
   ]
  },
  {
   "cell_type": "code",
   "execution_count": 10,
   "metadata": {},
   "outputs": [
    {
     "data": {
      "text/plain": [
       "5817"
      ]
     },
     "execution_count": 10,
     "metadata": {},
     "output_type": "execute_result"
    }
   ],
   "source": [
    "len(os.listdir(path))"
   ]
  },
  {
   "cell_type": "code",
   "execution_count": null,
   "metadata": {},
   "outputs": [],
   "source": []
  }
 ],
 "metadata": {
  "kernelspec": {
   "display_name": "base",
   "language": "python",
   "name": "base"
  },
  "language_info": {
   "codemirror_mode": {
    "name": "ipython",
    "version": 3
   },
   "file_extension": ".py",
   "mimetype": "text/x-python",
   "name": "python",
   "nbconvert_exporter": "python",
   "pygments_lexer": "ipython3",
   "version": "3.7.4"
  }
 },
 "nbformat": 4,
 "nbformat_minor": 4
}
