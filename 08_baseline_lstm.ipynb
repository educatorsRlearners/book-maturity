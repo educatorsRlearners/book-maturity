{
 "cells": [
  {
   "cell_type": "code",
   "execution_count": 1,
   "metadata": {},
   "outputs": [
    {
     "name": "stderr",
     "output_type": "stream",
     "text": [
      "Using TensorFlow backend.\n"
     ]
    }
   ],
   "source": [
    "import pandas as pd\n",
    "import numpy as np\n",
    "import tensorflow as tf\n",
    "from math import sqrt\n",
    "\n",
    "from sklearn.model_selection import StratifiedShuffleSplit\n",
    "from keras.preprocessing.text import Tokenizer\n",
    "from keras.preprocessing.sequence import pad_sequences\n",
    "\n",
    "import matplotlib.pyplot as plt\n",
    "\n",
    "from keras.models import Sequential\n",
    "from keras.layers import Embedding\n",
    "from keras.layers import LSTM\n",
    "from keras.layers import Activation\n",
    "from keras.layers import Dense\n",
    "from keras.layers import Input\n",
    "from keras.layers import GlobalMaxPooling1D\n",
    "from keras.callbacks import ReduceLROnPlateau\n",
    "from keras.callbacks import EarlyStopping"
   ]
  },
  {
   "cell_type": "code",
   "execution_count": 2,
   "metadata": {},
   "outputs": [],
   "source": [
    "train = pd.read_csv('csv/train.csv')\n",
    "valid = pd.read_csv(\"csv/test.csv\")"
   ]
  },
  {
   "cell_type": "code",
   "execution_count": 3,
   "metadata": {},
   "outputs": [
    {
     "data": {
      "text/html": [
       "<div>\n",
       "<style scoped>\n",
       "    .dataframe tbody tr th:only-of-type {\n",
       "        vertical-align: middle;\n",
       "    }\n",
       "\n",
       "    .dataframe tbody tr th {\n",
       "        vertical-align: top;\n",
       "    }\n",
       "\n",
       "    .dataframe thead th {\n",
       "        text-align: right;\n",
       "    }\n",
       "</style>\n",
       "<table border=\"1\" class=\"dataframe\">\n",
       "  <thead>\n",
       "    <tr style=\"text-align: right;\">\n",
       "      <th></th>\n",
       "      <th>title</th>\n",
       "      <th>description</th>\n",
       "      <th>plot</th>\n",
       "      <th>csm_review</th>\n",
       "      <th>need_to_know</th>\n",
       "      <th>par_rating</th>\n",
       "      <th>kids_rating</th>\n",
       "      <th>csm_rating</th>\n",
       "      <th>Author</th>\n",
       "      <th>Genre</th>\n",
       "      <th>...</th>\n",
       "      <th>Publisher's recommended age(s)</th>\n",
       "      <th>Number of pages</th>\n",
       "      <th>Available on</th>\n",
       "      <th>Last updated</th>\n",
       "      <th>Illustrator</th>\n",
       "      <th>Authors</th>\n",
       "      <th>Awards</th>\n",
       "      <th>Publishers</th>\n",
       "      <th>Award</th>\n",
       "      <th>Illustrators</th>\n",
       "    </tr>\n",
       "  </thead>\n",
       "  <tbody>\n",
       "    <tr>\n",
       "      <th>0</th>\n",
       "      <td>Carly Keene, Literary Detective: Braving the B...</td>\n",
       "      <td>Mysterious time-travel story for adventurous b...</td>\n",
       "      <td>CARLY KEENE LITERARY DETECTIVE: BRAVING THE BR...</td>\n",
       "      <td>Carly Keene Literary Detective: Braving the Br...</td>\n",
       "      <td>Parents need to know that Katherine Rue's Carl...</td>\n",
       "      <td>NaN</td>\n",
       "      <td>NaN</td>\n",
       "      <td>10</td>\n",
       "      <td>Katherine Rue</td>\n",
       "      <td>Historical Fiction</td>\n",
       "      <td>...</td>\n",
       "      <td>NaN</td>\n",
       "      <td>262.0</td>\n",
       "      <td>Paperback, Kindle</td>\n",
       "      <td>June 19, 2019</td>\n",
       "      <td>Nick Guarracino</td>\n",
       "      <td>NaN</td>\n",
       "      <td>NaN</td>\n",
       "      <td>NaN</td>\n",
       "      <td>NaN</td>\n",
       "      <td>NaN</td>\n",
       "    </tr>\n",
       "    <tr>\n",
       "      <th>1</th>\n",
       "      <td>Tangerine</td>\n",
       "      <td>A complex tale about teens, family relationships.</td>\n",
       "      <td>Paul Fisher can see things his parents can't, ...</td>\n",
       "      <td>This complex, multilayered novel is impossible...</td>\n",
       "      <td>Parents need to know that the contrasting brot...</td>\n",
       "      <td>12.0</td>\n",
       "      <td>11.0</td>\n",
       "      <td>11</td>\n",
       "      <td>Edward Bloor</td>\n",
       "      <td>Coming of Age</td>\n",
       "      <td>...</td>\n",
       "      <td>NaN</td>\n",
       "      <td>294.0</td>\n",
       "      <td>NaN</td>\n",
       "      <td>July 06, 2016</td>\n",
       "      <td>NaN</td>\n",
       "      <td>NaN</td>\n",
       "      <td>NaN</td>\n",
       "      <td>NaN</td>\n",
       "      <td>NaN</td>\n",
       "      <td>NaN</td>\n",
       "    </tr>\n",
       "    <tr>\n",
       "      <th>2</th>\n",
       "      <td>One Boy</td>\n",
       "      <td>Counting and wordplay, with eye-catching color...</td>\n",
       "      <td>One boy sits alone in the beginning, starting ...</td>\n",
       "      <td>From the dye-cut red cover to the final page, ...</td>\n",
       "      <td>Parents need to know that nearly every book La...</td>\n",
       "      <td>17.0</td>\n",
       "      <td>NaN</td>\n",
       "      <td>3</td>\n",
       "      <td>Laura Vaccaro Seeger</td>\n",
       "      <td>Picture Book</td>\n",
       "      <td>...</td>\n",
       "      <td>2 - 6</td>\n",
       "      <td>48.0</td>\n",
       "      <td>NaN</td>\n",
       "      <td>July 13, 2017</td>\n",
       "      <td>Laura Vaccaro Seeger</td>\n",
       "      <td>NaN</td>\n",
       "      <td>NaN</td>\n",
       "      <td>NaN</td>\n",
       "      <td>NaN</td>\n",
       "      <td>NaN</td>\n",
       "    </tr>\n",
       "    <tr>\n",
       "      <th>3</th>\n",
       "      <td>Lu: Track, Book 4</td>\n",
       "      <td>Heartfelt ending to award-winning series on sp...</td>\n",
       "      <td>In LU: TRACK, BOOK 4, Lu has swagger. He's a r...</td>\n",
       "      <td>Author Jason Reynolds wraps up an outstanding ...</td>\n",
       "      <td>Parents meed to know that Lu: Track Book 4 is ...</td>\n",
       "      <td>NaN</td>\n",
       "      <td>NaN</td>\n",
       "      <td>10</td>\n",
       "      <td>Jason Reynolds</td>\n",
       "      <td>Sports</td>\n",
       "      <td>...</td>\n",
       "      <td>10 - 17</td>\n",
       "      <td>224.0</td>\n",
       "      <td>Nook, Hardback, iBooks, Kindle</td>\n",
       "      <td>April 15, 2019</td>\n",
       "      <td>NaN</td>\n",
       "      <td>NaN</td>\n",
       "      <td>NaN</td>\n",
       "      <td>NaN</td>\n",
       "      <td>NaN</td>\n",
       "      <td>NaN</td>\n",
       "    </tr>\n",
       "    <tr>\n",
       "      <th>4</th>\n",
       "      <td>Emma</td>\n",
       "      <td>Austen's romantic, comic classic has timeless ...</td>\n",
       "      <td>Jane Austen's classic novel EMMA begins with t...</td>\n",
       "      <td>Funny and highly entertaining, Emma is full of...</td>\n",
       "      <td>Parents need to know that Jane Austen's belove...</td>\n",
       "      <td>NaN</td>\n",
       "      <td>14.0</td>\n",
       "      <td>13</td>\n",
       "      <td>Jane Austen</td>\n",
       "      <td>Romance</td>\n",
       "      <td>...</td>\n",
       "      <td>NaN</td>\n",
       "      <td>544.0</td>\n",
       "      <td>Paperback, Nook, Audiobook (unabridged), Hardb...</td>\n",
       "      <td>February 24, 2020</td>\n",
       "      <td>NaN</td>\n",
       "      <td>NaN</td>\n",
       "      <td>NaN</td>\n",
       "      <td>NaN</td>\n",
       "      <td>NaN</td>\n",
       "      <td>NaN</td>\n",
       "    </tr>\n",
       "  </tbody>\n",
       "</table>\n",
       "<p>5 rows × 24 columns</p>\n",
       "</div>"
      ],
      "text/plain": [
       "                                               title  \\\n",
       "0  Carly Keene, Literary Detective: Braving the B...   \n",
       "1                                          Tangerine   \n",
       "2                                            One Boy   \n",
       "3                                  Lu: Track, Book 4   \n",
       "4                                               Emma   \n",
       "\n",
       "                                         description  \\\n",
       "0  Mysterious time-travel story for adventurous b...   \n",
       "1  A complex tale about teens, family relationships.   \n",
       "2  Counting and wordplay, with eye-catching color...   \n",
       "3  Heartfelt ending to award-winning series on sp...   \n",
       "4  Austen's romantic, comic classic has timeless ...   \n",
       "\n",
       "                                                plot  \\\n",
       "0  CARLY KEENE LITERARY DETECTIVE: BRAVING THE BR...   \n",
       "1  Paul Fisher can see things his parents can't, ...   \n",
       "2  One boy sits alone in the beginning, starting ...   \n",
       "3  In LU: TRACK, BOOK 4, Lu has swagger. He's a r...   \n",
       "4  Jane Austen's classic novel EMMA begins with t...   \n",
       "\n",
       "                                          csm_review  \\\n",
       "0  Carly Keene Literary Detective: Braving the Br...   \n",
       "1  This complex, multilayered novel is impossible...   \n",
       "2  From the dye-cut red cover to the final page, ...   \n",
       "3  Author Jason Reynolds wraps up an outstanding ...   \n",
       "4  Funny and highly entertaining, Emma is full of...   \n",
       "\n",
       "                                        need_to_know  par_rating  kids_rating  \\\n",
       "0  Parents need to know that Katherine Rue's Carl...         NaN          NaN   \n",
       "1  Parents need to know that the contrasting brot...        12.0         11.0   \n",
       "2  Parents need to know that nearly every book La...        17.0          NaN   \n",
       "3  Parents meed to know that Lu: Track Book 4 is ...         NaN          NaN   \n",
       "4  Parents need to know that Jane Austen's belove...         NaN         14.0   \n",
       "\n",
       "   csm_rating                Author               Genre  ...  \\\n",
       "0          10         Katherine Rue  Historical Fiction  ...   \n",
       "1          11          Edward Bloor       Coming of Age  ...   \n",
       "2           3  Laura Vaccaro Seeger        Picture Book  ...   \n",
       "3          10        Jason Reynolds              Sports  ...   \n",
       "4          13           Jane Austen             Romance  ...   \n",
       "\n",
       "  Publisher's recommended age(s) Number of pages  \\\n",
       "0                            NaN           262.0   \n",
       "1                            NaN           294.0   \n",
       "2                          2 - 6            48.0   \n",
       "3                        10 - 17           224.0   \n",
       "4                            NaN           544.0   \n",
       "\n",
       "                                        Available on       Last updated  \\\n",
       "0                                  Paperback, Kindle      June 19, 2019   \n",
       "1                                                NaN      July 06, 2016   \n",
       "2                                                NaN      July 13, 2017   \n",
       "3                     Nook, Hardback, iBooks, Kindle     April 15, 2019   \n",
       "4  Paperback, Nook, Audiobook (unabridged), Hardb...  February 24, 2020   \n",
       "\n",
       "            Illustrator  Authors Awards Publishers Award Illustrators  \n",
       "0       Nick Guarracino      NaN    NaN        NaN   NaN          NaN  \n",
       "1                   NaN      NaN    NaN        NaN   NaN          NaN  \n",
       "2  Laura Vaccaro Seeger      NaN    NaN        NaN   NaN          NaN  \n",
       "3                   NaN      NaN    NaN        NaN   NaN          NaN  \n",
       "4                   NaN      NaN    NaN        NaN   NaN          NaN  \n",
       "\n",
       "[5 rows x 24 columns]"
      ]
     },
     "execution_count": 3,
     "metadata": {},
     "output_type": "execute_result"
    }
   ],
   "source": [
    "train.head()"
   ]
  },
  {
   "cell_type": "code",
   "execution_count": 4,
   "metadata": {},
   "outputs": [
    {
     "data": {
      "text/plain": [
       "'A complex tale about teens, family relationships.'"
      ]
     },
     "execution_count": 4,
     "metadata": {},
     "output_type": "execute_result"
    }
   ],
   "source": [
    "train.loc[1, \"description\"]"
   ]
  },
  {
   "cell_type": "markdown",
   "metadata": {},
   "source": [
    "## Create the splits"
   ]
  },
  {
   "cell_type": "code",
   "execution_count": 5,
   "metadata": {},
   "outputs": [],
   "source": [
    "x_tr, y_tr = train['description'].values, train['csm_rating'].values\n",
    "x_val, y_val = valid[\"description\"].values, valid[\"csm_rating\"].values"
   ]
  },
  {
   "cell_type": "code",
   "execution_count": 6,
   "metadata": {},
   "outputs": [
    {
     "name": "stdout",
     "output_type": "stream",
     "text": [
      "(4651,) (4651,)\n"
     ]
    }
   ],
   "source": [
    "print(x_tr.shape, y_tr.shape)"
   ]
  },
  {
   "cell_type": "code",
   "execution_count": 7,
   "metadata": {},
   "outputs": [
    {
     "name": "stdout",
     "output_type": "stream",
     "text": [
      "(1164,) (1164,)\n"
     ]
    }
   ],
   "source": [
    "print(x_val.shape, y_val.shape)"
   ]
  },
  {
   "cell_type": "markdown",
   "metadata": {},
   "source": [
    "## Prepare the Data"
   ]
  },
  {
   "cell_type": "code",
   "execution_count": 8,
   "metadata": {},
   "outputs": [
    {
     "name": "stdout",
     "output_type": "stream",
     "text": [
      "14\n",
      "4\n"
     ]
    }
   ],
   "source": [
    "#Tokenize the sentences\n",
    "tokenizer = Tokenizer()\n",
    "\n",
    "#preparing vocabulary\n",
    "tokenizer.fit_on_texts(list(x_tr))\n",
    "\n",
    "#converting text into integer sequences\n",
    "x_tr_seq  = tokenizer.texts_to_sequences(x_tr) \n",
    "x_val_seq = tokenizer.texts_to_sequences(x_val)\n",
    "\n",
    "print(len(max(x_tr_seq, key=len)))\n",
    "print(len(min(x_tr_seq, key=len)))"
   ]
  },
  {
   "cell_type": "code",
   "execution_count": 9,
   "metadata": {},
   "outputs": [
    {
     "name": "stdout",
     "output_type": "stream",
     "text": [
      "14\n",
      "14\n"
     ]
    }
   ],
   "source": [
    "#padding to prepare sequences of same length\n",
    "x_tr_seq  = pad_sequences(x_tr_seq, maxlen=14)\n",
    "x_val_seq = pad_sequences(x_val_seq, maxlen=14)\n",
    "print(len(max(x_tr_seq, key=len)))\n",
    "print(len(min(x_tr_seq, key=len)))"
   ]
  },
  {
   "cell_type": "code",
   "execution_count": 10,
   "metadata": {},
   "outputs": [
    {
     "data": {
      "text/plain": [
       "array([   0,    0,    0,    0,    0,    0,    0,    5,  114,    3,   15,\n",
       "         29,   33, 1039], dtype=int32)"
      ]
     },
     "execution_count": 10,
     "metadata": {},
     "output_type": "execute_result"
    }
   ],
   "source": [
    "x_tr_seq[1]"
   ]
  },
  {
   "cell_type": "code",
   "execution_count": 11,
   "metadata": {},
   "outputs": [],
   "source": [
    "max_length = len(max(x_tr_seq, key=len))"
   ]
  },
  {
   "cell_type": "code",
   "execution_count": 12,
   "metadata": {},
   "outputs": [
    {
     "name": "stdout",
     "output_type": "stream",
     "text": [
      "5799\n"
     ]
    }
   ],
   "source": [
    "size_of_vocabulary=len(tokenizer.word_index) + 1 #+1 for padding\n",
    "print(size_of_vocabulary)"
   ]
  },
  {
   "cell_type": "markdown",
   "metadata": {},
   "source": [
    "## Create embeddings"
   ]
  },
  {
   "cell_type": "code",
   "execution_count": 13,
   "metadata": {},
   "outputs": [
    {
     "name": "stdout",
     "output_type": "stream",
     "text": [
      "Found 5798 unique tokens.\n"
     ]
    }
   ],
   "source": [
    "word_index = tokenizer.word_index\n",
    "print(\"Found %s unique tokens.\" % len(word_index))"
   ]
  },
  {
   "cell_type": "markdown",
   "metadata": {},
   "source": [
    "## Create the Model"
   ]
  },
  {
   "cell_type": "code",
   "execution_count": 14,
   "metadata": {},
   "outputs": [
    {
     "name": "stdout",
     "output_type": "stream",
     "text": [
      "Model: \"sequential_1\"\n",
      "_________________________________________________________________\n",
      "Layer (type)                 Output Shape              Param #   \n",
      "=================================================================\n",
      "embedding_1 (Embedding)      (None, 14, 300)           1739700   \n",
      "_________________________________________________________________\n",
      "lstm_1 (LSTM)                (None, 14, 128)           219648    \n",
      "_________________________________________________________________\n",
      "global_max_pooling1d_1 (Glob (None, 128)               0         \n",
      "_________________________________________________________________\n",
      "dense_1 (Dense)              (None, 64)                8256      \n",
      "_________________________________________________________________\n",
      "dense_2 (Dense)              (None, 1)                 65        \n",
      "=================================================================\n",
      "Total params: 1,967,669\n",
      "Trainable params: 1,967,669\n",
      "Non-trainable params: 0\n",
      "_________________________________________________________________\n",
      "None\n"
     ]
    }
   ],
   "source": [
    "model=Sequential()\n",
    "\n",
    "#embedding layer\n",
    "model.add(Embedding(size_of_vocabulary,300,input_length=max_length,trainable=True)) \n",
    "\n",
    "#lstm layer\n",
    "model.add(LSTM(128,return_sequences=True,dropout=0.2))\n",
    "\n",
    "#Global Maxpooling\n",
    "model.add(GlobalMaxPooling1D())\n",
    "\n",
    "#Dense Layer\n",
    "model.add(Dense(64,activation='relu')) \n",
    "model.add(Dense(1,activation='relu')) \n",
    "\n",
    "#Add loss function, metrics, optimizer\n",
    "#optimizer = tf.keras.optimizers.RMSprop(0.001)\n",
    "\n",
    "model.compile(optimizer=\"RMSprop\", loss='mean_squared_error', metrics=[\"mae\"]) \n",
    "\n",
    "#Adding callbacks\n",
    "#es = EarlyStopping(monitor='val_loss', mode='min', verbose=1,patience=10)  \n",
    "#mc=ModelCheckpoint('best_model.h5', monitor='val_loss', mode='max', save_best_only=True,verbose=1)  \n",
    "\n",
    "#Print summary of model\n",
    "print(model.summary())"
   ]
  },
  {
   "cell_type": "markdown",
   "metadata": {},
   "source": [
    "## Callbacks"
   ]
  },
  {
   "cell_type": "code",
   "execution_count": 15,
   "metadata": {},
   "outputs": [],
   "source": [
    "earlystop = EarlyStopping(patience=10)\n",
    "learning_rate_reduction = ReduceLROnPlateau(monitor='val_mae', \n",
    "                                            patience=2, \n",
    "                                            verbose=1, \n",
    "                                            factor=0.5, \n",
    "                                            min_lr=0.00001)\n",
    "\n",
    "callbacks = [earlystop, learning_rate_reduction]"
   ]
  },
  {
   "cell_type": "markdown",
   "metadata": {},
   "source": [
    "## Fit the Model"
   ]
  },
  {
   "cell_type": "code",
   "execution_count": 16,
   "metadata": {},
   "outputs": [
    {
     "name": "stderr",
     "output_type": "stream",
     "text": [
      "/home/evan/anaconda3/lib/python3.7/site-packages/tensorflow_core/python/framework/indexed_slices.py:433: UserWarning: Converting sparse IndexedSlices to a dense Tensor of unknown shape. This may consume a large amount of memory.\n",
      "  \"Converting sparse IndexedSlices to a dense Tensor of unknown shape. \"\n"
     ]
    },
    {
     "name": "stdout",
     "output_type": "stream",
     "text": [
      "Train on 4651 samples, validate on 1164 samples\n",
      "Epoch 1/50\n",
      "4651/4651 [==============================] - 3s 582us/step - loss: 27.9177 - mae: 4.2310 - val_loss: 14.9386 - val_mae: 3.2631\n",
      "Epoch 2/50\n",
      "4651/4651 [==============================] - 2s 462us/step - loss: 12.9358 - mae: 3.0133 - val_loss: 12.5450 - val_mae: 2.8875\n",
      "Epoch 3/50\n",
      "4651/4651 [==============================] - 2s 467us/step - loss: 7.2945 - mae: 2.1602 - val_loss: 10.6081 - val_mae: 2.5976\n",
      "Epoch 4/50\n",
      "4651/4651 [==============================] - 2s 446us/step - loss: 5.0621 - mae: 1.7598 - val_loss: 7.1138 - val_mae: 2.0966\n",
      "Epoch 5/50\n",
      "4651/4651 [==============================] - 2s 443us/step - loss: 3.9781 - mae: 1.5586 - val_loss: 7.2852 - val_mae: 2.1437\n",
      "Epoch 6/50\n",
      "4651/4651 [==============================] - 2s 454us/step - loss: 3.5329 - mae: 1.4549 - val_loss: 9.4285 - val_mae: 2.4306\n",
      "\n",
      "Epoch 00006: ReduceLROnPlateau reducing learning rate to 0.0005000000237487257.\n",
      "Epoch 7/50\n",
      "4651/4651 [==============================] - 2s 437us/step - loss: 2.5588 - mae: 1.2178 - val_loss: 6.2484 - val_mae: 1.9575\n",
      "Epoch 8/50\n",
      "4651/4651 [==============================] - 2s 456us/step - loss: 2.2975 - mae: 1.1400 - val_loss: 6.8544 - val_mae: 2.0515\n",
      "Epoch 9/50\n",
      "4651/4651 [==============================] - 2s 438us/step - loss: 2.1761 - mae: 1.1019 - val_loss: 6.6908 - val_mae: 1.9929\n",
      "\n",
      "Epoch 00009: ReduceLROnPlateau reducing learning rate to 0.0002500000118743628.\n",
      "Epoch 10/50\n",
      "4651/4651 [==============================] - 2s 464us/step - loss: 1.7824 - mae: 0.9853 - val_loss: 6.3969 - val_mae: 1.9662\n",
      "Epoch 11/50\n",
      "4651/4651 [==============================] - 2s 453us/step - loss: 1.7379 - mae: 0.9627 - val_loss: 6.5208 - val_mae: 1.9735\n",
      "\n",
      "Epoch 00011: ReduceLROnPlateau reducing learning rate to 0.0001250000059371814.\n",
      "Epoch 12/50\n",
      "4651/4651 [==============================] - 2s 453us/step - loss: 1.5893 - mae: 0.9087 - val_loss: 6.4703 - val_mae: 1.9740\n",
      "Epoch 13/50\n",
      "4651/4651 [==============================] - 2s 444us/step - loss: 1.5716 - mae: 0.8981 - val_loss: 6.5020 - val_mae: 1.9771\n",
      "\n",
      "Epoch 00013: ReduceLROnPlateau reducing learning rate to 6.25000029685907e-05.\n",
      "Epoch 14/50\n",
      "4651/4651 [==============================] - 2s 456us/step - loss: 1.4754 - mae: 0.8610 - val_loss: 6.5682 - val_mae: 1.9886\n",
      "Epoch 15/50\n",
      "4651/4651 [==============================] - 2s 450us/step - loss: 1.4636 - mae: 0.8570 - val_loss: 6.5262 - val_mae: 1.9772\n",
      "\n",
      "Epoch 00015: ReduceLROnPlateau reducing learning rate to 3.125000148429535e-05.\n",
      "Epoch 16/50\n",
      "4651/4651 [==============================] - 2s 449us/step - loss: 1.4450 - mae: 0.8471 - val_loss: 6.5752 - val_mae: 1.9859\n",
      "Epoch 17/50\n",
      "4651/4651 [==============================] - 2s 456us/step - loss: 1.4315 - mae: 0.8425 - val_loss: 6.5926 - val_mae: 1.9902\n",
      "\n",
      "Epoch 00017: ReduceLROnPlateau reducing learning rate to 1.5625000742147677e-05.\n"
     ]
    }
   ],
   "source": [
    "history = model.fit(np.array(x_tr_seq),\n",
    "                    np.array(y_tr),\n",
    "                    batch_size=128,\n",
    "                    epochs=50,\n",
    "                    validation_data=(np.array(x_val_seq),np.array(y_val)),\n",
    "                    verbose=1,\n",
    "                    callbacks=callbacks)"
   ]
  },
  {
   "cell_type": "code",
   "execution_count": 17,
   "metadata": {},
   "outputs": [
    {
     "name": "stdout",
     "output_type": "stream",
     "text": [
      "1164/1164 [==============================] - 0s 173us/step\n",
      "The val_mae is 1.990.\n"
     ]
    }
   ],
   "source": [
    "#evaluation \n",
    "val_loss, val_mae = model.evaluate(x_val_seq, y_val)\n",
    "\n",
    "print(\"The val_mae is %.3f.\" % val_mae)"
   ]
  },
  {
   "cell_type": "code",
   "execution_count": 18,
   "metadata": {},
   "outputs": [
    {
     "data": {
      "image/png": "[encoded data removed]",
      "text/plain": [
       "<Figure size 432x288 with 1 Axes>"
      ]
     },
     "metadata": {
      "needs_background": "light"
     },
     "output_type": "display_data"
    },
    {
     "data": {
      "image/png": "[encoded data removed]",
      "text/plain": [
       "<Figure size 432x288 with 1 Axes>"
      ]
     },
     "metadata": {
      "needs_background": "light"
     },
     "output_type": "display_data"
    }
   ],
   "source": [
    "plt.plot(model.history.history[\"loss\"], label=\"loss\");\n",
    "plt.plot(model.history.history[\"val_loss\"], label=\"val_loss\");\n",
    "plt.legend();\n",
    "plt.show();\n",
    "plt.close();\n",
    "\n",
    "plt.plot(model.history.history[\"mae\"], label=\"mae\");\n",
    "plt.plot(model.history.history[\"val_mae\"], label=\"val_mae\");\n",
    "plt.legend();"
   ]
  },
  {
   "cell_type": "markdown",
   "metadata": {},
   "source": [
    "## [Use Transfer Learning](https://www.analyticsvidhya.com/blog/2020/03/pretrained-word-embeddings-nlp/)"
   ]
  },
  {
   "cell_type": "code",
   "execution_count": 19,
   "metadata": {},
   "outputs": [
    {
     "name": "stdout",
     "output_type": "stream",
     "text": [
      "Loaded 400000 word vectors.\n"
     ]
    }
   ],
   "source": [
    "# load the whole embedding into memory\n",
    "embeddings_index = dict()\n",
    "\n",
    "with open(\"glove/glove.6B.300d.txt\") as f:\n",
    "\n",
    "    for line in f:\n",
    "        values = line.split()\n",
    "        word = values[0]\n",
    "        coefs = np.asarray(values[1:], dtype='float32')\n",
    "        embeddings_index[word] = coefs\n",
    "\n",
    "print('Loaded %s word vectors.' % len(embeddings_index))"
   ]
  },
  {
   "cell_type": "code",
   "execution_count": 20,
   "metadata": {},
   "outputs": [],
   "source": [
    "# create a weight matrix for words in training docs\n",
    "embedding_matrix = np.zeros((size_of_vocabulary, 300))\n",
    "\n",
    "for word, i in tokenizer.word_index.items():\n",
    "    embedding_vector = embeddings_index.get(word)\n",
    "    if embedding_vector is not None:\n",
    "        embedding_matrix[i] = embedding_vector"
   ]
  },
  {
   "cell_type": "code",
   "execution_count": 21,
   "metadata": {},
   "outputs": [
    {
     "name": "stdout",
     "output_type": "stream",
     "text": [
      "Model: \"sequential_2\"\n",
      "_________________________________________________________________\n",
      "Layer (type)                 Output Shape              Param #   \n",
      "=================================================================\n",
      "embedding_2 (Embedding)      (None, 14, 300)           1739700   \n",
      "_________________________________________________________________\n",
      "lstm_2 (LSTM)                (None, 14, 128)           219648    \n",
      "_________________________________________________________________\n",
      "global_max_pooling1d_2 (Glob (None, 128)               0         \n",
      "_________________________________________________________________\n",
      "dense_3 (Dense)              (None, 64)                8256      \n",
      "_________________________________________________________________\n",
      "dense_4 (Dense)              (None, 1)                 65        \n",
      "=================================================================\n",
      "Total params: 1,967,669\n",
      "Trainable params: 227,969\n",
      "Non-trainable params: 1,739,700\n",
      "_________________________________________________________________\n",
      "None\n"
     ]
    }
   ],
   "source": [
    "model=Sequential()\n",
    "\n",
    "#embedding layer\n",
    "#model.add(Embedding(size_of_vocabulary,300,input_length=14,trainable=True)) \n",
    "model.add(Embedding(size_of_vocabulary,300,weights=[embedding_matrix],input_length=max_length,trainable=False)) \n",
    "\n",
    "\n",
    "#lstm layer\n",
    "model.add(LSTM(128,return_sequences=True,dropout=0.2))\n",
    "\n",
    "#Global Maxpooling\n",
    "model.add(GlobalMaxPooling1D())\n",
    "\n",
    "#Dense Layer\n",
    "model.add(Dense(64,activation='relu')) \n",
    "model.add(Dense(1,activation='relu')) \n",
    "\n",
    "#Add loss function, metrics, optimizer\n",
    "#optimizer = tf.keras.optimizers.RMSprop(0.001)\n",
    "\n",
    "model.compile(optimizer=\"RMSprop\", loss='mean_squared_error', metrics=[\"mae\"]) \n",
    "\n",
    "#Print summary of model\n",
    "print(model.summary())"
   ]
  },
  {
   "cell_type": "code",
   "execution_count": 22,
   "metadata": {},
   "outputs": [
    {
     "name": "stdout",
     "output_type": "stream",
     "text": [
      "Train on 4651 samples, validate on 1164 samples\n",
      "Epoch 1/50\n",
      "4651/4651 [==============================] - 2s 423us/step - loss: 21.5913 - mae: 3.6785 - val_loss: 13.4045 - val_mae: 2.9652\n",
      "Epoch 2/50\n",
      "4651/4651 [==============================] - 1s 274us/step - loss: 8.1133 - mae: 2.2719 - val_loss: 8.0178 - val_mae: 2.2843\n",
      "Epoch 3/50\n",
      "4651/4651 [==============================] - 1s 272us/step - loss: 7.1850 - mae: 2.1321 - val_loss: 7.7248 - val_mae: 2.2386\n",
      "Epoch 4/50\n",
      "4651/4651 [==============================] - 1s 277us/step - loss: 6.6344 - mae: 2.0314 - val_loss: 8.3726 - val_mae: 2.2566\n",
      "Epoch 5/50\n",
      "4651/4651 [==============================] - 1s 287us/step - loss: 6.1618 - mae: 1.9633 - val_loss: 8.0802 - val_mae: 2.2286\n",
      "Epoch 6/50\n",
      "4651/4651 [==============================] - 1s 286us/step - loss: 6.0160 - mae: 1.9171 - val_loss: 7.0459 - val_mae: 2.1340\n",
      "Epoch 7/50\n",
      "4651/4651 [==============================] - 1s 281us/step - loss: 5.7767 - mae: 1.8869 - val_loss: 6.5312 - val_mae: 1.9982\n",
      "Epoch 8/50\n",
      "4651/4651 [==============================] - 1s 288us/step - loss: 5.4600 - mae: 1.8223 - val_loss: 6.2458 - val_mae: 1.9595\n",
      "Epoch 9/50\n",
      "4651/4651 [==============================] - 1s 306us/step - loss: 5.1727 - mae: 1.7783 - val_loss: 6.1606 - val_mae: 1.9462\n",
      "Epoch 10/50\n",
      "4651/4651 [==============================] - 2s 325us/step - loss: 5.0935 - mae: 1.7609 - val_loss: 6.0794 - val_mae: 1.9372\n",
      "Epoch 11/50\n",
      "4651/4651 [==============================] - 2s 367us/step - loss: 4.8451 - mae: 1.7177 - val_loss: 6.7929 - val_mae: 2.0480\n",
      "Epoch 12/50\n",
      "4651/4651 [==============================] - 1s 321us/step - loss: 4.5100 - mae: 1.6565 - val_loss: 6.8755 - val_mae: 2.0149\n",
      "\n",
      "Epoch 00012: ReduceLROnPlateau reducing learning rate to 0.0005000000237487257.\n",
      "Epoch 13/50\n",
      "4651/4651 [==============================] - 1s 283us/step - loss: 4.1452 - mae: 1.5910 - val_loss: 6.4207 - val_mae: 1.9579\n",
      "Epoch 14/50\n",
      "4651/4651 [==============================] - 1s 290us/step - loss: 4.0202 - mae: 1.5618 - val_loss: 5.9789 - val_mae: 1.9061\n",
      "Epoch 15/50\n",
      "4651/4651 [==============================] - 1s 288us/step - loss: 3.9008 - mae: 1.5305 - val_loss: 6.1498 - val_mae: 1.9316\n",
      "Epoch 16/50\n",
      "4651/4651 [==============================] - 1s 289us/step - loss: 3.8167 - mae: 1.5215 - val_loss: 5.9406 - val_mae: 1.8847\n",
      "Epoch 17/50\n",
      "4651/4651 [==============================] - 1s 286us/step - loss: 3.7524 - mae: 1.5161 - val_loss: 6.4070 - val_mae: 1.9733\n",
      "Epoch 18/50\n",
      "4651/4651 [==============================] - 1s 290us/step - loss: 3.5490 - mae: 1.4771 - val_loss: 6.0053 - val_mae: 1.8937\n",
      "\n",
      "Epoch 00018: ReduceLROnPlateau reducing learning rate to 0.0002500000118743628.\n",
      "Epoch 19/50\n",
      "4651/4651 [==============================] - 1s 291us/step - loss: 3.3581 - mae: 1.4312 - val_loss: 5.8969 - val_mae: 1.8747\n",
      "Epoch 20/50\n",
      "4651/4651 [==============================] - 1s 286us/step - loss: 3.3285 - mae: 1.4152 - val_loss: 5.8305 - val_mae: 1.8666\n",
      "Epoch 21/50\n",
      "4651/4651 [==============================] - 1s 294us/step - loss: 3.2073 - mae: 1.3949 - val_loss: 6.0504 - val_mae: 1.9076\n",
      "Epoch 22/50\n",
      "4651/4651 [==============================] - 1s 287us/step - loss: 3.1825 - mae: 1.3917 - val_loss: 5.9610 - val_mae: 1.8797\n",
      "\n",
      "Epoch 00022: ReduceLROnPlateau reducing learning rate to 0.0001250000059371814.\n",
      "Epoch 23/50\n",
      "4651/4651 [==============================] - 1s 299us/step - loss: 3.0636 - mae: 1.3640 - val_loss: 5.8526 - val_mae: 1.8677\n",
      "Epoch 24/50\n",
      "4651/4651 [==============================] - 1s 289us/step - loss: 3.0333 - mae: 1.3589 - val_loss: 5.8653 - val_mae: 1.8695\n",
      "\n",
      "Epoch 00024: ReduceLROnPlateau reducing learning rate to 6.25000029685907e-05.\n",
      "Epoch 25/50\n",
      "4651/4651 [==============================] - 1s 289us/step - loss: 2.9389 - mae: 1.3338 - val_loss: 5.8378 - val_mae: 1.8660\n",
      "Epoch 26/50\n",
      "4651/4651 [==============================] - 1s 296us/step - loss: 3.0219 - mae: 1.3551 - val_loss: 5.8544 - val_mae: 1.8690\n",
      "Epoch 27/50\n",
      "4651/4651 [==============================] - 1s 293us/step - loss: 2.9184 - mae: 1.3310 - val_loss: 5.8676 - val_mae: 1.8692\n",
      "\n",
      "Epoch 00027: ReduceLROnPlateau reducing learning rate to 3.125000148429535e-05.\n",
      "Epoch 28/50\n",
      "4651/4651 [==============================] - 1s 286us/step - loss: 2.8878 - mae: 1.3223 - val_loss: 5.8614 - val_mae: 1.8681\n",
      "Epoch 29/50\n",
      "4651/4651 [==============================] - 1s 290us/step - loss: 2.8711 - mae: 1.3159 - val_loss: 5.8563 - val_mae: 1.8685\n",
      "\n",
      "Epoch 00029: ReduceLROnPlateau reducing learning rate to 1.5625000742147677e-05.\n",
      "Epoch 30/50\n",
      "4651/4651 [==============================] - 1s 289us/step - loss: 2.8365 - mae: 1.3167 - val_loss: 5.8608 - val_mae: 1.8687\n"
     ]
    }
   ],
   "source": [
    "history = model.fit(np.array(x_tr_seq),\n",
    "                    np.array(y_tr),\n",
    "                    batch_size=128,\n",
    "                    epochs=50,\n",
    "                    validation_data=(np.array(x_val_seq),np.array(y_val)),\n",
    "                    verbose=1,\n",
    "                    callbacks=callbacks)"
   ]
  },
  {
   "cell_type": "code",
   "execution_count": 23,
   "metadata": {},
   "outputs": [
    {
     "name": "stdout",
     "output_type": "stream",
     "text": [
      "1164/1164 [==============================] - 0s 174us/step\n",
      "The val_mae is 1.869.\n"
     ]
    }
   ],
   "source": [
    "#evaluation \n",
    "_, val_mae = model.evaluate(x_val_seq, y_val)\n",
    "\n",
    "print(\"The val_mae is %.3f.\" % val_mae)"
   ]
  },
  {
   "cell_type": "code",
   "execution_count": 24,
   "metadata": {},
   "outputs": [
    {
     "data": {
      "image/png": "[encoded data removed]",
      "text/plain": [
       "<Figure size 432x288 with 1 Axes>"
      ]
     },
     "metadata": {
      "needs_background": "light"
     },
     "output_type": "display_data"
    },
    {
     "data": {
      "image/png": "[encoded data removed]",
      "text/plain": [
       "<Figure size 432x288 with 1 Axes>"
      ]
     },
     "metadata": {
      "needs_background": "light"
     },
     "output_type": "display_data"
    }
   ],
   "source": [
    "plt.plot(model.history.history[\"loss\"], label=\"loss\");\n",
    "plt.plot(model.history.history[\"val_loss\"], label=\"val_loss\");\n",
    "plt.legend();\n",
    "plt.show();\n",
    "plt.close();\n",
    "\n",
    "plt.plot(model.history.history[\"mae\"], label=\"mae\");\n",
    "plt.plot(model.history.history[\"val_mae\"], label=\"val_mae\");\n",
    "plt.legend();"
   ]
  },
  {
   "cell_type": "code",
   "execution_count": null,
   "metadata": {},
   "outputs": [],
   "source": []
  }
 ],
 "metadata": {
  "kernelspec": {
   "display_name": "base",
   "language": "python",
   "name": "base"
  },
  "language_info": {
   "codemirror_mode": {
    "name": "ipython",
    "version": 3
   },
   "file_extension": ".py",
   "mimetype": "text/x-python",
   "name": "python",
   "nbconvert_exporter": "python",
   "pygments_lexer": "ipython3",
   "version": "3.7.4"
  }
 },
 "nbformat": 4,
 "nbformat_minor": 4
}
