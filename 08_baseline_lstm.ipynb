{
 "cells": [
  {
   "cell_type": "code",
   "execution_count": 1,
   "metadata": {},
   "outputs": [
    {
     "name": "stderr",
     "output_type": "stream",
     "text": [
      "Using TensorFlow backend.\n"
     ]
    }
   ],
   "source": [
    "import pandas as pd\n",
    "import numpy as np\n",
    "import tensorflow as tf\n",
    "from sklearn.model_selection import StratifiedShuffleSplit\n",
    "from keras.preprocessing.text import Tokenizer\n",
    "from keras.preprocessing.sequence import pad_sequences\n",
    "from math import sqrt\n",
    "%matplotlib inline\n",
    "import matplotlib.pyplot as plt"
   ]
  },
  {
   "cell_type": "code",
   "execution_count": 2,
   "metadata": {},
   "outputs": [],
   "source": [
    "train = pd.read_csv('csv/train.csv')\n",
    "valid = pd.read_csv(\"csv/test.csv\")"
   ]
  },
  {
   "cell_type": "code",
   "execution_count": 3,
   "metadata": {},
   "outputs": [
    {
     "data": {
      "text/html": [
       "<div>\n",
       "<style scoped>\n",
       "    .dataframe tbody tr th:only-of-type {\n",
       "        vertical-align: middle;\n",
       "    }\n",
       "\n",
       "    .dataframe tbody tr th {\n",
       "        vertical-align: top;\n",
       "    }\n",
       "\n",
       "    .dataframe thead th {\n",
       "        text-align: right;\n",
       "    }\n",
       "</style>\n",
       "<table border=\"1\" class=\"dataframe\">\n",
       "  <thead>\n",
       "    <tr style=\"text-align: right;\">\n",
       "      <th></th>\n",
       "      <th>title</th>\n",
       "      <th>description</th>\n",
       "      <th>plot</th>\n",
       "      <th>csm_review</th>\n",
       "      <th>need_to_know</th>\n",
       "      <th>par_rating</th>\n",
       "      <th>kids_rating</th>\n",
       "      <th>csm_rating</th>\n",
       "      <th>Author</th>\n",
       "      <th>Genre</th>\n",
       "      <th>...</th>\n",
       "      <th>Publisher's recommended age(s)</th>\n",
       "      <th>Number of pages</th>\n",
       "      <th>Available on</th>\n",
       "      <th>Last updated</th>\n",
       "      <th>Illustrator</th>\n",
       "      <th>Authors</th>\n",
       "      <th>Awards</th>\n",
       "      <th>Publishers</th>\n",
       "      <th>Award</th>\n",
       "      <th>Illustrators</th>\n",
       "    </tr>\n",
       "  </thead>\n",
       "  <tbody>\n",
       "    <tr>\n",
       "      <th>0</th>\n",
       "      <td>Bloodhound: Beka Cooper, Book 2</td>\n",
       "      <td>Second book in fantasy series is more mature t...</td>\n",
       "      <td>BLOODHOUND finds young policewoman -- aka \"Dog...</td>\n",
       "      <td>Like its predecessor, Terrier, Bloodhound is m...</td>\n",
       "      <td>Parents need to know that this fantasy/crime s...</td>\n",
       "      <td>13.0</td>\n",
       "      <td>12.0</td>\n",
       "      <td>12</td>\n",
       "      <td>Tamora Pierce</td>\n",
       "      <td>Fantasy</td>\n",
       "      <td>...</td>\n",
       "      <td>12 - 17</td>\n",
       "      <td>550.0</td>\n",
       "      <td>NaN</td>\n",
       "      <td>June 19, 2019</td>\n",
       "      <td>NaN</td>\n",
       "      <td>NaN</td>\n",
       "      <td>NaN</td>\n",
       "      <td>NaN</td>\n",
       "      <td>NaN</td>\n",
       "      <td>NaN</td>\n",
       "    </tr>\n",
       "    <tr>\n",
       "      <th>1</th>\n",
       "      <td>The School for Good and Evil, Book 1</td>\n",
       "      <td>Fractured fairy tale has plenty of twists for ...</td>\n",
       "      <td>When best friends Sophie and Agatha are stolen...</td>\n",
       "      <td>The School for Good and Evil is no run-of-the-...</td>\n",
       "      <td>Parents need to know that The School for Good ...</td>\n",
       "      <td>11.0</td>\n",
       "      <td>11.0</td>\n",
       "      <td>8</td>\n",
       "      <td>Soman Chainani</td>\n",
       "      <td>Fairy Tale</td>\n",
       "      <td>...</td>\n",
       "      <td>8 - 17</td>\n",
       "      <td>496.0</td>\n",
       "      <td>Nook, Audiobook (unabridged), Hardback, iBooks...</td>\n",
       "      <td>October 18, 2017</td>\n",
       "      <td>Iacopo Bruno</td>\n",
       "      <td>NaN</td>\n",
       "      <td>NaN</td>\n",
       "      <td>NaN</td>\n",
       "      <td>NaN</td>\n",
       "      <td>NaN</td>\n",
       "    </tr>\n",
       "    <tr>\n",
       "      <th>2</th>\n",
       "      <td>Twilight: The Twilight Saga, Book 1</td>\n",
       "      <td>Overlong but engrossing popular vampire romance.</td>\n",
       "      <td>When her mother gets remarried, Bella Swan mov...</td>\n",
       "      <td>This incredibly long book is really two books....</td>\n",
       "      <td>Parents need to know that, while very mild by ...</td>\n",
       "      <td>13.0</td>\n",
       "      <td>11.0</td>\n",
       "      <td>13</td>\n",
       "      <td>Stephenie Meyer</td>\n",
       "      <td>Fantasy</td>\n",
       "      <td>...</td>\n",
       "      <td>12</td>\n",
       "      <td>498.0</td>\n",
       "      <td>NaN</td>\n",
       "      <td>February 07, 2020</td>\n",
       "      <td>NaN</td>\n",
       "      <td>NaN</td>\n",
       "      <td>NaN</td>\n",
       "      <td>NaN</td>\n",
       "      <td>NaN</td>\n",
       "      <td>NaN</td>\n",
       "    </tr>\n",
       "    <tr>\n",
       "      <th>3</th>\n",
       "      <td>The Lost Girl</td>\n",
       "      <td>Engrossing story of an \"echo\" designed to repl...</td>\n",
       "      <td>Eva, a teen living in England, has human-like ...</td>\n",
       "      <td>Sangu Mandanna's debut novel is inspired by Fr...</td>\n",
       "      <td>Parents need to know that The Lost Girl is the...</td>\n",
       "      <td>13.0</td>\n",
       "      <td>12.0</td>\n",
       "      <td>14</td>\n",
       "      <td>Sangu Mandanna</td>\n",
       "      <td>Science Fiction</td>\n",
       "      <td>...</td>\n",
       "      <td>13 - 18</td>\n",
       "      <td>432.0</td>\n",
       "      <td>Nook, Hardback, iBooks, Kindle</td>\n",
       "      <td>June 19, 2019</td>\n",
       "      <td>NaN</td>\n",
       "      <td>NaN</td>\n",
       "      <td>NaN</td>\n",
       "      <td>NaN</td>\n",
       "      <td>NaN</td>\n",
       "      <td>NaN</td>\n",
       "    </tr>\n",
       "    <tr>\n",
       "      <th>4</th>\n",
       "      <td>Warcross, Book 1</td>\n",
       "      <td>Winning teen girl drives cyberpunk virtual rea...</td>\n",
       "      <td>As WARCROSS opens, bounty hunter Emika Chen fi...</td>\n",
       "      <td>Cyberpunk fell out of favor for a while, but t...</td>\n",
       "      <td>Parents need to know that Warcross is the firs...</td>\n",
       "      <td>14.0</td>\n",
       "      <td>13.0</td>\n",
       "      <td>13</td>\n",
       "      <td>Marie Lu</td>\n",
       "      <td>Science Fiction</td>\n",
       "      <td>...</td>\n",
       "      <td>NaN</td>\n",
       "      <td>368.0</td>\n",
       "      <td>Nook, Audiobook (unabridged), Hardback, iBooks...</td>\n",
       "      <td>December 05, 2019</td>\n",
       "      <td>NaN</td>\n",
       "      <td>NaN</td>\n",
       "      <td>NaN</td>\n",
       "      <td>NaN</td>\n",
       "      <td>NaN</td>\n",
       "      <td>NaN</td>\n",
       "    </tr>\n",
       "  </tbody>\n",
       "</table>\n",
       "<p>5 rows × 24 columns</p>\n",
       "</div>"
      ],
      "text/plain": [
       "                                  title  \\\n",
       "0       Bloodhound: Beka Cooper, Book 2   \n",
       "1  The School for Good and Evil, Book 1   \n",
       "2   Twilight: The Twilight Saga, Book 1   \n",
       "3                         The Lost Girl   \n",
       "4                      Warcross, Book 1   \n",
       "\n",
       "                                         description  \\\n",
       "0  Second book in fantasy series is more mature t...   \n",
       "1  Fractured fairy tale has plenty of twists for ...   \n",
       "2   Overlong but engrossing popular vampire romance.   \n",
       "3  Engrossing story of an \"echo\" designed to repl...   \n",
       "4  Winning teen girl drives cyberpunk virtual rea...   \n",
       "\n",
       "                                                plot  \\\n",
       "0  BLOODHOUND finds young policewoman -- aka \"Dog...   \n",
       "1  When best friends Sophie and Agatha are stolen...   \n",
       "2  When her mother gets remarried, Bella Swan mov...   \n",
       "3  Eva, a teen living in England, has human-like ...   \n",
       "4  As WARCROSS opens, bounty hunter Emika Chen fi...   \n",
       "\n",
       "                                          csm_review  \\\n",
       "0  Like its predecessor, Terrier, Bloodhound is m...   \n",
       "1  The School for Good and Evil is no run-of-the-...   \n",
       "2  This incredibly long book is really two books....   \n",
       "3  Sangu Mandanna's debut novel is inspired by Fr...   \n",
       "4  Cyberpunk fell out of favor for a while, but t...   \n",
       "\n",
       "                                        need_to_know  par_rating  kids_rating  \\\n",
       "0  Parents need to know that this fantasy/crime s...        13.0         12.0   \n",
       "1  Parents need to know that The School for Good ...        11.0         11.0   \n",
       "2  Parents need to know that, while very mild by ...        13.0         11.0   \n",
       "3  Parents need to know that The Lost Girl is the...        13.0         12.0   \n",
       "4  Parents need to know that Warcross is the firs...        14.0         13.0   \n",
       "\n",
       "   csm_rating           Author            Genre  ...  \\\n",
       "0          12    Tamora Pierce          Fantasy  ...   \n",
       "1           8   Soman Chainani       Fairy Tale  ...   \n",
       "2          13  Stephenie Meyer          Fantasy  ...   \n",
       "3          14   Sangu Mandanna  Science Fiction  ...   \n",
       "4          13         Marie Lu  Science Fiction  ...   \n",
       "\n",
       "  Publisher's recommended age(s) Number of pages  \\\n",
       "0                        12 - 17           550.0   \n",
       "1                         8 - 17           496.0   \n",
       "2                             12           498.0   \n",
       "3                        13 - 18           432.0   \n",
       "4                            NaN           368.0   \n",
       "\n",
       "                                        Available on       Last updated  \\\n",
       "0                                                NaN      June 19, 2019   \n",
       "1  Nook, Audiobook (unabridged), Hardback, iBooks...   October 18, 2017   \n",
       "2                                                NaN  February 07, 2020   \n",
       "3                     Nook, Hardback, iBooks, Kindle      June 19, 2019   \n",
       "4  Nook, Audiobook (unabridged), Hardback, iBooks...  December 05, 2019   \n",
       "\n",
       "    Illustrator  Authors Awards Publishers Award Illustrators  \n",
       "0           NaN      NaN    NaN        NaN   NaN          NaN  \n",
       "1  Iacopo Bruno      NaN    NaN        NaN   NaN          NaN  \n",
       "2           NaN      NaN    NaN        NaN   NaN          NaN  \n",
       "3           NaN      NaN    NaN        NaN   NaN          NaN  \n",
       "4           NaN      NaN    NaN        NaN   NaN          NaN  \n",
       "\n",
       "[5 rows x 24 columns]"
      ]
     },
     "execution_count": 3,
     "metadata": {},
     "output_type": "execute_result"
    }
   ],
   "source": [
    "train.head()"
   ]
  },
  {
   "cell_type": "code",
   "execution_count": 4,
   "metadata": {},
   "outputs": [
    {
     "data": {
      "text/plain": [
       "'Fractured fairy tale has plenty of twists for fantasy fans.'"
      ]
     },
     "execution_count": 4,
     "metadata": {},
     "output_type": "execute_result"
    }
   ],
   "source": [
    "train.loc[1, \"description\"]"
   ]
  },
  {
   "cell_type": "markdown",
   "metadata": {},
   "source": [
    "## Create the splits"
   ]
  },
  {
   "cell_type": "code",
   "execution_count": 5,
   "metadata": {},
   "outputs": [],
   "source": [
    "x_tr, y_tr = train['description'].values, train['csm_rating'].values\n",
    "x_val, y_val = valid[\"description\"].values, valid[\"csm_rating\"].values"
   ]
  },
  {
   "cell_type": "code",
   "execution_count": 6,
   "metadata": {},
   "outputs": [
    {
     "name": "stdout",
     "output_type": "stream",
     "text": [
      "(4651,) (4651,)\n"
     ]
    }
   ],
   "source": [
    "print(x_tr.shape, y_tr.shape)"
   ]
  },
  {
   "cell_type": "code",
   "execution_count": 7,
   "metadata": {},
   "outputs": [
    {
     "name": "stdout",
     "output_type": "stream",
     "text": [
      "(1164,) (1164,)\n"
     ]
    }
   ],
   "source": [
    "print(x_val.shape, y_val.shape)"
   ]
  },
  {
   "cell_type": "markdown",
   "metadata": {},
   "source": [
    "## Prepare the Data"
   ]
  },
  {
   "cell_type": "code",
   "execution_count": 8,
   "metadata": {},
   "outputs": [
    {
     "name": "stdout",
     "output_type": "stream",
     "text": [
      "14\n",
      "3\n"
     ]
    }
   ],
   "source": [
    "#Tokenize the sentences\n",
    "tokenizer = Tokenizer()\n",
    "\n",
    "#preparing vocabulary\n",
    "tokenizer.fit_on_texts(list(x_tr))\n",
    "\n",
    "#converting text into integer sequences\n",
    "x_tr_seq  = tokenizer.texts_to_sequences(x_tr) \n",
    "x_val_seq = tokenizer.texts_to_sequences(x_val)\n",
    "\n",
    "print(len(max(x_tr_seq, key=len)))\n",
    "print(len(min(x_tr_seq, key=len)))"
   ]
  },
  {
   "cell_type": "code",
   "execution_count": 9,
   "metadata": {},
   "outputs": [
    {
     "name": "stdout",
     "output_type": "stream",
     "text": [
      "14\n",
      "14\n"
     ]
    }
   ],
   "source": [
    "#padding to prepare sequences of same length\n",
    "x_tr_seq  = pad_sequences(x_tr_seq, maxlen=14)\n",
    "x_val_seq = pad_sequences(x_val_seq, maxlen=14)\n",
    "print(len(max(x_tr_seq, key=len)))\n",
    "print(len(min(x_tr_seq, key=len)))"
   ]
  },
  {
   "cell_type": "code",
   "execution_count": 10,
   "metadata": {},
   "outputs": [
    {
     "data": {
      "text/plain": [
       "array([   0,    0,    0,    0, 1028,   99,    3,   25,  618,    1,  334,\n",
       "          8,   12,   72], dtype=int32)"
      ]
     },
     "execution_count": 10,
     "metadata": {},
     "output_type": "execute_result"
    }
   ],
   "source": [
    "x_tr_seq[1]"
   ]
  },
  {
   "cell_type": "code",
   "execution_count": 13,
   "metadata": {},
   "outputs": [
    {
     "name": "stdout",
     "output_type": "stream",
     "text": [
      "5815\n"
     ]
    }
   ],
   "source": [
    "size_of_vocabulary=len(tokenizer.word_index) + 1 #+1 for padding\n",
    "print(size_of_vocabulary)"
   ]
  },
  {
   "cell_type": "markdown",
   "metadata": {},
   "source": [
    "## Create embeddings"
   ]
  },
  {
   "cell_type": "code",
   "execution_count": 11,
   "metadata": {},
   "outputs": [
    {
     "name": "stdout",
     "output_type": "stream",
     "text": [
      "Found 5814 unique tokens.\n"
     ]
    }
   ],
   "source": [
    "word_index = tokenizer.word_index\n",
    "print(\"Found %s unique tokens.\" % len(word_index))"
   ]
  },
  {
   "cell_type": "markdown",
   "metadata": {},
   "source": [
    "## Create the Model"
   ]
  },
  {
   "cell_type": "code",
   "execution_count": 12,
   "metadata": {},
   "outputs": [
    {
     "name": "stdout",
     "output_type": "stream",
     "text": [
      "Model: \"sequential_1\"\n",
      "_________________________________________________________________\n",
      "Layer (type)                 Output Shape              Param #   \n",
      "=================================================================\n",
      "embedding_1 (Embedding)      (None, 14, 300)           1744500   \n",
      "_________________________________________________________________\n",
      "lstm_1 (LSTM)                (None, 14, 128)           219648    \n",
      "_________________________________________________________________\n",
      "global_max_pooling1d_1 (Glob (None, 128)               0         \n",
      "_________________________________________________________________\n",
      "dense_1 (Dense)              (None, 64)                8256      \n",
      "_________________________________________________________________\n",
      "dense_2 (Dense)              (None, 1)                 65        \n",
      "=================================================================\n",
      "Total params: 1,972,469\n",
      "Trainable params: 1,972,469\n",
      "Non-trainable params: 0\n",
      "_________________________________________________________________\n",
      "None\n"
     ]
    }
   ],
   "source": [
    "from keras.models import Sequential\n",
    "from keras.layers import Embedding\n",
    "from keras.layers import LSTM\n",
    "from keras.layers import Activation, Dense\n",
    "from keras.layers import Dense, Input, GlobalMaxPooling1D\n",
    "from keras.callbacks import ModelCheckpoint, EarlyStopping\n",
    "\n",
    "model=Sequential()\n",
    "\n",
    "#embedding layer\n",
    "model.add(Embedding(size_of_vocabulary,300,input_length=14,trainable=True)) \n",
    "\n",
    "#lstm layer\n",
    "model.add(LSTM(128,return_sequences=True,dropout=0.2))\n",
    "\n",
    "#Global Maxpooling\n",
    "model.add(GlobalMaxPooling1D())\n",
    "\n",
    "#Dense Layer\n",
    "model.add(Dense(64,activation='relu')) \n",
    "model.add(Dense(1,activation='relu')) \n",
    "\n",
    "#Add loss function, metrics, optimizer\n",
    "optimizer = tf.keras.optimizers.RMSprop(0.001)\n",
    "\n",
    "model.compile(optimizer=optimizer, loss='mean_squared_error', metrics=[\"mae\"]) \n",
    "\n",
    "#Adding callbacks\n",
    "#es = EarlyStopping(monitor='val_loss', mode='min', verbose=1,patience=10)  \n",
    "#mc=ModelCheckpoint('best_model.h5', monitor='val_loss', mode='max', save_best_only=True,verbose=1)  \n",
    "\n",
    "#Print summary of model\n",
    "print(model.summary())"
   ]
  },
  {
   "cell_type": "markdown",
   "metadata": {},
   "source": [
    "## Fit the Model"
   ]
  },
  {
   "cell_type": "code",
   "execution_count": 13,
   "metadata": {},
   "outputs": [
    {
     "name": "stdout",
     "output_type": "stream",
     "text": [
      "Train on 4651 samples, validate on 1164 samples\n",
      "Epoch 1/50\n",
      "4651/4651 [==============================] - 3s 607us/step - loss: 24.5071 - mae: 3.9895 - val_loss: 14.7647 - val_mae: 3.2726\n",
      "Epoch 2/50\n",
      "4651/4651 [==============================] - 2s 442us/step - loss: 12.6134 - mae: 2.9474 - val_loss: 9.3105 - val_mae: 2.5402\n",
      "Epoch 3/50\n",
      "4651/4651 [==============================] - 2s 454us/step - loss: 7.0353 - mae: 2.1262 - val_loss: 9.7768 - val_mae: 2.4944\n",
      "Epoch 4/50\n",
      "4651/4651 [==============================] - 2s 416us/step - loss: 4.9714 - mae: 1.7574 - val_loss: 7.0131 - val_mae: 2.0683\n",
      "Epoch 5/50\n",
      "4651/4651 [==============================] - 2s 419us/step - loss: 4.0954 - mae: 1.5777 - val_loss: 6.5317 - val_mae: 1.9885\n",
      "Epoch 6/50\n",
      "4651/4651 [==============================] - 2s 429us/step - loss: 3.4037 - mae: 1.4321 - val_loss: 7.0158 - val_mae: 2.0367\n",
      "Epoch 7/50\n",
      "4651/4651 [==============================] - 2s 435us/step - loss: 3.0435 - mae: 1.3452 - val_loss: 7.6369 - val_mae: 2.1666\n",
      "Epoch 8/50\n",
      "4651/4651 [==============================] - 2s 445us/step - loss: 2.5578 - mae: 1.2240 - val_loss: 10.0517 - val_mae: 2.5228\n",
      "Epoch 9/50\n",
      "4651/4651 [==============================] - 2s 450us/step - loss: 2.3370 - mae: 1.1623 - val_loss: 7.2757 - val_mae: 2.0378\n",
      "Epoch 10/50\n",
      "4651/4651 [==============================] - 2s 436us/step - loss: 2.0920 - mae: 1.0865 - val_loss: 7.9718 - val_mae: 2.1345\n",
      "Epoch 11/50\n",
      "4651/4651 [==============================] - 2s 446us/step - loss: 1.8094 - mae: 1.0049 - val_loss: 7.3082 - val_mae: 2.0329\n",
      "Epoch 12/50\n",
      "4651/4651 [==============================] - 2s 471us/step - loss: 1.6748 - mae: 0.9693 - val_loss: 7.3466 - val_mae: 2.0275\n",
      "Epoch 13/50\n",
      "4651/4651 [==============================] - 2s 515us/step - loss: 1.5232 - mae: 0.9218 - val_loss: 7.6613 - val_mae: 2.0611\n",
      "Epoch 14/50\n",
      "4651/4651 [==============================] - 2s 476us/step - loss: 1.3581 - mae: 0.8684 - val_loss: 7.8972 - val_mae: 2.1361\n",
      "Epoch 15/50\n",
      "4651/4651 [==============================] - 2s 439us/step - loss: 1.2618 - mae: 0.8276 - val_loss: 7.7833 - val_mae: 2.0696\n",
      "Epoch 16/50\n",
      "4651/4651 [==============================] - 2s 479us/step - loss: 1.1617 - mae: 0.7971 - val_loss: 7.7906 - val_mae: 2.0875\n",
      "Epoch 17/50\n",
      "4651/4651 [==============================] - 2s 467us/step - loss: 1.1112 - mae: 0.7741 - val_loss: 7.8954 - val_mae: 2.1020\n",
      "Epoch 18/50\n",
      "4651/4651 [==============================] - 2s 474us/step - loss: 1.0135 - mae: 0.7361 - val_loss: 8.1462 - val_mae: 2.0984\n",
      "Epoch 19/50\n",
      "4651/4651 [==============================] - 2s 467us/step - loss: 0.9402 - mae: 0.7199 - val_loss: 8.3432 - val_mae: 2.1322\n",
      "Epoch 20/50\n",
      "4651/4651 [==============================] - 2s 514us/step - loss: 0.8877 - mae: 0.7047 - val_loss: 10.1374 - val_mae: 2.3507\n",
      "Epoch 21/50\n",
      "4651/4651 [==============================] - 2s 452us/step - loss: 0.8494 - mae: 0.6845 - val_loss: 8.0151 - val_mae: 2.1243\n",
      "Epoch 22/50\n",
      "4651/4651 [==============================] - 2s 464us/step - loss: 0.7726 - mae: 0.6439 - val_loss: 8.4248 - val_mae: 2.1512\n",
      "Epoch 23/50\n",
      "4651/4651 [==============================] - 2s 443us/step - loss: 0.7518 - mae: 0.6400 - val_loss: 7.8514 - val_mae: 2.0868\n",
      "Epoch 24/50\n",
      "4651/4651 [==============================] - 2s 470us/step - loss: 0.7089 - mae: 0.6296 - val_loss: 8.0073 - val_mae: 2.1008\n",
      "Epoch 25/50\n",
      "4651/4651 [==============================] - 2s 498us/step - loss: 0.6598 - mae: 0.6050 - val_loss: 8.0678 - val_mae: 2.1122\n",
      "Epoch 26/50\n",
      "4651/4651 [==============================] - 2s 482us/step - loss: 0.6042 - mae: 0.5805 - val_loss: 8.2972 - val_mae: 2.1424\n",
      "Epoch 27/50\n",
      "4651/4651 [==============================] - 2s 446us/step - loss: 0.5678 - mae: 0.5632 - val_loss: 8.5129 - val_mae: 2.1703\n",
      "Epoch 28/50\n",
      "4651/4651 [==============================] - 2s 475us/step - loss: 0.5744 - mae: 0.5683 - val_loss: 8.7147 - val_mae: 2.1845\n",
      "Epoch 29/50\n",
      "4651/4651 [==============================] - 2s 480us/step - loss: 0.5463 - mae: 0.5538 - val_loss: 8.5083 - val_mae: 2.1675\n",
      "Epoch 30/50\n",
      "4651/4651 [==============================] - 2s 469us/step - loss: 0.5104 - mae: 0.5289 - val_loss: 8.4577 - val_mae: 2.1572\n",
      "Epoch 31/50\n",
      "4651/4651 [==============================] - 2s 428us/step - loss: 0.5000 - mae: 0.5279 - val_loss: 8.9324 - val_mae: 2.2329\n",
      "Epoch 32/50\n",
      "4651/4651 [==============================] - 2s 459us/step - loss: 0.4798 - mae: 0.5274 - val_loss: 8.3815 - val_mae: 2.1620\n",
      "Epoch 33/50\n",
      "4651/4651 [==============================] - 2s 471us/step - loss: 0.4655 - mae: 0.5039 - val_loss: 8.6128 - val_mae: 2.1810\n",
      "Epoch 34/50\n",
      "4651/4651 [==============================] - 2s 438us/step - loss: 0.4304 - mae: 0.4939 - val_loss: 8.7062 - val_mae: 2.1919\n",
      "Epoch 35/50\n",
      "4651/4651 [==============================] - 2s 453us/step - loss: 0.4082 - mae: 0.4832 - val_loss: 8.5717 - val_mae: 2.1866\n",
      "Epoch 36/50\n",
      "4651/4651 [==============================] - 2s 437us/step - loss: 0.4115 - mae: 0.4851 - val_loss: 8.4389 - val_mae: 2.1789\n",
      "Epoch 37/50\n",
      "4651/4651 [==============================] - 2s 442us/step - loss: 0.4000 - mae: 0.4802 - val_loss: 8.4960 - val_mae: 2.1733\n",
      "Epoch 38/50\n",
      "4651/4651 [==============================] - 2s 445us/step - loss: 0.3662 - mae: 0.4533 - val_loss: 8.3630 - val_mae: 2.1701\n",
      "Epoch 39/50\n",
      "4651/4651 [==============================] - 2s 437us/step - loss: 0.3655 - mae: 0.4596 - val_loss: 8.7359 - val_mae: 2.2027\n",
      "Epoch 40/50\n",
      "4651/4651 [==============================] - 2s 470us/step - loss: 0.3691 - mae: 0.4574 - val_loss: 8.8284 - val_mae: 2.2142\n",
      "Epoch 41/50\n",
      "4651/4651 [==============================] - 2s 452us/step - loss: 0.3264 - mae: 0.4298 - val_loss: 8.9629 - val_mae: 2.2451\n",
      "Epoch 42/50\n",
      "4651/4651 [==============================] - 2s 454us/step - loss: 0.3387 - mae: 0.4428 - val_loss: 9.0690 - val_mae: 2.2398\n",
      "Epoch 43/50\n",
      "4651/4651 [==============================] - 2s 458us/step - loss: 0.3245 - mae: 0.4316 - val_loss: 9.0951 - val_mae: 2.2455\n",
      "Epoch 44/50\n",
      "4651/4651 [==============================] - 2s 434us/step - loss: 0.3238 - mae: 0.4280 - val_loss: 8.6196 - val_mae: 2.2073\n",
      "Epoch 45/50\n",
      "4651/4651 [==============================] - 2s 432us/step - loss: 0.3091 - mae: 0.4197 - val_loss: 9.0912 - val_mae: 2.2462\n",
      "Epoch 46/50\n",
      "4651/4651 [==============================] - 2s 450us/step - loss: 0.2931 - mae: 0.4116 - val_loss: 9.5567 - val_mae: 2.2937\n",
      "Epoch 47/50\n",
      "4651/4651 [==============================] - 2s 434us/step - loss: 0.2982 - mae: 0.4177 - val_loss: 8.4947 - val_mae: 2.1831\n",
      "Epoch 48/50\n",
      "4651/4651 [==============================] - 2s 422us/step - loss: 0.2804 - mae: 0.3984 - val_loss: 8.9312 - val_mae: 2.2385\n",
      "Epoch 49/50\n",
      "4651/4651 [==============================] - 2s 442us/step - loss: 0.2764 - mae: 0.4010 - val_loss: 9.1144 - val_mae: 2.2549\n",
      "Epoch 50/50\n",
      "4651/4651 [==============================] - 2s 420us/step - loss: 0.2567 - mae: 0.3842 - val_loss: 8.9297 - val_mae: 2.2437\n"
     ]
    }
   ],
   "source": [
    "history = model.fit(np.array(x_tr_seq),\n",
    "                    np.array(y_tr),\n",
    "                    batch_size=128,\n",
    "                    epochs=50,\n",
    "                    validation_data=(np.array(x_val_seq),np.array(y_val)),\n",
    "                    verbose=1)\n",
    "                    #callbacks=[mc])"
   ]
  },
  {
   "cell_type": "code",
   "execution_count": 14,
   "metadata": {},
   "outputs": [
    {
     "name": "stdout",
     "output_type": "stream",
     "text": [
      "1164/1164 [==============================] - 0s 186us/step\n",
      "The val_mae is 2.244.\n"
     ]
    }
   ],
   "source": [
    "#evaluation \n",
    "val_loss, val_mae = model.evaluate(x_val_seq, y_val)\n",
    "\n",
    "print(\"The val_mae is %.3f.\" % val_mae)"
   ]
  },
  {
   "cell_type": "code",
   "execution_count": 15,
   "metadata": {},
   "outputs": [
    {
     "data": {
      "image/png": "[encoded data removed]",
      "text/plain": [
       "<Figure size 432x288 with 1 Axes>"
      ]
     },
     "metadata": {
      "needs_background": "light"
     },
     "output_type": "display_data"
    },
    {
     "data": {
      "image/png": "[encoded data removed]",
      "text/plain": [
       "<Figure size 432x288 with 1 Axes>"
      ]
     },
     "metadata": {
      "needs_background": "light"
     },
     "output_type": "display_data"
    }
   ],
   "source": [
    "plt.plot(model.history.history[\"loss\"], label=\"loss\");\n",
    "plt.plot(model.history.history[\"val_loss\"], label=\"val_loss\");\n",
    "plt.legend();\n",
    "plt.show();\n",
    "plt.close();\n",
    "\n",
    "plt.plot(model.history.history[\"mae\"], label=\"mae\");\n",
    "plt.plot(model.history.history[\"val_mae\"], label=\"val_mae\");\n",
    "plt.legend();"
   ]
  },
  {
   "cell_type": "markdown",
   "metadata": {},
   "source": [
    "## [Use Transfer Learning](https://www.analyticsvidhya.com/blog/2020/03/pretrained-word-embeddings-nlp/)"
   ]
  },
  {
   "cell_type": "code",
   "execution_count": 16,
   "metadata": {},
   "outputs": [
    {
     "name": "stdout",
     "output_type": "stream",
     "text": [
      "Loaded 400000 word vectors.\n"
     ]
    }
   ],
   "source": [
    "# load the whole embedding into memory\n",
    "embeddings_index = dict()\n",
    "\n",
    "with open(\"glove/glove.6B.300d.txt\") as f:\n",
    "\n",
    "    for line in f:\n",
    "        values = line.split()\n",
    "        word = values[0]\n",
    "        coefs = np.asarray(values[1:], dtype='float32')\n",
    "        embeddings_index[word] = coefs\n",
    "\n",
    "print('Loaded %s word vectors.' % len(embeddings_index))"
   ]
  },
  {
   "cell_type": "code",
   "execution_count": 17,
   "metadata": {},
   "outputs": [],
   "source": [
    "# create a weight matrix for words in training docs\n",
    "embedding_matrix = np.zeros((size_of_vocabulary, 300))\n",
    "\n",
    "for word, i in tokenizer.word_index.items():\n",
    "    embedding_vector = embeddings_index.get(word)\n",
    "    if embedding_vector is not None:\n",
    "        embedding_matrix[i] = embedding_vector"
   ]
  },
  {
   "cell_type": "code",
   "execution_count": 18,
   "metadata": {},
   "outputs": [
    {
     "name": "stdout",
     "output_type": "stream",
     "text": [
      "Model: \"sequential_2\"\n",
      "_________________________________________________________________\n",
      "Layer (type)                 Output Shape              Param #   \n",
      "=================================================================\n",
      "embedding_2 (Embedding)      (None, 14, 300)           1744500   \n",
      "_________________________________________________________________\n",
      "lstm_2 (LSTM)                (None, 14, 128)           219648    \n",
      "_________________________________________________________________\n",
      "global_max_pooling1d_2 (Glob (None, 128)               0         \n",
      "_________________________________________________________________\n",
      "dense_3 (Dense)              (None, 64)                8256      \n",
      "_________________________________________________________________\n",
      "dense_4 (Dense)              (None, 1)                 65        \n",
      "=================================================================\n",
      "Total params: 1,972,469\n",
      "Trainable params: 227,969\n",
      "Non-trainable params: 1,744,500\n",
      "_________________________________________________________________\n",
      "None\n"
     ]
    }
   ],
   "source": [
    "model=Sequential()\n",
    "\n",
    "#embedding layer\n",
    "#model.add(Embedding(size_of_vocabulary,300,input_length=14,trainable=True)) \n",
    "model.add(Embedding(size_of_vocabulary,300,weights=[embedding_matrix],input_length=14,trainable=False)) \n",
    "\n",
    "\n",
    "#lstm layer\n",
    "model.add(LSTM(128,return_sequences=True,dropout=0.2))\n",
    "\n",
    "#Global Maxpooling\n",
    "model.add(GlobalMaxPooling1D())\n",
    "\n",
    "#Dense Layer\n",
    "model.add(Dense(64,activation='relu')) \n",
    "model.add(Dense(1,activation='relu')) \n",
    "\n",
    "#Add loss function, metrics, optimizer\n",
    "optimizer = tf.keras.optimizers.RMSprop(0.001)\n",
    "\n",
    "model.compile(optimizer=optimizer, loss='mean_squared_error', metrics=[\"mae\"]) \n",
    "\n",
    "#Print summary of model\n",
    "print(model.summary())"
   ]
  },
  {
   "cell_type": "code",
   "execution_count": 19,
   "metadata": {},
   "outputs": [
    {
     "name": "stdout",
     "output_type": "stream",
     "text": [
      "Train on 4651 samples, validate on 1164 samples\n",
      "Epoch 1/50\n",
      "4651/4651 [==============================] - 2s 486us/step - loss: 22.9727 - mae: 3.7514 - val_loss: 12.3222 - val_mae: 2.8001\n",
      "Epoch 2/50\n",
      "4651/4651 [==============================] - 2s 326us/step - loss: 8.0449 - mae: 2.2670 - val_loss: 7.8316 - val_mae: 2.2325\n",
      "Epoch 3/50\n",
      "4651/4651 [==============================] - 1s 280us/step - loss: 7.2189 - mae: 2.1334 - val_loss: 7.3586 - val_mae: 2.1401\n",
      "Epoch 4/50\n",
      "4651/4651 [==============================] - 1s 290us/step - loss: 6.5574 - mae: 2.0198 - val_loss: 6.8719 - val_mae: 2.0698\n",
      "Epoch 5/50\n",
      "4651/4651 [==============================] - 1s 283us/step - loss: 6.2924 - mae: 1.9797 - val_loss: 8.4290 - val_mae: 2.3027\n",
      "Epoch 6/50\n",
      "4651/4651 [==============================] - 1s 306us/step - loss: 6.0124 - mae: 1.9244 - val_loss: 6.3505 - val_mae: 1.9798\n",
      "Epoch 7/50\n",
      "4651/4651 [==============================] - 1s 301us/step - loss: 5.6401 - mae: 1.8568 - val_loss: 6.6283 - val_mae: 1.9933\n",
      "Epoch 8/50\n",
      "4651/4651 [==============================] - 1s 302us/step - loss: 5.4275 - mae: 1.8276 - val_loss: 6.2050 - val_mae: 1.9520\n",
      "Epoch 9/50\n",
      "4651/4651 [==============================] - 1s 293us/step - loss: 5.2804 - mae: 1.7917 - val_loss: 6.7992 - val_mae: 2.0163\n",
      "Epoch 10/50\n",
      "4651/4651 [==============================] - 1s 308us/step - loss: 5.0073 - mae: 1.7439 - val_loss: 6.2458 - val_mae: 1.9463\n",
      "Epoch 11/50\n",
      "4651/4651 [==============================] - 1s 290us/step - loss: 4.8767 - mae: 1.7233 - val_loss: 7.2110 - val_mae: 2.0552\n",
      "Epoch 12/50\n",
      "4651/4651 [==============================] - 1s 304us/step - loss: 4.6836 - mae: 1.6792 - val_loss: 6.1822 - val_mae: 1.9241\n",
      "Epoch 13/50\n",
      "4651/4651 [==============================] - 1s 296us/step - loss: 4.4204 - mae: 1.6335 - val_loss: 6.8001 - val_mae: 1.9949\n",
      "Epoch 14/50\n",
      "4651/4651 [==============================] - 1s 285us/step - loss: 4.3574 - mae: 1.6072 - val_loss: 5.8527 - val_mae: 1.8732\n",
      "Epoch 15/50\n",
      "4651/4651 [==============================] - 1s 294us/step - loss: 4.2475 - mae: 1.6021 - val_loss: 6.0334 - val_mae: 1.8933\n",
      "Epoch 16/50\n",
      "4651/4651 [==============================] - 1s 299us/step - loss: 3.9900 - mae: 1.5506 - val_loss: 5.8295 - val_mae: 1.8604\n",
      "Epoch 17/50\n",
      "4651/4651 [==============================] - 1s 317us/step - loss: 3.8771 - mae: 1.5194 - val_loss: 6.0958 - val_mae: 1.9057\n",
      "Epoch 18/50\n",
      "4651/4651 [==============================] - 1s 312us/step - loss: 3.7607 - mae: 1.4904 - val_loss: 6.9278 - val_mae: 2.0532\n",
      "Epoch 19/50\n",
      "4651/4651 [==============================] - 1s 282us/step - loss: 3.4660 - mae: 1.4448 - val_loss: 5.8515 - val_mae: 1.8588\n",
      "Epoch 20/50\n",
      "4651/4651 [==============================] - 1s 305us/step - loss: 3.4099 - mae: 1.4279 - val_loss: 6.0808 - val_mae: 1.9074\n",
      "Epoch 21/50\n",
      "4651/4651 [==============================] - 1s 290us/step - loss: 3.2607 - mae: 1.3955 - val_loss: 6.6896 - val_mae: 1.9701\n",
      "Epoch 22/50\n",
      "4651/4651 [==============================] - 1s 287us/step - loss: 3.1178 - mae: 1.3630 - val_loss: 6.9509 - val_mae: 2.0338\n",
      "Epoch 23/50\n",
      "4651/4651 [==============================] - 1s 282us/step - loss: 2.8788 - mae: 1.3196 - val_loss: 7.3000 - val_mae: 2.0490\n",
      "Epoch 24/50\n",
      "4651/4651 [==============================] - 1s 293us/step - loss: 3.0105 - mae: 1.3440 - val_loss: 6.2254 - val_mae: 1.9092\n",
      "Epoch 25/50\n",
      "4651/4651 [==============================] - 1s 293us/step - loss: 2.5747 - mae: 1.2421 - val_loss: 5.7443 - val_mae: 1.8369\n",
      "Epoch 26/50\n",
      "4651/4651 [==============================] - 1s 289us/step - loss: 2.6912 - mae: 1.2864 - val_loss: 6.9127 - val_mae: 1.9903\n",
      "Epoch 27/50\n",
      "4651/4651 [==============================] - 1s 294us/step - loss: 2.5105 - mae: 1.2402 - val_loss: 6.1505 - val_mae: 1.8874\n",
      "Epoch 28/50\n",
      "4651/4651 [==============================] - 1s 295us/step - loss: 2.3493 - mae: 1.1845 - val_loss: 5.8621 - val_mae: 1.8510\n",
      "Epoch 29/50\n",
      "4651/4651 [==============================] - 1s 292us/step - loss: 2.4041 - mae: 1.1908 - val_loss: 5.7991 - val_mae: 1.8543\n",
      "Epoch 30/50\n",
      "4651/4651 [==============================] - 1s 291us/step - loss: 2.1865 - mae: 1.1462 - val_loss: 6.4030 - val_mae: 1.9324\n",
      "Epoch 31/50\n",
      "4651/4651 [==============================] - 1s 296us/step - loss: 2.0997 - mae: 1.1224 - val_loss: 5.8981 - val_mae: 1.8603\n",
      "Epoch 32/50\n",
      "4651/4651 [==============================] - 1s 289us/step - loss: 2.0861 - mae: 1.1069 - val_loss: 6.3521 - val_mae: 1.9320\n",
      "Epoch 33/50\n",
      "4651/4651 [==============================] - 1s 310us/step - loss: 1.8895 - mae: 1.0700 - val_loss: 6.0511 - val_mae: 1.8959\n",
      "Epoch 34/50\n",
      "4651/4651 [==============================] - 1s 291us/step - loss: 1.8042 - mae: 1.0346 - val_loss: 6.3298 - val_mae: 1.9012\n",
      "Epoch 35/50\n",
      "4651/4651 [==============================] - 1s 292us/step - loss: 1.8309 - mae: 1.0550 - val_loss: 6.0118 - val_mae: 1.8887\n",
      "Epoch 36/50\n",
      "4651/4651 [==============================] - 1s 299us/step - loss: 1.6999 - mae: 1.0103 - val_loss: 6.3508 - val_mae: 1.9395\n",
      "Epoch 37/50\n",
      "4651/4651 [==============================] - 1s 315us/step - loss: 1.6477 - mae: 1.0010 - val_loss: 6.1113 - val_mae: 1.8651\n",
      "Epoch 38/50\n",
      "4651/4651 [==============================] - 1s 301us/step - loss: 1.5269 - mae: 0.9641 - val_loss: 5.9762 - val_mae: 1.8863\n",
      "Epoch 39/50\n",
      "4651/4651 [==============================] - 1s 315us/step - loss: 1.6448 - mae: 0.9921 - val_loss: 6.3703 - val_mae: 1.9132\n",
      "Epoch 40/50\n",
      "4651/4651 [==============================] - 1s 296us/step - loss: 1.5134 - mae: 0.9540 - val_loss: 6.1473 - val_mae: 1.8872\n",
      "Epoch 41/50\n",
      "4651/4651 [==============================] - 1s 301us/step - loss: 1.3843 - mae: 0.9196 - val_loss: 6.3571 - val_mae: 1.9269\n",
      "Epoch 42/50\n",
      "4651/4651 [==============================] - 2s 360us/step - loss: 1.3733 - mae: 0.9220 - val_loss: 6.1754 - val_mae: 1.8964\n",
      "Epoch 43/50\n",
      "4651/4651 [==============================] - 2s 336us/step - loss: 1.3590 - mae: 0.9082 - val_loss: 6.0745 - val_mae: 1.9012\n",
      "Epoch 44/50\n",
      "4651/4651 [==============================] - 2s 329us/step - loss: 1.2088 - mae: 0.8611 - val_loss: 7.8535 - val_mae: 2.1229\n",
      "Epoch 45/50\n",
      "4651/4651 [==============================] - 1s 319us/step - loss: 1.2955 - mae: 0.8916 - val_loss: 6.1825 - val_mae: 1.8875\n",
      "Epoch 46/50\n",
      "4651/4651 [==============================] - 1s 293us/step - loss: 1.2352 - mae: 0.8735 - val_loss: 6.4966 - val_mae: 1.9140\n",
      "Epoch 47/50\n",
      "4651/4651 [==============================] - 1s 294us/step - loss: 1.2016 - mae: 0.8613 - val_loss: 6.1404 - val_mae: 1.8937\n",
      "Epoch 48/50\n",
      "4651/4651 [==============================] - 1s 285us/step - loss: 1.0864 - mae: 0.8138 - val_loss: 6.0378 - val_mae: 1.8783\n",
      "Epoch 49/50\n",
      "4651/4651 [==============================] - 1s 312us/step - loss: 1.1652 - mae: 0.8334 - val_loss: 6.2323 - val_mae: 1.8885\n",
      "Epoch 50/50\n",
      "4651/4651 [==============================] - 1s 293us/step - loss: 1.0357 - mae: 0.7898 - val_loss: 6.0043 - val_mae: 1.8799\n"
     ]
    }
   ],
   "source": [
    "history = model.fit(np.array(x_tr_seq),\n",
    "                    np.array(y_tr),\n",
    "                    batch_size=128,\n",
    "                    epochs=50,\n",
    "                    validation_data=(np.array(x_val_seq),np.array(y_val)),\n",
    "                    verbose=1)"
   ]
  },
  {
   "cell_type": "code",
   "execution_count": 20,
   "metadata": {},
   "outputs": [
    {
     "name": "stdout",
     "output_type": "stream",
     "text": [
      "1164/1164 [==============================] - 0s 190us/step\n",
      "The val_mae is 1.880.\n"
     ]
    }
   ],
   "source": [
    "#evaluation \n",
    "_, val_mae = model.evaluate(x_val_seq, y_val)\n",
    "\n",
    "print(\"The val_mae is %.3f.\" % val_mae)"
   ]
  },
  {
   "cell_type": "code",
   "execution_count": 21,
   "metadata": {},
   "outputs": [
    {
     "data": {
      "image/png": "[encoded data removed]",
      "text/plain": [
       "<Figure size 432x288 with 1 Axes>"
      ]
     },
     "metadata": {
      "needs_background": "light"
     },
     "output_type": "display_data"
    },
    {
     "data": {
      "image/png": "[encoded data removed]",
      "text/plain": [
       "<Figure size 432x288 with 1 Axes>"
      ]
     },
     "metadata": {
      "needs_background": "light"
     },
     "output_type": "display_data"
    }
   ],
   "source": [
    "plt.plot(model.history.history[\"loss\"], label=\"loss\");\n",
    "plt.plot(model.history.history[\"val_loss\"], label=\"val_loss\");\n",
    "plt.legend();\n",
    "plt.show();\n",
    "plt.close();\n",
    "\n",
    "plt.plot(model.history.history[\"mae\"], label=\"mae\");\n",
    "plt.plot(model.history.history[\"val_mae\"], label=\"val_mae\");\n",
    "plt.legend();"
   ]
  },
  {
   "cell_type": "code",
   "execution_count": null,
   "metadata": {},
   "outputs": [],
   "source": []
  }
 ],
 "metadata": {
  "kernelspec": {
   "display_name": "base",
   "language": "python",
   "name": "base"
  },
  "language_info": {
   "codemirror_mode": {
    "name": "ipython",
    "version": 3
   },
   "file_extension": ".py",
   "mimetype": "text/x-python",
   "name": "python",
   "nbconvert_exporter": "python",
   "pygments_lexer": "ipython3",
   "version": "3.7.4"
  }
 },
 "nbformat": 4,
 "nbformat_minor": 4
}
