{
 "cells": [
  {
   "cell_type": "code",
   "execution_count": 1,
   "metadata": {},
   "outputs": [
    {
     "name": "stderr",
     "output_type": "stream",
     "text": [
      "Using TensorFlow backend.\n"
     ]
    }
   ],
   "source": [
    "import pandas as pd\n",
    "import numpy as np\n",
    "import tensorflow as tf\n",
    "from math import sqrt\n",
    "\n",
    "from sklearn.model_selection import StratifiedShuffleSplit\n",
    "from keras.preprocessing.text import Tokenizer\n",
    "from keras.preprocessing.sequence import pad_sequences\n",
    "\n",
    "import matplotlib.pyplot as plt\n",
    "\n",
    "from keras.models import Sequential\n",
    "from keras.layers import Embedding\n",
    "from keras.layers import LSTM\n",
    "from keras.layers import Activation\n",
    "from keras.layers import Dense\n",
    "from keras.layers import Input\n",
    "from keras.layers import GlobalMaxPooling1D\n",
    "from keras.callbacks import ReduceLROnPlateau\n",
    "from keras.callbacks import EarlyStopping"
   ]
  },
  {
   "cell_type": "code",
   "execution_count": 2,
   "metadata": {},
   "outputs": [],
   "source": [
    "train = pd.read_csv('csv/train.csv')\n",
    "valid = pd.read_csv(\"csv/test.csv\")"
   ]
  },
  {
   "cell_type": "code",
   "execution_count": 3,
   "metadata": {},
   "outputs": [
    {
     "data": {
      "text/html": [
       "<div>\n",
       "<style scoped>\n",
       "    .dataframe tbody tr th:only-of-type {\n",
       "        vertical-align: middle;\n",
       "    }\n",
       "\n",
       "    .dataframe tbody tr th {\n",
       "        vertical-align: top;\n",
       "    }\n",
       "\n",
       "    .dataframe thead th {\n",
       "        text-align: right;\n",
       "    }\n",
       "</style>\n",
       "<table border=\"1\" class=\"dataframe\">\n",
       "  <thead>\n",
       "    <tr style=\"text-align: right;\">\n",
       "      <th></th>\n",
       "      <th>title</th>\n",
       "      <th>description</th>\n",
       "      <th>plot</th>\n",
       "      <th>csm_review</th>\n",
       "      <th>need_to_know</th>\n",
       "      <th>par_rating</th>\n",
       "      <th>kids_rating</th>\n",
       "      <th>csm_rating</th>\n",
       "      <th>Author</th>\n",
       "      <th>Genre</th>\n",
       "      <th>...</th>\n",
       "      <th>Publisher's recommended age(s)</th>\n",
       "      <th>Number of pages</th>\n",
       "      <th>Available on</th>\n",
       "      <th>Last updated</th>\n",
       "      <th>Illustrator</th>\n",
       "      <th>Authors</th>\n",
       "      <th>Awards</th>\n",
       "      <th>Publishers</th>\n",
       "      <th>Award</th>\n",
       "      <th>Illustrators</th>\n",
       "    </tr>\n",
       "  </thead>\n",
       "  <tbody>\n",
       "    <tr>\n",
       "      <th>0</th>\n",
       "      <td>Bloodhound: Beka Cooper, Book 2</td>\n",
       "      <td>Second book in fantasy series is more mature t...</td>\n",
       "      <td>BLOODHOUND finds young policewoman -- aka \"Dog...</td>\n",
       "      <td>Like its predecessor, Terrier, Bloodhound is m...</td>\n",
       "      <td>Parents need to know that this fantasy/crime s...</td>\n",
       "      <td>13.0</td>\n",
       "      <td>12.0</td>\n",
       "      <td>12</td>\n",
       "      <td>Tamora Pierce</td>\n",
       "      <td>Fantasy</td>\n",
       "      <td>...</td>\n",
       "      <td>12 - 17</td>\n",
       "      <td>550.0</td>\n",
       "      <td>NaN</td>\n",
       "      <td>June 19, 2019</td>\n",
       "      <td>NaN</td>\n",
       "      <td>NaN</td>\n",
       "      <td>NaN</td>\n",
       "      <td>NaN</td>\n",
       "      <td>NaN</td>\n",
       "      <td>NaN</td>\n",
       "    </tr>\n",
       "    <tr>\n",
       "      <th>1</th>\n",
       "      <td>The School for Good and Evil, Book 1</td>\n",
       "      <td>Fractured fairy tale has plenty of twists for ...</td>\n",
       "      <td>When best friends Sophie and Agatha are stolen...</td>\n",
       "      <td>The School for Good and Evil is no run-of-the-...</td>\n",
       "      <td>Parents need to know that The School for Good ...</td>\n",
       "      <td>11.0</td>\n",
       "      <td>11.0</td>\n",
       "      <td>8</td>\n",
       "      <td>Soman Chainani</td>\n",
       "      <td>Fairy Tale</td>\n",
       "      <td>...</td>\n",
       "      <td>8 - 17</td>\n",
       "      <td>496.0</td>\n",
       "      <td>Nook, Audiobook (unabridged), Hardback, iBooks...</td>\n",
       "      <td>October 18, 2017</td>\n",
       "      <td>Iacopo Bruno</td>\n",
       "      <td>NaN</td>\n",
       "      <td>NaN</td>\n",
       "      <td>NaN</td>\n",
       "      <td>NaN</td>\n",
       "      <td>NaN</td>\n",
       "    </tr>\n",
       "    <tr>\n",
       "      <th>2</th>\n",
       "      <td>Twilight: The Twilight Saga, Book 1</td>\n",
       "      <td>Overlong but engrossing popular vampire romance.</td>\n",
       "      <td>When her mother gets remarried, Bella Swan mov...</td>\n",
       "      <td>This incredibly long book is really two books....</td>\n",
       "      <td>Parents need to know that, while very mild by ...</td>\n",
       "      <td>13.0</td>\n",
       "      <td>11.0</td>\n",
       "      <td>13</td>\n",
       "      <td>Stephenie Meyer</td>\n",
       "      <td>Fantasy</td>\n",
       "      <td>...</td>\n",
       "      <td>12</td>\n",
       "      <td>498.0</td>\n",
       "      <td>NaN</td>\n",
       "      <td>February 07, 2020</td>\n",
       "      <td>NaN</td>\n",
       "      <td>NaN</td>\n",
       "      <td>NaN</td>\n",
       "      <td>NaN</td>\n",
       "      <td>NaN</td>\n",
       "      <td>NaN</td>\n",
       "    </tr>\n",
       "    <tr>\n",
       "      <th>3</th>\n",
       "      <td>The Lost Girl</td>\n",
       "      <td>Engrossing story of an \"echo\" designed to repl...</td>\n",
       "      <td>Eva, a teen living in England, has human-like ...</td>\n",
       "      <td>Sangu Mandanna's debut novel is inspired by Fr...</td>\n",
       "      <td>Parents need to know that The Lost Girl is the...</td>\n",
       "      <td>13.0</td>\n",
       "      <td>12.0</td>\n",
       "      <td>14</td>\n",
       "      <td>Sangu Mandanna</td>\n",
       "      <td>Science Fiction</td>\n",
       "      <td>...</td>\n",
       "      <td>13 - 18</td>\n",
       "      <td>432.0</td>\n",
       "      <td>Nook, Hardback, iBooks, Kindle</td>\n",
       "      <td>June 19, 2019</td>\n",
       "      <td>NaN</td>\n",
       "      <td>NaN</td>\n",
       "      <td>NaN</td>\n",
       "      <td>NaN</td>\n",
       "      <td>NaN</td>\n",
       "      <td>NaN</td>\n",
       "    </tr>\n",
       "    <tr>\n",
       "      <th>4</th>\n",
       "      <td>Warcross, Book 1</td>\n",
       "      <td>Winning teen girl drives cyberpunk virtual rea...</td>\n",
       "      <td>As WARCROSS opens, bounty hunter Emika Chen fi...</td>\n",
       "      <td>Cyberpunk fell out of favor for a while, but t...</td>\n",
       "      <td>Parents need to know that Warcross is the firs...</td>\n",
       "      <td>14.0</td>\n",
       "      <td>13.0</td>\n",
       "      <td>13</td>\n",
       "      <td>Marie Lu</td>\n",
       "      <td>Science Fiction</td>\n",
       "      <td>...</td>\n",
       "      <td>NaN</td>\n",
       "      <td>368.0</td>\n",
       "      <td>Nook, Audiobook (unabridged), Hardback, iBooks...</td>\n",
       "      <td>December 05, 2019</td>\n",
       "      <td>NaN</td>\n",
       "      <td>NaN</td>\n",
       "      <td>NaN</td>\n",
       "      <td>NaN</td>\n",
       "      <td>NaN</td>\n",
       "      <td>NaN</td>\n",
       "    </tr>\n",
       "  </tbody>\n",
       "</table>\n",
       "<p>5 rows × 24 columns</p>\n",
       "</div>"
      ],
      "text/plain": [
       "                                  title  \\\n",
       "0       Bloodhound: Beka Cooper, Book 2   \n",
       "1  The School for Good and Evil, Book 1   \n",
       "2   Twilight: The Twilight Saga, Book 1   \n",
       "3                         The Lost Girl   \n",
       "4                      Warcross, Book 1   \n",
       "\n",
       "                                         description  \\\n",
       "0  Second book in fantasy series is more mature t...   \n",
       "1  Fractured fairy tale has plenty of twists for ...   \n",
       "2   Overlong but engrossing popular vampire romance.   \n",
       "3  Engrossing story of an \"echo\" designed to repl...   \n",
       "4  Winning teen girl drives cyberpunk virtual rea...   \n",
       "\n",
       "                                                plot  \\\n",
       "0  BLOODHOUND finds young policewoman -- aka \"Dog...   \n",
       "1  When best friends Sophie and Agatha are stolen...   \n",
       "2  When her mother gets remarried, Bella Swan mov...   \n",
       "3  Eva, a teen living in England, has human-like ...   \n",
       "4  As WARCROSS opens, bounty hunter Emika Chen fi...   \n",
       "\n",
       "                                          csm_review  \\\n",
       "0  Like its predecessor, Terrier, Bloodhound is m...   \n",
       "1  The School for Good and Evil is no run-of-the-...   \n",
       "2  This incredibly long book is really two books....   \n",
       "3  Sangu Mandanna's debut novel is inspired by Fr...   \n",
       "4  Cyberpunk fell out of favor for a while, but t...   \n",
       "\n",
       "                                        need_to_know  par_rating  kids_rating  \\\n",
       "0  Parents need to know that this fantasy/crime s...        13.0         12.0   \n",
       "1  Parents need to know that The School for Good ...        11.0         11.0   \n",
       "2  Parents need to know that, while very mild by ...        13.0         11.0   \n",
       "3  Parents need to know that The Lost Girl is the...        13.0         12.0   \n",
       "4  Parents need to know that Warcross is the firs...        14.0         13.0   \n",
       "\n",
       "   csm_rating           Author            Genre  ...  \\\n",
       "0          12    Tamora Pierce          Fantasy  ...   \n",
       "1           8   Soman Chainani       Fairy Tale  ...   \n",
       "2          13  Stephenie Meyer          Fantasy  ...   \n",
       "3          14   Sangu Mandanna  Science Fiction  ...   \n",
       "4          13         Marie Lu  Science Fiction  ...   \n",
       "\n",
       "  Publisher's recommended age(s) Number of pages  \\\n",
       "0                        12 - 17           550.0   \n",
       "1                         8 - 17           496.0   \n",
       "2                             12           498.0   \n",
       "3                        13 - 18           432.0   \n",
       "4                            NaN           368.0   \n",
       "\n",
       "                                        Available on       Last updated  \\\n",
       "0                                                NaN      June 19, 2019   \n",
       "1  Nook, Audiobook (unabridged), Hardback, iBooks...   October 18, 2017   \n",
       "2                                                NaN  February 07, 2020   \n",
       "3                     Nook, Hardback, iBooks, Kindle      June 19, 2019   \n",
       "4  Nook, Audiobook (unabridged), Hardback, iBooks...  December 05, 2019   \n",
       "\n",
       "    Illustrator  Authors Awards Publishers Award Illustrators  \n",
       "0           NaN      NaN    NaN        NaN   NaN          NaN  \n",
       "1  Iacopo Bruno      NaN    NaN        NaN   NaN          NaN  \n",
       "2           NaN      NaN    NaN        NaN   NaN          NaN  \n",
       "3           NaN      NaN    NaN        NaN   NaN          NaN  \n",
       "4           NaN      NaN    NaN        NaN   NaN          NaN  \n",
       "\n",
       "[5 rows x 24 columns]"
      ]
     },
     "execution_count": 3,
     "metadata": {},
     "output_type": "execute_result"
    }
   ],
   "source": [
    "train.head()"
   ]
  },
  {
   "cell_type": "code",
   "execution_count": 4,
   "metadata": {},
   "outputs": [
    {
     "data": {
      "text/plain": [
       "'Fractured fairy tale has plenty of twists for fantasy fans.'"
      ]
     },
     "execution_count": 4,
     "metadata": {},
     "output_type": "execute_result"
    }
   ],
   "source": [
    "train.loc[1, \"description\"]"
   ]
  },
  {
   "cell_type": "markdown",
   "metadata": {},
   "source": [
    "## Create the splits"
   ]
  },
  {
   "cell_type": "code",
   "execution_count": 5,
   "metadata": {},
   "outputs": [],
   "source": [
    "x_tr, y_tr = train['description'].values, train['csm_rating'].values\n",
    "x_val, y_val = valid[\"description\"].values, valid[\"csm_rating\"].values"
   ]
  },
  {
   "cell_type": "code",
   "execution_count": 6,
   "metadata": {},
   "outputs": [
    {
     "name": "stdout",
     "output_type": "stream",
     "text": [
      "(4651,) (4651,)\n"
     ]
    }
   ],
   "source": [
    "print(x_tr.shape, y_tr.shape)"
   ]
  },
  {
   "cell_type": "code",
   "execution_count": 7,
   "metadata": {},
   "outputs": [
    {
     "name": "stdout",
     "output_type": "stream",
     "text": [
      "(1164,) (1164,)\n"
     ]
    }
   ],
   "source": [
    "print(x_val.shape, y_val.shape)"
   ]
  },
  {
   "cell_type": "markdown",
   "metadata": {},
   "source": [
    "## Prepare the Data"
   ]
  },
  {
   "cell_type": "code",
   "execution_count": 8,
   "metadata": {},
   "outputs": [
    {
     "name": "stdout",
     "output_type": "stream",
     "text": [
      "14\n",
      "3\n"
     ]
    }
   ],
   "source": [
    "#Tokenize the sentences\n",
    "tokenizer = Tokenizer()\n",
    "\n",
    "#preparing vocabulary\n",
    "tokenizer.fit_on_texts(list(x_tr))\n",
    "\n",
    "#converting text into integer sequences\n",
    "x_tr_seq  = tokenizer.texts_to_sequences(x_tr) \n",
    "x_val_seq = tokenizer.texts_to_sequences(x_val)\n",
    "\n",
    "print(len(max(x_tr_seq, key=len)))\n",
    "print(len(min(x_tr_seq, key=len)))"
   ]
  },
  {
   "cell_type": "code",
   "execution_count": 9,
   "metadata": {},
   "outputs": [
    {
     "name": "stdout",
     "output_type": "stream",
     "text": [
      "14\n",
      "14\n"
     ]
    }
   ],
   "source": [
    "#padding to prepare sequences of same length\n",
    "x_tr_seq  = pad_sequences(x_tr_seq, maxlen=14)\n",
    "x_val_seq = pad_sequences(x_val_seq, maxlen=14)\n",
    "print(len(max(x_tr_seq, key=len)))\n",
    "print(len(min(x_tr_seq, key=len)))"
   ]
  },
  {
   "cell_type": "code",
   "execution_count": 10,
   "metadata": {},
   "outputs": [
    {
     "data": {
      "text/plain": [
       "array([   0,    0,    0,    0, 1028,   99,    3,   25,  618,    1,  334,\n",
       "          8,   12,   72], dtype=int32)"
      ]
     },
     "execution_count": 10,
     "metadata": {},
     "output_type": "execute_result"
    }
   ],
   "source": [
    "x_tr_seq[1]"
   ]
  },
  {
   "cell_type": "code",
   "execution_count": 11,
   "metadata": {},
   "outputs": [],
   "source": [
    "max_length = len(max(x_tr_seq, key=len))"
   ]
  },
  {
   "cell_type": "code",
   "execution_count": 12,
   "metadata": {},
   "outputs": [
    {
     "name": "stdout",
     "output_type": "stream",
     "text": [
      "5815\n"
     ]
    }
   ],
   "source": [
    "size_of_vocabulary=len(tokenizer.word_index) + 1 #+1 for padding\n",
    "print(size_of_vocabulary)"
   ]
  },
  {
   "cell_type": "markdown",
   "metadata": {},
   "source": [
    "## Create embeddings"
   ]
  },
  {
   "cell_type": "code",
   "execution_count": 13,
   "metadata": {},
   "outputs": [
    {
     "name": "stdout",
     "output_type": "stream",
     "text": [
      "Found 5814 unique tokens.\n"
     ]
    }
   ],
   "source": [
    "word_index = tokenizer.word_index\n",
    "print(\"Found %s unique tokens.\" % len(word_index))"
   ]
  },
  {
   "cell_type": "markdown",
   "metadata": {},
   "source": [
    "## Create the Model"
   ]
  },
  {
   "cell_type": "code",
   "execution_count": 14,
   "metadata": {},
   "outputs": [
    {
     "name": "stdout",
     "output_type": "stream",
     "text": [
      "Model: \"sequential_1\"\n",
      "_________________________________________________________________\n",
      "Layer (type)                 Output Shape              Param #   \n",
      "=================================================================\n",
      "embedding_1 (Embedding)      (None, 14, 300)           1744500   \n",
      "_________________________________________________________________\n",
      "lstm_1 (LSTM)                (None, 14, 128)           219648    \n",
      "_________________________________________________________________\n",
      "global_max_pooling1d_1 (Glob (None, 128)               0         \n",
      "_________________________________________________________________\n",
      "dense_1 (Dense)              (None, 64)                8256      \n",
      "_________________________________________________________________\n",
      "dense_2 (Dense)              (None, 1)                 65        \n",
      "=================================================================\n",
      "Total params: 1,972,469\n",
      "Trainable params: 1,972,469\n",
      "Non-trainable params: 0\n",
      "_________________________________________________________________\n",
      "None\n"
     ]
    }
   ],
   "source": [
    "model=Sequential()\n",
    "\n",
    "#embedding layer\n",
    "model.add(Embedding(size_of_vocabulary,300,input_length=max_length,trainable=True)) \n",
    "\n",
    "#lstm layer\n",
    "model.add(LSTM(128,return_sequences=True,dropout=0.2))\n",
    "\n",
    "#Global Maxpooling\n",
    "model.add(GlobalMaxPooling1D())\n",
    "\n",
    "#Dense Layer\n",
    "model.add(Dense(64,activation='relu')) \n",
    "model.add(Dense(1,activation='relu')) \n",
    "\n",
    "#Add loss function, metrics, optimizer\n",
    "#optimizer = tf.keras.optimizers.RMSprop(0.001)\n",
    "\n",
    "model.compile(optimizer=\"RMSprop\", loss='mean_squared_error', metrics=[\"mae\"]) \n",
    "\n",
    "#Adding callbacks\n",
    "#es = EarlyStopping(monitor='val_loss', mode='min', verbose=1,patience=10)  \n",
    "#mc=ModelCheckpoint('best_model.h5', monitor='val_loss', mode='max', save_best_only=True,verbose=1)  \n",
    "\n",
    "#Print summary of model\n",
    "print(model.summary())"
   ]
  },
  {
   "cell_type": "markdown",
   "metadata": {},
   "source": [
    "## Callbacks"
   ]
  },
  {
   "cell_type": "code",
   "execution_count": 15,
   "metadata": {},
   "outputs": [],
   "source": [
    "earlystop = EarlyStopping(patience=10)\n",
    "learning_rate_reduction = ReduceLROnPlateau(monitor='val_mae', \n",
    "                                            patience=2, \n",
    "                                            verbose=1, \n",
    "                                            factor=0.5, \n",
    "                                            min_lr=0.00001)\n",
    "\n",
    "callbacks = [earlystop, learning_rate_reduction]"
   ]
  },
  {
   "cell_type": "markdown",
   "metadata": {},
   "source": [
    "## Fit the Model"
   ]
  },
  {
   "cell_type": "code",
   "execution_count": 16,
   "metadata": {},
   "outputs": [
    {
     "name": "stderr",
     "output_type": "stream",
     "text": [
      "/home/evan/anaconda3/lib/python3.7/site-packages/tensorflow_core/python/framework/indexed_slices.py:433: UserWarning: Converting sparse IndexedSlices to a dense Tensor of unknown shape. This may consume a large amount of memory.\n",
      "  \"Converting sparse IndexedSlices to a dense Tensor of unknown shape. \"\n"
     ]
    },
    {
     "name": "stdout",
     "output_type": "stream",
     "text": [
      "Train on 4651 samples, validate on 1164 samples\n",
      "Epoch 1/50\n",
      "4651/4651 [==============================] - 3s 565us/step - loss: 25.8505 - mae: 4.0834 - val_loss: 14.3923 - val_mae: 3.2197\n",
      "Epoch 2/50\n",
      "4651/4651 [==============================] - 2s 450us/step - loss: 12.2786 - mae: 2.9056 - val_loss: 11.5601 - val_mae: 2.7972\n",
      "Epoch 3/50\n",
      "4651/4651 [==============================] - 2s 452us/step - loss: 7.0804 - mae: 2.1249 - val_loss: 6.9257 - val_mae: 2.0996\n",
      "Epoch 4/50\n",
      "4651/4651 [==============================] - 2s 448us/step - loss: 5.1953 - mae: 1.7960 - val_loss: 6.8251 - val_mae: 2.0693\n",
      "Epoch 5/50\n",
      "4651/4651 [==============================] - 2s 450us/step - loss: 4.0814 - mae: 1.5762 - val_loss: 6.6576 - val_mae: 1.9976\n",
      "Epoch 6/50\n",
      "4651/4651 [==============================] - 2s 453us/step - loss: 3.4531 - mae: 1.4415 - val_loss: 6.5509 - val_mae: 1.9533\n",
      "Epoch 7/50\n",
      "4651/4651 [==============================] - 2s 481us/step - loss: 3.0443 - mae: 1.3313 - val_loss: 7.2465 - val_mae: 2.0915\n",
      "Epoch 8/50\n",
      "4651/4651 [==============================] - 2s 489us/step - loss: 2.6388 - mae: 1.2494 - val_loss: 6.7034 - val_mae: 1.9742\n",
      "\n",
      "Epoch 00008: ReduceLROnPlateau reducing learning rate to 0.0005000000237487257.\n",
      "Epoch 9/50\n",
      "4651/4651 [==============================] - 2s 505us/step - loss: 1.8982 - mae: 1.0284 - val_loss: 6.7176 - val_mae: 1.9704\n",
      "Epoch 10/50\n",
      "4651/4651 [==============================] - 3s 557us/step - loss: 1.7878 - mae: 0.9848 - val_loss: 7.1467 - val_mae: 2.0477\n",
      "\n",
      "Epoch 00010: ReduceLROnPlateau reducing learning rate to 0.0002500000118743628.\n",
      "Epoch 11/50\n",
      "4651/4651 [==============================] - 2s 484us/step - loss: 1.5012 - mae: 0.8807 - val_loss: 7.0655 - val_mae: 2.0214\n",
      "Epoch 12/50\n",
      "4651/4651 [==============================] - 2s 490us/step - loss: 1.4306 - mae: 0.8518 - val_loss: 7.1217 - val_mae: 2.0165\n",
      "\n",
      "Epoch 00012: ReduceLROnPlateau reducing learning rate to 0.0001250000059371814.\n",
      "Epoch 13/50\n",
      "4651/4651 [==============================] - 2s 484us/step - loss: 1.3251 - mae: 0.8113 - val_loss: 7.1017 - val_mae: 2.0140\n",
      "Epoch 14/50\n",
      "4651/4651 [==============================] - 2s 486us/step - loss: 1.2918 - mae: 0.7966 - val_loss: 7.1782 - val_mae: 2.0318\n",
      "\n",
      "Epoch 00014: ReduceLROnPlateau reducing learning rate to 6.25000029685907e-05.\n",
      "Epoch 15/50\n",
      "4651/4651 [==============================] - 2s 490us/step - loss: 1.2328 - mae: 0.7736 - val_loss: 7.1559 - val_mae: 2.0188\n",
      "Epoch 16/50\n",
      "4651/4651 [==============================] - 2s 508us/step - loss: 1.2091 - mae: 0.7648 - val_loss: 7.1519 - val_mae: 2.0172\n",
      "\n",
      "Epoch 00016: ReduceLROnPlateau reducing learning rate to 3.125000148429535e-05.\n"
     ]
    }
   ],
   "source": [
    "history = model.fit(np.array(x_tr_seq),\n",
    "                    np.array(y_tr),\n",
    "                    batch_size=128,\n",
    "                    epochs=50,\n",
    "                    validation_data=(np.array(x_val_seq),np.array(y_val)),\n",
    "                    verbose=1,\n",
    "                    callbacks=callbacks)"
   ]
  },
  {
   "cell_type": "code",
   "execution_count": 17,
   "metadata": {},
   "outputs": [
    {
     "name": "stdout",
     "output_type": "stream",
     "text": [
      "1164/1164 [==============================] - 0s 192us/step\n",
      "The val_mae is 2.017.\n"
     ]
    }
   ],
   "source": [
    "#evaluation \n",
    "val_loss, val_mae = model.evaluate(x_val_seq, y_val)\n",
    "\n",
    "print(\"The val_mae is %.3f.\" % val_mae)"
   ]
  },
  {
   "cell_type": "code",
   "execution_count": 18,
   "metadata": {},
   "outputs": [
    {
     "data": {
      "image/png": "[encoded data removed]",
      "text/plain": [
       "<Figure size 432x288 with 1 Axes>"
      ]
     },
     "metadata": {
      "needs_background": "light"
     },
     "output_type": "display_data"
    },
    {
     "data": {
      "image/png": "[encoded data removed]",
      "text/plain": [
       "<Figure size 432x288 with 1 Axes>"
      ]
     },
     "metadata": {
      "needs_background": "light"
     },
     "output_type": "display_data"
    }
   ],
   "source": [
    "plt.plot(model.history.history[\"loss\"], label=\"loss\");\n",
    "plt.plot(model.history.history[\"val_loss\"], label=\"val_loss\");\n",
    "plt.legend();\n",
    "plt.show();\n",
    "plt.close();\n",
    "\n",
    "plt.plot(model.history.history[\"mae\"], label=\"mae\");\n",
    "plt.plot(model.history.history[\"val_mae\"], label=\"val_mae\");\n",
    "plt.legend();"
   ]
  },
  {
   "cell_type": "markdown",
   "metadata": {},
   "source": [
    "## [Use Transfer Learning](https://www.analyticsvidhya.com/blog/2020/03/pretrained-word-embeddings-nlp/)"
   ]
  },
  {
   "cell_type": "code",
   "execution_count": 19,
   "metadata": {},
   "outputs": [
    {
     "name": "stdout",
     "output_type": "stream",
     "text": [
      "Loaded 400000 word vectors.\n"
     ]
    }
   ],
   "source": [
    "# load the whole embedding into memory\n",
    "embeddings_index = dict()\n",
    "\n",
    "with open(\"glove/glove.6B.300d.txt\") as f:\n",
    "\n",
    "    for line in f:\n",
    "        values = line.split()\n",
    "        word = values[0]\n",
    "        coefs = np.asarray(values[1:], dtype='float32')\n",
    "        embeddings_index[word] = coefs\n",
    "\n",
    "print('Loaded %s word vectors.' % len(embeddings_index))"
   ]
  },
  {
   "cell_type": "code",
   "execution_count": 20,
   "metadata": {},
   "outputs": [],
   "source": [
    "# create a weight matrix for words in training docs\n",
    "embedding_matrix = np.zeros((size_of_vocabulary, 300))\n",
    "\n",
    "for word, i in tokenizer.word_index.items():\n",
    "    embedding_vector = embeddings_index.get(word)\n",
    "    if embedding_vector is not None:\n",
    "        embedding_matrix[i] = embedding_vector"
   ]
  },
  {
   "cell_type": "code",
   "execution_count": 21,
   "metadata": {},
   "outputs": [
    {
     "name": "stdout",
     "output_type": "stream",
     "text": [
      "Model: \"sequential_2\"\n",
      "_________________________________________________________________\n",
      "Layer (type)                 Output Shape              Param #   \n",
      "=================================================================\n",
      "embedding_2 (Embedding)      (None, 14, 300)           1744500   \n",
      "_________________________________________________________________\n",
      "lstm_2 (LSTM)                (None, 14, 128)           219648    \n",
      "_________________________________________________________________\n",
      "global_max_pooling1d_2 (Glob (None, 128)               0         \n",
      "_________________________________________________________________\n",
      "dense_3 (Dense)              (None, 64)                8256      \n",
      "_________________________________________________________________\n",
      "dense_4 (Dense)              (None, 1)                 65        \n",
      "=================================================================\n",
      "Total params: 1,972,469\n",
      "Trainable params: 227,969\n",
      "Non-trainable params: 1,744,500\n",
      "_________________________________________________________________\n",
      "None\n"
     ]
    }
   ],
   "source": [
    "model=Sequential()\n",
    "\n",
    "#embedding layer\n",
    "#model.add(Embedding(size_of_vocabulary,300,input_length=14,trainable=True)) \n",
    "model.add(Embedding(size_of_vocabulary,300,weights=[embedding_matrix],input_length=max_length,trainable=False)) \n",
    "\n",
    "\n",
    "#lstm layer\n",
    "model.add(LSTM(128,return_sequences=True,dropout=0.2))\n",
    "\n",
    "#Global Maxpooling\n",
    "model.add(GlobalMaxPooling1D())\n",
    "\n",
    "#Dense Layer\n",
    "model.add(Dense(64,activation='relu')) \n",
    "model.add(Dense(1,activation='relu')) \n",
    "\n",
    "#Add loss function, metrics, optimizer\n",
    "#optimizer = tf.keras.optimizers.RMSprop(0.001)\n",
    "\n",
    "model.compile(optimizer=\"RMSprop\", loss='mean_squared_error', metrics=[\"mae\"]) \n",
    "\n",
    "#Print summary of model\n",
    "print(model.summary())"
   ]
  },
  {
   "cell_type": "code",
   "execution_count": 22,
   "metadata": {},
   "outputs": [
    {
     "name": "stdout",
     "output_type": "stream",
     "text": [
      "Train on 4651 samples, validate on 1164 samples\n",
      "Epoch 1/50\n",
      "4651/4651 [==============================] - 2s 434us/step - loss: 18.7263 - mae: 3.4237 - val_loss: 10.3873 - val_mae: 2.6082\n",
      "Epoch 2/50\n",
      "4651/4651 [==============================] - 1s 287us/step - loss: 7.8020 - mae: 2.2269 - val_loss: 8.2311 - val_mae: 2.2712\n",
      "Epoch 3/50\n",
      "4651/4651 [==============================] - 1s 313us/step - loss: 7.1555 - mae: 2.1186 - val_loss: 6.9163 - val_mae: 2.0929\n",
      "Epoch 4/50\n",
      "4651/4651 [==============================] - 2s 375us/step - loss: 6.7007 - mae: 2.0502 - val_loss: 6.9179 - val_mae: 2.0814\n",
      "Epoch 5/50\n",
      "4651/4651 [==============================] - 2s 326us/step - loss: 6.2055 - mae: 1.9615 - val_loss: 7.0022 - val_mae: 2.0863\n",
      "Epoch 6/50\n",
      "4651/4651 [==============================] - 1s 304us/step - loss: 6.0209 - mae: 1.9279 - val_loss: 7.4680 - val_mae: 2.1598\n",
      "\n",
      "Epoch 00006: ReduceLROnPlateau reducing learning rate to 0.0005000000237487257.\n",
      "Epoch 7/50\n",
      "4651/4651 [==============================] - 2s 330us/step - loss: 5.5334 - mae: 1.8405 - val_loss: 7.1891 - val_mae: 2.0858\n",
      "Epoch 8/50\n",
      "4651/4651 [==============================] - 1s 304us/step - loss: 5.2654 - mae: 1.7917 - val_loss: 6.7709 - val_mae: 2.0226\n",
      "Epoch 9/50\n",
      "4651/4651 [==============================] - 1s 304us/step - loss: 5.2136 - mae: 1.7776 - val_loss: 6.3112 - val_mae: 1.9656\n",
      "Epoch 10/50\n",
      "4651/4651 [==============================] - 1s 302us/step - loss: 5.0740 - mae: 1.7466 - val_loss: 6.2434 - val_mae: 1.9413\n",
      "Epoch 11/50\n",
      "4651/4651 [==============================] - 1s 306us/step - loss: 4.8227 - mae: 1.7116 - val_loss: 7.0258 - val_mae: 2.0472\n",
      "Epoch 12/50\n",
      "4651/4651 [==============================] - 1s 308us/step - loss: 4.8475 - mae: 1.7124 - val_loss: 6.7058 - val_mae: 2.0128\n",
      "\n",
      "Epoch 00012: ReduceLROnPlateau reducing learning rate to 0.0002500000118743628.\n",
      "Epoch 13/50\n",
      "4651/4651 [==============================] - 1s 307us/step - loss: 4.5459 - mae: 1.6534 - val_loss: 6.0098 - val_mae: 1.9081\n",
      "Epoch 14/50\n",
      "4651/4651 [==============================] - 1s 309us/step - loss: 4.3691 - mae: 1.6283 - val_loss: 6.0202 - val_mae: 1.9030\n",
      "Epoch 15/50\n",
      "4651/4651 [==============================] - 1s 305us/step - loss: 4.3808 - mae: 1.6235 - val_loss: 6.0184 - val_mae: 1.9035\n",
      "Epoch 16/50\n",
      "4651/4651 [==============================] - 2s 334us/step - loss: 4.3795 - mae: 1.6190 - val_loss: 5.9663 - val_mae: 1.8973\n",
      "Epoch 17/50\n",
      "4651/4651 [==============================] - 1s 304us/step - loss: 4.1756 - mae: 1.5826 - val_loss: 6.0041 - val_mae: 1.9002\n",
      "Epoch 18/50\n",
      "4651/4651 [==============================] - 1s 316us/step - loss: 4.0705 - mae: 1.5710 - val_loss: 5.9971 - val_mae: 1.8948\n",
      "Epoch 19/50\n",
      "4651/4651 [==============================] - 1s 305us/step - loss: 4.0780 - mae: 1.5688 - val_loss: 5.9994 - val_mae: 1.8914\n",
      "Epoch 20/50\n",
      "4651/4651 [==============================] - 1s 304us/step - loss: 4.0608 - mae: 1.5532 - val_loss: 5.9951 - val_mae: 1.8892\n",
      "Epoch 21/50\n",
      "4651/4651 [==============================] - 1s 310us/step - loss: 3.9284 - mae: 1.5369 - val_loss: 6.0800 - val_mae: 1.9067\n",
      "Epoch 22/50\n",
      "4651/4651 [==============================] - 1s 307us/step - loss: 3.8289 - mae: 1.5208 - val_loss: 5.9713 - val_mae: 1.8918\n",
      "\n",
      "Epoch 00022: ReduceLROnPlateau reducing learning rate to 0.0001250000059371814.\n",
      "Epoch 23/50\n",
      "4651/4651 [==============================] - 1s 309us/step - loss: 3.8165 - mae: 1.5144 - val_loss: 5.9857 - val_mae: 1.8882\n",
      "Epoch 24/50\n",
      "4651/4651 [==============================] - 1s 310us/step - loss: 3.7518 - mae: 1.4956 - val_loss: 6.0532 - val_mae: 1.8896\n",
      "Epoch 25/50\n",
      "4651/4651 [==============================] - 2s 328us/step - loss: 3.6728 - mae: 1.4776 - val_loss: 6.1845 - val_mae: 1.9058\n",
      "\n",
      "Epoch 00025: ReduceLROnPlateau reducing learning rate to 6.25000029685907e-05.\n",
      "Epoch 26/50\n",
      "4651/4651 [==============================] - 2s 332us/step - loss: 3.6724 - mae: 1.4876 - val_loss: 6.0223 - val_mae: 1.8873\n"
     ]
    }
   ],
   "source": [
    "history = model.fit(np.array(x_tr_seq),\n",
    "                    np.array(y_tr),\n",
    "                    batch_size=128,\n",
    "                    epochs=50,\n",
    "                    validation_data=(np.array(x_val_seq),np.array(y_val)),\n",
    "                    verbose=1,\n",
    "                    callbacks=callbacks)"
   ]
  },
  {
   "cell_type": "code",
   "execution_count": 23,
   "metadata": {},
   "outputs": [
    {
     "name": "stdout",
     "output_type": "stream",
     "text": [
      "1164/1164 [==============================] - 0s 193us/step\n",
      "The val_mae is 1.887.\n"
     ]
    }
   ],
   "source": [
    "#evaluation \n",
    "_, val_mae = model.evaluate(x_val_seq, y_val)\n",
    "\n",
    "print(\"The val_mae is %.3f.\" % val_mae)"
   ]
  },
  {
   "cell_type": "code",
   "execution_count": 24,
   "metadata": {},
   "outputs": [
    {
     "data": {
      "image/png": "[encoded data removed]",
      "text/plain": [
       "<Figure size 432x288 with 1 Axes>"
      ]
     },
     "metadata": {
      "needs_background": "light"
     },
     "output_type": "display_data"
    },
    {
     "data": {
      "image/png": "[encoded data removed]",
      "text/plain": [
       "<Figure size 432x288 with 1 Axes>"
      ]
     },
     "metadata": {
      "needs_background": "light"
     },
     "output_type": "display_data"
    }
   ],
   "source": [
    "plt.plot(model.history.history[\"loss\"], label=\"loss\");\n",
    "plt.plot(model.history.history[\"val_loss\"], label=\"val_loss\");\n",
    "plt.legend();\n",
    "plt.show();\n",
    "plt.close();\n",
    "\n",
    "plt.plot(model.history.history[\"mae\"], label=\"mae\");\n",
    "plt.plot(model.history.history[\"val_mae\"], label=\"val_mae\");\n",
    "plt.legend();"
   ]
  }
 ],
 "metadata": {
  "kernelspec": {
   "display_name": "base",
   "language": "python",
   "name": "base"
  },
  "language_info": {
   "codemirror_mode": {
    "name": "ipython",
    "version": 3
   },
   "file_extension": ".py",
   "mimetype": "text/x-python",
   "name": "python",
   "nbconvert_exporter": "python",
   "pygments_lexer": "ipython3",
   "version": "3.7.4"
  }
 },
 "nbformat": 4,
 "nbformat_minor": 4
}
