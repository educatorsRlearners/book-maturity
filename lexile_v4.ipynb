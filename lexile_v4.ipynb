{
 "cells": [
  {
   "cell_type": "markdown",
   "metadata": {},
   "source": [
    "# Get all Links"
   ]
  },
  {
   "cell_type": "code",
   "execution_count": 2,
   "metadata": {},
   "outputs": [],
   "source": [
    "import os\n",
    "import string\n",
    "import requests\n",
    "import json\n",
    "import pandas as pd \n",
    "from bs4 import BeautifulSoup\n",
    "from csv import writer"
   ]
  },
  {
   "cell_type": "markdown",
   "metadata": {},
   "source": [
    "## Create links to every page"
   ]
  },
  {
   "cell_type": "code",
   "execution_count": 7,
   "metadata": {},
   "outputs": [],
   "source": [
    "base_url = 'https://www.commonsensemedia.org/book-reviews'\n",
    "page = '?page='\n",
    "all_pages = range(1,291)\n",
    "all_pages_list = [base_url+page+str(p) for p in all_pages]"
   ]
  },
  {
   "cell_type": "markdown",
   "metadata": {},
   "source": [
    "## Create a folder to hold the scraped pages"
   ]
  },
  {
   "cell_type": "code",
   "execution_count": 17,
   "metadata": {},
   "outputs": [],
   "source": [
    "!mkdir lexile/raw/lists"
   ]
  },
  {
   "cell_type": "markdown",
   "metadata": {},
   "source": [
    "## Make the Soup for the first page"
   ]
  },
  {
   "cell_type": "code",
   "execution_count": 14,
   "metadata": {},
   "outputs": [],
   "source": [
    "page = requests.get(base_url)\n",
    "soup = BeautifulSoup(page.text, 'html.parser')"
   ]
  },
  {
   "cell_type": "markdown",
   "metadata": {},
   "source": [
    "### Write the Soup to a file for future analysis"
   ]
  },
  {
   "cell_type": "code",
   "execution_count": 27,
   "metadata": {},
   "outputs": [],
   "source": [
    "with open('lexile/raw/lists/page=0.html', 'wb') as f:\n",
    "    f.write(soup.encode('utf-8'))"
   ]
  },
  {
   "cell_type": "markdown",
   "metadata": {},
   "source": [
    "## Make the Soup for every page and save it for future analysis"
   ]
  },
  {
   "cell_type": "code",
   "execution_count": 34,
   "metadata": {},
   "outputs": [],
   "source": [
    "for p in all_pages_list:\n",
    "    page = requests.get(p)\n",
    "    soup = BeautifulSoup(page.text, 'html.parser')\n",
    "    with open(\"lexile/raw/lists/\" + p.split(\"?\")[1] + \".html\", 'wb') as f:\n",
    "        f.write(soup.encode('utf-8'))"
   ]
  },
  {
   "cell_type": "markdown",
   "metadata": {},
   "source": [
    "# Scrape the covers\n",
    "## Make a folder to store the covers"
   ]
  },
  {
   "cell_type": "code",
   "execution_count": 35,
   "metadata": {},
   "outputs": [],
   "source": [
    "!mkdir lexile/covers"
   ]
  },
  {
   "cell_type": "markdown",
   "metadata": {},
   "source": [
    "## Make the soup for the first page"
   ]
  },
  {
   "cell_type": "code",
   "execution_count": 36,
   "metadata": {},
   "outputs": [],
   "source": [
    "page = requests.get(base_url)\n",
    "soup = BeautifulSoup(page.text, 'html.parser')"
   ]
  },
  {
   "cell_type": "code",
   "execution_count": 47,
   "metadata": {},
   "outputs": [],
   "source": [
    "covers = soup.findAll(class_=\"field-content review-product-image\")\n",
    "covers = [cover.findAll(\"img\") for cover in covers]\n",
    "title = [cover[1].get('title') for cover in covers]\n",
    "title = [t[:-18].replace(\"/\", \"_\") for t in title]\n",
    "cover_src = [cover[1].get('src') for cover in covers]\n",
    "info = dict(zip(title, cover_src))"
   ]
  },
  {
   "cell_type": "code",
   "execution_count": 53,
   "metadata": {},
   "outputs": [],
   "source": [
    "for k, v in info.items():\n",
    "    if '.jpg?' in v:\n",
    "        try:\n",
    "            with open('./lexile/covers/' + k + '.jpg', 'wb') as f:\n",
    "                f.write(requests.get(v).content)\n",
    "        except FileNotFoundError as err:\n",
    "            with open('lexile/errors.txt', 'a') as f:\n",
    "                f.write(k)\n",
    "    else:\n",
    "        try:\n",
    "            with open('./lexile/covers/' + k + '.png', 'wb') as f:\n",
    "                f.write(requests.get(v).content)\n",
    "        except FileNotFoundError as err:\n",
    "            with open('lexile/errors.txt', 'a') as f:\n",
    "                f.write(k)"
   ]
  },
  {
   "cell_type": "markdown",
   "metadata": {},
   "source": [
    "## Make the soup for the rest of the pages"
   ]
  },
  {
   "cell_type": "code",
   "execution_count": 56,
   "metadata": {},
   "outputs": [],
   "source": [
    "for page in all_pages_list: \n",
    "    \n",
    "    page = requests.get(page)\n",
    "    soup = BeautifulSoup(page.text, 'html.parser')\n",
    "    \n",
    "    covers = soup.findAll(class_=\"field-content review-product-image\")\n",
    "    covers = [cover.findAll(\"img\") for cover in covers]\n",
    "    \n",
    "    title = [cover[1].get('title') for cover in covers]\n",
    "    title = [t[:-18].replace(\"/\", \"_\") for t in title]\n",
    "    \n",
    "    cover_src = [cover[1].get('src') for cover in covers]\n",
    "    \n",
    "    info = dict(zip(title, cover_src))\n",
    "    \n",
    "    for k, v in info.items():\n",
    "        if '.jpg?' in v:\n",
    "            try:\n",
    "                with open('./lexile/covers/' + k + '.jpg', 'wb') as f:\n",
    "                    f.write(requests.get(v).content)\n",
    "            except FileNotFoundError as err:\n",
    "                with open('lexile/errors.txt', 'a') as f:\n",
    "                    f.write(k)\n",
    "        \n",
    "        else:\n",
    "            try:\n",
    "                with open('./lexile/covers/' + k + '.png', 'wb') as f:\n",
    "                    f.write(requests.get(v).content)\n",
    "            except FileNotFoundError as err:\n",
    "                with open('lexile/errors.txt', 'a') as f:\n",
    "                    f.write(k)"
   ]
  },
  {
   "cell_type": "code",
   "execution_count": 57,
   "metadata": {},
   "outputs": [],
   "source": [
    "change = []\n",
    "for k, v in info.items():\n",
    "    if '.jpeg?' in v:\n",
    "        change.append(k)"
   ]
  },
  {
   "cell_type": "code",
   "execution_count": 59,
   "metadata": {},
   "outputs": [],
   "source": [
    "!mkdir lexile/jpeg"
   ]
  },
  {
   "cell_type": "code",
   "execution_count": 63,
   "metadata": {},
   "outputs": [],
   "source": [
    "for page in all_pages_list: \n",
    "    \n",
    "    page = requests.get(page)\n",
    "    soup = BeautifulSoup(page.text, 'html.parser')\n",
    "    \n",
    "    covers = soup.findAll(class_=\"field-content review-product-image\")\n",
    "    covers = [cover.findAll(\"img\") for cover in covers]\n",
    "    \n",
    "    title = [cover[1].get('title') for cover in covers]\n",
    "    title = [t[:-18].replace(\"/\", \"_\") for t in title]\n",
    "    \n",
    "    cover_src = [cover[1].get('src') for cover in covers]\n",
    "    \n",
    "    info = dict(zip(title, cover_src))\n",
    "    \n",
    "    with open('cover_info.txt', 'a') as json_file:\n",
    "      json.dump(info, json_file)\n",
    "    \n",
    "    for k, v in info.items():\n",
    "        if '.jpg?' in v:\n",
    "            continue\n",
    "        elif '.png?' in v: \n",
    "            continue \n",
    "        else:\n",
    "            try:\n",
    "                with open('./lexile/jpeg/' + k + '.jpeg', 'wb') as f:\n",
    "                    f.write(requests.get(v).content)\n",
    "            except FileNotFoundError as err:\n",
    "                with open('lexile/errors.txt', 'a') as f:\n",
    "                    f.write(k)"
   ]
  },
  {
   "cell_type": "markdown",
   "metadata": {},
   "source": []
  },
  {
   "cell_type": "markdown",
   "metadata": {},
   "source": [
    "# To do: \n",
    "- ~~make a list of all individual book pages~~\n",
    "- scrape each page\n",
    "- save the results in their own files\n",
    "- merge jpeg with the covers folder\n",
    "- refactor code"
   ]
  },
  {
   "cell_type": "code",
   "execution_count": null,
   "metadata": {},
   "outputs": [],
   "source": []
  }
 ],
 "metadata": {
  "kernelspec": {
   "display_name": "base",
   "language": "python",
   "name": "base"
  },
  "language_info": {
   "codemirror_mode": {
    "name": "ipython",
    "version": 3
   },
   "file_extension": ".py",
   "mimetype": "text/x-python",
   "name": "python",
   "nbconvert_exporter": "python",
   "pygments_lexer": "ipython3",
   "version": "3.7.4"
  }
 },
 "nbformat": 4,
 "nbformat_minor": 4
}
