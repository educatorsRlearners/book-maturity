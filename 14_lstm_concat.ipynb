{
 "cells": [
  {
   "cell_type": "code",
   "execution_count": 1,
   "metadata": {
    "colab": {
     "base_uri": "https://localhost:8080/",
     "height": 54
    },
    "colab_type": "code",
    "id": "9nn-YIyzJ09Y",
    "outputId": "6b6aa014-3e5f-4079-d7c5-cccef9c9ef56"
   },
   "outputs": [
    {
     "name": "stdout",
     "output_type": "stream",
     "text": [
      "Drive already mounted at /content/drive; to attempt to forcibly remount, call drive.mount(\"/content/drive\", force_remount=True).\n"
     ]
    }
   ],
   "source": [
    "from google.colab import drive\n",
    "drive.mount('/content/drive')"
   ]
  },
  {
   "cell_type": "code",
   "execution_count": null,
   "metadata": {
    "colab": {},
    "colab_type": "code",
    "id": "rhUo7OzGQl4Z"
   },
   "outputs": [],
   "source": [
    "import pandas as pd\n",
    "import numpy as np\n",
    "import tensorflow as tf\n",
    "from math import sqrt\n",
    "\n",
    "\n",
    "from tensorflow.keras.layers import Input, Dense, Embedding, LSTM, Activation, GlobalMaxPooling1D\n",
    "from tensorflow.keras.preprocessing.text import Tokenizer\n",
    "from tensorflow.keras.preprocessing.sequence import pad_sequences\n",
    "\n",
    "from tensorflow.keras.models import Sequential\n",
    "from tensorflow.keras.callbacks import ReduceLROnPlateau, EarlyStopping\n",
    "\n",
    "import matplotlib.pyplot as plt\n",
    "%matplotlib inline\n",
    "\n",
    "from sklearn.model_selection import StratifiedShuffleSplit"
   ]
  },
  {
   "cell_type": "code",
   "execution_count": null,
   "metadata": {
    "colab": {},
    "colab_type": "code",
    "id": "2pNg4ay8JZmg"
   },
   "outputs": [],
   "source": [
    "#Run Local\n",
    "#df = pd.read_csv(\"csv/book_info_complete.csv\")\n",
    "#Run on COLAB\n",
    "df = pd.read_csv(\"/content/drive/My Drive/final_project/book_info_complete.csv\")"
   ]
  },
  {
   "cell_type": "code",
   "execution_count": 4,
   "metadata": {
    "colab": {
     "base_uri": "https://localhost:8080/",
     "height": 301
    },
    "colab_type": "code",
    "id": "5hNMh6xrJZmm",
    "outputId": "e3929fd8-a4d3-48db-b8d8-aa50726ae1fd"
   },
   "outputs": [
    {
     "name": "stdout",
     "output_type": "stream",
     "text": [
      "<class 'pandas.core.frame.DataFrame'>\n",
      "RangeIndex: 5816 entries, 0 to 5815\n",
      "Data columns (total 9 columns):\n",
      " #   Column            Non-Null Count  Dtype \n",
      "---  ------            --------------  ----- \n",
      " 0   title             5816 non-null   object\n",
      " 1   description       5816 non-null   object\n",
      " 2   plot              5816 non-null   object\n",
      " 3   csm_review        5816 non-null   object\n",
      " 4   need_to_know      5816 non-null   object\n",
      " 5   csm_rating        5816 non-null   int64 \n",
      " 6   Genre             5816 non-null   object\n",
      " 7   Book type         5816 non-null   object\n",
      " 8   Publication date  5816 non-null   object\n",
      "dtypes: int64(1), object(8)\n",
      "memory usage: 409.1+ KB\n"
     ]
    }
   ],
   "source": [
    "df = df.dropna(axis=1)\n",
    "df[\"Publication date\"] = df[\"Publication date\"].str[-4:]\n",
    "df = df.drop(\"Last updated\", axis=1)\n",
    "df.info()"
   ]
  },
  {
   "cell_type": "code",
   "execution_count": null,
   "metadata": {
    "colab": {},
    "colab_type": "code",
    "id": "V7b04dMoJZms"
   },
   "outputs": [],
   "source": [
    "df[\"text\"] = df['title'] + \" \" + df['plot'] + \" \" + df[\"description\"] + \" \" + df[\"csm_review\"] + \" \" + df[\"need_to_know\"] + \" \" + df[\"Genre\"] + \" \" + df[\"Book type\"]+ \" \" + df[\"Publication date\"]"
   ]
  },
  {
   "cell_type": "markdown",
   "metadata": {
    "colab_type": "text",
    "id": "a1RnxUyXJZmx"
   },
   "source": [
    "## Create the splits"
   ]
  },
  {
   "cell_type": "code",
   "execution_count": null,
   "metadata": {
    "colab": {},
    "colab_type": "code",
    "id": "M0_-59xOJZmy"
   },
   "outputs": [],
   "source": [
    "def splitter(df):\n",
    "    split = StratifiedShuffleSplit(n_splits=1, test_size=0.2, random_state=999)\n",
    "    for train_index, test_index in split.split(df, df['csm_rating']):\n",
    "        train_data= df.loc[train_index]\n",
    "        test_data = df.loc[test_index]\n",
    "    \n",
    "    \n",
    "    return train_data, test_data"
   ]
  },
  {
   "cell_type": "code",
   "execution_count": null,
   "metadata": {
    "colab": {},
    "colab_type": "code",
    "id": "3wkFIijOJZm4"
   },
   "outputs": [],
   "source": [
    "train_data, test_data = splitter(df)"
   ]
  },
  {
   "cell_type": "code",
   "execution_count": null,
   "metadata": {
    "colab": {},
    "colab_type": "code",
    "id": "YjI0Lfc8JZm9"
   },
   "outputs": [],
   "source": [
    "x_tr, y_tr = train_data['text'].values, train_data[\"csm_rating\"].values\n",
    "x_val, y_val = test_data[\"text\"].values, test_data[\"csm_rating\"].values"
   ]
  },
  {
   "cell_type": "code",
   "execution_count": 9,
   "metadata": {
    "colab": {
     "base_uri": "https://localhost:8080/",
     "height": 34
    },
    "colab_type": "code",
    "id": "64omNypEJZnC",
    "outputId": "d2344a23-48bb-44eb-bb4d-501fcf5b1a05"
   },
   "outputs": [
    {
     "name": "stdout",
     "output_type": "stream",
     "text": [
      "(4652,) (4652,)\n"
     ]
    }
   ],
   "source": [
    "print(x_tr.shape, y_tr.shape)"
   ]
  },
  {
   "cell_type": "code",
   "execution_count": 10,
   "metadata": {
    "colab": {
     "base_uri": "https://localhost:8080/",
     "height": 34
    },
    "colab_type": "code",
    "id": "6SCDNHa2JZnJ",
    "outputId": "474de6d1-8145-4cb7-df17-e4a27b2c6f26"
   },
   "outputs": [
    {
     "name": "stdout",
     "output_type": "stream",
     "text": [
      "(1164,) (1164,)\n"
     ]
    }
   ],
   "source": [
    "print(x_val.shape, y_val.shape)"
   ]
  },
  {
   "cell_type": "markdown",
   "metadata": {
    "colab_type": "text",
    "id": "Z1CH5m22JZnO"
   },
   "source": [
    "## Prepare the Data"
   ]
  },
  {
   "cell_type": "code",
   "execution_count": 11,
   "metadata": {
    "colab": {
     "base_uri": "https://localhost:8080/",
     "height": 52
    },
    "colab_type": "code",
    "id": "liitdrp9JZnP",
    "outputId": "37254626-f72a-4c70-b6f7-36393e5f1d15"
   },
   "outputs": [
    {
     "name": "stdout",
     "output_type": "stream",
     "text": [
      "979\n",
      "117\n"
     ]
    }
   ],
   "source": [
    "#Tokenize the sentences\n",
    "tokenizer = Tokenizer()\n",
    "\n",
    "#preparing vocabulary\n",
    "tokenizer.fit_on_texts(list(x_tr))\n",
    "\n",
    "#converting text into integer sequences\n",
    "x_tr_seq  = tokenizer.texts_to_sequences(x_tr) \n",
    "x_val_seq = tokenizer.texts_to_sequences(x_val)\n",
    "\n",
    "print(len(max(x_tr_seq, key=len)))\n",
    "max_length = len(max(x_tr_seq, key=len))\n",
    "print(len(min(x_tr_seq, key=len)))"
   ]
  },
  {
   "cell_type": "code",
   "execution_count": 12,
   "metadata": {
    "colab": {
     "base_uri": "https://localhost:8080/",
     "height": 52
    },
    "colab_type": "code",
    "id": "nGP4OL9XJZnT",
    "outputId": "a7530b27-f5e2-4c27-d5fe-6c33de0eab2e"
   },
   "outputs": [
    {
     "name": "stdout",
     "output_type": "stream",
     "text": [
      "979\n",
      "979\n"
     ]
    }
   ],
   "source": [
    "#padding to prepare sequences of same length\n",
    "x_tr_seq  = pad_sequences(x_tr_seq, maxlen=max_length)\n",
    "x_val_seq = pad_sequences(x_val_seq, maxlen=max_length)\n",
    "print(len(max(x_tr_seq, key=len)))\n",
    "print(len(min(x_tr_seq, key=len)))"
   ]
  },
  {
   "cell_type": "code",
   "execution_count": 13,
   "metadata": {
    "colab": {
     "base_uri": "https://localhost:8080/",
     "height": 34
    },
    "colab_type": "code",
    "id": "NuoM9u8HJZnZ",
    "outputId": "8dee58d9-2bcb-4ff8-fb60-3481820c0fe7"
   },
   "outputs": [
    {
     "name": "stdout",
     "output_type": "stream",
     "text": [
      "45235\n"
     ]
    }
   ],
   "source": [
    "size_of_vocabulary=len(tokenizer.word_index) + 1 #+1 for padding\n",
    "print(size_of_vocabulary)"
   ]
  },
  {
   "cell_type": "markdown",
   "metadata": {
    "colab_type": "text",
    "id": "ThBDgrP8JZnf"
   },
   "source": [
    "## Create embeddings"
   ]
  },
  {
   "cell_type": "code",
   "execution_count": 14,
   "metadata": {
    "colab": {
     "base_uri": "https://localhost:8080/",
     "height": 34
    },
    "colab_type": "code",
    "id": "VdR43fJQJZng",
    "outputId": "6f6c02a0-b051-46c4-e14a-9ece3cb87862"
   },
   "outputs": [
    {
     "name": "stdout",
     "output_type": "stream",
     "text": [
      "Found 45234 unique tokens.\n"
     ]
    }
   ],
   "source": [
    "word_index = tokenizer.word_index\n",
    "print(\"Found %s unique tokens.\" % len(word_index))"
   ]
  },
  {
   "cell_type": "markdown",
   "metadata": {
    "colab_type": "text",
    "id": "uF9AT0LdJZnl"
   },
   "source": [
    "## Create the Model"
   ]
  },
  {
   "cell_type": "code",
   "execution_count": 15,
   "metadata": {
    "colab": {
     "base_uri": "https://localhost:8080/",
     "height": 354
    },
    "colab_type": "code",
    "id": "aUdRk0UDJZnl",
    "outputId": "fb682e4e-edd6-4b38-fd74-0aab724ae960"
   },
   "outputs": [
    {
     "name": "stdout",
     "output_type": "stream",
     "text": [
      "Model: \"sequential\"\n",
      "_________________________________________________________________\n",
      "Layer (type)                 Output Shape              Param #   \n",
      "=================================================================\n",
      "embedding (Embedding)        (None, 979, 300)          13570500  \n",
      "_________________________________________________________________\n",
      "lstm (LSTM)                  (None, 979, 128)          219648    \n",
      "_________________________________________________________________\n",
      "global_max_pooling1d (Global (None, 128)               0         \n",
      "_________________________________________________________________\n",
      "dense (Dense)                (None, 64)                8256      \n",
      "_________________________________________________________________\n",
      "dense_1 (Dense)              (None, 1)                 65        \n",
      "=================================================================\n",
      "Total params: 13,798,469\n",
      "Trainable params: 13,798,469\n",
      "Non-trainable params: 0\n",
      "_________________________________________________________________\n",
      "None\n"
     ]
    }
   ],
   "source": [
    "model=Sequential()\n",
    "\n",
    "#embedding layer\n",
    "model.add(Embedding(size_of_vocabulary,300,input_length=max_length,trainable=True)) \n",
    "\n",
    "#lstm layer\n",
    "model.add(LSTM(128,return_sequences=True,dropout=0.2))\n",
    "\n",
    "#Global Maxpooling\n",
    "model.add(GlobalMaxPooling1D())\n",
    "\n",
    "#Dense Layer\n",
    "model.add(Dense(64,activation='relu')) \n",
    "model.add(Dense(1,activation='relu')) \n",
    "\n",
    "model.compile(optimizer=\"RMSprop\", loss='mean_squared_error', metrics=[\"mae\"]) \n",
    "\n",
    "#Print summary of model\n",
    "print(model.summary())"
   ]
  },
  {
   "cell_type": "markdown",
   "metadata": {
    "colab_type": "text",
    "id": "hKZo_lzaJZnr"
   },
   "source": [
    "## Callbacks"
   ]
  },
  {
   "cell_type": "code",
   "execution_count": null,
   "metadata": {
    "colab": {},
    "colab_type": "code",
    "id": "Kl98dyhkJZns"
   },
   "outputs": [],
   "source": [
    "earlystop = EarlyStopping(patience=10)\n",
    "learning_rate_reduction = ReduceLROnPlateau(monitor='val_mae', \n",
    "                                            patience=2, \n",
    "                                            verbose=1, \n",
    "                                            factor=0.5, \n",
    "                                            min_lr=0.00001)\n",
    "\n",
    "callbacks = [earlystop, learning_rate_reduction]"
   ]
  },
  {
   "cell_type": "markdown",
   "metadata": {
    "colab_type": "text",
    "id": "op3MuPCKJZnx"
   },
   "source": [
    "## Fit the Model"
   ]
  },
  {
   "cell_type": "code",
   "execution_count": 17,
   "metadata": {
    "colab": {
     "base_uri": "https://localhost:8080/",
     "height": 961
    },
    "colab_type": "code",
    "id": "_I34WFwPJZny",
    "outputId": "09157892-f993-4cd8-8382-d90c0dce1387"
   },
   "outputs": [
    {
     "name": "stdout",
     "output_type": "stream",
     "text": [
      "Epoch 1/1000\n",
      "37/37 [==============================] - 9s 241ms/step - loss: 22.3452 - mae: 3.8764 - val_loss: 14.8064 - val_mae: 3.2526 - lr: 0.0010\n",
      "Epoch 2/1000\n",
      "37/37 [==============================] - 8s 225ms/step - loss: 13.7956 - mae: 3.1450 - val_loss: 11.9354 - val_mae: 2.9058 - lr: 0.0010\n",
      "Epoch 3/1000\n",
      "37/37 [==============================] - 8s 223ms/step - loss: 9.5904 - mae: 2.6124 - val_loss: 9.3547 - val_mae: 2.3912 - lr: 0.0010\n",
      "Epoch 4/1000\n",
      "37/37 [==============================] - 8s 223ms/step - loss: 6.0659 - mae: 2.0060 - val_loss: 6.1538 - val_mae: 1.7970 - lr: 0.0010\n",
      "Epoch 5/1000\n",
      "37/37 [==============================] - 8s 225ms/step - loss: 4.4369 - mae: 1.6154 - val_loss: 4.4430 - val_mae: 1.5531 - lr: 0.0010\n",
      "Epoch 6/1000\n",
      "37/37 [==============================] - 8s 225ms/step - loss: 3.5309 - mae: 1.4366 - val_loss: 3.6579 - val_mae: 1.4254 - lr: 0.0010\n",
      "Epoch 7/1000\n",
      "37/37 [==============================] - 8s 226ms/step - loss: 2.6832 - mae: 1.2500 - val_loss: 3.7426 - val_mae: 1.4882 - lr: 0.0010\n",
      "Epoch 8/1000\n",
      "37/37 [==============================] - ETA: 0s - loss: 2.2992 - mae: 1.1645\n",
      "Epoch 00008: ReduceLROnPlateau reducing learning rate to 0.0005000000237487257.\n",
      "37/37 [==============================] - 8s 224ms/step - loss: 2.2992 - mae: 1.1645 - val_loss: 4.2020 - val_mae: 1.5354 - lr: 0.0010\n",
      "Epoch 9/1000\n",
      "37/37 [==============================] - 8s 223ms/step - loss: 1.5141 - mae: 0.9270 - val_loss: 3.3952 - val_mae: 1.3770 - lr: 5.0000e-04\n",
      "Epoch 10/1000\n",
      "37/37 [==============================] - 8s 224ms/step - loss: 1.3755 - mae: 0.8874 - val_loss: 3.5139 - val_mae: 1.4101 - lr: 5.0000e-04\n",
      "Epoch 11/1000\n",
      "37/37 [==============================] - 8s 224ms/step - loss: 1.1578 - mae: 0.8104 - val_loss: 3.3887 - val_mae: 1.3532 - lr: 5.0000e-04\n",
      "Epoch 12/1000\n",
      "37/37 [==============================] - 8s 224ms/step - loss: 0.9851 - mae: 0.7462 - val_loss: 3.4476 - val_mae: 1.3817 - lr: 5.0000e-04\n",
      "Epoch 13/1000\n",
      "37/37 [==============================] - 8s 224ms/step - loss: 0.8990 - mae: 0.7087 - val_loss: 3.4394 - val_mae: 1.3453 - lr: 5.0000e-04\n",
      "Epoch 14/1000\n",
      "37/37 [==============================] - 8s 225ms/step - loss: 0.8305 - mae: 0.6869 - val_loss: 3.4471 - val_mae: 1.3808 - lr: 5.0000e-04\n",
      "Epoch 15/1000\n",
      "37/37 [==============================] - ETA: 0s - loss: 0.7095 - mae: 0.6282\n",
      "Epoch 00015: ReduceLROnPlateau reducing learning rate to 0.0002500000118743628.\n",
      "37/37 [==============================] - 8s 225ms/step - loss: 0.7095 - mae: 0.6282 - val_loss: 3.4585 - val_mae: 1.3575 - lr: 5.0000e-04\n",
      "Epoch 16/1000\n",
      "37/37 [==============================] - 8s 225ms/step - loss: 0.4907 - mae: 0.5079 - val_loss: 3.5152 - val_mae: 1.3634 - lr: 2.5000e-04\n",
      "Epoch 17/1000\n",
      "37/37 [==============================] - ETA: 0s - loss: 0.4540 - mae: 0.4780\n",
      "Epoch 00017: ReduceLROnPlateau reducing learning rate to 0.0001250000059371814.\n",
      "37/37 [==============================] - 8s 222ms/step - loss: 0.4540 - mae: 0.4780 - val_loss: 3.5271 - val_mae: 1.3676 - lr: 2.5000e-04\n",
      "Epoch 18/1000\n",
      "37/37 [==============================] - 8s 224ms/step - loss: 0.3573 - mae: 0.4162 - val_loss: 3.4911 - val_mae: 1.3712 - lr: 1.2500e-04\n",
      "Epoch 19/1000\n",
      "37/37 [==============================] - ETA: 0s - loss: 0.3311 - mae: 0.3998\n",
      "Epoch 00019: ReduceLROnPlateau reducing learning rate to 6.25000029685907e-05.\n",
      "37/37 [==============================] - 8s 225ms/step - loss: 0.3311 - mae: 0.3998 - val_loss: 3.4779 - val_mae: 1.3738 - lr: 1.2500e-04\n",
      "Epoch 20/1000\n",
      "37/37 [==============================] - 8s 224ms/step - loss: 0.2950 - mae: 0.3660 - val_loss: 3.4929 - val_mae: 1.3764 - lr: 6.2500e-05\n",
      "Epoch 21/1000\n",
      "37/37 [==============================] - ETA: 0s - loss: 0.2854 - mae: 0.3599\n",
      "Epoch 00021: ReduceLROnPlateau reducing learning rate to 3.125000148429535e-05.\n",
      "37/37 [==============================] - 8s 225ms/step - loss: 0.2854 - mae: 0.3599 - val_loss: 3.5019 - val_mae: 1.3812 - lr: 6.2500e-05\n"
     ]
    }
   ],
   "source": [
    "history = model.fit(np.array(x_tr_seq),\n",
    "                    np.array(y_tr),\n",
    "                    batch_size=128,\n",
    "                    epochs=1000,\n",
    "                    validation_data=(np.array(x_val_seq),np.array(y_val)),\n",
    "                    verbose=1,\n",
    "                    callbacks=callbacks)"
   ]
  },
  {
   "cell_type": "code",
   "execution_count": 18,
   "metadata": {
    "colab": {
     "base_uri": "https://localhost:8080/",
     "height": 52
    },
    "colab_type": "code",
    "id": "ojMu-A3wJZn4",
    "outputId": "7e542430-be09-4e77-f032-8b3a50910ee1"
   },
   "outputs": [
    {
     "name": "stdout",
     "output_type": "stream",
     "text": [
      "37/37 [==============================] - 1s 29ms/step - loss: 3.2136 - mae: 1.3812\n",
      "The val_mae is 1.381.\n"
     ]
    }
   ],
   "source": [
    "#evaluation \n",
    "val_loss, val_mae = model.evaluate(x_val_seq, y_val)\n",
    "\n",
    "print(\"The val_mae is %.3f.\" % val_mae)"
   ]
  },
  {
   "cell_type": "code",
   "execution_count": 19,
   "metadata": {
    "colab": {
     "base_uri": "https://localhost:8080/",
     "height": 107
    },
    "colab_type": "code",
    "id": "gl3QL2BaU9XQ",
    "outputId": "5a965c20-3aba-4e8c-cab3-3576e6a9daf7"
   },
   "outputs": [
    {
     "name": "stdout",
     "output_type": "stream",
     "text": [
      "WARNING:tensorflow:From /usr/local/lib/python3.6/dist-packages/tensorflow/python/ops/resource_variable_ops.py:1817: calling BaseResourceVariable.__init__ (from tensorflow.python.ops.resource_variable_ops) with constraint is deprecated and will be removed in a future version.\n",
      "Instructions for updating:\n",
      "If using Keras pass *_constraint arguments to layers.\n",
      "INFO:tensorflow:Assets written to: /content/drive/My Drive/final_project/lstm_concat_model/assets\n"
     ]
    }
   ],
   "source": [
    "model.save('/content/drive/My Drive/final_project/lstm_concat_model') "
   ]
  },
  {
   "cell_type": "code",
   "execution_count": 41,
   "metadata": {
    "colab": {
     "base_uri": "https://localhost:8080/",
     "height": 521
    },
    "colab_type": "code",
    "id": "QX82za-8JZn_",
    "outputId": "ad1f81ec-858e-4da7-c223-24baa5012001"
   },
   "outputs": [
    {
     "data": {
      "image/png": "[encoded data removed]",
      "text/plain": [
       "<Figure size 432x288 with 1 Axes>"
      ]
     },
     "metadata": {
      "tags": []
     },
     "output_type": "display_data"
    },
    {
     "data": {
      "image/png": "[encoded data removed]",
      "text/plain": [
       "<Figure size 432x288 with 1 Axes>"
      ]
     },
     "metadata": {
      "tags": []
     },
     "output_type": "display_data"
    }
   ],
   "source": [
    "plt.plot(history.history[\"loss\"], label=\"loss\");\n",
    "plt.plot(history.history[\"val_loss\"], label=\"val_loss\");\n",
    "plt.ylim(0, 25)\n",
    "plt.legend();\n",
    "plt.savefig(\"lstm_custom_loss\")\n",
    "plt.show();\n",
    "plt.close();\n",
    "\n",
    "plt.plot(history.history[\"mae\"], label=\"mae\");\n",
    "plt.plot(history.history[\"val_mae\"], label=\"val_mae\");\n",
    "plt.ylim(0,4)\n",
    "plt.legend();\n",
    "plt.savefig(\"lstm_custom_mae\")"
   ]
  },
  {
   "cell_type": "markdown",
   "metadata": {
    "colab_type": "text",
    "id": "QSOY8AH2JZoF"
   },
   "source": [
    "## [Use Transfer Learning](https://www.analyticsvidhya.com/blog/2020/03/pretrained-word-embeddings-nlp/)"
   ]
  },
  {
   "cell_type": "code",
   "execution_count": 21,
   "metadata": {
    "colab": {
     "base_uri": "https://localhost:8080/",
     "height": 34
    },
    "colab_type": "code",
    "id": "GdKeDrv9JZoG",
    "outputId": "131ebab6-bc52-4ee6-b499-a40e0865e6e5"
   },
   "outputs": [
    {
     "name": "stdout",
     "output_type": "stream",
     "text": [
      "Loaded 400000 word vectors.\n"
     ]
    }
   ],
   "source": [
    "# load the whole embedding into memory\n",
    "embeddings_index = dict()\n",
    "\n",
    "with open(\"/content/drive/My Drive/Colab Notebooks/glove.6B/glove.6B.300d.txt\") as f:\n",
    "\n",
    "    for line in f:\n",
    "        values = line.split()\n",
    "        word = values[0]\n",
    "        coefs = np.asarray(values[1:], dtype='float32')\n",
    "        embeddings_index[word] = coefs\n",
    "\n",
    "print('Loaded %s word vectors.' % len(embeddings_index))"
   ]
  },
  {
   "cell_type": "code",
   "execution_count": null,
   "metadata": {
    "colab": {},
    "colab_type": "code",
    "id": "dJqtmI0pJZoL"
   },
   "outputs": [],
   "source": [
    "# create a weight matrix for words in training docs\n",
    "embedding_matrix = np.zeros((size_of_vocabulary, 300))\n",
    "\n",
    "for word, i in tokenizer.word_index.items():\n",
    "    embedding_vector = embeddings_index.get(word)\n",
    "    if embedding_vector is not None:\n",
    "        embedding_matrix[i] = embedding_vector"
   ]
  },
  {
   "cell_type": "code",
   "execution_count": 23,
   "metadata": {
    "colab": {
     "base_uri": "https://localhost:8080/",
     "height": 354
    },
    "colab_type": "code",
    "id": "NGM-hGE4JZoQ",
    "outputId": "116dc794-e1f7-4b80-e881-c1455056a6ba"
   },
   "outputs": [
    {
     "name": "stdout",
     "output_type": "stream",
     "text": [
      "Model: \"sequential_1\"\n",
      "_________________________________________________________________\n",
      "Layer (type)                 Output Shape              Param #   \n",
      "=================================================================\n",
      "embedding_1 (Embedding)      (None, 979, 300)          13570500  \n",
      "_________________________________________________________________\n",
      "lstm_1 (LSTM)                (None, 979, 128)          219648    \n",
      "_________________________________________________________________\n",
      "global_max_pooling1d_1 (Glob (None, 128)               0         \n",
      "_________________________________________________________________\n",
      "dense_2 (Dense)              (None, 64)                8256      \n",
      "_________________________________________________________________\n",
      "dense_3 (Dense)              (None, 1)                 65        \n",
      "=================================================================\n",
      "Total params: 13,798,469\n",
      "Trainable params: 227,969\n",
      "Non-trainable params: 13,570,500\n",
      "_________________________________________________________________\n",
      "None\n"
     ]
    }
   ],
   "source": [
    "model2=Sequential()\n",
    "\n",
    "#embedding layer\n",
    "model2.add(Embedding(size_of_vocabulary,\n",
    "                    300,\n",
    "                    weights=[embedding_matrix],\n",
    "                    input_length=max_length,\n",
    "                    trainable=False)) \n",
    "\n",
    "#lstm layer\n",
    "model2.add(LSTM(128,return_sequences=True,dropout=0.2))\n",
    "\n",
    "#Global Maxpooling\n",
    "model2.add(GlobalMaxPooling1D())\n",
    "\n",
    "#Dense Layer\n",
    "model2.add(Dense(64,activation='relu')) \n",
    "model2.add(Dense(1,activation='relu')) \n",
    "\n",
    "model2.compile(optimizer=\"RMSprop\", loss='mean_squared_error', metrics=[\"mae\"]) \n",
    "\n",
    "#Print summary of model\n",
    "print(model2.summary())"
   ]
  },
  {
   "cell_type": "code",
   "execution_count": 25,
   "metadata": {
    "colab": {
     "base_uri": "https://localhost:8080/",
     "height": 1000
    },
    "colab_type": "code",
    "id": "o4IlOKDvJZoU",
    "outputId": "4838040f-f71b-4cd6-d285-26a74da53518"
   },
   "outputs": [
    {
     "name": "stdout",
     "output_type": "stream",
     "text": [
      "Epoch 1/1000\n",
      "37/37 [==============================] - 5s 146ms/step - loss: 20.7488 - mae: 3.6938 - val_loss: 10.6513 - val_mae: 2.7677 - lr: 0.0010\n",
      "Epoch 2/1000\n",
      "37/37 [==============================] - 5s 132ms/step - loss: 7.3238 - mae: 2.2358 - val_loss: 3.6052 - val_mae: 1.4452 - lr: 0.0010\n",
      "Epoch 3/1000\n",
      "37/37 [==============================] - 5s 133ms/step - loss: 3.7520 - mae: 1.5353 - val_loss: 3.1955 - val_mae: 1.3759 - lr: 0.0010\n",
      "Epoch 4/1000\n",
      "37/37 [==============================] - 5s 133ms/step - loss: 3.2194 - mae: 1.3957 - val_loss: 3.0244 - val_mae: 1.3383 - lr: 0.0010\n",
      "Epoch 5/1000\n",
      "37/37 [==============================] - 5s 132ms/step - loss: 2.6532 - mae: 1.2932 - val_loss: 3.4264 - val_mae: 1.4354 - lr: 0.0010\n",
      "Epoch 6/1000\n",
      "37/37 [==============================] - 5s 131ms/step - loss: 2.4888 - mae: 1.2378 - val_loss: 2.4466 - val_mae: 1.1900 - lr: 0.0010\n",
      "Epoch 7/1000\n",
      "37/37 [==============================] - 5s 132ms/step - loss: 2.2813 - mae: 1.1893 - val_loss: 2.2932 - val_mae: 1.1441 - lr: 0.0010\n",
      "Epoch 8/1000\n",
      "37/37 [==============================] - 5s 132ms/step - loss: 2.1760 - mae: 1.1532 - val_loss: 3.0218 - val_mae: 1.3591 - lr: 0.0010\n",
      "Epoch 9/1000\n",
      "37/37 [==============================] - 5s 131ms/step - loss: 1.9431 - mae: 1.0891 - val_loss: 2.2461 - val_mae: 1.1334 - lr: 0.0010\n",
      "Epoch 10/1000\n",
      "37/37 [==============================] - 5s 132ms/step - loss: 1.9189 - mae: 1.0999 - val_loss: 2.0444 - val_mae: 1.0879 - lr: 0.0010\n",
      "Epoch 11/1000\n",
      "37/37 [==============================] - 5s 131ms/step - loss: 1.7703 - mae: 1.0465 - val_loss: 2.1659 - val_mae: 1.1269 - lr: 0.0010\n",
      "Epoch 12/1000\n",
      "37/37 [==============================] - ETA: 0s - loss: 1.6778 - mae: 1.0164\n",
      "Epoch 00012: ReduceLROnPlateau reducing learning rate to 0.0005000000237487257.\n",
      "37/37 [==============================] - 5s 131ms/step - loss: 1.6778 - mae: 1.0164 - val_loss: 2.4442 - val_mae: 1.1845 - lr: 0.0010\n",
      "Epoch 13/1000\n",
      "37/37 [==============================] - 5s 132ms/step - loss: 1.3482 - mae: 0.9079 - val_loss: 2.1803 - val_mae: 1.1133 - lr: 5.0000e-04\n",
      "Epoch 14/1000\n",
      "37/37 [==============================] - 5s 131ms/step - loss: 1.2787 - mae: 0.8838 - val_loss: 1.9733 - val_mae: 1.0771 - lr: 5.0000e-04\n",
      "Epoch 15/1000\n",
      "37/37 [==============================] - 5s 132ms/step - loss: 1.2097 - mae: 0.8622 - val_loss: 2.1999 - val_mae: 1.1148 - lr: 5.0000e-04\n",
      "Epoch 16/1000\n",
      "37/37 [==============================] - 5s 132ms/step - loss: 1.1860 - mae: 0.8532 - val_loss: 1.9240 - val_mae: 1.0538 - lr: 5.0000e-04\n",
      "Epoch 17/1000\n",
      "37/37 [==============================] - 5s 132ms/step - loss: 1.0956 - mae: 0.8211 - val_loss: 1.8833 - val_mae: 1.0503 - lr: 5.0000e-04\n",
      "Epoch 18/1000\n",
      "37/37 [==============================] - 5s 132ms/step - loss: 1.0674 - mae: 0.8029 - val_loss: 2.0720 - val_mae: 1.0884 - lr: 5.0000e-04\n",
      "Epoch 19/1000\n",
      "37/37 [==============================] - ETA: 0s - loss: 1.0081 - mae: 0.7884\n",
      "Epoch 00019: ReduceLROnPlateau reducing learning rate to 0.0002500000118743628.\n",
      "37/37 [==============================] - 5s 132ms/step - loss: 1.0081 - mae: 0.7884 - val_loss: 1.9470 - val_mae: 1.0647 - lr: 5.0000e-04\n",
      "Epoch 20/1000\n",
      "37/37 [==============================] - 5s 131ms/step - loss: 0.8824 - mae: 0.7341 - val_loss: 1.8752 - val_mae: 1.0433 - lr: 2.5000e-04\n",
      "Epoch 21/1000\n",
      "37/37 [==============================] - 5s 132ms/step - loss: 0.8558 - mae: 0.7198 - val_loss: 1.9465 - val_mae: 1.0550 - lr: 2.5000e-04\n",
      "Epoch 22/1000\n",
      "37/37 [==============================] - 5s 131ms/step - loss: 0.8126 - mae: 0.7037 - val_loss: 1.8606 - val_mae: 1.0403 - lr: 2.5000e-04\n",
      "Epoch 23/1000\n",
      "37/37 [==============================] - 5s 131ms/step - loss: 0.7882 - mae: 0.6940 - val_loss: 1.9643 - val_mae: 1.0629 - lr: 2.5000e-04\n",
      "Epoch 24/1000\n",
      "37/37 [==============================] - ETA: 0s - loss: 0.7587 - mae: 0.6826\n",
      "Epoch 00024: ReduceLROnPlateau reducing learning rate to 0.0001250000059371814.\n",
      "37/37 [==============================] - 5s 131ms/step - loss: 0.7587 - mae: 0.6826 - val_loss: 1.8841 - val_mae: 1.0467 - lr: 2.5000e-04\n",
      "Epoch 25/1000\n",
      "37/37 [==============================] - 5s 131ms/step - loss: 0.7107 - mae: 0.6563 - val_loss: 1.8509 - val_mae: 1.0443 - lr: 1.2500e-04\n",
      "Epoch 26/1000\n",
      "37/37 [==============================] - 5s 131ms/step - loss: 0.6984 - mae: 0.6553 - val_loss: 1.8494 - val_mae: 1.0393 - lr: 1.2500e-04\n",
      "Epoch 27/1000\n",
      "37/37 [==============================] - 5s 132ms/step - loss: 0.6726 - mae: 0.6400 - val_loss: 1.9073 - val_mae: 1.0508 - lr: 1.2500e-04\n",
      "Epoch 28/1000\n",
      "37/37 [==============================] - ETA: 0s - loss: 0.6605 - mae: 0.6385\n",
      "Epoch 00028: ReduceLROnPlateau reducing learning rate to 6.25000029685907e-05.\n",
      "37/37 [==============================] - 5s 132ms/step - loss: 0.6605 - mae: 0.6385 - val_loss: 1.8587 - val_mae: 1.0421 - lr: 1.2500e-04\n",
      "Epoch 29/1000\n",
      "37/37 [==============================] - 5s 132ms/step - loss: 0.6532 - mae: 0.6331 - val_loss: 1.8963 - val_mae: 1.0497 - lr: 6.2500e-05\n",
      "Epoch 30/1000\n",
      "37/37 [==============================] - ETA: 0s - loss: 0.6238 - mae: 0.6193\n",
      "Epoch 00030: ReduceLROnPlateau reducing learning rate to 3.125000148429535e-05.\n",
      "37/37 [==============================] - 5s 132ms/step - loss: 0.6238 - mae: 0.6193 - val_loss: 1.8828 - val_mae: 1.0458 - lr: 6.2500e-05\n",
      "Epoch 31/1000\n",
      "37/37 [==============================] - 5s 131ms/step - loss: 0.6165 - mae: 0.6125 - val_loss: 1.8763 - val_mae: 1.0447 - lr: 3.1250e-05\n",
      "Epoch 32/1000\n",
      "37/37 [==============================] - ETA: 0s - loss: 0.6219 - mae: 0.6160\n",
      "Epoch 00032: ReduceLROnPlateau reducing learning rate to 1.5625000742147677e-05.\n",
      "37/37 [==============================] - 5s 132ms/step - loss: 0.6219 - mae: 0.6160 - val_loss: 1.8811 - val_mae: 1.0451 - lr: 3.1250e-05\n",
      "Epoch 33/1000\n",
      "37/37 [==============================] - 5s 132ms/step - loss: 0.6102 - mae: 0.6122 - val_loss: 1.8522 - val_mae: 1.0424 - lr: 1.5625e-05\n",
      "Epoch 34/1000\n",
      "37/37 [==============================] - ETA: 0s - loss: 0.6004 - mae: 0.6101\n",
      "Epoch 00034: ReduceLROnPlateau reducing learning rate to 1e-05.\n",
      "37/37 [==============================] - 5s 132ms/step - loss: 0.6004 - mae: 0.6101 - val_loss: 1.8697 - val_mae: 1.0443 - lr: 1.5625e-05\n",
      "Epoch 35/1000\n",
      "37/37 [==============================] - 5s 131ms/step - loss: 0.6045 - mae: 0.6085 - val_loss: 1.8642 - val_mae: 1.0437 - lr: 1.0000e-05\n",
      "Epoch 36/1000\n",
      "37/37 [==============================] - 5s 132ms/step - loss: 0.6008 - mae: 0.6071 - val_loss: 1.8678 - val_mae: 1.0443 - lr: 1.0000e-05\n"
     ]
    }
   ],
   "source": [
    "history2 = model2.fit(np.array(x_tr_seq),\n",
    "                    np.array(y_tr),\n",
    "                    batch_size=128,\n",
    "                    epochs=1000,\n",
    "                    validation_data=(np.array(x_val_seq),np.array(y_val)),\n",
    "                    verbose=1,\n",
    "                    callbacks=callbacks)"
   ]
  },
  {
   "cell_type": "code",
   "execution_count": 26,
   "metadata": {
    "colab": {
     "base_uri": "https://localhost:8080/",
     "height": 52
    },
    "colab_type": "code",
    "id": "88gF08odJZoY",
    "outputId": "c531887b-5f94-489a-e15b-b1beae2cf374"
   },
   "outputs": [
    {
     "name": "stdout",
     "output_type": "stream",
     "text": [
      "37/37 [==============================] - 1s 27ms/step - loss: 1.7923 - mae: 1.0443\n",
      "The val_mae is 1.044.\n"
     ]
    }
   ],
   "source": [
    "#evaluation \n",
    "_, val_mae = model2.evaluate(x_val_seq, y_val)\n",
    "\n",
    "print(\"The val_mae is %.3f.\" % val_mae)"
   ]
  },
  {
   "cell_type": "code",
   "execution_count": 27,
   "metadata": {
    "colab": {
     "base_uri": "https://localhost:8080/",
     "height": 34
    },
    "colab_type": "code",
    "id": "xmPRr1m6bUFI",
    "outputId": "4027468b-77e6-48a9-8bf7-b1cfe4efb664"
   },
   "outputs": [
    {
     "name": "stdout",
     "output_type": "stream",
     "text": [
      "INFO:tensorflow:Assets written to: /content/drive/My Drive/final_project/lstm_concat_transfer_model/assets\n"
     ]
    }
   ],
   "source": [
    "model.save('/content/drive/My Drive/final_project/lstm_concat_transfer_model') "
   ]
  },
  {
   "cell_type": "code",
   "execution_count": 40,
   "metadata": {
    "colab": {
     "base_uri": "https://localhost:8080/",
     "height": 521
    },
    "colab_type": "code",
    "id": "FY3cjzn3JZoe",
    "outputId": "5ecee93a-b6db-4213-a7ee-cbfa8f365d9a"
   },
   "outputs": [
    {
     "data": {
      "image/png": "[encoded data removed]",
      "text/plain": [
       "<Figure size 432x288 with 1 Axes>"
      ]
     },
     "metadata": {
      "tags": []
     },
     "output_type": "display_data"
    },
    {
     "data": {
      "image/png": "[encoded data removed]",
      "text/plain": [
       "<Figure size 432x288 with 1 Axes>"
      ]
     },
     "metadata": {
      "tags": []
     },
     "output_type": "display_data"
    }
   ],
   "source": [
    "plt.plot(history2.history[\"loss\"], label=\"loss\");\n",
    "plt.plot(history2.history[\"val_loss\"], label=\"val_loss\");\n",
    "plt.ylim(0,25)\n",
    "plt.legend();\n",
    "plt.savefig(\"lstm_pretrained_loss\")\n",
    "plt.show();\n",
    "plt.close();\n",
    "\n",
    "plt.plot(history2.history[\"mae\"], label=\"mae\");\n",
    "plt.plot(history2.history[\"val_mae\"], label=\"val_mae\");\n",
    "plt.ylim(0, 4)\n",
    "plt.legend();\n",
    "plt.savefig(\"lstm_pretrained_mae\")"
   ]
  },
  {
   "cell_type": "code",
   "execution_count": null,
   "metadata": {
    "colab": {},
    "colab_type": "code",
    "id": "KJ8CiHmPtftz"
   },
   "outputs": [],
   "source": [
    "a = model.predict(x_val_seq)\n",
    "b = model2.predict(x_val_seq)\n",
    "#a = min_max_scaler_target.inverse_transform(a)\n",
    "#b = min_max_scaler_target.inverse_transform(b)\n",
    "\n",
    "csm_lstm_predictions_df = pd.DataFrame({\"concat_custom\": list(a), \"concat_transfer\": list(b)},\n",
    "                              columns = [\"concat_custom\", \"concat_transfer\"], \n",
    "                              index=test_data.index)\n",
    "\n",
    "csm_lstm_predictions_df.to_csv('/content/drive/My Drive/final_project/lstm_concat.csv', index=\"False\")\n"
   ]
  },
  {
   "cell_type": "code",
   "execution_count": null,
   "metadata": {
    "colab": {},
    "colab_type": "code",
    "id": "T1vMqXpnF0ZL"
   },
   "outputs": [],
   "source": []
  }
 ],
 "metadata": {
  "accelerator": "GPU",
  "colab": {
   "collapsed_sections": [],
   "name": "10_lstm_concat.ipynb",
   "provenance": [],
   "toc_visible": true
  },
  "kernelspec": {
   "display_name": "Python 3",
   "language": "python",
   "name": "python3"
  },
  "language_info": {
   "codemirror_mode": {
    "name": "ipython",
    "version": 3
   },
   "file_extension": ".py",
   "mimetype": "text/x-python",
   "name": "python",
   "nbconvert_exporter": "python",
   "pygments_lexer": "ipython3",
   "version": "3.7.4"
  }
 },
 "nbformat": 4,
 "nbformat_minor": 4
}
