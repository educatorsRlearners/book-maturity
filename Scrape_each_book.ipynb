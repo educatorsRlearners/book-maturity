{
 "cells": [
  {
   "cell_type": "code",
   "execution_count": 1,
   "metadata": {},
   "outputs": [],
   "source": [
    "import glob\n",
    "from bs4 import BeautifulSoup\n",
    "import requests\n",
    "import string\n",
    "import pandas as pd\n",
    "import requests\n",
    "import os"
   ]
  },
  {
   "cell_type": "code",
   "execution_count": 2,
   "metadata": {},
   "outputs": [],
   "source": [
    "path = \"lexile/raw/lists/\"\n",
    "files = [f for f in glob.glob(path + \"*.html\", recursive=True)]\n",
    "base_url = 'https://www.commonsensemedia.org/book-reviews'"
   ]
  },
  {
   "cell_type": "code",
   "execution_count": 3,
   "metadata": {},
   "outputs": [],
   "source": [
    "def get_titles(soup):\n",
    "    for s in soup.findAll(class_=\"views-field views-field-field-reference-review-ent-prod result-title\"):\n",
    "        titles.append(s.get_text().strip())\n",
    "    return titles"
   ]
  },
  {
   "cell_type": "code",
   "execution_count": 4,
   "metadata": {},
   "outputs": [],
   "source": [
    "def edit_titles(titles):\n",
    "    stripper = str.maketrans(\"\", \"\", string.punctuation)\n",
    "    titles_edited = [t.translate(stripper).replace(\" \", \"-\").lower() for t in titles]\n",
    "    return titles_edited"
   ]
  },
  {
   "cell_type": "code",
   "execution_count": 5,
   "metadata": {},
   "outputs": [],
   "source": [
    "def make_urls(title_edited):\n",
    "    urls = [base_url + \"/\" + t for t in title_edited]\n",
    "    return urls"
   ]
  },
  {
   "cell_type": "code",
   "execution_count": 6,
   "metadata": {},
   "outputs": [],
   "source": [
    "titles = []\n",
    "\n",
    "for file in files:\n",
    "    with open(file, 'r') as f: \n",
    "        soup = BeautifulSoup(f.read(), 'html.parser')\n",
    "        get_titles(soup)\n",
    "        \n",
    "titles_edited = edit_titles(titles)\n",
    "\n",
    "urls = make_urls(titles_edited)"
   ]
  },
  {
   "cell_type": "code",
   "execution_count": 7,
   "metadata": {},
   "outputs": [
    {
     "data": {
      "text/html": [
       "<div>\n",
       "<style scoped>\n",
       "    .dataframe tbody tr th:only-of-type {\n",
       "        vertical-align: middle;\n",
       "    }\n",
       "\n",
       "    .dataframe tbody tr th {\n",
       "        vertical-align: top;\n",
       "    }\n",
       "\n",
       "    .dataframe thead th {\n",
       "        text-align: right;\n",
       "    }\n",
       "</style>\n",
       "<table border=\"1\" class=\"dataframe\">\n",
       "  <thead>\n",
       "    <tr style=\"text-align: right;\">\n",
       "      <th></th>\n",
       "      <th>title</th>\n",
       "      <th>title_edited</th>\n",
       "      <th>url</th>\n",
       "    </tr>\n",
       "  </thead>\n",
       "  <tbody>\n",
       "    <tr>\n",
       "      <td>0</td>\n",
       "      <td>Joshua Dread</td>\n",
       "      <td>joshua-dread</td>\n",
       "      <td>https://www.commonsensemedia.org/book-reviews/...</td>\n",
       "    </tr>\n",
       "    <tr>\n",
       "      <td>1</td>\n",
       "      <td>Abe Lincoln's Dream</td>\n",
       "      <td>abe-lincolns-dream</td>\n",
       "      <td>https://www.commonsensemedia.org/book-reviews/...</td>\n",
       "    </tr>\n",
       "    <tr>\n",
       "      <td>2</td>\n",
       "      <td>Teeth</td>\n",
       "      <td>teeth</td>\n",
       "      <td>https://www.commonsensemedia.org/book-reviews/...</td>\n",
       "    </tr>\n",
       "    <tr>\n",
       "      <td>3</td>\n",
       "      <td>Nancy Clancy: Secret Admirer</td>\n",
       "      <td>nancy-clancy-secret-admirer</td>\n",
       "      <td>https://www.commonsensemedia.org/book-reviews/...</td>\n",
       "    </tr>\n",
       "    <tr>\n",
       "      <td>4</td>\n",
       "      <td>On the Road to Mr. Mineo's</td>\n",
       "      <td>on-the-road-to-mr-mineos</td>\n",
       "      <td>https://www.commonsensemedia.org/book-reviews/...</td>\n",
       "    </tr>\n",
       "  </tbody>\n",
       "</table>\n",
       "</div>"
      ],
      "text/plain": [
       "                          title                 title_edited  \\\n",
       "0                  Joshua Dread                 joshua-dread   \n",
       "1           Abe Lincoln's Dream           abe-lincolns-dream   \n",
       "2                         Teeth                        teeth   \n",
       "3  Nancy Clancy: Secret Admirer  nancy-clancy-secret-admirer   \n",
       "4    On the Road to Mr. Mineo's     on-the-road-to-mr-mineos   \n",
       "\n",
       "                                                 url  \n",
       "0  https://www.commonsensemedia.org/book-reviews/...  \n",
       "1  https://www.commonsensemedia.org/book-reviews/...  \n",
       "2  https://www.commonsensemedia.org/book-reviews/...  \n",
       "3  https://www.commonsensemedia.org/book-reviews/...  \n",
       "4  https://www.commonsensemedia.org/book-reviews/...  "
      ]
     },
     "execution_count": 7,
     "metadata": {},
     "output_type": "execute_result"
    }
   ],
   "source": [
    "df = pd.DataFrame()\n",
    "df['title'] = titles\n",
    "df['title_edited'] = titles_edited\n",
    "df['url'] = urls\n",
    "df.loc[:, \"title_edited\"] = df.loc[:, 'title_edited'].str.replace(\"--\", \"-\")\n",
    "df.loc[:, \"url\"] = df.loc[:, \"url\"].str.replace(\"--\", \"-\")\n",
    "df.head(5)"
   ]
  },
  {
   "cell_type": "code",
   "execution_count": 9,
   "metadata": {},
   "outputs": [],
   "source": [
    "df.to_csv(\"~/final_project/lexile/raw/title_urls.csv\", index=False)"
   ]
  },
  {
   "cell_type": "markdown",
   "metadata": {},
   "source": [
    "# Scrape Each Book's Review Page"
   ]
  },
  {
   "cell_type": "code",
   "execution_count": null,
   "metadata": {},
   "outputs": [],
   "source": [
    "!mkdir lexile/raw/books"
   ]
  },
  {
   "cell_type": "code",
   "execution_count": null,
   "metadata": {},
   "outputs": [],
   "source": [
    "for i, j in df.iterrows():\n",
    "    if not os.path.isfile(path + j.title_edited + \".html\"):\n",
    "        page = requests.get(j.url)\n",
    "        soup = BeautifulSoup(page.text, 'html.parser')\n",
    "        with open(\"lexile/raw/books/\" + j.title_edited + \".html\", 'wb') as f:\n",
    "            try:\n",
    "                f.write(soup.encode('utf-8'))\n",
    "            except:\n",
    "                with open(\"lexile/raw/book-errors.txt\", 'a+') as f:\n",
    "                    f.write(j.title + \"\\n\")\n",
    "    else: \n",
    "        continue"
   ]
  },
  {
   "cell_type": "markdown",
   "metadata": {},
   "source": [
    "## Identify the gap"
   ]
  },
  {
   "cell_type": "code",
   "execution_count": 10,
   "metadata": {},
   "outputs": [
    {
     "data": {
      "text/plain": [
       "5816"
      ]
     },
     "execution_count": 10,
     "metadata": {},
     "output_type": "execute_result"
    }
   ],
   "source": [
    "df.shape[0]"
   ]
  },
  {
   "cell_type": "code",
   "execution_count": 12,
   "metadata": {},
   "outputs": [
    {
     "data": {
      "text/plain": [
       "5803"
      ]
     },
     "execution_count": 12,
     "metadata": {},
     "output_type": "execute_result"
    }
   ],
   "source": [
    "files = os.listdir(\"lexile/raw/books\")\n",
    "len(files)"
   ]
  },
  {
   "cell_type": "code",
   "execution_count": 30,
   "metadata": {},
   "outputs": [
    {
     "data": {
      "text/plain": [
       "'the-third-twin'"
      ]
     },
     "execution_count": 30,
     "metadata": {},
     "output_type": "execute_result"
    }
   ],
   "source": [
    "a = [f[:-5] for f in files]\n",
    "a[0]"
   ]
  },
  {
   "cell_type": "code",
   "execution_count": 33,
   "metadata": {},
   "outputs": [
    {
     "data": {
      "text/plain": [
       "'joshua-dread'"
      ]
     },
     "execution_count": 33,
     "metadata": {},
     "output_type": "execute_result"
    }
   ],
   "source": [
    "b = df.loc[:, \"title_edited\"]\n",
    "b[0]"
   ]
  },
  {
   "cell_type": "code",
   "execution_count": 39,
   "metadata": {},
   "outputs": [],
   "source": [
    "#temp3 = [item for item in temp1 if item not in temp2]\n",
    "c = [i for i in b  if i not in a]"
   ]
  },
  {
   "cell_type": "code",
   "execution_count": 41,
   "metadata": {},
   "outputs": [],
   "source": [
    "import numpy as np "
   ]
  },
  {
   "cell_type": "code",
   "execution_count": 42,
   "metadata": {},
   "outputs": [
    {
     "data": {
      "text/plain": [
       "array(['', '.ipynb_checkp',\n",
       "       'a-girl-undone--a-girl-called-fearless-book-2',\n",
       "       'a-map-of-days--miss-peregrines-peculiar-children-book-4',\n",
       "       'absolutely-truly--a-pumpkin-falls-mystery',\n",
       "       'aerie--magonia-book-2', 'agua-aguita--water-little-water',\n",
       "       'always-and-forever-lara-jean--to-all-the-boys-ive-loved-before-book-3',\n",
       "       'ashes--the-seeds-of-america-trilogy-book-3',\n",
       "       'astrotwins--project-rescue-astrotwins-book-2',\n",
       "       'avenged--ruined-book-2',\n",
       "       'babymouse-tales-from-the-locker--lights-camera-middle-school',\n",
       "       'bluecrowne--a-greenglass-house-story',\n",
       "       'bomb-the-race-to-build--and-steal--the-worlds-most-dangerous-weapon',\n",
       "       'brave-face--a-memoir', 'broken-throne--a-red-queen-collection',\n",
       "       'burning-kingdoms--the-internment-chronicles-book-2', 'capt',\n",
       "       'caravaggio--painter-on-the-run',\n",
       "       'catstronauts-mission-moon--catstronauts-book-1', 'cerca--close',\n",
       "       'cookies--bitesize-life-lessons',\n",
       "       'darkness-brutal--the-dark-cycle-book-1',\n",
       "       'day-of-tears--a-novel-in-dialogue',\n",
       "       'dr-ernest-drakes-dragonology-handbook--a-practical-course-in-dragons',\n",
       "       'días-y-días--days-and-days', 'earth-my-first-4',\n",
       "       'elvis--the-story-of-the-rock-and-roll-king',\n",
       "       'encyclopedia-prehistorica--dinosaurs',\n",
       "       'fireborne--the-aurelian-cycle-book-1',\n",
       "       'forest-of-a-thousand-lanterns--rise-of-the-empress-book-1',\n",
       "       'galapagos-girl--galapagueña',\n",
       "       'girling-up--how-to-be-strong-smart-and-spectacular',\n",
       "       'hot-air-the-mostly-true-story-of-the-first-hotair--balloon-ride',\n",
       "       'how-are-you--¿comó-estás',\n",
       "       'how-to-be-a-bawse--a-guide-to-conquering-life',\n",
       "       'i-dont-belong-to-you--quiet-the-noise-and-find-your-voice',\n",
       "       'ivy--bean-book-1', 'ivy--bean-make-the-rules-ivy--bean-book-9',\n",
       "       'ivy--bean-no-news-is-good-news-ivy--bean-book-8',\n",
       "       'ivy--bean-one-big-happy-family-ivy--bean-book-11',\n",
       "       'jane-anonymous--a-novel', 'jason-strange--the-graveyard-plot',\n",
       "       'kingdom-of-the-blazing-phoenix--rise-of-the-empress-book-2', 'l',\n",
       "       'legacy-of-kings--blood-of-gods-and-royals-book-1', 'lejos--far',\n",
       "       'little-skeletons--esqueletitos-countdown-to-midnight',\n",
       "       'lord-and-lady-bunny--almost-royalty',\n",
       "       'malamander--legends-of-eerieonsea-book-1',\n",
       "       'maximum-ride-2-schools-out--forever',\n",
       "       'miras-diary--bombs-over-london',\n",
       "       'moon-chosen--tales-of-a-new-world-book-1',\n",
       "       'mr-and-mrs-bunny--detectives-extraordinaire', 'mugglenet',\n",
       "       'my-shoes-and-i-crossing-three-borders--mis-zapatos-y-yo-cruzando-tres-fronteras',\n",
       "       'on-the-road-to-mr',\n",
       "       'once-upon-an-alphabet--short-stories-for-all-the-letters',\n",
       "       'predator-vs',\n",
       "       'rad-american-women-az-rebels-trailblazers-and-visionaries-who-shaped-our-history--and-our-future',\n",
       "       'red--the-true-story-of-red-riding-hood', 'remembering-mrs',\n",
       "       'rise-of-the-wolf--mark-of-the-thief-book-2',\n",
       "       'serafina-and-the-twisted-staff--serafina-book-2',\n",
       "       'skink--no-surrender', 'slow-burn--the-anchor-and-sophia-book-2',\n",
       "       'split-screen-attack-of-the-soulsucking-brain-zombies--bride-of-the-soulsucking-brain-zombies',\n",
       "       'strange-fire--the-anchor-and-sophia-book-1',\n",
       "       'sun-warrior--tales-of-a-new-world-book-2', 'susan-b',\n",
       "       'te-amo-sol--te-amo-luna--i-love-you-sun--i-love-you-moon',\n",
       "       'the-amazing-book-is-not-on-fire--the-world-of-dan-and-phil',\n",
       "       'the-boy-who-touched-the-stars--el-niño-que-alcanzó-las-estrellas',\n",
       "       'the-conference-of-the-birds--miss-peregrines-peculiar-children-book-5',\n",
       "       'the-crowns-fate--the-crowns-game-book-2',\n",
       "       'the-dazzling-heights--the-thousandth-floor-book-2',\n",
       "       'the-emerald-shore--the-voyage-of-lucy-p-simmons-book-3',\n",
       "       'the-keeper--vega-jane-book-2',\n",
       "       'the-lost-property-office--section-13-book-1',\n",
       "       'the-queens-resistance--the-queens-rising-book-2',\n",
       "       'the-rat-with-the-human-face--the-qwikpick-papers-book-2',\n",
       "       'the-raven-king--the-raven-cycle-book-4',\n",
       "       'the-ring-of-rocamadour-the-red-blazer-girls-bk',\n",
       "       'the-toll--arc-of-a-scythe-book-3', 'this-book--loves-you',\n",
       "       'todos-iguales--all-equal-un-corrido-de-lemon-grove--a-ballad-of-lemon-grove',\n",
       "       'tortillas-are-round--las-tortillas-son-redondas',\n",
       "       'traitor-to-the-throne--rebel-of-the-sands-book-2',\n",
       "       'undaunted--inhuman-book-2',\n",
       "       'wayward-son--simon-snow-series-book-2',\n",
       "       'winters-tale-an-original--popup-journey',\n",
       "       'wrath-of-the-storm--mark-of-the-thief-book-3',\n",
       "       'you-are-mighty--a-guide-to-changing-the-world'], dtype='<U162')"
      ]
     },
     "execution_count": 42,
     "metadata": {},
     "output_type": "execute_result"
    }
   ],
   "source": [
    "np.setdiff1d(a, b)"
   ]
  },
  {
   "cell_type": "code",
   "execution_count": null,
   "metadata": {},
   "outputs": [],
   "source": []
  }
 ],
 "metadata": {
  "kernelspec": {
   "display_name": "base",
   "language": "python",
   "name": "base"
  },
  "language_info": {
   "codemirror_mode": {
    "name": "ipython",
    "version": 3
   },
   "file_extension": ".py",
   "mimetype": "text/x-python",
   "name": "python",
   "nbconvert_exporter": "python",
   "pygments_lexer": "ipython3",
   "version": "3.7.4"
  }
 },
 "nbformat": 4,
 "nbformat_minor": 4
}
