{
 "cells": [
  {
   "cell_type": "code",
   "execution_count": 38,
   "metadata": {},
   "outputs": [
    {
     "name": "stderr",
     "output_type": "stream",
     "text": [
      "[nltk_data] Downloading package stopwords to /home/evan/nltk_data...\n",
      "[nltk_data]   Package stopwords is already up-to-date!\n"
     ]
    }
   ],
   "source": [
    "import pandas as pd\n",
    "import numpy as np\n",
    "import xgboost as xgb\n",
    "\n",
    "from sklearn.model_selection import StratifiedShuffleSplit\n",
    "from sklearn.metrics import mean_absolute_error\n",
    "from sklearn.feature_extraction.text import CountVectorizer\n",
    "from sklearn.preprocessing import OneHotEncoder \n",
    "from sklearn.preprocessing import MinMaxScaler\n",
    "\n",
    "\n",
    "import nltk\n",
    "nltk.download('stopwords')\n",
    "from nltk.corpus import stopwords\n",
    "stop = stopwords.words('english')"
   ]
  },
  {
   "cell_type": "markdown",
   "metadata": {},
   "source": [
    "# [Tutorial](https://machinelearningmastery.com/gradient-boosting-with-scikit-learn-xgboost-lightgbm-and-catboost/)"
   ]
  },
  {
   "cell_type": "markdown",
   "metadata": {},
   "source": [
    "## Load the Data "
   ]
  },
  {
   "cell_type": "code",
   "execution_count": 39,
   "metadata": {},
   "outputs": [
    {
     "name": "stdout",
     "output_type": "stream",
     "text": [
      "<class 'pandas.core.frame.DataFrame'>\n",
      "RangeIndex: 5816 entries, 0 to 5815\n",
      "Data columns (total 9 columns):\n",
      "title               5816 non-null object\n",
      "description         5816 non-null object\n",
      "plot                5816 non-null object\n",
      "csm_review          5816 non-null object\n",
      "need_to_know        5816 non-null object\n",
      "csm_rating          5816 non-null int64\n",
      "Genre               5816 non-null object\n",
      "Book type           5816 non-null object\n",
      "Publication date    5816 non-null int64\n",
      "dtypes: int64(2), object(7)\n",
      "memory usage: 409.1+ KB\n"
     ]
    }
   ],
   "source": [
    "df = pd.read_csv(\"csv/book_info_complete.csv\")\n",
    "df = df.dropna(axis=1)\n",
    "df[\"Publication date\"] = df[\"Publication date\"].str[-4:].astype(int)\n",
    "df = df.drop(\"Last updated\", axis=1)\n",
    "df.info()"
   ]
  },
  {
   "cell_type": "markdown",
   "metadata": {},
   "source": [
    "### Lower and remove stop words"
   ]
  },
  {
   "cell_type": "code",
   "execution_count": 40,
   "metadata": {},
   "outputs": [],
   "source": [
    "columns = ['title', \"description\", \"plot\", \"csm_review\", \"need_to_know\"]\n",
    "\n",
    "df = df.applymap(lambda x: x.lower() if type(x) == str else x)\n",
    "\n",
    "df[columns] = df[columns].applymap(lambda x: ' '.join([item for item in x.split() if item not in stop]))"
   ]
  },
  {
   "cell_type": "code",
   "execution_count": 41,
   "metadata": {},
   "outputs": [
    {
     "data": {
      "text/html": [
       "<div>\n",
       "<style scoped>\n",
       "    .dataframe tbody tr th:only-of-type {\n",
       "        vertical-align: middle;\n",
       "    }\n",
       "\n",
       "    .dataframe tbody tr th {\n",
       "        vertical-align: top;\n",
       "    }\n",
       "\n",
       "    .dataframe thead th {\n",
       "        text-align: right;\n",
       "    }\n",
       "</style>\n",
       "<table border=\"1\" class=\"dataframe\">\n",
       "  <thead>\n",
       "    <tr style=\"text-align: right;\">\n",
       "      <th></th>\n",
       "      <th>title</th>\n",
       "      <th>description</th>\n",
       "      <th>plot</th>\n",
       "      <th>csm_review</th>\n",
       "      <th>need_to_know</th>\n",
       "      <th>csm_rating</th>\n",
       "      <th>Genre</th>\n",
       "      <th>Book type</th>\n",
       "      <th>Publication date</th>\n",
       "    </tr>\n",
       "  </thead>\n",
       "  <tbody>\n",
       "    <tr>\n",
       "      <th>0</th>\n",
       "      <td>third twin</td>\n",
       "      <td>gripping thriller skimps character development.</td>\n",
       "      <td>twins ava alexa \"lexi\" rios live affluent sout...</td>\n",
       "      <td>third twin interesting, compelling premise: bo...</td>\n",
       "      <td>parents need know third twin murder mystery in...</td>\n",
       "      <td>12</td>\n",
       "      <td>mystery</td>\n",
       "      <td>fiction</td>\n",
       "      <td>2015</td>\n",
       "    </tr>\n",
       "    <tr>\n",
       "      <th>1</th>\n",
       "      <td>small damages</td>\n",
       "      <td>luminous story pregnant teen's summer spain.</td>\n",
       "      <td>summer 1996, 18-year-old kenzie planned spend ...</td>\n",
       "      <td>could well minefield clichés nd preachiness, l...</td>\n",
       "      <td>parents need know small damages narrated pregn...</td>\n",
       "      <td>14</td>\n",
       "      <td>coming of age</td>\n",
       "      <td>fiction</td>\n",
       "      <td>2012</td>\n",
       "    </tr>\n",
       "    <tr>\n",
       "      <th>2</th>\n",
       "      <td>school good evil, book 1</td>\n",
       "      <td>fractured fairy tale plenty twists fantasy fans.</td>\n",
       "      <td>best friends sophie agatha stolen away village...</td>\n",
       "      <td>school good evil run-of-the-mill fairy tale sp...</td>\n",
       "      <td>parents need know school good evil fresh take ...</td>\n",
       "      <td>8</td>\n",
       "      <td>fairy tale</td>\n",
       "      <td>fiction</td>\n",
       "      <td>2013</td>\n",
       "    </tr>\n",
       "    <tr>\n",
       "      <th>3</th>\n",
       "      <td>agent chaos: x-files origins, book 1</td>\n",
       "      <td>series pictures mulder teen, captures essence ...</td>\n",
       "      <td>set 1979, agent chaos follows 17-year-old fox ...</td>\n",
       "      <td>popular tv characters always make smooth trans...</td>\n",
       "      <td>parents need know agent chaos: x-files origins...</td>\n",
       "      <td>13</td>\n",
       "      <td>science fiction</td>\n",
       "      <td>fiction</td>\n",
       "      <td>2017</td>\n",
       "    </tr>\n",
       "    <tr>\n",
       "      <th>4</th>\n",
       "      <td>crossing ebenezer creek</td>\n",
       "      <td>heartbreaking novel follows freed slaves sherm...</td>\n",
       "      <td>crossing ebenezer creek ya novel award-winning...</td>\n",
       "      <td>beautifully written poetically rendered, histo...</td>\n",
       "      <td>parents need know crossing ebenezer creek, ton...</td>\n",
       "      <td>13</td>\n",
       "      <td>historical fiction</td>\n",
       "      <td>fiction</td>\n",
       "      <td>2017</td>\n",
       "    </tr>\n",
       "  </tbody>\n",
       "</table>\n",
       "</div>"
      ],
      "text/plain": [
       "                                  title  \\\n",
       "0                            third twin   \n",
       "1                         small damages   \n",
       "2              school good evil, book 1   \n",
       "3  agent chaos: x-files origins, book 1   \n",
       "4               crossing ebenezer creek   \n",
       "\n",
       "                                         description  \\\n",
       "0    gripping thriller skimps character development.   \n",
       "1       luminous story pregnant teen's summer spain.   \n",
       "2   fractured fairy tale plenty twists fantasy fans.   \n",
       "3  series pictures mulder teen, captures essence ...   \n",
       "4  heartbreaking novel follows freed slaves sherm...   \n",
       "\n",
       "                                                plot  \\\n",
       "0  twins ava alexa \"lexi\" rios live affluent sout...   \n",
       "1  summer 1996, 18-year-old kenzie planned spend ...   \n",
       "2  best friends sophie agatha stolen away village...   \n",
       "3  set 1979, agent chaos follows 17-year-old fox ...   \n",
       "4  crossing ebenezer creek ya novel award-winning...   \n",
       "\n",
       "                                          csm_review  \\\n",
       "0  third twin interesting, compelling premise: bo...   \n",
       "1  could well minefield clichés nd preachiness, l...   \n",
       "2  school good evil run-of-the-mill fairy tale sp...   \n",
       "3  popular tv characters always make smooth trans...   \n",
       "4  beautifully written poetically rendered, histo...   \n",
       "\n",
       "                                        need_to_know  csm_rating  \\\n",
       "0  parents need know third twin murder mystery in...          12   \n",
       "1  parents need know small damages narrated pregn...          14   \n",
       "2  parents need know school good evil fresh take ...           8   \n",
       "3  parents need know agent chaos: x-files origins...          13   \n",
       "4  parents need know crossing ebenezer creek, ton...          13   \n",
       "\n",
       "                Genre Book type  Publication date  \n",
       "0             mystery   fiction              2015  \n",
       "1       coming of age   fiction              2012  \n",
       "2          fairy tale   fiction              2013  \n",
       "3     science fiction   fiction              2017  \n",
       "4  historical fiction   fiction              2017  "
      ]
     },
     "execution_count": 41,
     "metadata": {},
     "output_type": "execute_result"
    }
   ],
   "source": [
    "df.head()"
   ]
  },
  {
   "cell_type": "markdown",
   "metadata": {},
   "source": [
    "### Make the split"
   ]
  },
  {
   "cell_type": "code",
   "execution_count": 42,
   "metadata": {},
   "outputs": [],
   "source": [
    "def splitter(df):\n",
    "    split = StratifiedShuffleSplit(n_splits=1, test_size=0.2, random_state=999)\n",
    "    for train_index, test_index in split.split(df, df['csm_rating']):\n",
    "        train_data= df.loc[train_index]\n",
    "        test_data = df.loc[test_index]\n",
    "    \n",
    "    return train_data, test_data"
   ]
  },
  {
   "cell_type": "code",
   "execution_count": 43,
   "metadata": {},
   "outputs": [],
   "source": [
    "train_data, test_data = splitter(df)"
   ]
  },
  {
   "cell_type": "code",
   "execution_count": 44,
   "metadata": {},
   "outputs": [
    {
     "data": {
      "text/plain": [
       "(4652, 9)"
      ]
     },
     "execution_count": 44,
     "metadata": {},
     "output_type": "execute_result"
    }
   ],
   "source": [
    "train_data.shape"
   ]
  },
  {
   "cell_type": "code",
   "execution_count": 45,
   "metadata": {},
   "outputs": [
    {
     "data": {
      "text/plain": [
       "(1164, 9)"
      ]
     },
     "execution_count": 45,
     "metadata": {},
     "output_type": "execute_result"
    }
   ],
   "source": [
    "test_data.shape"
   ]
  },
  {
   "cell_type": "markdown",
   "metadata": {},
   "source": [
    "## One Hot Encode"
   ]
  },
  {
   "cell_type": "markdown",
   "metadata": {},
   "source": [
    "### Book Type"
   ]
  },
  {
   "cell_type": "code",
   "execution_count": 46,
   "metadata": {},
   "outputs": [
    {
     "data": {
      "text/plain": [
       "fiction        4238\n",
       "non-fiction     414\n",
       "Name: Book type, dtype: int64"
      ]
     },
     "execution_count": 46,
     "metadata": {},
     "output_type": "execute_result"
    }
   ],
   "source": [
    "train_data[\"Book type\"].value_counts()"
   ]
  },
  {
   "cell_type": "code",
   "execution_count": 66,
   "metadata": {},
   "outputs": [],
   "source": [
    "book_type_cat = train_data[[\"Book type\"]]\n",
    "book_type_encoder = OneHotEncoder()\n",
    "book_type_cat_1hot = book_type_encoder.fit_transform(book_type_cat)\n",
    "book_type_df = pd.DataFrame(data=book_type_cat_1hot.todense(), \n",
    "                            index= train_data.index,\n",
    "                            columns=book_type_encoder.get_feature_names())"
   ]
  },
  {
   "cell_type": "markdown",
   "metadata": {},
   "source": [
    "## Genre"
   ]
  },
  {
   "cell_type": "code",
   "execution_count": 48,
   "metadata": {},
   "outputs": [
    {
     "data": {
      "image/png": "[encoded data removed]",
      "text/plain": [
       "<Figure size 432x288 with 1 Axes>"
      ]
     },
     "metadata": {
      "needs_background": "light"
     },
     "output_type": "display_data"
    }
   ],
   "source": [
    "train_data[\"Genre\"].hist(xrot=90);"
   ]
  },
  {
   "cell_type": "code",
   "execution_count": 64,
   "metadata": {},
   "outputs": [],
   "source": [
    "book_genre_cat = train_data[[\"Genre\"]]\n",
    "book_genre_encoder = OneHotEncoder()\n",
    "book_genre_cat_1hot = book_type_encoder.fit_transform(book_genre_cat)\n",
    "book_genre_df = pd.DataFrame(book_genre_cat_1hot.todense(), \n",
    "                             index=train_data.index,\n",
    "                             columns=book_type_encoder.get_feature_names())"
   ]
  },
  {
   "cell_type": "markdown",
   "metadata": {},
   "source": [
    "## MinMaxScale Publication Date"
   ]
  },
  {
   "cell_type": "code",
   "execution_count": 67,
   "metadata": {},
   "outputs": [],
   "source": [
    "book_pub_year = train_data[[\"Publication date\"]]\n",
    "min_max_scaler = MinMaxScaler()\n",
    "bp_year_MM = min_max_scaler.fit_transform(book_pub_year)\n",
    "bp_year_df = pd.DataFrame(data=bp_year_MM,\n",
    "                          index=train_data.index, \n",
    "                          columns=[\"book_pub_year\"])"
   ]
  },
  {
   "cell_type": "markdown",
   "metadata": {},
   "source": [
    "## Create BOW"
   ]
  },
  {
   "cell_type": "code",
   "execution_count": 9,
   "metadata": {},
   "outputs": [],
   "source": [
    "#instantiate CountVectorizer()\n",
    "cv=CountVectorizer(min_df=2)\n",
    "\n",
    "# this step generates word counts for the words in your docs\n",
    "word_count_vector=cv.fit_transform(train_data['description'])"
   ]
  },
  {
   "cell_type": "code",
   "execution_count": 10,
   "metadata": {},
   "outputs": [],
   "source": [
    "# seperate the independent and target variable on training data\n",
    "train_x = pd.DataFrame(word_count_vector.todense(), columns=cv.get_feature_names())\n",
    "train_y = train_data['csm_rating']"
   ]
  },
  {
   "cell_type": "code",
   "execution_count": 11,
   "metadata": {},
   "outputs": [],
   "source": [
    "test_x = pd.DataFrame(cv.transform(test_data['description']).todense(), columns=cv.get_feature_names())\n",
    "test_y = test_data['csm_rating']"
   ]
  },
  {
   "cell_type": "code",
   "execution_count": 12,
   "metadata": {},
   "outputs": [],
   "source": [
    "xg_reg = xgb.XGBRegressor(objective ='reg:squarederror', colsample_bytree = 0.3, learning_rate = 0.03,\n",
    "                max_depth = 100, alpha = 1, n_estimators = 500, booster = \"gblinear\")"
   ]
  },
  {
   "cell_type": "code",
   "execution_count": 13,
   "metadata": {},
   "outputs": [
    {
     "data": {
      "text/plain": [
       "XGBRegressor(alpha=1, base_score=0.5, booster='gblinear',\n",
       "             colsample_bylevel=None, colsample_bynode=None,\n",
       "             colsample_bytree=0.3, gamma=None, gpu_id=-1,\n",
       "             importance_type='gain', interaction_constraints=None,\n",
       "             learning_rate=0.03, max_delta_step=None, max_depth=100,\n",
       "             min_child_weight=None, missing=nan, monotone_constraints=None,\n",
       "             n_estimators=500, n_jobs=0, num_parallel_tree=None,\n",
       "             objective='reg:squarederror', random_state=0, reg_alpha=1,\n",
       "             reg_lambda=0, scale_pos_weight=1, subsample=None, tree_method=None,\n",
       "             validate_parameters=False, verbosity=None)"
      ]
     },
     "execution_count": 13,
     "metadata": {},
     "output_type": "execute_result"
    }
   ],
   "source": [
    "#Fit the model with the training data\n",
    "xg_reg.fit(train_x, train_y)"
   ]
  },
  {
   "cell_type": "code",
   "execution_count": 14,
   "metadata": {},
   "outputs": [],
   "source": [
    "#Predict the taget on the train data set\n",
    "predict_train = xg_reg.predict(train_x)\n",
    "predict_test = xg_reg.predict(test_x)"
   ]
  },
  {
   "cell_type": "code",
   "execution_count": 15,
   "metadata": {},
   "outputs": [
    {
     "data": {
      "text/plain": [
       "3.282182013281234"
      ]
     },
     "execution_count": 15,
     "metadata": {},
     "output_type": "execute_result"
    }
   ],
   "source": [
    "mean_absolute_error(train_y, predict_train)"
   ]
  },
  {
   "cell_type": "code",
   "execution_count": 16,
   "metadata": {},
   "outputs": [
    {
     "data": {
      "text/plain": [
       "3.276424827444594"
      ]
     },
     "execution_count": 16,
     "metadata": {},
     "output_type": "execute_result"
    }
   ],
   "source": [
    "mean_absolute_error(test_y, predict_test)"
   ]
  },
  {
   "cell_type": "markdown",
   "metadata": {},
   "source": [
    "### Transform and Predict on the Test DF"
   ]
  },
  {
   "cell_type": "code",
   "execution_count": 17,
   "metadata": {},
   "outputs": [],
   "source": [
    "#Predict the target on the test dataset\n",
    "predict_test = xg_reg.predict(test_x)"
   ]
  },
  {
   "cell_type": "code",
   "execution_count": 18,
   "metadata": {},
   "outputs": [
    {
     "data": {
      "text/plain": [
       "3.276424827444594"
      ]
     },
     "execution_count": 18,
     "metadata": {},
     "output_type": "execute_result"
    }
   ],
   "source": [
    "mean_absolute_error(predict_test, test_y)"
   ]
  },
  {
   "cell_type": "code",
   "execution_count": 19,
   "metadata": {},
   "outputs": [],
   "source": [
    "test_errors = abs(predict_test - test_y)"
   ]
  },
  {
   "cell_type": "code",
   "execution_count": 20,
   "metadata": {},
   "outputs": [],
   "source": [
    "predictions  = pd.Series(predict_test, index=test_data.index, name=\"predictions\")"
   ]
  },
  {
   "cell_type": "code",
   "execution_count": 21,
   "metadata": {},
   "outputs": [],
   "source": [
    "test_errors.name = \"difference\""
   ]
  },
  {
   "cell_type": "code",
   "execution_count": 22,
   "metadata": {},
   "outputs": [],
   "source": [
    "test_results = pd.concat([test_data, test_errors, predictions], axis=1)"
   ]
  },
  {
   "cell_type": "code",
   "execution_count": 23,
   "metadata": {},
   "outputs": [
    {
     "data": {
      "text/html": [
       "<div>\n",
       "<style scoped>\n",
       "    .dataframe tbody tr th:only-of-type {\n",
       "        vertical-align: middle;\n",
       "    }\n",
       "\n",
       "    .dataframe tbody tr th {\n",
       "        vertical-align: top;\n",
       "    }\n",
       "\n",
       "    .dataframe thead th {\n",
       "        text-align: right;\n",
       "    }\n",
       "</style>\n",
       "<table border=\"1\" class=\"dataframe\">\n",
       "  <thead>\n",
       "    <tr style=\"text-align: right;\">\n",
       "      <th></th>\n",
       "      <th>description</th>\n",
       "      <th>csm_rating</th>\n",
       "      <th>difference</th>\n",
       "      <th>predictions</th>\n",
       "    </tr>\n",
       "  </thead>\n",
       "  <tbody>\n",
       "    <tr>\n",
       "      <th>1291</th>\n",
       "      <td>thoughtful sci-fi price beauty.</td>\n",
       "      <td>11</td>\n",
       "      <td>1.838365</td>\n",
       "      <td>9.161635</td>\n",
       "    </tr>\n",
       "    <tr>\n",
       "      <th>832</th>\n",
       "      <td>appealing tale would-be witch laughs, insights.</td>\n",
       "      <td>8</td>\n",
       "      <td>1.161635</td>\n",
       "      <td>9.161635</td>\n",
       "    </tr>\n",
       "    <tr>\n",
       "      <th>685</th>\n",
       "      <td>third bloodlines adventure takes romantic, mag...</td>\n",
       "      <td>13</td>\n",
       "      <td>3.838365</td>\n",
       "      <td>9.161635</td>\n",
       "    </tr>\n",
       "    <tr>\n",
       "      <th>5101</th>\n",
       "      <td>teen grapples grief first love charming romance.</td>\n",
       "      <td>12</td>\n",
       "      <td>2.838365</td>\n",
       "      <td>9.161635</td>\n",
       "    </tr>\n",
       "    <tr>\n",
       "      <th>2617</th>\n",
       "      <td>another sweet animal tale babe author.</td>\n",
       "      <td>7</td>\n",
       "      <td>2.161635</td>\n",
       "      <td>9.161635</td>\n",
       "    </tr>\n",
       "  </tbody>\n",
       "</table>\n",
       "</div>"
      ],
      "text/plain": [
       "                                            description  csm_rating  \\\n",
       "1291                    thoughtful sci-fi price beauty.          11   \n",
       "832     appealing tale would-be witch laughs, insights.           8   \n",
       "685   third bloodlines adventure takes romantic, mag...          13   \n",
       "5101   teen grapples grief first love charming romance.          12   \n",
       "2617             another sweet animal tale babe author.           7   \n",
       "\n",
       "      difference  predictions  \n",
       "1291    1.838365     9.161635  \n",
       "832     1.161635     9.161635  \n",
       "685     3.838365     9.161635  \n",
       "5101    2.838365     9.161635  \n",
       "2617    2.161635     9.161635  "
      ]
     },
     "execution_count": 23,
     "metadata": {},
     "output_type": "execute_result"
    }
   ],
   "source": [
    "test_results.head()"
   ]
  },
  {
   "cell_type": "code",
   "execution_count": 24,
   "metadata": {},
   "outputs": [
    {
     "data": {
      "text/plain": [
       "array([9.1616354])"
      ]
     },
     "execution_count": 24,
     "metadata": {},
     "output_type": "execute_result"
    }
   ],
   "source": [
    "test_results.predictions.unique()"
   ]
  }
 ],
 "metadata": {
  "kernelspec": {
   "display_name": "base",
   "language": "python",
   "name": "base"
  },
  "language_info": {
   "codemirror_mode": {
    "name": "ipython",
    "version": 3
   },
   "file_extension": ".py",
   "mimetype": "text/x-python",
   "name": "python",
   "nbconvert_exporter": "python",
   "pygments_lexer": "ipython3",
   "version": "3.7.4"
  }
 },
 "nbformat": 4,
 "nbformat_minor": 4
}
