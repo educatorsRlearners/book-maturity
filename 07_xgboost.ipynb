{
 "cells": [
  {
   "cell_type": "code",
   "execution_count": 1,
   "metadata": {},
   "outputs": [],
   "source": [
    "import pandas as pd\n",
    "import numpy as np\n",
    "import xgboost as xgb\n",
    "\n",
    "from sklearn.model_selection import StratifiedShuffleSplit\n",
    "from sklearn.metrics import mean_absolute_error\n",
    "from sklearn.feature_extraction.text import CountVectorizer\n",
    "from sklearn.preprocessing import OneHotEncoder \n",
    "from sklearn.preprocessing import MinMaxScaler\n",
    "\n",
    "\n",
    "import nltk\n",
    "#nltk.download('stopwords')\n",
    "from nltk.corpus import stopwords\n",
    "stop = stopwords.words('english')"
   ]
  },
  {
   "cell_type": "markdown",
   "metadata": {},
   "source": [
    "# [Tutorial](https://machinelearningmastery.com/gradient-boosting-with-scikit-learn-xgboost-lightgbm-and-catboost/)"
   ]
  },
  {
   "cell_type": "markdown",
   "metadata": {},
   "source": [
    "## Load the Data "
   ]
  },
  {
   "cell_type": "code",
   "execution_count": 2,
   "metadata": {},
   "outputs": [
    {
     "name": "stdout",
     "output_type": "stream",
     "text": [
      "<class 'pandas.core.frame.DataFrame'>\n",
      "RangeIndex: 5816 entries, 0 to 5815\n",
      "Data columns (total 9 columns):\n",
      "title               5816 non-null object\n",
      "description         5816 non-null object\n",
      "plot                5816 non-null object\n",
      "csm_review          5816 non-null object\n",
      "need_to_know        5816 non-null object\n",
      "csm_rating          5816 non-null int64\n",
      "Genre               5816 non-null object\n",
      "Book type           5816 non-null object\n",
      "Publication date    5816 non-null int64\n",
      "dtypes: int64(2), object(7)\n",
      "memory usage: 409.1+ KB\n"
     ]
    }
   ],
   "source": [
    "df = pd.read_csv(\"csv/book_info_complete.csv\")\n",
    "df = df.dropna(axis=1)\n",
    "df[\"Publication date\"] = df[\"Publication date\"].str[-4:].astype(int)\n",
    "df = df.drop(\"Last updated\", axis=1)\n",
    "df.info()"
   ]
  },
  {
   "cell_type": "markdown",
   "metadata": {},
   "source": [
    "### Lower and remove stop words"
   ]
  },
  {
   "cell_type": "code",
   "execution_count": 3,
   "metadata": {},
   "outputs": [],
   "source": [
    "columns = ['title', \"description\", \"plot\", \"csm_review\", \"need_to_know\"]\n",
    "\n",
    "df = df.applymap(lambda x: x.lower() if type(x) == str else x)\n",
    "\n",
    "df[columns] = df[columns].applymap(lambda x: ' '.join([item for item in x.split() if item not in stop]))"
   ]
  },
  {
   "cell_type": "code",
   "execution_count": 4,
   "metadata": {},
   "outputs": [
    {
     "data": {
      "text/html": [
       "<div>\n",
       "<style scoped>\n",
       "    .dataframe tbody tr th:only-of-type {\n",
       "        vertical-align: middle;\n",
       "    }\n",
       "\n",
       "    .dataframe tbody tr th {\n",
       "        vertical-align: top;\n",
       "    }\n",
       "\n",
       "    .dataframe thead th {\n",
       "        text-align: right;\n",
       "    }\n",
       "</style>\n",
       "<table border=\"1\" class=\"dataframe\">\n",
       "  <thead>\n",
       "    <tr style=\"text-align: right;\">\n",
       "      <th></th>\n",
       "      <th>title</th>\n",
       "      <th>description</th>\n",
       "      <th>plot</th>\n",
       "      <th>csm_review</th>\n",
       "      <th>need_to_know</th>\n",
       "      <th>csm_rating</th>\n",
       "      <th>Genre</th>\n",
       "      <th>Book type</th>\n",
       "      <th>Publication date</th>\n",
       "    </tr>\n",
       "  </thead>\n",
       "  <tbody>\n",
       "    <tr>\n",
       "      <th>0</th>\n",
       "      <td>third twin</td>\n",
       "      <td>gripping thriller skimps character development.</td>\n",
       "      <td>twins ava alexa \"lexi\" rios live affluent sout...</td>\n",
       "      <td>third twin interesting, compelling premise: bo...</td>\n",
       "      <td>parents need know third twin murder mystery in...</td>\n",
       "      <td>12</td>\n",
       "      <td>mystery</td>\n",
       "      <td>fiction</td>\n",
       "      <td>2015</td>\n",
       "    </tr>\n",
       "  </tbody>\n",
       "</table>\n",
       "</div>"
      ],
      "text/plain": [
       "        title                                      description  \\\n",
       "0  third twin  gripping thriller skimps character development.   \n",
       "\n",
       "                                                plot  \\\n",
       "0  twins ava alexa \"lexi\" rios live affluent sout...   \n",
       "\n",
       "                                          csm_review  \\\n",
       "0  third twin interesting, compelling premise: bo...   \n",
       "\n",
       "                                        need_to_know  csm_rating    Genre  \\\n",
       "0  parents need know third twin murder mystery in...          12  mystery   \n",
       "\n",
       "  Book type  Publication date  \n",
       "0   fiction              2015  "
      ]
     },
     "execution_count": 4,
     "metadata": {},
     "output_type": "execute_result"
    }
   ],
   "source": [
    "df.head(1)"
   ]
  },
  {
   "cell_type": "markdown",
   "metadata": {},
   "source": [
    "### Make the split"
   ]
  },
  {
   "cell_type": "code",
   "execution_count": 5,
   "metadata": {},
   "outputs": [],
   "source": [
    "def splitter(df):\n",
    "    split = StratifiedShuffleSplit(n_splits=1, test_size=0.2, random_state=999)\n",
    "    for train_index, test_index in split.split(df, df['csm_rating']):\n",
    "        train_data= df.loc[train_index]\n",
    "        test_data = df.loc[test_index]\n",
    "    \n",
    "    \n",
    "    return train_data, test_data"
   ]
  },
  {
   "cell_type": "code",
   "execution_count": 6,
   "metadata": {},
   "outputs": [],
   "source": [
    "train_data, test_data = splitter(df)"
   ]
  },
  {
   "cell_type": "code",
   "execution_count": 7,
   "metadata": {},
   "outputs": [
    {
     "data": {
      "text/plain": [
       "(4652, 9)"
      ]
     },
     "execution_count": 7,
     "metadata": {},
     "output_type": "execute_result"
    }
   ],
   "source": [
    "train_data.shape"
   ]
  },
  {
   "cell_type": "code",
   "execution_count": 8,
   "metadata": {},
   "outputs": [
    {
     "data": {
      "text/plain": [
       "(1164, 9)"
      ]
     },
     "execution_count": 8,
     "metadata": {},
     "output_type": "execute_result"
    }
   ],
   "source": [
    "test_data.shape"
   ]
  },
  {
   "cell_type": "markdown",
   "metadata": {},
   "source": [
    "## One Hot Encode"
   ]
  },
  {
   "cell_type": "markdown",
   "metadata": {},
   "source": [
    "### Book Type"
   ]
  },
  {
   "cell_type": "code",
   "execution_count": 9,
   "metadata": {},
   "outputs": [
    {
     "data": {
      "text/plain": [
       "fiction        4238\n",
       "non-fiction     414\n",
       "Name: Book type, dtype: int64"
      ]
     },
     "execution_count": 9,
     "metadata": {},
     "output_type": "execute_result"
    }
   ],
   "source": [
    "train_data[\"Book type\"].value_counts()"
   ]
  },
  {
   "cell_type": "code",
   "execution_count": 10,
   "metadata": {},
   "outputs": [],
   "source": [
    "book_type_cat = train_data[[\"Book type\"]]\n",
    "book_type_encoder = OneHotEncoder(handle_unknown=\"ignore\")\n",
    "book_type_cat_1hot = book_type_encoder.fit_transform(book_type_cat)\n",
    "\n",
    "train_book_type_df = pd.DataFrame(data=book_type_cat_1hot.todense(), \n",
    "                            index= train_data.index,\n",
    "                            columns=book_type_encoder.get_feature_names())\n",
    "\n",
    "test_book_type_df = pd.DataFrame(data = book_type_encoder.transform(test_data[[\"Book type\"]]).todense(), \n",
    "                                  index=test_data.index,\n",
    "                                  columns=book_type_encoder.get_feature_names())"
   ]
  },
  {
   "cell_type": "markdown",
   "metadata": {},
   "source": [
    "## Genre"
   ]
  },
  {
   "cell_type": "code",
   "execution_count": 12,
   "metadata": {},
   "outputs": [],
   "source": [
    "train_data[\"Genre\"].hist(xrot=90);"
   ]
  },
  {
   "cell_type": "code",
   "execution_count": 13,
   "metadata": {},
   "outputs": [],
   "source": [
    "book_genre_cat = train_data[[\"Genre\"]]\n",
    "book_genre_encoder = OneHotEncoder(handle_unknown='ignore')\n",
    "book_genre_cat_1hot = book_genre_encoder.fit_transform(book_genre_cat)\n",
    "\n",
    "train_book_genre_df = pd.DataFrame(book_genre_cat_1hot.todense(), \n",
    "                             index=train_data.index,\n",
    "                             columns=book_genre_encoder.get_feature_names())\n",
    "\n",
    "test_book_genre_df = pd.DataFrame(data = book_genre_encoder.transform(test_data[[\"Genre\"]]).todense(), \n",
    "                                  index=test_data.index,\n",
    "                                  columns=book_genre_encoder.get_feature_names())"
   ]
  },
  {
   "cell_type": "markdown",
   "metadata": {},
   "source": [
    "## MinMaxScale Publication Date"
   ]
  },
  {
   "cell_type": "code",
   "execution_count": 14,
   "metadata": {},
   "outputs": [],
   "source": [
    "book_pub_year = train_data[[\"Publication date\"]]\n",
    "min_max_scaler = MinMaxScaler().fit(book_pub_year)\n",
    "bp_year_MM = min_max_scaler.transform(book_pub_year)\n",
    "\n",
    "train_bp_year_df = pd.DataFrame(data=bp_year_MM,\n",
    "                          index=train_data.index, \n",
    "                          columns=[\"book_pub_year\"])\n",
    "\n",
    "test_bp_year_df = pd.DataFrame(data=min_max_scaler.transform(test_data[[\"Publication date\"]]),\n",
    "                              index=test_data.index,\n",
    "                              columns=[\"book_pub_year\"])"
   ]
  },
  {
   "cell_type": "markdown",
   "metadata": {},
   "source": [
    "## Create BOW"
   ]
  },
  {
   "cell_type": "code",
   "execution_count": 15,
   "metadata": {},
   "outputs": [],
   "source": [
    "def generate_bow(x):\n",
    "    \"\"\"Create a bag of words and return the vecotorizer along with data frames\"\"\"\n",
    "    #instantiate CountVectorizer()\n",
    "    cv=CountVectorizer(min_df=2)\n",
    "    # this step generates word counts for the words in your docs\n",
    "    word_count_vector=cv.fit_transform(train_data[str(x)])\n",
    "    \n",
    "    train = pd.DataFrame(word_count_vector.todense(), \n",
    "                      index=train_data.index, \n",
    "                      columns=cv.get_feature_names())\n",
    "    \n",
    "    test = pd.DataFrame(cv.transform(test_data[str(x)]).todense(), \n",
    "                       index=test_data.index,\n",
    "                       columns=cv.get_feature_names())\n",
    "\n",
    "    return train, test"
   ]
  },
  {
   "cell_type": "code",
   "execution_count": 16,
   "metadata": {},
   "outputs": [],
   "source": [
    "train_description_df, test_description_df  = generate_bow('description')\n",
    "train_title_df, test_title_df = generate_bow(\"title\")\n",
    "train_plot_df, test_plot_df = generate_bow(\"plot\")\n",
    "train_csm_review_df, test_csm_review_df = generate_bow(\"csm_review\")\n",
    "train_need_to_know_df, test_need_to_know_df = generate_bow(\"need_to_know\")"
   ]
  },
  {
   "cell_type": "code",
   "execution_count": 17,
   "metadata": {},
   "outputs": [
    {
     "name": "stdout",
     "output_type": "stream",
     "text": [
      "True\n",
      "True\n"
     ]
    }
   ],
   "source": [
    "print(train_description_df.index.equals(train_need_to_know_df.index))\n",
    "print(test_description_df.index.equals(test_title_df.index))"
   ]
  },
  {
   "cell_type": "markdown",
   "metadata": {},
   "source": [
    "## Create Create Train and Test Data Frames"
   ]
  },
  {
   "cell_type": "code",
   "execution_count": 33,
   "metadata": {},
   "outputs": [],
   "source": [
    "train_x = pd.concat(objs=[train_description_df, train_bp_year_df, train_book_genre_df,\n",
    "                         train_book_type_df],\n",
    "                    axis=1)\n",
    "\n",
    "train_y = train_data['csm_rating']"
   ]
  },
  {
   "cell_type": "code",
   "execution_count": 34,
   "metadata": {},
   "outputs": [],
   "source": [
    "test_x = pd.concat(objs=[test_description_df, test_bp_year_df, test_book_genre_df,\n",
    "                        test_book_type_df],\n",
    "                    axis=1)\n",
    "\n",
    "test_y = test_data['csm_rating']"
   ]
  },
  {
   "cell_type": "code",
   "execution_count": 48,
   "metadata": {},
   "outputs": [],
   "source": [
    "xg_reg = xgb.XGBRegressor(objective ='reg:squarederror', colsample_bytree = 0.3, learning_rate = 0.3,\n",
    "                max_depth = 100, alpha = 1, n_estimators = 500, booster = \"gblinear\")"
   ]
  },
  {
   "cell_type": "code",
   "execution_count": 49,
   "metadata": {},
   "outputs": [
    {
     "data": {
      "text/plain": [
       "XGBRegressor(alpha=1, base_score=0.5, booster='gblinear',\n",
       "             colsample_bylevel=None, colsample_bynode=None,\n",
       "             colsample_bytree=0.3, gamma=None, gpu_id=-1,\n",
       "             importance_type='gain', interaction_constraints=None,\n",
       "             learning_rate=0.3, max_delta_step=None, max_depth=100,\n",
       "             min_child_weight=None, missing=nan, monotone_constraints=None,\n",
       "             n_estimators=500, n_jobs=0, num_parallel_tree=None,\n",
       "             objective='reg:squarederror', random_state=0, reg_alpha=1,\n",
       "             reg_lambda=0, scale_pos_weight=1, subsample=None, tree_method=None,\n",
       "             validate_parameters=False, verbosity=None)"
      ]
     },
     "execution_count": 49,
     "metadata": {},
     "output_type": "execute_result"
    }
   ],
   "source": [
    "#Fit the model with the training data\n",
    "xg_reg.fit(train_x, train_y)"
   ]
  },
  {
   "cell_type": "code",
   "execution_count": 50,
   "metadata": {},
   "outputs": [],
   "source": [
    "#Predict the taget on the train data set\n",
    "predict_train = xg_reg.predict(train_x)\n",
    "predict_test = xg_reg.predict(test_x)"
   ]
  },
  {
   "cell_type": "code",
   "execution_count": 51,
   "metadata": {},
   "outputs": [
    {
     "data": {
      "text/plain": [
       "3.282182597540005"
      ]
     },
     "execution_count": 51,
     "metadata": {},
     "output_type": "execute_result"
    }
   ],
   "source": [
    "mean_absolute_error(train_y, predict_train)"
   ]
  },
  {
   "cell_type": "code",
   "execution_count": 52,
   "metadata": {},
   "outputs": [
    {
     "data": {
      "text/plain": [
       "3.2764254173462333"
      ]
     },
     "execution_count": 52,
     "metadata": {},
     "output_type": "execute_result"
    }
   ],
   "source": [
    "mean_absolute_error(test_y, predict_test)"
   ]
  },
  {
   "cell_type": "markdown",
   "metadata": {},
   "source": [
    "### Transform and Predict on the Test DF"
   ]
  },
  {
   "cell_type": "code",
   "execution_count": 53,
   "metadata": {},
   "outputs": [],
   "source": [
    "#Predict the target on the test dataset\n",
    "predict_test = xg_reg.predict(test_x)"
   ]
  },
  {
   "cell_type": "code",
   "execution_count": 54,
   "metadata": {},
   "outputs": [
    {
     "data": {
      "text/plain": [
       "3.2764254173462333"
      ]
     },
     "execution_count": 54,
     "metadata": {},
     "output_type": "execute_result"
    }
   ],
   "source": [
    "mean_absolute_error(predict_test, test_y)"
   ]
  },
  {
   "cell_type": "code",
   "execution_count": 55,
   "metadata": {},
   "outputs": [],
   "source": [
    "test_errors = abs(predict_test - test_y)"
   ]
  },
  {
   "cell_type": "code",
   "execution_count": 56,
   "metadata": {},
   "outputs": [],
   "source": [
    "predictions  = pd.Series(predict_test, index=test_data.index, name=\"predictions\")"
   ]
  },
  {
   "cell_type": "code",
   "execution_count": 57,
   "metadata": {},
   "outputs": [],
   "source": [
    "test_errors.name = \"difference\""
   ]
  },
  {
   "cell_type": "code",
   "execution_count": 58,
   "metadata": {},
   "outputs": [],
   "source": [
    "test_results = pd.concat([test_data, test_errors, predictions], axis=1)"
   ]
  },
  {
   "cell_type": "code",
   "execution_count": 59,
   "metadata": {},
   "outputs": [
    {
     "data": {
      "text/html": [
       "<div>\n",
       "<style scoped>\n",
       "    .dataframe tbody tr th:only-of-type {\n",
       "        vertical-align: middle;\n",
       "    }\n",
       "\n",
       "    .dataframe tbody tr th {\n",
       "        vertical-align: top;\n",
       "    }\n",
       "\n",
       "    .dataframe thead th {\n",
       "        text-align: right;\n",
       "    }\n",
       "</style>\n",
       "<table border=\"1\" class=\"dataframe\">\n",
       "  <thead>\n",
       "    <tr style=\"text-align: right;\">\n",
       "      <th></th>\n",
       "      <th>title</th>\n",
       "      <th>description</th>\n",
       "      <th>plot</th>\n",
       "      <th>csm_review</th>\n",
       "      <th>need_to_know</th>\n",
       "      <th>csm_rating</th>\n",
       "      <th>Genre</th>\n",
       "      <th>Book type</th>\n",
       "      <th>Publication date</th>\n",
       "      <th>difference</th>\n",
       "      <th>predictions</th>\n",
       "    </tr>\n",
       "  </thead>\n",
       "  <tbody>\n",
       "    <tr>\n",
       "      <th>1291</th>\n",
       "      <td>uglies: uglies quartet, book 1</td>\n",
       "      <td>thoughtful sci-fi price beauty.</td>\n",
       "      <td>tally grown postapocalyptic world where, age 1...</td>\n",
       "      <td>author scott westerfeld manages delicate balan...</td>\n",
       "      <td>parents need know scott westerfeld's uglies se...</td>\n",
       "      <td>11</td>\n",
       "      <td>science fiction</td>\n",
       "      <td>fiction</td>\n",
       "      <td>2006</td>\n",
       "      <td>1.83835</td>\n",
       "      <td>9.16165</td>\n",
       "    </tr>\n",
       "    <tr>\n",
       "      <th>832</th>\n",
       "      <td>courage cat campbell</td>\n",
       "      <td>appealing tale would-be witch laughs, insights.</td>\n",
       "      <td>ever since baby, cat campbell desperately hope...</td>\n",
       "      <td>kids determined pursue dream getting lot disco...</td>\n",
       "      <td>parents need know courage cat campbell appeali...</td>\n",
       "      <td>8</td>\n",
       "      <td>coming of age</td>\n",
       "      <td>fiction</td>\n",
       "      <td>2015</td>\n",
       "      <td>1.16165</td>\n",
       "      <td>9.16165</td>\n",
       "    </tr>\n",
       "    <tr>\n",
       "      <th>685</th>\n",
       "      <td>indigo spell: bloodlines, book 3</td>\n",
       "      <td>third bloodlines adventure takes romantic, mag...</td>\n",
       "      <td>end golden lily, alchemist prodigy sydney sage...</td>\n",
       "      <td>readers patiently waiting sydney adrian relati...</td>\n",
       "      <td>parents need know indigo spell third installme...</td>\n",
       "      <td>13</td>\n",
       "      <td>fantasy</td>\n",
       "      <td>fiction</td>\n",
       "      <td>2013</td>\n",
       "      <td>3.83835</td>\n",
       "      <td>9.16165</td>\n",
       "    </tr>\n",
       "    <tr>\n",
       "      <th>5101</th>\n",
       "      <td>love &amp; gelato</td>\n",
       "      <td>teen grapples grief first love charming romance.</td>\n",
       "      <td>17-year-old lina loses mom cancer, honors mom'...</td>\n",
       "      <td>light, fun, fast-paced romance charmer. still ...</td>\n",
       "      <td>parents need know love &amp; gelato combination ro...</td>\n",
       "      <td>12</td>\n",
       "      <td>romance</td>\n",
       "      <td>fiction</td>\n",
       "      <td>2016</td>\n",
       "      <td>2.83835</td>\n",
       "      <td>9.16165</td>\n",
       "    </tr>\n",
       "    <tr>\n",
       "      <th>2617</th>\n",
       "      <td>water horse</td>\n",
       "      <td>another sweet animal tale babe author.</td>\n",
       "      <td>kirstie finds appears unusually large fish egg...</td>\n",
       "      <td>dick king-smith's specialty gentle, fairly eas...</td>\n",
       "      <td>parents need know aside water horse eating swa...</td>\n",
       "      <td>7</td>\n",
       "      <td>fantasy</td>\n",
       "      <td>fiction</td>\n",
       "      <td>1998</td>\n",
       "      <td>2.16165</td>\n",
       "      <td>9.16165</td>\n",
       "    </tr>\n",
       "  </tbody>\n",
       "</table>\n",
       "</div>"
      ],
      "text/plain": [
       "                                 title  \\\n",
       "1291    uglies: uglies quartet, book 1   \n",
       "832               courage cat campbell   \n",
       "685   indigo spell: bloodlines, book 3   \n",
       "5101                     love & gelato   \n",
       "2617                       water horse   \n",
       "\n",
       "                                            description  \\\n",
       "1291                    thoughtful sci-fi price beauty.   \n",
       "832     appealing tale would-be witch laughs, insights.   \n",
       "685   third bloodlines adventure takes romantic, mag...   \n",
       "5101   teen grapples grief first love charming romance.   \n",
       "2617             another sweet animal tale babe author.   \n",
       "\n",
       "                                                   plot  \\\n",
       "1291  tally grown postapocalyptic world where, age 1...   \n",
       "832   ever since baby, cat campbell desperately hope...   \n",
       "685   end golden lily, alchemist prodigy sydney sage...   \n",
       "5101  17-year-old lina loses mom cancer, honors mom'...   \n",
       "2617  kirstie finds appears unusually large fish egg...   \n",
       "\n",
       "                                             csm_review  \\\n",
       "1291  author scott westerfeld manages delicate balan...   \n",
       "832   kids determined pursue dream getting lot disco...   \n",
       "685   readers patiently waiting sydney adrian relati...   \n",
       "5101  light, fun, fast-paced romance charmer. still ...   \n",
       "2617  dick king-smith's specialty gentle, fairly eas...   \n",
       "\n",
       "                                           need_to_know  csm_rating  \\\n",
       "1291  parents need know scott westerfeld's uglies se...          11   \n",
       "832   parents need know courage cat campbell appeali...           8   \n",
       "685   parents need know indigo spell third installme...          13   \n",
       "5101  parents need know love & gelato combination ro...          12   \n",
       "2617  parents need know aside water horse eating swa...           7   \n",
       "\n",
       "                Genre Book type  Publication date  difference  predictions  \n",
       "1291  science fiction   fiction              2006     1.83835      9.16165  \n",
       "832     coming of age   fiction              2015     1.16165      9.16165  \n",
       "685           fantasy   fiction              2013     3.83835      9.16165  \n",
       "5101          romance   fiction              2016     2.83835      9.16165  \n",
       "2617          fantasy   fiction              1998     2.16165      9.16165  "
      ]
     },
     "execution_count": 59,
     "metadata": {},
     "output_type": "execute_result"
    }
   ],
   "source": [
    "test_results.head()"
   ]
  },
  {
   "cell_type": "code",
   "execution_count": 60,
   "metadata": {},
   "outputs": [
    {
     "data": {
      "text/plain": [
       "array([9.1616497])"
      ]
     },
     "execution_count": 60,
     "metadata": {},
     "output_type": "execute_result"
    }
   ],
   "source": [
    "test_results.predictions.unique()"
   ]
  },
  {
   "cell_type": "code",
   "execution_count": null,
   "metadata": {},
   "outputs": [],
   "source": []
  }
 ],
 "metadata": {
  "kernelspec": {
   "display_name": "base",
   "language": "python",
   "name": "base"
  },
  "language_info": {
   "codemirror_mode": {
    "name": "ipython",
    "version": 3
   },
   "file_extension": ".py",
   "mimetype": "text/x-python",
   "name": "python",
   "nbconvert_exporter": "python",
   "pygments_lexer": "ipython3",
   "version": "3.7.4"
  }
 },
 "nbformat": 4,
 "nbformat_minor": 4
}
