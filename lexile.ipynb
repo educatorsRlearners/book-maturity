{
 "cells": [
  {
   "cell_type": "markdown",
   "metadata": {},
   "source": [
    "[Guide](https://www.dataquest.io/blog/web-scraping-tutorial-python/)"
   ]
  },
  {
   "cell_type": "code",
   "execution_count": 1,
   "metadata": {},
   "outputs": [],
   "source": [
    "import requests\n",
    "import pandas as pd \n",
    "from bs4 import BeautifulSoup\n",
    "from csv import writer"
   ]
  },
  {
   "cell_type": "code",
   "execution_count": 2,
   "metadata": {},
   "outputs": [],
   "source": [
    "base_url = 'https://www.commonsensemedia.org/book-reviews'\n",
    "page = '?page='\n",
    "all_pages = range(1,291)\n",
    "all_pages_list = [base_url+page+str(p) for p in all_pages]"
   ]
  },
  {
   "cell_type": "code",
   "execution_count": 3,
   "metadata": {},
   "outputs": [],
   "source": [
    "page = requests.get(base_url)\n",
    "\n",
    "soup = BeautifulSoup(page.text, 'html.parser')"
   ]
  },
  {
   "cell_type": "code",
   "execution_count": 4,
   "metadata": {},
   "outputs": [],
   "source": [
    "books = soup.findAll(class_=\"content-content-wrapper\")"
   ]
  },
  {
   "cell_type": "code",
   "execution_count": 29,
   "metadata": {},
   "outputs": [],
   "source": [
    "with open('lexile/books.csv', 'w') as csv_file:\n",
    "    csv_writer = writer(csv_file)\n",
    "    \n",
    "    #create header in the csv file\n",
    "    headers = ['Title', 'Description', \"Author\", 'Age']\n",
    "    \n",
    "    #write a row of headers in the csv\n",
    "    csv_writer.writerow(headers)\n",
    "    \n",
    "    #loop\n",
    "    for book in books:\n",
    "        title = book.find(class_=\"views-field views-field-field-reference-review-ent-prod result-title\").get_text()\n",
    "        description = book.find(class_=\"views-field views-field-field-one-liner one-liner\").get_text()\n",
    "        author = book.find(class_=\"views-field views-field-field-term-book-authors review-supplemental\").get_text().replace(\" By \", \"\").rstrip()\n",
    "        age = book.find(class_=\"csm-green-age\").get_text()\n",
    "        csv_writer.writerow([title, description, author, age])"
   ]
  },
  {
   "cell_type": "code",
   "execution_count": 6,
   "metadata": {},
   "outputs": [
    {
     "data": {
      "text/html": [
       "<div>\n",
       "<style scoped>\n",
       "    .dataframe tbody tr th:only-of-type {\n",
       "        vertical-align: middle;\n",
       "    }\n",
       "\n",
       "    .dataframe tbody tr th {\n",
       "        vertical-align: top;\n",
       "    }\n",
       "\n",
       "    .dataframe thead th {\n",
       "        text-align: right;\n",
       "    }\n",
       "</style>\n",
       "<table border=\"1\" class=\"dataframe\">\n",
       "  <thead>\n",
       "    <tr style=\"text-align: right;\">\n",
       "      <th></th>\n",
       "      <th>Title</th>\n",
       "      <th>Description</th>\n",
       "      <th>Author</th>\n",
       "      <th>Age</th>\n",
       "    </tr>\n",
       "  </thead>\n",
       "  <tbody>\n",
       "    <tr>\n",
       "      <td>0</td>\n",
       "      <td>96 Miles</td>\n",
       "      <td>Kids seek safety in riveting tale of post-dis...</td>\n",
       "      <td>J. L. Esplin</td>\n",
       "      <td>age 9+</td>\n",
       "    </tr>\n",
       "    <tr>\n",
       "      <td>1</td>\n",
       "      <td>Tomorrow I'll Be Kind</td>\n",
       "      <td>Book about kindness is beautiful but preachy.</td>\n",
       "      <td>Jessica Hische</td>\n",
       "      <td>age 3+</td>\n",
       "    </tr>\n",
       "    <tr>\n",
       "      <td>2</td>\n",
       "      <td>Chirp</td>\n",
       "      <td>Girl finds voice to call out harassment in tr...</td>\n",
       "      <td>Kate Messner</td>\n",
       "      <td>age 10+</td>\n",
       "    </tr>\n",
       "    <tr>\n",
       "      <td>3</td>\n",
       "      <td>The Night Country: The Hazel Wood, Book 2</td>\n",
       "      <td>Tough teen battles dark magic in inventive fa...</td>\n",
       "      <td>Melissa Albert</td>\n",
       "      <td>age 13+</td>\n",
       "    </tr>\n",
       "    <tr>\n",
       "      <td>4</td>\n",
       "      <td>Foul Is Fair</td>\n",
       "      <td>Dark, violent revenge tale is a teen update o...</td>\n",
       "      <td>Hannah Capin</td>\n",
       "      <td>age 14+</td>\n",
       "    </tr>\n",
       "  </tbody>\n",
       "</table>\n",
       "</div>"
      ],
      "text/plain": [
       "                                         Title  \\\n",
       "0                                    96 Miles    \n",
       "1                       Tomorrow I'll Be Kind    \n",
       "2                                       Chirp    \n",
       "3   The Night Country: The Hazel Wood, Book 2    \n",
       "4                                Foul Is Fair    \n",
       "\n",
       "                                         Description          Author      Age  \n",
       "0   Kids seek safety in riveting tale of post-dis...    J. L. Esplin   age 9+  \n",
       "1     Book about kindness is beautiful but preachy.   Jessica Hische   age 3+  \n",
       "2   Girl finds voice to call out harassment in tr...    Kate Messner  age 10+  \n",
       "3   Tough teen battles dark magic in inventive fa...  Melissa Albert  age 13+  \n",
       "4   Dark, violent revenge tale is a teen update o...    Hannah Capin  age 14+  "
      ]
     },
     "execution_count": 6,
     "metadata": {},
     "output_type": "execute_result"
    }
   ],
   "source": [
    "df = pd.read_csv('lexile/books.csv')\n",
    "df.head()"
   ]
  },
  {
   "cell_type": "code",
   "execution_count": 13,
   "metadata": {},
   "outputs": [
    {
     "data": {
      "text/plain": [
       "age 10+    559\n",
       "age 11+    198\n",
       "age 12+    502\n",
       "age 13+    559\n",
       "age 14+    638\n",
       "age 15+    220\n",
       "age 16+     89\n",
       "age 17+     18\n",
       "age 2+     147\n",
       "age 3+     282\n",
       "age 4+     788\n",
       "age 5+     198\n",
       "age 6+     219\n",
       "age 7+     168\n",
       "age 8+     600\n",
       "age 9+     623\n",
       "Name: Age, dtype: int64"
      ]
     },
     "execution_count": 13,
     "metadata": {},
     "output_type": "execute_result"
    }
   ],
   "source": [
    "df['Age'].value_counts().sort_index()"
   ]
  },
  {
   "cell_type": "code",
   "execution_count": 15,
   "metadata": {},
   "outputs": [
    {
     "data": {
      "text/plain": [
       "2926"
      ]
     },
     "execution_count": 15,
     "metadata": {},
     "output_type": "execute_result"
    }
   ],
   "source": [
    "len(df['Author'].unique())"
   ]
  },
  {
   "cell_type": "code",
   "execution_count": 20,
   "metadata": {},
   "outputs": [
    {
     "data": {
      "text/plain": [
       "(5808, 4)"
      ]
     },
     "execution_count": 20,
     "metadata": {},
     "output_type": "execute_result"
    }
   ],
   "source": [
    "df.shape"
   ]
  },
  {
   "cell_type": "code",
   "execution_count": 32,
   "metadata": {},
   "outputs": [],
   "source": [
    "for page in all_pages_list: \n",
    "    page = requests.get(page)\n",
    "    soup = BeautifulSoup(page.text, 'html.parser')\n",
    "    books = soup.findAll(class_=\"content-content-wrapper\")\n",
    "    with open('lexile/books.csv', 'a') as csv_file:\n",
    "        csv_writer = writer(csv_file)\n",
    "    \n",
    "        #create heder in the csv file\n",
    "        #headers = ['Title', 'Description', 'Age']\n",
    "    \n",
    "        #write a row of headers in the csv\n",
    "        #csv_writer.writerow(headers)\n",
    "    \n",
    "        #loop\n",
    "        for book in books:\n",
    "            title = book.find(class_=\"views-field views-field-field-reference-review-ent-prod result-title\").get_text()\n",
    "            description = book.find(class_=\"views-field views-field-field-one-liner one-liner\").get_text()\n",
    "            author = book.find(class_=\"views-field views-field-field-term-book-authors review-supplemental\").get_text().replace(\" By \", \"\").rstrip()\n",
    "            age = book.find(class_=\"csm-green-age\").get_text()\n",
    "            csv_writer.writerow([title, description, author, age])"
   ]
  },
  {
   "cell_type": "markdown",
   "metadata": {},
   "source": [
    "[Get Book Covers](https://towardsdatascience.com/web-scraping-using-beautifulsoup-edd9441ba734)"
   ]
  },
  {
   "cell_type": "code",
   "execution_count": 17,
   "metadata": {},
   "outputs": [],
   "source": [
    "covers = soup.findAll(class_=\"field-content review-product-image\")\n",
    "covers = [cover.findAll(\"img\") for cover in covers]"
   ]
  },
  {
   "cell_type": "code",
   "execution_count": 18,
   "metadata": {},
   "outputs": [],
   "source": [
    "title = [cover[1].get('title') for cover in covers]\n",
    "cover_src = [cover[1].get('src') for cover in covers]"
   ]
  },
  {
   "cell_type": "code",
   "execution_count": null,
   "metadata": {},
   "outputs": [],
   "source": [
    "info = dict(zip(title, cover_src))"
   ]
  },
  {
   "cell_type": "code",
   "execution_count": null,
   "metadata": {},
   "outputs": [],
   "source": [
    "for k, v in info.items():\n",
    "    with open('./lexile/covers/' + k + '.png', 'wb') as f:\n",
    "        f.write(requests.get(v).content)"
   ]
  },
  {
   "cell_type": "code",
   "execution_count": null,
   "metadata": {},
   "outputs": [],
   "source": [
    "for page in all_pages_list: \n",
    "    page = requests.get(page)\n",
    "    soup = BeautifulSoup(page.text, 'html.parser')\n",
    "    covers = soup.findAll(class_=\"field-content review-product-image\")\n",
    "    covers = [cover.findAll(\"img\") for cover in covers]\n",
    "    title = [cover[1].get('title') for cover in covers]\n",
    "    cover_src = [cover[1].get('src') for cover in covers]\n",
    "    info = dict(zip(title, cover_src))\n",
    "    for k, v in info.items():\n",
    "        try:\n",
    "            with open('./lexile/covers/' + k + '.png', 'wb') as f:\n",
    "                f.write(requests.get(v).content)\n",
    "        except FileNotFoundError as err:\n",
    "            print(k)\n"
   ]
  },
  {
   "cell_type": "markdown",
   "metadata": {},
   "source": [
    "## To do:\n",
    "- rename the book covers\n",
    "- clean the age column\n",
    "- clean the names with a \"/\" so that we can download them"
   ]
  },
  {
   "cell_type": "code",
   "execution_count": null,
   "metadata": {},
   "outputs": [],
   "source": []
  }
 ],
 "metadata": {
  "kernelspec": {
   "display_name": "Python 3",
   "language": "python",
   "name": "python3"
  },
  "language_info": {
   "codemirror_mode": {
    "name": "ipython",
    "version": 3
   },
   "file_extension": ".py",
   "mimetype": "text/x-python",
   "name": "python",
   "nbconvert_exporter": "python",
   "pygments_lexer": "ipython3",
   "version": "3.7.4"
  }
 },
 "nbformat": 4,
 "nbformat_minor": 4
}
