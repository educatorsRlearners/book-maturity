{
 "cells": [
  {
   "cell_type": "markdown",
   "metadata": {},
   "source": [
    "[Guide](https://www.dataquest.io/blog/web-scraping-tutorial-python/)"
   ]
  },
  {
   "cell_type": "code",
   "execution_count": 1,
   "metadata": {},
   "outputs": [],
   "source": [
    "import requests\n",
    "from bs4 import BeautifulSoup\n",
    "from csv import writer"
   ]
  },
  {
   "cell_type": "code",
   "execution_count": 2,
   "metadata": {},
   "outputs": [],
   "source": [
    "base_url = 'https://www.commonsensemedia.org/book-reviews'\n",
    "page = '?page='\n",
    "all_pages = range(1,290)\n",
    "all_pages_list = [base_url+page+str(p) for p in all_pages]"
   ]
  },
  {
   "cell_type": "code",
   "execution_count": 3,
   "metadata": {},
   "outputs": [],
   "source": [
    "page = requests.get(base_url)\n",
    "\n",
    "soup = BeautifulSoup(page.text, 'html.parser')"
   ]
  },
  {
   "cell_type": "code",
   "execution_count": 4,
   "metadata": {},
   "outputs": [],
   "source": [
    "books = soup.findAll(class_=\"content-content-wrapper\")"
   ]
  },
  {
   "cell_type": "code",
   "execution_count": 5,
   "metadata": {},
   "outputs": [
    {
     "data": {
      "text/plain": [
       "<div class=\"content-content-wrapper\">\n",
       "<div class=\"title-data-wrapper\">\n",
       "<div class=\"views-field views-field-field-reference-review-ent-prod-type content-type\"> <span class=\"field-content csm_book\"><span class=\"entertainment-product-type\">csm_book</span></span> </div>\n",
       "<div class=\"views-field views-field-field-reference-review-ent-prod result-title\"> <strong class=\"field-content\"><a href=\"/book-reviews/tomorrow-ill-be-kind\">Tomorrow I'll Be Kind</a></strong> </div>\n",
       "</div>\n",
       "<div class=\"ratings-wrapper csm_review\">\n",
       "<div class=\"csm-green-age\"><span class=\"checkmark-icon\"></span>age 3+</div>\n",
       "<div class=\"views-field views-field-field-stars-rating inline rating-value\"> <span class=\"field-content\"><div class=\"ratings-small star rating-3 field-stars-rating csm-review\"></div></span> </div>\n",
       "</div>\n",
       "<div class=\"views-field views-field-field-one-liner one-liner\"> <span class=\"field-content\">Book about kindness is beautiful but preachy.</span> </div>\n",
       "<div class=\"supplemental-data-wrapper csm_review\">\n",
       "<div class=\"views-field views-field-field-term-book-authors review-supplemental\"> <em class=\"views-label views-label-field-term-book-authors\">By</em> <em class=\"field-content\">Jessica Hische</em> </div>\n",
       "<div class=\"views-field views-field-field-release-date review-supplemental\"> <em class=\"field-content\">(<span class=\"date-display-single\" content=\"2020-01-14T00:00:00-08:00\" datatype=\"xsd:dateTime\" property=\"dc:date\"><span class=\"nowrap-date\">2020</span></span>)</em> </div>\n",
       "</div>\n",
       "<a class=\"csm-button\" href=\"/book-reviews/tomorrow-ill-be-kind\">Continue reading</a>\n",
       "</div>"
      ]
     },
     "execution_count": 5,
     "metadata": {},
     "output_type": "execute_result"
    }
   ],
   "source": [
    "books[0]"
   ]
  },
  {
   "cell_type": "code",
   "execution_count": 6,
   "metadata": {},
   "outputs": [
    {
     "name": "stdout",
     "output_type": "stream",
     "text": [
      "done\n"
     ]
    }
   ],
   "source": [
    "with open('lexile/books.csv', 'w') as csv_file:\n",
    "    csv_writer = writer(csv_file)\n",
    "    \n",
    "    #create heder in the csv file\n",
    "    headers = ['Title', 'Description', 'Age']\n",
    "    \n",
    "    #write a row of headers in the csv\n",
    "    csv_writer.writerow(headers)\n",
    "    \n",
    "    #loop\n",
    "    for book in books:\n",
    "        title = book.find(class_=\"views-field views-field-field-reference-review-ent-prod result-title\").get_text()\n",
    "        description = book.find(class_=\"views-field views-field-field-one-liner one-liner\").get_text()\n",
    "        age = book.find(class_=\"csm-green-age\").get_text()\n",
    "        csv_writer.writerow([title, description, age])\n",
    "    print(\"done\")"
   ]
  },
  {
   "cell_type": "code",
   "execution_count": 7,
   "metadata": {},
   "outputs": [],
   "source": [
    "import pandas as pd \n",
    "\n",
    "test = pd.read_csv('lexile/books.csv')"
   ]
  },
  {
   "cell_type": "code",
   "execution_count": 8,
   "metadata": {},
   "outputs": [
    {
     "data": {
      "text/html": [
       "<div>\n",
       "<style scoped>\n",
       "    .dataframe tbody tr th:only-of-type {\n",
       "        vertical-align: middle;\n",
       "    }\n",
       "\n",
       "    .dataframe tbody tr th {\n",
       "        vertical-align: top;\n",
       "    }\n",
       "\n",
       "    .dataframe thead th {\n",
       "        text-align: right;\n",
       "    }\n",
       "</style>\n",
       "<table border=\"1\" class=\"dataframe\">\n",
       "  <thead>\n",
       "    <tr style=\"text-align: right;\">\n",
       "      <th></th>\n",
       "      <th>Title</th>\n",
       "      <th>Description</th>\n",
       "      <th>Age</th>\n",
       "    </tr>\n",
       "  </thead>\n",
       "  <tbody>\n",
       "    <tr>\n",
       "      <td>0</td>\n",
       "      <td>Tomorrow I'll Be Kind</td>\n",
       "      <td>Book about kindness is beautiful but preachy.</td>\n",
       "      <td>age 3+</td>\n",
       "    </tr>\n",
       "    <tr>\n",
       "      <td>1</td>\n",
       "      <td>Chirp</td>\n",
       "      <td>Girl finds voice to call out harassment in tr...</td>\n",
       "      <td>age 10+</td>\n",
       "    </tr>\n",
       "    <tr>\n",
       "      <td>2</td>\n",
       "      <td>The Night Country: The Hazel Wood, Book 2</td>\n",
       "      <td>Tough teen battles dark magic in inventive fa...</td>\n",
       "      <td>age 13+</td>\n",
       "    </tr>\n",
       "    <tr>\n",
       "      <td>3</td>\n",
       "      <td>Foul Is Fair</td>\n",
       "      <td>Dark, violent revenge tale is a teen update o...</td>\n",
       "      <td>age 14+</td>\n",
       "    </tr>\n",
       "    <tr>\n",
       "      <td>4</td>\n",
       "      <td>The Thief Knot: A Greenglass House Story</td>\n",
       "      <td>Intrepid tweens hunt down kidnappers in intri...</td>\n",
       "      <td>age 10+</td>\n",
       "    </tr>\n",
       "  </tbody>\n",
       "</table>\n",
       "</div>"
      ],
      "text/plain": [
       "                                         Title  \\\n",
       "0                       Tomorrow I'll Be Kind    \n",
       "1                                       Chirp    \n",
       "2   The Night Country: The Hazel Wood, Book 2    \n",
       "3                                Foul Is Fair    \n",
       "4    The Thief Knot: A Greenglass House Story    \n",
       "\n",
       "                                         Description      Age  \n",
       "0     Book about kindness is beautiful but preachy.    age 3+  \n",
       "1   Girl finds voice to call out harassment in tr...  age 10+  \n",
       "2   Tough teen battles dark magic in inventive fa...  age 13+  \n",
       "3   Dark, violent revenge tale is a teen update o...  age 14+  \n",
       "4   Intrepid tweens hunt down kidnappers in intri...  age 10+  "
      ]
     },
     "execution_count": 8,
     "metadata": {},
     "output_type": "execute_result"
    }
   ],
   "source": [
    "test.head()"
   ]
  },
  {
   "cell_type": "markdown",
   "metadata": {},
   "source": [
    "[Get Book Covers](https://towardsdatascience.com/web-scraping-using-beautifulsoup-edd9441ba734)"
   ]
  },
  {
   "cell_type": "code",
   "execution_count": 122,
   "metadata": {},
   "outputs": [
    {
     "data": {
      "text/plain": [
       "20"
      ]
     },
     "execution_count": 122,
     "metadata": {},
     "output_type": "execute_result"
    }
   ],
   "source": [
    "covers = soup.findAll(class_=\"field-content review-product-image\")\n",
    "covers = [cover.findAll(\"img\") for cover in covers]"
   ]
  },
  {
   "cell_type": "code",
   "execution_count": 89,
   "metadata": {},
   "outputs": [
    {
     "data": {
      "text/plain": [
       "\"Tomorrow I'll Be Kind Book Poster Image\""
      ]
     },
     "execution_count": 89,
     "metadata": {},
     "output_type": "execute_result"
    }
   ],
   "source": [
    "img = covers[0]\n",
    "img[1].get('title')"
   ]
  },
  {
   "cell_type": "code",
   "execution_count": 82,
   "metadata": {},
   "outputs": [],
   "source": [
    "url = img[1].get('src')"
   ]
  },
  {
   "cell_type": "code",
   "execution_count": 83,
   "metadata": {},
   "outputs": [],
   "source": [
    "res = requests.get(url)"
   ]
  },
  {
   "cell_type": "code",
   "execution_count": 91,
   "metadata": {},
   "outputs": [],
   "source": [
    "with open('./lexile/covers/' + img[1].get('title') + '.png', 'wb') as fi:\n",
    "    for chunk in res.iter_content(100000):\n",
    "        fi.write(chunk)"
   ]
  },
  {
   "cell_type": "code",
   "execution_count": 124,
   "metadata": {},
   "outputs": [],
   "source": [
    "title = []\n",
    "cover_src = []\n",
    "for cover in covers:\n",
    "    title.append(cover[1].get('title'))\n",
    "    cover_src.append(cover[1].get('src'))"
   ]
  },
  {
   "cell_type": "code",
   "execution_count": 126,
   "metadata": {},
   "outputs": [
    {
     "data": {
      "text/plain": [
       "['https://d2e111jq13me73.cloudfront.net/sites/default/files/styles/product_image_aspect_switcher/public/product-images/csm-book/tomorrowillbekind.jpg?itok=K929Dg1w',\n",
       " 'https://d2e111jq13me73.cloudfront.net/sites/default/files/styles/product_image_aspect_switcher/public/product-images/csm-book/chirp-book-image.jpg?itok=GliYxUjS',\n",
       " 'https://d2e111jq13me73.cloudfront.net/sites/default/files/styles/product_image_aspect_switcher/public/product-images/csm-book/nightcountry.jpg?itok=JmKDTqmk',\n",
       " 'https://d2e111jq13me73.cloudfront.net/sites/default/files/styles/product_image_aspect_switcher/public/product-images/csm-book/foulisfair-book-cover-image.jpg?itok=qaG0KTRr',\n",
       " 'https://d2e111jq13me73.cloudfront.net/sites/default/files/styles/product_image_aspect_switcher/public/product-images/csm-book/thethiefknot-book-product-image.jpg?itok=waS8wOOq',\n",
       " 'https://d2e111jq13me73.cloudfront.net/sites/default/files/styles/product_image_aspect_switcher/public/product-images/csm-book/yesnomaybeso-books-image.jpg?itok=Qad2peIf',\n",
       " 'https://d2e111jq13me73.cloudfront.net/sites/default/files/styles/product_image_aspect_switcher/public/product-images/csm-book/bent-heavens.jpg?itok=AeENVsAs',\n",
       " 'https://d2e111jq13me73.cloudfront.net/sites/default/files/styles/product_image_aspect_switcher/public/product-images/csm-book/pure-and-simple.png?itok=4xPHoMn2',\n",
       " 'https://d2e111jq13me73.cloudfront.net/sites/default/files/styles/product_image_aspect_switcher/public/product-images/csm-book/hereintherealworld-book-cover.jpg?itok=YAFaT9f3',\n",
       " 'https://d2e111jq13me73.cloudfront.net/sites/default/files/styles/product_image_aspect_switcher/public/product-images/csm-book/emberqueenashprincessbook3-book-image.jpg?itok=-jzfMhiO',\n",
       " 'https://d2e111jq13me73.cloudfront.net/sites/default/files/styles/product_image_aspect_switcher/public/product-images/csm-book/shadowofthebatgirl-book-image.jpg?itok=byDjMt43',\n",
       " 'https://d2e111jq13me73.cloudfront.net/sites/default/files/styles/product_image_aspect_switcher/public/product-images/csm-book/dontreadthecomments-book-image.jpg?itok=vATjleu6',\n",
       " 'https://d2e111jq13me73.cloudfront.net/sites/default/files/styles/product_image_aspect_switcher/public/product-images/csm-book/ashlords-book-cover-image.jpg?itok=vO8oaRjM',\n",
       " 'https://d2e111jq13me73.cloudfront.net/sites/default/files/styles/product_image_aspect_switcher/public/product-images/csm-book/almostamericangirl-book-image_1.jpg?itok=gyO_8ZL0',\n",
       " 'https://d2e111jq13me73.cloudfront.net/sites/default/files/styles/product_image_aspect_switcher/public/product-images/csm-book/thefirstconspiracy-book-cover.jpg?itok=65dMIDcv',\n",
       " 'https://d2e111jq13me73.cloudfront.net/sites/default/files/styles/product_image_aspect_switcher/public/product-images/csm-book/ordinaryhazards-books-image.jpg?itok=B9k3L6N2',\n",
       " 'https://d2e111jq13me73.cloudfront.net/sites/default/files/styles/product_image_aspect_switcher/public/product-images/csm-book/allthestarsandteeth-book-image.jpg?itok=nr9ipeQF',\n",
       " 'https://d2e111jq13me73.cloudfront.net/sites/default/files/styles/product_image_aspect_switcher/public/product-images/csm-book/dianaprincessoftheamazons-book-image.jpg?itok=clJT3L5j',\n",
       " 'https://d2e111jq13me73.cloudfront.net/sites/default/files/styles/product_image_aspect_switcher/public/product-images/csm-book/epocathetreeofecrof-book-product-image.jpg?itok=mJ72u93g',\n",
       " 'https://d2e111jq13me73.cloudfront.net/sites/default/files/styles/product_image_aspect_switcher/public/product-images/csm-book/savannah.jpg?itok=mrAgai2Q']"
      ]
     },
     "execution_count": 126,
     "metadata": {},
     "output_type": "execute_result"
    }
   ],
   "source": [
    "cover_src"
   ]
  },
  {
   "cell_type": "code",
   "execution_count": null,
   "metadata": {},
   "outputs": [],
   "source": []
  }
 ],
 "metadata": {
  "kernelspec": {
   "display_name": "Python 3",
   "language": "python",
   "name": "python3"
  },
  "language_info": {
   "codemirror_mode": {
    "name": "ipython",
    "version": 3
   },
   "file_extension": ".py",
   "mimetype": "text/x-python",
   "name": "python",
   "nbconvert_exporter": "python",
   "pygments_lexer": "ipython3",
   "version": "3.7.4"
  }
 },
 "nbformat": 4,
 "nbformat_minor": 4
}
