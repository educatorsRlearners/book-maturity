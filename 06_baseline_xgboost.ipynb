{
 "cells": [
  {
   "cell_type": "code",
   "execution_count": 1,
   "metadata": {},
   "outputs": [],
   "source": [
    "import pandas as pd\n",
    "import numpy as np\n",
    "import xgboost as xgb\n",
    "\n",
    "from sklearn.model_selection import StratifiedShuffleSplit\n",
    "from sklearn.metrics import mean_absolute_error\n",
    "from sklearn.feature_extraction.text import CountVectorizer"
   ]
  },
  {
   "cell_type": "markdown",
   "metadata": {},
   "source": [
    "# [Tutorial](https://machinelearningmastery.com/gradient-boosting-with-scikit-learn-xgboost-lightgbm-and-catboost/)"
   ]
  },
  {
   "cell_type": "markdown",
   "metadata": {},
   "source": [
    "## Load the Data "
   ]
  },
  {
   "cell_type": "code",
   "execution_count": 2,
   "metadata": {},
   "outputs": [],
   "source": [
    "df = pd.read_csv(\"csv/book_info_complete.csv\")"
   ]
  },
  {
   "cell_type": "markdown",
   "metadata": {},
   "source": [
    "### Keep Description and CSM_Rating"
   ]
  },
  {
   "cell_type": "code",
   "execution_count": 3,
   "metadata": {},
   "outputs": [],
   "source": [
    "df = df.loc[:, ['description', \"csm_rating\"]]"
   ]
  },
  {
   "cell_type": "code",
   "execution_count": 4,
   "metadata": {},
   "outputs": [],
   "source": [
    "def splitter(df):\n",
    "    split = StratifiedShuffleSplit(n_splits=1, test_size=0.2, random_state=999)\n",
    "    for train_index, test_index in split.split(df, df['csm_rating']):\n",
    "        train_data= df.loc[train_index]\n",
    "        test_data = df.loc[test_index]\n",
    "    \n",
    "    return train_data, test_data"
   ]
  },
  {
   "cell_type": "code",
   "execution_count": 5,
   "metadata": {},
   "outputs": [],
   "source": [
    "train_data, test_data = splitter(df)"
   ]
  },
  {
   "cell_type": "code",
   "execution_count": 6,
   "metadata": {},
   "outputs": [
    {
     "data": {
      "text/plain": [
       "(4652, 2)"
      ]
     },
     "execution_count": 6,
     "metadata": {},
     "output_type": "execute_result"
    }
   ],
   "source": [
    "train_data.shape"
   ]
  },
  {
   "cell_type": "code",
   "execution_count": 7,
   "metadata": {},
   "outputs": [
    {
     "data": {
      "text/plain": [
       "(1164, 2)"
      ]
     },
     "execution_count": 7,
     "metadata": {},
     "output_type": "execute_result"
    }
   ],
   "source": [
    "test_data.shape"
   ]
  },
  {
   "cell_type": "code",
   "execution_count": 8,
   "metadata": {},
   "outputs": [],
   "source": [
    "#instantiate CountVectorizer()\n",
    "cv=CountVectorizer()\n",
    "\n",
    "# this steps generates word counts for the words in your docs\n",
    "word_count_vector=cv.fit_transform(train_data['description'])"
   ]
  },
  {
   "cell_type": "code",
   "execution_count": 9,
   "metadata": {},
   "outputs": [],
   "source": [
    "# seperate the independent and target variable on training data\n",
    "train_x = pd.DataFrame(word_count_vector.todense(), columns=cv.get_feature_names())\n",
    "train_y = train_data['csm_rating']\n"
   ]
  },
  {
   "cell_type": "code",
   "execution_count": 10,
   "metadata": {},
   "outputs": [],
   "source": [
    "# seperate the independent and target variable on testing data\n",
    "#test_x = test_data.drop(columns=['csm_rating'],axis=1)\n",
    "#test_x = pd.DataFrame(cv.transform(test_x))\n",
    "test_x = pd.DataFrame(cv.transform(test_data['description']).todense(), columns=cv.get_feature_names())\n",
    "test_y = test_data['csm_rating']"
   ]
  },
  {
   "cell_type": "code",
   "execution_count": 11,
   "metadata": {},
   "outputs": [],
   "source": [
    "xg_reg = xgb.XGBRegressor(objective ='reg:squarederror', colsample_bytree = 0.3, learning_rate = 0.03,\n",
    "                max_depth = 10, alpha = 1, n_estimators = 500, booster = \"gblinear\")"
   ]
  },
  {
   "cell_type": "code",
   "execution_count": 12,
   "metadata": {},
   "outputs": [
    {
     "data": {
      "text/plain": [
       "XGBRegressor(alpha=1, base_score=0.5, booster='gblinear',\n",
       "             colsample_bylevel=None, colsample_bynode=None,\n",
       "             colsample_bytree=0.3, gamma=None, gpu_id=-1,\n",
       "             importance_type='gain', interaction_constraints=None,\n",
       "             learning_rate=0.03, max_delta_step=None, max_depth=3,\n",
       "             min_child_weight=None, missing=nan, monotone_constraints=None,\n",
       "             n_estimators=500, n_jobs=0, num_parallel_tree=None,\n",
       "             objective='reg:squarederror', random_state=0, reg_alpha=1,\n",
       "             reg_lambda=0, scale_pos_weight=1, subsample=None, tree_method=None,\n",
       "             validate_parameters=False, verbosity=None)"
      ]
     },
     "execution_count": 12,
     "metadata": {},
     "output_type": "execute_result"
    }
   ],
   "source": [
    "#Fit the model with the training data\n",
    "xg_reg.fit(train_x, train_y)\n",
    "#xg_reg.fit(X_train,y_train)"
   ]
  },
  {
   "cell_type": "code",
   "execution_count": 13,
   "metadata": {},
   "outputs": [],
   "source": [
    "#Predict the taget on the train data set\n",
    "predict_train = xg_reg.predict(train_x)\n",
    "predict_test = xg_reg.predict(test_x)\n",
    "\n",
    "#preds = xg_reg.predict(X_test)"
   ]
  },
  {
   "cell_type": "code",
   "execution_count": 14,
   "metadata": {},
   "outputs": [
    {
     "data": {
      "text/plain": [
       "3.2821819954459666"
      ]
     },
     "execution_count": 14,
     "metadata": {},
     "output_type": "execute_result"
    }
   ],
   "source": [
    "mean_absolute_error(train_y, predict_train)"
   ]
  },
  {
   "cell_type": "code",
   "execution_count": 15,
   "metadata": {},
   "outputs": [
    {
     "data": {
      "text/plain": [
       "3.276424833999057"
      ]
     },
     "execution_count": 15,
     "metadata": {},
     "output_type": "execute_result"
    }
   ],
   "source": [
    "mean_absolute_error(test_y, predict_test)"
   ]
  },
  {
   "cell_type": "markdown",
   "metadata": {},
   "source": [
    "### Transform and Predict on the Test DF"
   ]
  },
  {
   "cell_type": "code",
   "execution_count": 17,
   "metadata": {},
   "outputs": [],
   "source": [
    "#Predict the target on the test dataset\n",
    "predict_test = xg_reg.predict(test_x)"
   ]
  },
  {
   "cell_type": "code",
   "execution_count": 18,
   "metadata": {},
   "outputs": [
    {
     "data": {
      "text/plain": [
       "3.276424833999057"
      ]
     },
     "execution_count": 18,
     "metadata": {},
     "output_type": "execute_result"
    }
   ],
   "source": [
    "mean_absolute_error(predict_test, test_y)"
   ]
  },
  {
   "cell_type": "code",
   "execution_count": 19,
   "metadata": {},
   "outputs": [],
   "source": [
    "test_errors = abs(predict_test - test_y)"
   ]
  },
  {
   "cell_type": "code",
   "execution_count": 20,
   "metadata": {},
   "outputs": [],
   "source": [
    "predictions  = pd.Series(predict_test, index=test_data.index, name=\"predictions\")"
   ]
  },
  {
   "cell_type": "code",
   "execution_count": 21,
   "metadata": {},
   "outputs": [],
   "source": [
    "test_errors.name = \"difference\""
   ]
  },
  {
   "cell_type": "code",
   "execution_count": 22,
   "metadata": {},
   "outputs": [],
   "source": [
    "test_results = pd.concat([test_data, test_errors, predictions], axis=1)"
   ]
  },
  {
   "cell_type": "code",
   "execution_count": 23,
   "metadata": {},
   "outputs": [
    {
     "data": {
      "text/html": [
       "<div>\n",
       "<style scoped>\n",
       "    .dataframe tbody tr th:only-of-type {\n",
       "        vertical-align: middle;\n",
       "    }\n",
       "\n",
       "    .dataframe tbody tr th {\n",
       "        vertical-align: top;\n",
       "    }\n",
       "\n",
       "    .dataframe thead th {\n",
       "        text-align: right;\n",
       "    }\n",
       "</style>\n",
       "<table border=\"1\" class=\"dataframe\">\n",
       "  <thead>\n",
       "    <tr style=\"text-align: right;\">\n",
       "      <th></th>\n",
       "      <th>description</th>\n",
       "      <th>csm_rating</th>\n",
       "      <th>difference</th>\n",
       "      <th>predictions</th>\n",
       "    </tr>\n",
       "  </thead>\n",
       "  <tbody>\n",
       "    <tr>\n",
       "      <th>1291</th>\n",
       "      <td>Thoughtful sci-fi about the price of beauty.</td>\n",
       "      <td>11</td>\n",
       "      <td>1.838364</td>\n",
       "      <td>9.161636</td>\n",
       "    </tr>\n",
       "    <tr>\n",
       "      <th>832</th>\n",
       "      <td>Appealing tale of would-be witch has laughs, i...</td>\n",
       "      <td>8</td>\n",
       "      <td>1.161636</td>\n",
       "      <td>9.161636</td>\n",
       "    </tr>\n",
       "    <tr>\n",
       "      <th>685</th>\n",
       "      <td>Third Bloodlines adventure takes a romantic, m...</td>\n",
       "      <td>13</td>\n",
       "      <td>3.838365</td>\n",
       "      <td>9.161635</td>\n",
       "    </tr>\n",
       "    <tr>\n",
       "      <th>5101</th>\n",
       "      <td>Teen grapples with grief and first love in cha...</td>\n",
       "      <td>12</td>\n",
       "      <td>2.838365</td>\n",
       "      <td>9.161635</td>\n",
       "    </tr>\n",
       "    <tr>\n",
       "      <th>2617</th>\n",
       "      <td>Another sweet animal tale from Babe author.</td>\n",
       "      <td>7</td>\n",
       "      <td>2.161635</td>\n",
       "      <td>9.161635</td>\n",
       "    </tr>\n",
       "  </tbody>\n",
       "</table>\n",
       "</div>"
      ],
      "text/plain": [
       "                                            description  csm_rating  \\\n",
       "1291       Thoughtful sci-fi about the price of beauty.          11   \n",
       "832   Appealing tale of would-be witch has laughs, i...           8   \n",
       "685   Third Bloodlines adventure takes a romantic, m...          13   \n",
       "5101  Teen grapples with grief and first love in cha...          12   \n",
       "2617        Another sweet animal tale from Babe author.           7   \n",
       "\n",
       "      difference  predictions  \n",
       "1291    1.838364     9.161636  \n",
       "832     1.161636     9.161636  \n",
       "685     3.838365     9.161635  \n",
       "5101    2.838365     9.161635  \n",
       "2617    2.161635     9.161635  "
      ]
     },
     "execution_count": 23,
     "metadata": {},
     "output_type": "execute_result"
    }
   ],
   "source": [
    "test_results.head()"
   ]
  },
  {
   "cell_type": "code",
   "execution_count": 24,
   "metadata": {},
   "outputs": [
    {
     "data": {
      "text/html": [
       "<div>\n",
       "<style scoped>\n",
       "    .dataframe tbody tr th:only-of-type {\n",
       "        vertical-align: middle;\n",
       "    }\n",
       "\n",
       "    .dataframe tbody tr th {\n",
       "        vertical-align: top;\n",
       "    }\n",
       "\n",
       "    .dataframe thead th {\n",
       "        text-align: right;\n",
       "    }\n",
       "</style>\n",
       "<table border=\"1\" class=\"dataframe\">\n",
       "  <thead>\n",
       "    <tr style=\"text-align: right;\">\n",
       "      <th></th>\n",
       "      <th>description</th>\n",
       "      <th>csm_rating</th>\n",
       "      <th>difference</th>\n",
       "      <th>predictions</th>\n",
       "    </tr>\n",
       "  </thead>\n",
       "  <tbody>\n",
       "    <tr>\n",
       "      <th>1310</th>\n",
       "      <td>Dystopian thriller for adults OK for mature te...</td>\n",
       "      <td>17</td>\n",
       "      <td>7.838365</td>\n",
       "      <td>9.161635</td>\n",
       "    </tr>\n",
       "    <tr>\n",
       "      <th>1257</th>\n",
       "      <td>Really racy romance with explicit sex and not ...</td>\n",
       "      <td>17</td>\n",
       "      <td>7.838365</td>\n",
       "      <td>9.161635</td>\n",
       "    </tr>\n",
       "    <tr>\n",
       "      <th>4754</th>\n",
       "      <td>Intense, award-winning fairy tale for mature r...</td>\n",
       "      <td>17</td>\n",
       "      <td>7.838365</td>\n",
       "      <td>9.161635</td>\n",
       "    </tr>\n",
       "    <tr>\n",
       "      <th>4277</th>\n",
       "      <td>One-of-a-kind story of a dream fulfilled.</td>\n",
       "      <td>2</td>\n",
       "      <td>7.161637</td>\n",
       "      <td>9.161637</td>\n",
       "    </tr>\n",
       "    <tr>\n",
       "      <th>2854</th>\n",
       "      <td>Good book for the end of a hectic day.</td>\n",
       "      <td>2</td>\n",
       "      <td>7.161636</td>\n",
       "      <td>9.161636</td>\n",
       "    </tr>\n",
       "    <tr>\n",
       "      <th>2516</th>\n",
       "      <td>All of Beatrix Potter in one book, pre-K and K.</td>\n",
       "      <td>2</td>\n",
       "      <td>7.161636</td>\n",
       "      <td>9.161636</td>\n",
       "    </tr>\n",
       "    <tr>\n",
       "      <th>4525</th>\n",
       "      <td>Presents images of African village life.</td>\n",
       "      <td>2</td>\n",
       "      <td>7.161636</td>\n",
       "      <td>9.161636</td>\n",
       "    </tr>\n",
       "    <tr>\n",
       "      <th>1846</th>\n",
       "      <td>Kids will relate to appealing holiday tale.</td>\n",
       "      <td>2</td>\n",
       "      <td>7.161635</td>\n",
       "      <td>9.161635</td>\n",
       "    </tr>\n",
       "    <tr>\n",
       "      <th>1484</th>\n",
       "      <td>An amusing potty story.</td>\n",
       "      <td>2</td>\n",
       "      <td>7.161635</td>\n",
       "      <td>9.161635</td>\n",
       "    </tr>\n",
       "    <tr>\n",
       "      <th>774</th>\n",
       "      <td>Baby Max struggles to write -- kids will relate.</td>\n",
       "      <td>2</td>\n",
       "      <td>7.161635</td>\n",
       "      <td>9.161635</td>\n",
       "    </tr>\n",
       "    <tr>\n",
       "      <th>1082</th>\n",
       "      <td>Colorful board book teaches Spanish and Englis...</td>\n",
       "      <td>2</td>\n",
       "      <td>7.161635</td>\n",
       "      <td>9.161635</td>\n",
       "    </tr>\n",
       "    <tr>\n",
       "      <th>3322</th>\n",
       "      <td>Cute animals and nonsense make counting fun.</td>\n",
       "      <td>2</td>\n",
       "      <td>7.161635</td>\n",
       "      <td>9.161635</td>\n",
       "    </tr>\n",
       "    <tr>\n",
       "      <th>5531</th>\n",
       "      <td>Charming, fun, bilingual lesson on what \"far\" ...</td>\n",
       "      <td>2</td>\n",
       "      <td>7.161635</td>\n",
       "      <td>9.161635</td>\n",
       "    </tr>\n",
       "    <tr>\n",
       "      <th>3664</th>\n",
       "      <td>Engaging pictures work well with the simple st...</td>\n",
       "      <td>2</td>\n",
       "      <td>7.161635</td>\n",
       "      <td>9.161635</td>\n",
       "    </tr>\n",
       "    <tr>\n",
       "      <th>5220</th>\n",
       "      <td>This bear enjoys walks and greeting friends.</td>\n",
       "      <td>2</td>\n",
       "      <td>7.161635</td>\n",
       "      <td>9.161635</td>\n",
       "    </tr>\n",
       "    <tr>\n",
       "      <th>152</th>\n",
       "      <td>Text and pictures work together perfectly.</td>\n",
       "      <td>2</td>\n",
       "      <td>7.161635</td>\n",
       "      <td>9.161635</td>\n",
       "    </tr>\n",
       "    <tr>\n",
       "      <th>4316</th>\n",
       "      <td>Beloved bear has another kid-friendly adventure.</td>\n",
       "      <td>2</td>\n",
       "      <td>7.161635</td>\n",
       "      <td>9.161635</td>\n",
       "    </tr>\n",
       "    <tr>\n",
       "      <th>4662</th>\n",
       "      <td>Typical preschool struggle beautifully illustr...</td>\n",
       "      <td>2</td>\n",
       "      <td>7.161635</td>\n",
       "      <td>9.161635</td>\n",
       "    </tr>\n",
       "    <tr>\n",
       "      <th>2748</th>\n",
       "      <td>Irreverent illustrations spice up simply writt...</td>\n",
       "      <td>2</td>\n",
       "      <td>7.161635</td>\n",
       "      <td>9.161635</td>\n",
       "    </tr>\n",
       "    <tr>\n",
       "      <th>4629</th>\n",
       "      <td>Funny things happen with a sheep behind the wh...</td>\n",
       "      <td>2</td>\n",
       "      <td>7.161635</td>\n",
       "      <td>9.161635</td>\n",
       "    </tr>\n",
       "    <tr>\n",
       "      <th>2890</th>\n",
       "      <td>Colorfully illustrated alphabet rhymes.</td>\n",
       "      <td>2</td>\n",
       "      <td>7.161635</td>\n",
       "      <td>9.161635</td>\n",
       "    </tr>\n",
       "    <tr>\n",
       "      <th>4246</th>\n",
       "      <td>Classic all-ages masterpiece has a wild imagin...</td>\n",
       "      <td>2</td>\n",
       "      <td>7.161635</td>\n",
       "      <td>9.161635</td>\n",
       "    </tr>\n",
       "    <tr>\n",
       "      <th>2104</th>\n",
       "      <td>Kids and parents enjoy this story about family.</td>\n",
       "      <td>2</td>\n",
       "      <td>7.161635</td>\n",
       "      <td>9.161635</td>\n",
       "    </tr>\n",
       "    <tr>\n",
       "      <th>603</th>\n",
       "      <td>Alligators take readers through the ABCs.</td>\n",
       "      <td>2</td>\n",
       "      <td>7.161635</td>\n",
       "      <td>9.161635</td>\n",
       "    </tr>\n",
       "    <tr>\n",
       "      <th>4302</th>\n",
       "      <td>Young listeners may drift off to lullaby.</td>\n",
       "      <td>2</td>\n",
       "      <td>7.161635</td>\n",
       "      <td>9.161635</td>\n",
       "    </tr>\n",
       "    <tr>\n",
       "      <th>5630</th>\n",
       "      <td>This is a terrific read-aloud or primer.</td>\n",
       "      <td>2</td>\n",
       "      <td>7.161635</td>\n",
       "      <td>9.161635</td>\n",
       "    </tr>\n",
       "    <tr>\n",
       "      <th>992</th>\n",
       "      <td>Lovable David's antics are relentless.</td>\n",
       "      <td>2</td>\n",
       "      <td>7.161635</td>\n",
       "      <td>9.161635</td>\n",
       "    </tr>\n",
       "    <tr>\n",
       "      <th>5487</th>\n",
       "      <td>Short, simple, and playful stories.</td>\n",
       "      <td>2</td>\n",
       "      <td>7.161635</td>\n",
       "      <td>9.161635</td>\n",
       "    </tr>\n",
       "    <tr>\n",
       "      <th>559</th>\n",
       "      <td>Japanese tale is reinvented with humor.</td>\n",
       "      <td>2</td>\n",
       "      <td>7.161635</td>\n",
       "      <td>9.161635</td>\n",
       "    </tr>\n",
       "    <tr>\n",
       "      <th>5375</th>\n",
       "      <td>Pigeon goes nuts over not getting a cookie wit...</td>\n",
       "      <td>2</td>\n",
       "      <td>7.161635</td>\n",
       "      <td>9.161635</td>\n",
       "    </tr>\n",
       "    <tr>\n",
       "      <th>364</th>\n",
       "      <td>Cute interactive book about fuzzy and furry fa...</td>\n",
       "      <td>2</td>\n",
       "      <td>7.161635</td>\n",
       "      <td>9.161635</td>\n",
       "    </tr>\n",
       "    <tr>\n",
       "      <th>2802</th>\n",
       "      <td>Fun, fast-paced construction story is truck lo...</td>\n",
       "      <td>2</td>\n",
       "      <td>7.161635</td>\n",
       "      <td>9.161635</td>\n",
       "    </tr>\n",
       "    <tr>\n",
       "      <th>2031</th>\n",
       "      <td>Twisted gender ID tale rife with sex-talk topics.</td>\n",
       "      <td>16</td>\n",
       "      <td>6.838365</td>\n",
       "      <td>9.161635</td>\n",
       "    </tr>\n",
       "    <tr>\n",
       "      <th>705</th>\n",
       "      <td>Paranormal adventure bogs down in details.</td>\n",
       "      <td>16</td>\n",
       "      <td>6.838365</td>\n",
       "      <td>9.161635</td>\n",
       "    </tr>\n",
       "    <tr>\n",
       "      <th>5059</th>\n",
       "      <td>Retired heroes fight to save themselves in gri...</td>\n",
       "      <td>16</td>\n",
       "      <td>6.838365</td>\n",
       "      <td>9.161635</td>\n",
       "    </tr>\n",
       "    <tr>\n",
       "      <th>4813</th>\n",
       "      <td>Teens process tragic loss in thought-provoking...</td>\n",
       "      <td>16</td>\n",
       "      <td>6.838365</td>\n",
       "      <td>9.161635</td>\n",
       "    </tr>\n",
       "    <tr>\n",
       "      <th>3678</th>\n",
       "      <td>School-for-criminals mystery turns very dark a...</td>\n",
       "      <td>16</td>\n",
       "      <td>6.838365</td>\n",
       "      <td>9.161635</td>\n",
       "    </tr>\n",
       "    <tr>\n",
       "      <th>4208</th>\n",
       "      <td>Teen reinvents herself after suicide try in co...</td>\n",
       "      <td>16</td>\n",
       "      <td>6.838365</td>\n",
       "      <td>9.161635</td>\n",
       "    </tr>\n",
       "    <tr>\n",
       "      <th>3172</th>\n",
       "      <td>Magical novel explores personal, political pas...</td>\n",
       "      <td>16</td>\n",
       "      <td>6.838365</td>\n",
       "      <td>9.161635</td>\n",
       "    </tr>\n",
       "    <tr>\n",
       "      <th>2988</th>\n",
       "      <td>Repetitive prequel best for longtime fans.</td>\n",
       "      <td>16</td>\n",
       "      <td>6.838365</td>\n",
       "      <td>9.161635</td>\n",
       "    </tr>\n",
       "    <tr>\n",
       "      <th>1701</th>\n",
       "      <td>Darkly funny, very violent high school murder ...</td>\n",
       "      <td>16</td>\n",
       "      <td>6.838365</td>\n",
       "      <td>9.161635</td>\n",
       "    </tr>\n",
       "    <tr>\n",
       "      <th>5499</th>\n",
       "      <td>Girl takes on friend's bucket list; best for o...</td>\n",
       "      <td>16</td>\n",
       "      <td>6.838365</td>\n",
       "      <td>9.161635</td>\n",
       "    </tr>\n",
       "    <tr>\n",
       "      <th>2939</th>\n",
       "      <td>Complex adult book explores rape survival, res...</td>\n",
       "      <td>16</td>\n",
       "      <td>6.838365</td>\n",
       "      <td>9.161635</td>\n",
       "    </tr>\n",
       "    <tr>\n",
       "      <th>2098</th>\n",
       "      <td>Teen gamers vs. corporations; absorbing but vi...</td>\n",
       "      <td>16</td>\n",
       "      <td>6.838365</td>\n",
       "      <td>9.161635</td>\n",
       "    </tr>\n",
       "    <tr>\n",
       "      <th>2129</th>\n",
       "      <td>YA author's adult fantasy has lots of  drugs, ...</td>\n",
       "      <td>16</td>\n",
       "      <td>6.838364</td>\n",
       "      <td>9.161636</td>\n",
       "    </tr>\n",
       "    <tr>\n",
       "      <th>4292</th>\n",
       "      <td>Fast-moving coming-of-age tale with sex and co...</td>\n",
       "      <td>16</td>\n",
       "      <td>6.838364</td>\n",
       "      <td>9.161636</td>\n",
       "    </tr>\n",
       "    <tr>\n",
       "      <th>2388</th>\n",
       "      <td>Raw, honest, and compelling look at the impact...</td>\n",
       "      <td>16</td>\n",
       "      <td>6.838364</td>\n",
       "      <td>9.161636</td>\n",
       "    </tr>\n",
       "    <tr>\n",
       "      <th>2466</th>\n",
       "      <td>Authentic, realistic story of addiction, survi...</td>\n",
       "      <td>16</td>\n",
       "      <td>6.838364</td>\n",
       "      <td>9.161636</td>\n",
       "    </tr>\n",
       "    <tr>\n",
       "      <th>2097</th>\n",
       "      <td>Half-Iraqi teen finds her way in scattered com...</td>\n",
       "      <td>16</td>\n",
       "      <td>6.838364</td>\n",
       "      <td>9.161636</td>\n",
       "    </tr>\n",
       "    <tr>\n",
       "      <th>2651</th>\n",
       "      <td>Slow coming-of-age tale has lots of swearing, ...</td>\n",
       "      <td>16</td>\n",
       "      <td>6.838363</td>\n",
       "      <td>9.161637</td>\n",
       "    </tr>\n",
       "  </tbody>\n",
       "</table>\n",
       "</div>"
      ],
      "text/plain": [
       "                                            description  csm_rating  \\\n",
       "1310  Dystopian thriller for adults OK for mature te...          17   \n",
       "1257  Really racy romance with explicit sex and not ...          17   \n",
       "4754  Intense, award-winning fairy tale for mature r...          17   \n",
       "4277          One-of-a-kind story of a dream fulfilled.           2   \n",
       "2854             Good book for the end of a hectic day.           2   \n",
       "2516    All of Beatrix Potter in one book, pre-K and K.           2   \n",
       "4525           Presents images of African village life.           2   \n",
       "1846        Kids will relate to appealing holiday tale.           2   \n",
       "1484                            An amusing potty story.           2   \n",
       "774    Baby Max struggles to write -- kids will relate.           2   \n",
       "1082  Colorful board book teaches Spanish and Englis...           2   \n",
       "3322       Cute animals and nonsense make counting fun.           2   \n",
       "5531  Charming, fun, bilingual lesson on what \"far\" ...           2   \n",
       "3664  Engaging pictures work well with the simple st...           2   \n",
       "5220       This bear enjoys walks and greeting friends.           2   \n",
       "152          Text and pictures work together perfectly.           2   \n",
       "4316   Beloved bear has another kid-friendly adventure.           2   \n",
       "4662  Typical preschool struggle beautifully illustr...           2   \n",
       "2748  Irreverent illustrations spice up simply writt...           2   \n",
       "4629  Funny things happen with a sheep behind the wh...           2   \n",
       "2890            Colorfully illustrated alphabet rhymes.           2   \n",
       "4246  Classic all-ages masterpiece has a wild imagin...           2   \n",
       "2104    Kids and parents enjoy this story about family.           2   \n",
       "603           Alligators take readers through the ABCs.           2   \n",
       "4302          Young listeners may drift off to lullaby.           2   \n",
       "5630           This is a terrific read-aloud or primer.           2   \n",
       "992              Lovable David's antics are relentless.           2   \n",
       "5487                Short, simple, and playful stories.           2   \n",
       "559             Japanese tale is reinvented with humor.           2   \n",
       "5375  Pigeon goes nuts over not getting a cookie wit...           2   \n",
       "364   Cute interactive book about fuzzy and furry fa...           2   \n",
       "2802  Fun, fast-paced construction story is truck lo...           2   \n",
       "2031  Twisted gender ID tale rife with sex-talk topics.          16   \n",
       "705          Paranormal adventure bogs down in details.          16   \n",
       "5059  Retired heroes fight to save themselves in gri...          16   \n",
       "4813  Teens process tragic loss in thought-provoking...          16   \n",
       "3678  School-for-criminals mystery turns very dark a...          16   \n",
       "4208  Teen reinvents herself after suicide try in co...          16   \n",
       "3172  Magical novel explores personal, political pas...          16   \n",
       "2988         Repetitive prequel best for longtime fans.          16   \n",
       "1701  Darkly funny, very violent high school murder ...          16   \n",
       "5499  Girl takes on friend's bucket list; best for o...          16   \n",
       "2939  Complex adult book explores rape survival, res...          16   \n",
       "2098  Teen gamers vs. corporations; absorbing but vi...          16   \n",
       "2129  YA author's adult fantasy has lots of  drugs, ...          16   \n",
       "4292  Fast-moving coming-of-age tale with sex and co...          16   \n",
       "2388  Raw, honest, and compelling look at the impact...          16   \n",
       "2466  Authentic, realistic story of addiction, survi...          16   \n",
       "2097  Half-Iraqi teen finds her way in scattered com...          16   \n",
       "2651  Slow coming-of-age tale has lots of swearing, ...          16   \n",
       "\n",
       "      difference  predictions  \n",
       "1310    7.838365     9.161635  \n",
       "1257    7.838365     9.161635  \n",
       "4754    7.838365     9.161635  \n",
       "4277    7.161637     9.161637  \n",
       "2854    7.161636     9.161636  \n",
       "2516    7.161636     9.161636  \n",
       "4525    7.161636     9.161636  \n",
       "1846    7.161635     9.161635  \n",
       "1484    7.161635     9.161635  \n",
       "774     7.161635     9.161635  \n",
       "1082    7.161635     9.161635  \n",
       "3322    7.161635     9.161635  \n",
       "5531    7.161635     9.161635  \n",
       "3664    7.161635     9.161635  \n",
       "5220    7.161635     9.161635  \n",
       "152     7.161635     9.161635  \n",
       "4316    7.161635     9.161635  \n",
       "4662    7.161635     9.161635  \n",
       "2748    7.161635     9.161635  \n",
       "4629    7.161635     9.161635  \n",
       "2890    7.161635     9.161635  \n",
       "4246    7.161635     9.161635  \n",
       "2104    7.161635     9.161635  \n",
       "603     7.161635     9.161635  \n",
       "4302    7.161635     9.161635  \n",
       "5630    7.161635     9.161635  \n",
       "992     7.161635     9.161635  \n",
       "5487    7.161635     9.161635  \n",
       "559     7.161635     9.161635  \n",
       "5375    7.161635     9.161635  \n",
       "364     7.161635     9.161635  \n",
       "2802    7.161635     9.161635  \n",
       "2031    6.838365     9.161635  \n",
       "705     6.838365     9.161635  \n",
       "5059    6.838365     9.161635  \n",
       "4813    6.838365     9.161635  \n",
       "3678    6.838365     9.161635  \n",
       "4208    6.838365     9.161635  \n",
       "3172    6.838365     9.161635  \n",
       "2988    6.838365     9.161635  \n",
       "1701    6.838365     9.161635  \n",
       "5499    6.838365     9.161635  \n",
       "2939    6.838365     9.161635  \n",
       "2098    6.838365     9.161635  \n",
       "2129    6.838364     9.161636  \n",
       "4292    6.838364     9.161636  \n",
       "2388    6.838364     9.161636  \n",
       "2466    6.838364     9.161636  \n",
       "2097    6.838364     9.161636  \n",
       "2651    6.838363     9.161637  "
      ]
     },
     "execution_count": 24,
     "metadata": {},
     "output_type": "execute_result"
    }
   ],
   "source": [
    "test_results.sort_values(\"difference\", ascending=False).head(50)"
   ]
  },
  {
   "cell_type": "code",
   "execution_count": 26,
   "metadata": {},
   "outputs": [
    {
     "data": {
      "text/plain": [
       "(1164, 5618)"
      ]
     },
     "execution_count": 26,
     "metadata": {},
     "output_type": "execute_result"
    }
   ],
   "source": [
    "test_x.shape"
   ]
  },
  {
   "cell_type": "code",
   "execution_count": null,
   "metadata": {},
   "outputs": [],
   "source": []
  }
 ],
 "metadata": {
  "kernelspec": {
   "display_name": "base",
   "language": "python",
   "name": "base"
  },
  "language_info": {
   "codemirror_mode": {
    "name": "ipython",
    "version": 3
   },
   "file_extension": ".py",
   "mimetype": "text/x-python",
   "name": "python",
   "nbconvert_exporter": "python",
   "pygments_lexer": "ipython3",
   "version": "3.7.4"
  }
 },
 "nbformat": 4,
 "nbformat_minor": 4
}
