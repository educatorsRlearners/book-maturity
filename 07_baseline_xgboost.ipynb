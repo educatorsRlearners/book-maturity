{
 "cells": [
  {
   "cell_type": "code",
   "execution_count": 12,
   "metadata": {},
   "outputs": [],
   "source": [
    "import pandas as pd\n",
    "import numpy as np\n",
    "import xgboost as xgb\n",
    "from sklearn.metrics import mean_absolute_error\n",
    "from sklearn.preprocessing import LabelEncoder\n",
    "from sklearn.pipeline import Pipeline\n",
    "from sklearn.feature_extraction.text import TfidfVectorizer \n",
    "from keras.preprocessing.text import Tokenizer\n",
    "from keras.preprocessing.sequence import pad_sequences\n"
   ]
  },
  {
   "cell_type": "code",
   "execution_count": 2,
   "metadata": {},
   "outputs": [
    {
     "name": "stdout",
     "output_type": "stream",
     "text": [
      "<class 'pandas.core.frame.DataFrame'>\n",
      "RangeIndex: 4651 entries, 0 to 4650\n",
      "Data columns (total 10 columns):\n",
      "title               4651 non-null object\n",
      "description         4651 non-null object\n",
      "plot                4651 non-null object\n",
      "csm_review          4651 non-null object\n",
      "need_to_know        4651 non-null object\n",
      "csm_rating          4651 non-null int64\n",
      "Genre               4651 non-null object\n",
      "Book type           4651 non-null object\n",
      "Publication date    4651 non-null object\n",
      "Last updated        4651 non-null object\n",
      "dtypes: int64(1), object(9)\n",
      "memory usage: 363.5+ KB\n"
     ]
    }
   ],
   "source": [
    "train = pd.read_csv('csv/train.csv')\n",
    "train = train.dropna(axis=\"columns\")\n",
    "train.info()"
   ]
  },
  {
   "cell_type": "code",
   "execution_count": 3,
   "metadata": {},
   "outputs": [],
   "source": [
    "labelencoder = LabelEncoder()\n",
    "tokenizer = Tokenizer()\n",
    "embedding_columns = ['title','description', 'plot', 'csm_review', 'need_to_know']\n",
    "\n",
    "def label_encoder(df):\n",
    "    df.loc[:, \"genre_cat\"] = labelencoder.fit_transform(df.loc[:, \"Genre\"])\n",
    "    df.loc[:, \"book_type_cat\"] = labelencoder.fit_transform(df.loc[:, \"Book type\"])\n",
    "    \n",
    "    return df\n",
    "\n",
    "def create_embeddings(df):\n",
    "    for column in embedding_columns:\n",
    "        tokenizer.fit_on_texts(list(df[column]))\n",
    "    \n",
    "    for column in embedding_columns:\n",
    "        df[column + \"_seq\"] = tokenizer.texts_to_sequences(df[column])\n",
    "    \n",
    "    return df"
   ]
  },
  {
   "cell_type": "code",
   "execution_count": 4,
   "metadata": {},
   "outputs": [],
   "source": [
    "train = label_encoder(train)\n",
    "train = create_embeddings(train)"
   ]
  },
  {
   "cell_type": "code",
   "execution_count": 5,
   "metadata": {},
   "outputs": [
    {
     "name": "stdout",
     "output_type": "stream",
     "text": [
      "Found 45360 unique tokens.\n"
     ]
    }
   ],
   "source": [
    "word_index = tokenizer.word_index\n",
    "print(\"Found %s unique tokens.\" % len(word_index))"
   ]
  },
  {
   "cell_type": "code",
   "execution_count": 9,
   "metadata": {},
   "outputs": [],
   "source": [
    "X_train = train.loc[:, \"genre_cat\":\"need_to_know_seq\"]\n",
    "y_train = train.loc[:, \"csm_rating\"]"
   ]
  },
  {
   "cell_type": "code",
   "execution_count": null,
   "metadata": {},
   "outputs": [],
   "source": [
    "\n",
    "\n",
    "gensim_word2vec_tr = GensimWord2VecVectorizer(size=50, min_count=3, sg=1, alpha=0.025, iter=10)\n",
    "xgb = XGBClassifier(learning_rate=0.01, n_estimators=100, n_jobs=-1)\n",
    "w2v_xgb = Pipeline([\n",
    "    ('w2v', gensim_word2vec_tr), \n",
    "    ('xgb', xgb)\n",
    "])\n",
    "w2v_xgb"
   ]
  },
  {
   "cell_type": "code",
   "execution_count": 10,
   "metadata": {},
   "outputs": [
    {
     "ename": "ValueError",
     "evalue": "DataFrame.dtypes for data must be int, float or bool.\n                Did not expect the data types in fields title_seq, description_seq, plot_seq, csm_review_seq, need_to_know_seq",
     "output_type": "error",
     "traceback": [
      "\u001b[0;31m---------------------------------------------------------------------------\u001b[0m",
      "\u001b[0;31mValueError\u001b[0m                                Traceback (most recent call last)",
      "\u001b[0;32m<ipython-input-10-b6a354d65476>\u001b[0m in \u001b[0;36m<module>\u001b[0;34m\u001b[0m\n\u001b[1;32m      1\u001b[0m \u001b[0mxgb_reg\u001b[0m \u001b[0;34m=\u001b[0m \u001b[0mxgb\u001b[0m\u001b[0;34m.\u001b[0m\u001b[0mXGBRegressor\u001b[0m\u001b[0;34m(\u001b[0m\u001b[0;34m)\u001b[0m\u001b[0;34m\u001b[0m\u001b[0;34m\u001b[0m\u001b[0m\n\u001b[0;32m----> 2\u001b[0;31m \u001b[0mxgb_reg\u001b[0m\u001b[0;34m.\u001b[0m\u001b[0mfit\u001b[0m\u001b[0;34m(\u001b[0m\u001b[0mX_train\u001b[0m\u001b[0;34m,\u001b[0m \u001b[0my_train\u001b[0m\u001b[0;34m)\u001b[0m\u001b[0;34m\u001b[0m\u001b[0;34m\u001b[0m\u001b[0m\n\u001b[0m",
      "\u001b[0;32m~/anaconda3/lib/python3.7/site-packages/xgboost/sklearn.py\u001b[0m in \u001b[0;36mfit\u001b[0;34m(self, X, y, sample_weight, base_margin, eval_set, eval_metric, early_stopping_rounds, verbose, xgb_model, sample_weight_eval_set, callbacks)\u001b[0m\n\u001b[1;32m    509\u001b[0m                                 \u001b[0mbase_margin\u001b[0m\u001b[0;34m=\u001b[0m\u001b[0mbase_margin\u001b[0m\u001b[0;34m,\u001b[0m\u001b[0;34m\u001b[0m\u001b[0;34m\u001b[0m\u001b[0m\n\u001b[1;32m    510\u001b[0m                                 \u001b[0mmissing\u001b[0m\u001b[0;34m=\u001b[0m\u001b[0mself\u001b[0m\u001b[0;34m.\u001b[0m\u001b[0mmissing\u001b[0m\u001b[0;34m,\u001b[0m\u001b[0;34m\u001b[0m\u001b[0;34m\u001b[0m\u001b[0m\n\u001b[0;32m--> 511\u001b[0;31m                                 nthread=self.n_jobs)\n\u001b[0m\u001b[1;32m    512\u001b[0m \u001b[0;34m\u001b[0m\u001b[0m\n\u001b[1;32m    513\u001b[0m         \u001b[0mevals_result\u001b[0m \u001b[0;34m=\u001b[0m \u001b[0;34m{\u001b[0m\u001b[0;34m}\u001b[0m\u001b[0;34m\u001b[0m\u001b[0;34m\u001b[0m\u001b[0m\n",
      "\u001b[0;32m~/anaconda3/lib/python3.7/site-packages/xgboost/core.py\u001b[0m in \u001b[0;36m__init__\u001b[0;34m(self, data, label, weight, base_margin, missing, silent, feature_names, feature_types, nthread)\u001b[0m\n\u001b[1;32m    457\u001b[0m \u001b[0;34m\u001b[0m\u001b[0m\n\u001b[1;32m    458\u001b[0m         data, feature_names, feature_types = _convert_dataframes(\n\u001b[0;32m--> 459\u001b[0;31m             \u001b[0mdata\u001b[0m\u001b[0;34m,\u001b[0m \u001b[0mfeature_names\u001b[0m\u001b[0;34m,\u001b[0m \u001b[0mfeature_types\u001b[0m\u001b[0;34m\u001b[0m\u001b[0;34m\u001b[0m\u001b[0m\n\u001b[0m\u001b[1;32m    460\u001b[0m         )\n\u001b[1;32m    461\u001b[0m \u001b[0;34m\u001b[0m\u001b[0m\n",
      "\u001b[0;32m~/anaconda3/lib/python3.7/site-packages/xgboost/core.py\u001b[0m in \u001b[0;36m_convert_dataframes\u001b[0;34m(data, feature_names, feature_types, meta, meta_type)\u001b[0m\n\u001b[1;32m    360\u001b[0m                                                             \u001b[0mfeature_types\u001b[0m\u001b[0;34m,\u001b[0m\u001b[0;34m\u001b[0m\u001b[0;34m\u001b[0m\u001b[0m\n\u001b[1;32m    361\u001b[0m                                                             \u001b[0mmeta\u001b[0m\u001b[0;34m,\u001b[0m\u001b[0;34m\u001b[0m\u001b[0;34m\u001b[0m\u001b[0m\n\u001b[0;32m--> 362\u001b[0;31m                                                             meta_type)\n\u001b[0m\u001b[1;32m    363\u001b[0m \u001b[0;34m\u001b[0m\u001b[0m\n\u001b[1;32m    364\u001b[0m     data, feature_names, feature_types = _maybe_dt_data(data,\n",
      "\u001b[0;32m~/anaconda3/lib/python3.7/site-packages/xgboost/core.py\u001b[0m in \u001b[0;36m_maybe_pandas_data\u001b[0;34m(data, feature_names, feature_types, meta, meta_type)\u001b[0m\n\u001b[1;32m    260\u001b[0m         msg = \"\"\"DataFrame.dtypes for data must be int, float or bool.\n\u001b[1;32m    261\u001b[0m                 Did not expect the data types in fields \"\"\"\n\u001b[0;32m--> 262\u001b[0;31m         \u001b[0;32mraise\u001b[0m \u001b[0mValueError\u001b[0m\u001b[0;34m(\u001b[0m\u001b[0mmsg\u001b[0m \u001b[0;34m+\u001b[0m \u001b[0;34m', '\u001b[0m\u001b[0;34m.\u001b[0m\u001b[0mjoin\u001b[0m\u001b[0;34m(\u001b[0m\u001b[0mbad_fields\u001b[0m\u001b[0;34m)\u001b[0m\u001b[0;34m)\u001b[0m\u001b[0;34m\u001b[0m\u001b[0;34m\u001b[0m\u001b[0m\n\u001b[0m\u001b[1;32m    263\u001b[0m \u001b[0;34m\u001b[0m\u001b[0m\n\u001b[1;32m    264\u001b[0m     \u001b[0;32mif\u001b[0m \u001b[0mfeature_names\u001b[0m \u001b[0;32mis\u001b[0m \u001b[0;32mNone\u001b[0m \u001b[0;32mand\u001b[0m \u001b[0mmeta\u001b[0m \u001b[0;32mis\u001b[0m \u001b[0;32mNone\u001b[0m\u001b[0;34m:\u001b[0m\u001b[0;34m\u001b[0m\u001b[0;34m\u001b[0m\u001b[0m\n",
      "\u001b[0;31mValueError\u001b[0m: DataFrame.dtypes for data must be int, float or bool.\n                Did not expect the data types in fields title_seq, description_seq, plot_seq, csm_review_seq, need_to_know_seq"
     ]
    }
   ],
   "source": [
    "xgb_reg = xgb.XGBRegressor()\n",
    "xgb_reg.fit(X_train, y_train)"
   ]
  },
  {
   "cell_type": "code",
   "execution_count": 6,
   "metadata": {},
   "outputs": [],
   "source": [
    "df_y = df.loc[:, \"csm_rating\"]"
   ]
  },
  {
   "cell_type": "code",
   "execution_count": 7,
   "metadata": {},
   "outputs": [
    {
     "data": {
      "text/html": [
       "<div>\n",
       "<style scoped>\n",
       "    .dataframe tbody tr th:only-of-type {\n",
       "        vertical-align: middle;\n",
       "    }\n",
       "\n",
       "    .dataframe tbody tr th {\n",
       "        vertical-align: top;\n",
       "    }\n",
       "\n",
       "    .dataframe thead th {\n",
       "        text-align: right;\n",
       "    }\n",
       "</style>\n",
       "<table border=\"1\" class=\"dataframe\">\n",
       "  <thead>\n",
       "    <tr style=\"text-align: right;\">\n",
       "      <th></th>\n",
       "      <th>genre_cat</th>\n",
       "      <th>book_type_cat</th>\n",
       "      <th>title_seq</th>\n",
       "      <th>description_seq</th>\n",
       "      <th>plot_seq</th>\n",
       "      <th>csm_review_seq</th>\n",
       "      <th>need_to_know_seq</th>\n",
       "    </tr>\n",
       "  </thead>\n",
       "  <tbody>\n",
       "    <tr>\n",
       "      <th>0</th>\n",
       "      <td>32</td>\n",
       "      <td>0</td>\n",
       "      <td>[1, 520, 1377]</td>\n",
       "      <td>[1151, 823, 26455, 17, 116, 1239]</td>\n",
       "      <td>[1088, 4510, 2, 17712, 8850, 33649, 318, 6, 23...</td>\n",
       "      <td>[1, 520, 1377, 37, 23, 541, 434, 1130, 280, 17...</td>\n",
       "      <td>[28, 38, 4, 34, 9, 1, 520, 1377, 7, 3, 611, 23...</td>\n",
       "    </tr>\n",
       "    <tr>\n",
       "      <th>1</th>\n",
       "      <td>12</td>\n",
       "      <td>0</td>\n",
       "      <td>[285, 12374]</td>\n",
       "      <td>[6678, 29, 5, 1911, 3526, 348, 6, 6364]</td>\n",
       "      <td>[49, 1, 348, 5, 8441, 84, 1803, 90, 78, 14648,...</td>\n",
       "      <td>[16, 226, 91, 48, 143, 3, 21611, 5, 5888, 139,...</td>\n",
       "      <td>[28, 38, 4, 34, 9, 285, 12374, 7, 1656, 21, 19...</td>\n",
       "    </tr>\n",
       "    <tr>\n",
       "      <th>2</th>\n",
       "      <td>16</td>\n",
       "      <td>0</td>\n",
       "      <td>[1, 55, 11, 94, 2, 329, 18, 347]</td>\n",
       "      <td>[4571, 436, 97, 37, 317, 5, 886, 11, 128, 264]</td>\n",
       "      <td>[35, 119, 83, 1273, 2, 7623, 15, 2140, 209, 27...</td>\n",
       "      <td>[1, 55, 11, 94, 2, 329, 7, 95, 535, 5, 1, 5098...</td>\n",
       "      <td>[28, 38, 4, 34, 9, 1, 55, 11, 94, 2, 329, 7, 3...</td>\n",
       "    </tr>\n",
       "    <tr>\n",
       "      <th>3</th>\n",
       "      <td>38</td>\n",
       "      <td>0</td>\n",
       "      <td>[3415, 5, 2115, 1, 2166, 4616, 3900, 18, 347]</td>\n",
       "      <td>[58, 540, 11089, 12, 106, 1070, 6701, 5, 1006,...</td>\n",
       "      <td>[179, 6, 7834, 3415, 5, 2115, 568, 3, 937, 90,...</td>\n",
       "      <td>[350, 1006, 50, 215, 230, 82, 3, 5049, 3539, 2...</td>\n",
       "      <td>[28, 38, 4, 34, 9, 3415, 5, 2115, 1, 2166, 461...</td>\n",
       "    </tr>\n",
       "    <tr>\n",
       "      <th>4</th>\n",
       "      <td>23</td>\n",
       "      <td>0</td>\n",
       "      <td>[4286, 14337, 6821]</td>\n",
       "      <td>[1723, 98, 568, 7568, 2318, 17, 17581, 1807]</td>\n",
       "      <td>[4286, 14337, 6821, 7, 3, 1342, 98, 27, 516, 5...</td>\n",
       "      <td>[827, 270, 2, 13165, 3161, 16, 399, 98, 7, 311...</td>\n",
       "      <td>[28, 38, 4, 34, 9, 4286, 14337, 6821, 21, 1062...</td>\n",
       "    </tr>\n",
       "  </tbody>\n",
       "</table>\n",
       "</div>"
      ],
      "text/plain": [
       "   genre_cat  book_type_cat                                      title_seq  \\\n",
       "0         32              0                                 [1, 520, 1377]   \n",
       "1         12              0                                   [285, 12374]   \n",
       "2         16              0               [1, 55, 11, 94, 2, 329, 18, 347]   \n",
       "3         38              0  [3415, 5, 2115, 1, 2166, 4616, 3900, 18, 347]   \n",
       "4         23              0                            [4286, 14337, 6821]   \n",
       "\n",
       "                                     description_seq  \\\n",
       "0                  [1151, 823, 26455, 17, 116, 1239]   \n",
       "1            [6678, 29, 5, 1911, 3526, 348, 6, 6364]   \n",
       "2     [4571, 436, 97, 37, 317, 5, 886, 11, 128, 264]   \n",
       "3  [58, 540, 11089, 12, 106, 1070, 6701, 5, 1006,...   \n",
       "4       [1723, 98, 568, 7568, 2318, 17, 17581, 1807]   \n",
       "\n",
       "                                            plot_seq  \\\n",
       "0  [1088, 4510, 2, 17712, 8850, 33649, 318, 6, 23...   \n",
       "1  [49, 1, 348, 5, 8441, 84, 1803, 90, 78, 14648,...   \n",
       "2  [35, 119, 83, 1273, 2, 7623, 15, 2140, 209, 27...   \n",
       "3  [179, 6, 7834, 3415, 5, 2115, 568, 3, 937, 90,...   \n",
       "4  [4286, 14337, 6821, 7, 3, 1342, 98, 27, 516, 5...   \n",
       "\n",
       "                                      csm_review_seq  \\\n",
       "0  [1, 520, 1377, 37, 23, 541, 434, 1130, 280, 17...   \n",
       "1  [16, 226, 91, 48, 143, 3, 21611, 5, 5888, 139,...   \n",
       "2  [1, 55, 11, 94, 2, 329, 7, 95, 535, 5, 1, 5098...   \n",
       "3  [350, 1006, 50, 215, 230, 82, 3, 5049, 3539, 2...   \n",
       "4  [827, 270, 2, 13165, 3161, 16, 399, 98, 7, 311...   \n",
       "\n",
       "                                    need_to_know_seq  \n",
       "0  [28, 38, 4, 34, 9, 1, 520, 1377, 7, 3, 611, 23...  \n",
       "1  [28, 38, 4, 34, 9, 285, 12374, 7, 1656, 21, 19...  \n",
       "2  [28, 38, 4, 34, 9, 1, 55, 11, 94, 2, 329, 7, 3...  \n",
       "3  [28, 38, 4, 34, 9, 3415, 5, 2115, 1, 2166, 461...  \n",
       "4  [28, 38, 4, 34, 9, 4286, 14337, 6821, 21, 1062...  "
      ]
     },
     "execution_count": 7,
     "metadata": {},
     "output_type": "execute_result"
    }
   ],
   "source": []
  },
  {
   "cell_type": "code",
   "execution_count": null,
   "metadata": {},
   "outputs": [],
   "source": []
  }
 ],
 "metadata": {
  "kernelspec": {
   "display_name": "base",
   "language": "python",
   "name": "base"
  },
  "language_info": {
   "codemirror_mode": {
    "name": "ipython",
    "version": 3
   },
   "file_extension": ".py",
   "mimetype": "text/x-python",
   "name": "python",
   "nbconvert_exporter": "python",
   "pygments_lexer": "ipython3",
   "version": "3.7.4"
  }
 },
 "nbformat": 4,
 "nbformat_minor": 4
}
