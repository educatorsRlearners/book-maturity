{
 "cells": [
  {
   "cell_type": "code",
   "execution_count": 1,
   "metadata": {},
   "outputs": [
    {
     "name": "stderr",
     "output_type": "stream",
     "text": [
      "Using TensorFlow backend.\n"
     ]
    }
   ],
   "source": [
    "import xgboost as xgb\n",
    "from sklearn.metrics import mean_squared_error\n",
    "from sklearn.preprocessing import LabelEncoder\n",
    "import pandas as pd\n",
    "import numpy as np\n",
    "from keras.preprocessing.text import Tokenizer\n",
    "from keras.preprocessing.sequence import pad_sequences"
   ]
  },
  {
   "cell_type": "code",
   "execution_count": 2,
   "metadata": {},
   "outputs": [],
   "source": [
    "train = pd.read_csv('csv/train.csv')\n",
    "valid = pd.read_csv(\"csv/test.csv\")"
   ]
  },
  {
   "cell_type": "code",
   "execution_count": 3,
   "metadata": {},
   "outputs": [
    {
     "name": "stdout",
     "output_type": "stream",
     "text": [
      "<class 'pandas.core.frame.DataFrame'>\n",
      "RangeIndex: 4651 entries, 0 to 4650\n",
      "Data columns (total 10 columns):\n",
      "title               4651 non-null object\n",
      "description         4651 non-null object\n",
      "plot                4651 non-null object\n",
      "csm_review          4651 non-null object\n",
      "need_to_know        4651 non-null object\n",
      "csm_rating          4651 non-null int64\n",
      "Genre               4651 non-null object\n",
      "Book type           4651 non-null object\n",
      "Publication date    4651 non-null object\n",
      "Last updated        4651 non-null object\n",
      "dtypes: int64(1), object(9)\n",
      "memory usage: 363.5+ KB\n"
     ]
    }
   ],
   "source": [
    "train = train.dropna(axis='columns')\n",
    "train.info()"
   ]
  },
  {
   "cell_type": "code",
   "execution_count": 4,
   "metadata": {},
   "outputs": [],
   "source": [
    "labelencoder = LabelEncoder()\n",
    "train.loc[:, \"genre_cat\"] = labelencoder.fit_transform(train.loc[:, \"Genre\"])\n",
    "train.loc[:, \"book_type_cat\"] = labelencoder.fit_transform(train.loc[:, \"Book type\"])"
   ]
  },
  {
   "cell_type": "code",
   "execution_count": 7,
   "metadata": {},
   "outputs": [
    {
     "name": "stdout",
     "output_type": "stream",
     "text": [
      "27\n",
      "1\n"
     ]
    }
   ],
   "source": [
    "#Tokenize the sentences\n",
    "tokenizer = Tokenizer()\n",
    "\n",
    "#preparing vocabulary\n",
    "tokenizer.fit_on_texts(list(train['title']))\n",
    "\n",
    "\n",
    "#converting text into integer sequences\n",
    "train[\"title_seq\"]  = tokenizer.texts_to_sequences(train['title']) \n",
    "\n",
    "print(len(max(train[\"title_seq\"] , key=len)))\n",
    "print(len(min(train[\"title_seq\"] , key=len)))\n"
   ]
  },
  {
   "cell_type": "code",
   "execution_count": 33,
   "metadata": {},
   "outputs": [
    {
     "data": {
      "text/html": [
       "<div>\n",
       "<style scoped>\n",
       "    .dataframe tbody tr th:only-of-type {\n",
       "        vertical-align: middle;\n",
       "    }\n",
       "\n",
       "    .dataframe tbody tr th {\n",
       "        vertical-align: top;\n",
       "    }\n",
       "\n",
       "    .dataframe thead th {\n",
       "        text-align: right;\n",
       "    }\n",
       "</style>\n",
       "<table border=\"1\" class=\"dataframe\">\n",
       "  <thead>\n",
       "    <tr style=\"text-align: right;\">\n",
       "      <th></th>\n",
       "      <th>title</th>\n",
       "      <th>title_seq</th>\n",
       "    </tr>\n",
       "  </thead>\n",
       "  <tbody>\n",
       "    <tr>\n",
       "      <th>0</th>\n",
       "      <td>Bloodhound: Beka Cooper, Book 2</td>\n",
       "      <td>[2176, 947, 699, 3, 7]</td>\n",
       "    </tr>\n",
       "    <tr>\n",
       "      <th>1</th>\n",
       "      <td>The School for Good and Evil, Book 1</td>\n",
       "      <td>[1, 22, 12, 65, 5, 323, 3, 6]</td>\n",
       "    </tr>\n",
       "    <tr>\n",
       "      <th>2</th>\n",
       "      <td>Twilight: The Twilight Saga, Book 1</td>\n",
       "      <td>[458, 1, 458, 216, 3, 6]</td>\n",
       "    </tr>\n",
       "    <tr>\n",
       "      <th>3</th>\n",
       "      <td>The Lost Girl</td>\n",
       "      <td>[1, 39, 17]</td>\n",
       "    </tr>\n",
       "    <tr>\n",
       "      <th>4</th>\n",
       "      <td>Warcross, Book 1</td>\n",
       "      <td>[2177, 3, 6]</td>\n",
       "    </tr>\n",
       "  </tbody>\n",
       "</table>\n",
       "</div>"
      ],
      "text/plain": [
       "                                  title                      title_seq\n",
       "0       Bloodhound: Beka Cooper, Book 2         [2176, 947, 699, 3, 7]\n",
       "1  The School for Good and Evil, Book 1  [1, 22, 12, 65, 5, 323, 3, 6]\n",
       "2   Twilight: The Twilight Saga, Book 1       [458, 1, 458, 216, 3, 6]\n",
       "3                         The Lost Girl                    [1, 39, 17]\n",
       "4                      Warcross, Book 1                   [2177, 3, 6]"
      ]
     },
     "execution_count": 33,
     "metadata": {},
     "output_type": "execute_result"
    }
   ],
   "source": [
    "train[[\"title\", \"title_seq\"]].head()"
   ]
  },
  {
   "cell_type": "code",
   "execution_count": 24,
   "metadata": {},
   "outputs": [
    {
     "name": "stdout",
     "output_type": "stream",
     "text": [
      "14\n",
      "3\n"
     ]
    }
   ],
   "source": [
    "#preparing vocabulary\n",
    "tokenizer.fit_on_texts(list(train['description']))\n",
    "\n",
    "\n",
    "#converting text into integer sequences\n",
    "train[\"description_seq\"]  = tokenizer.texts_to_sequences(train['description']) \n",
    "\n",
    "print(len(max(train[\"description_seq\"] , key=len)))\n",
    "print(len(min(train[\"description_seq\"] , key=len)))"
   ]
  },
  {
   "cell_type": "code",
   "execution_count": 34,
   "metadata": {},
   "outputs": [
    {
     "data": {
      "text/html": [
       "<div>\n",
       "<style scoped>\n",
       "    .dataframe tbody tr th:only-of-type {\n",
       "        vertical-align: middle;\n",
       "    }\n",
       "\n",
       "    .dataframe tbody tr th {\n",
       "        vertical-align: top;\n",
       "    }\n",
       "\n",
       "    .dataframe thead th {\n",
       "        text-align: right;\n",
       "    }\n",
       "</style>\n",
       "<table border=\"1\" class=\"dataframe\">\n",
       "  <thead>\n",
       "    <tr style=\"text-align: right;\">\n",
       "      <th></th>\n",
       "      <th>description</th>\n",
       "      <th>description_seq</th>\n",
       "    </tr>\n",
       "  </thead>\n",
       "  <tbody>\n",
       "    <tr>\n",
       "      <th>0</th>\n",
       "      <td>Second book in fantasy series is more mature t...</td>\n",
       "      <td>[312, 18, 6, 108, 56, 7, 44, 360, 85, 59]</td>\n",
       "    </tr>\n",
       "    <tr>\n",
       "      <th>1</th>\n",
       "      <td>Fractured fairy tale has plenty of twists for ...</td>\n",
       "      <td>[4506, 397, 69, 36, 330, 5, 862, 11, 108, 241]</td>\n",
       "    </tr>\n",
       "    <tr>\n",
       "      <th>2</th>\n",
       "      <td>Overlong but engrossing popular vampire romance.</td>\n",
       "      <td>[4710, 13, 1928, 345, 943, 163]</td>\n",
       "    </tr>\n",
       "    <tr>\n",
       "      <th>3</th>\n",
       "      <td>Engrossing story of an \"echo\" designed to repl...</td>\n",
       "      <td>[1928, 23, 5, 25, 7361, 2324, 4, 7090, 424, 72]</td>\n",
       "    </tr>\n",
       "    <tr>\n",
       "      <th>4</th>\n",
       "      <td>Winning teen girl drives cyberpunk virtual rea...</td>\n",
       "      <td>[496, 96, 72, 2436, 10966, 3597, 816, 616]</td>\n",
       "    </tr>\n",
       "  </tbody>\n",
       "</table>\n",
       "</div>"
      ],
      "text/plain": [
       "                                         description  \\\n",
       "0  Second book in fantasy series is more mature t...   \n",
       "1  Fractured fairy tale has plenty of twists for ...   \n",
       "2   Overlong but engrossing popular vampire romance.   \n",
       "3  Engrossing story of an \"echo\" designed to repl...   \n",
       "4  Winning teen girl drives cyberpunk virtual rea...   \n",
       "\n",
       "                                   description_seq  \n",
       "0        [312, 18, 6, 108, 56, 7, 44, 360, 85, 59]  \n",
       "1   [4506, 397, 69, 36, 330, 5, 862, 11, 108, 241]  \n",
       "2                  [4710, 13, 1928, 345, 943, 163]  \n",
       "3  [1928, 23, 5, 25, 7361, 2324, 4, 7090, 424, 72]  \n",
       "4       [496, 96, 72, 2436, 10966, 3597, 816, 616]  "
      ]
     },
     "execution_count": 34,
     "metadata": {},
     "output_type": "execute_result"
    }
   ],
   "source": [
    "train[[\"description\",\"description_seq\"]].head()"
   ]
  },
  {
   "cell_type": "code",
   "execution_count": 9,
   "metadata": {},
   "outputs": [],
   "source": [
    "embedding_columns = ['title', 'description', 'plot', 'csm_review', 'need_to_know']\n",
    "\n",
    "x_tr, y_tr = train[embedding_columns].values, train['csm_rating'].values\n",
    "x_val, y_val = valid[embedding_columns].values, valid[\"csm_rating\"].values"
   ]
  },
  {
   "cell_type": "code",
   "execution_count": 22,
   "metadata": {},
   "outputs": [
    {
     "data": {
      "text/plain": [
       "array([['Bloodhound: Beka Cooper, Book 2',\n",
       "        'Second book in fantasy series is more mature than first.',\n",
       "        'BLOODHOUND finds young policewoman -- aka \"Dog\" -- Beka Cooper taking on her first big case as an official Guardswoman. With an increasing number of forged coins (called \"coles\") appearing on the streets of Corus and rumors of a bad grain harvest starting to circulate, the country\\'s entire economy could be in trouble. Accompanied by a grumpy pigeon and an enthusiastic scent hound named Achoo, Beka and her partner follow the coles\\' trail to Port Caynn, where they meet a whole cast of new characters -- and encounter plenty of new trouble.\\n',\n",
       "        'Like its predecessor, Terrier, Bloodhound is much more of a crime procedural than a traditional fantasy novel. While magic certainly has a role in the story (Beka can talk to ghosts carried by pigeons, as well as pick up snippets of conversation from small whirlwinds), it\\'s far less central than in Pierce\\'s other books. Some fans may miss that aspect, but it\\'s a nice change of pace to see characters relying on \"regular\" resources -- and taking \"regular\" risks as they do so. Beka\\'s achievements are all the more satisfying because she achieves them almost entirely on her own merits.\\nAlso like Terrier, the book is told through first-person journal entries. It\\'s a very intimate writing style, and it helps cement Beka\\'s status as a likeable, relatable heroine -- one of many in Pierce\\'s repertoire. In addition to creating strong female characters, Pierce has always done an excellent job of telling engrossing, well-paced stories, and Bloodhound is no exception.',\n",
       "        \"Parents need to know that this fantasy/crime story takes place in a medieval-esque world in which violence is commonplace, sex is sometimes casual, and bribery and poverty go hand in hand. While there's nothing especially graphic, overall the story has a more mature tone than the first book in the series, with the heroine taking on bigger responsibilities and dallying with a young man. There are some deaths and many injuries, characters drink and flirt (and sometimes more), and a same-sex relationship is treated matter-of-factly.\\n\"],\n",
       "       ['The School for Good and Evil, Book 1',\n",
       "        'Fractured fairy tale has plenty of twists for fantasy fans.',\n",
       "        \"When best friends Sophie and Agatha are stolen away from their village and end up at the THE SCHOOL FOR GOOD AND EVIL, the girls assume that their roles in life will remain as they always have predicted. With her blond hair, pink dresses, and penchant for doing good deeds, Sophie will be trained to be a storybook princess. Black-clad and antisocial Agatha has all the makings of a first-class villainess. At the school, however, the girls find themselves exactly where they don't want to be. Sophie is the one to take Uglification lessons and consort with future witches and their henchmen, while Agatha must learn about makeup and the proper etiquette for attracting a Prince Charming. To get back home, Agatha and Sophie must solve a riddle that seems to threaten the very existence of the school.\\n\",\n",
       "        \"The School for Good and Evil is no run-of-the-mill fairy tale spin-off. Author Soman Chainani has clearly done his homework in folklore and mass media, and he manipulates the cliches of fantasy and folklore with a great deal of wit and insight. This opening volume to the series feels a little long, however. Agatha and Sophie attempt new trials, pass or fail in unexpected ways, then move on to the next contest. The repetition of this patterns grows burdensome across nearly 500 pages. Still, there's a lot of narrative meat here, served up with flair by Chainani and complemented by Iacopo Bruno's black-and-white illustrations.\",\n",
       "        'Parents need to know that The School for Good and Evil is a fresh take on fairy tale devices and cliches, upending the expectations most readers have about princesses and villains. The language is very mild, with nothing worse than \"ass\" used. Would-be princesses and princes flirt with each other, but there\\'s virtually no sexual content (though there are a couple of mildly bawdy sword jokes, if one cares to look for them). As in most fairy tales, violence and the threat of it are fairly constant, but most characters escape actual harm, at least until the climactic battle sequence. The body count there is rather high, and one of the main characters is killed (though seemingly revived later on).\\n'],\n",
       "       ['Twilight: The Twilight Saga, Book 1',\n",
       "        'Overlong but engrossing popular vampire romance.',\n",
       "        \"When her mother gets remarried, Bella Swan moves in with her father, Charlie, who lives in a small town on Washington's Olympic Peninsula, where it rains nearly all the time. There she meets Edward, a strange and gorgeous boy from a strange and gorgeous family -- and soon she's fallen madly in love with him. She also discovers that he and his family are vampires, which doesn't bother her at all. But it bothers Edward; even though his family long ago swore off human blood in favor of animals', he still worries for her safety, both with him and with his family, who control their lust for human blood only by willpower.\\n\",\n",
       "        \"This incredibly long book is really two books. The first two-thirds of TWILIGHT is a fairly engrossing, if not terribly imaginative, vampire romance, with lots of smoldering eyes, palpitating hearts, mood swings, and a nice touch of fantasy. Then in the final third it turns into an action-thriller, as another vampire sets his sights on Bella.\\nDespite its length it is very readable, though it's all too easy to read a hundred pages, enjoy it, and then not be able to remember anything that actually happened. The vampires are not only presented sympathetically, but with their amazing superhero-ish powers, spectacular looks, and hipster style, they also make vampirism seem like a sensible and appealing lifestyle choice -- though they would certainly fit in better in Soho than in Forks, Washington. Still, it's mostly good fun, and passes the time pleasantly.\",\n",
       "        'Parents need to know that, while very mild by the standards of its genre, this is a vampire romance, so there is talk about blood and romantic kissing, as well as one battle with bloody injuries.\\n'],\n",
       "       ...,\n",
       "       [\"Don't Need Friends\",\n",
       "        'Undeniably sweet tale avoids being saccharine.',\n",
       "        'Rat lives in a friendly community of junkyard-dwelling animals, but when his best friend leaves, he becomes bitter and aloof. He meets his match in a new arrival, Dog, who is even more antisocial than he is. Exploring ideas of community and friendship, the story shows how individuals can deal with hurt and can bravely form new attachments.\\n ',\n",
       "        'Although undeniably sweet, the story avoids being saccharine. Much of the credit goes to the illustrations, which effectively convey the atmosphere of the junkyard and the personalities of the characters. Author Carolyn Crimi looks at one of the ways in which we try to protect ourselves from hurt and disappointment. Children can readily see that Rat\\'s attempt to deny his need for friends is self-defeating, but they also sympathize with his bluff and are touched when Rat and Dog gain enough trust to reveal (rather backhandedly) the kind hearts beneath their rough exteriors.\\nThe scruffy denizens of the junkyard are a refreshing change from the many cuddly, bucolic animals usually residing in children\\'s literature. Rats, possums, pigeons, and ownerless dogs: They live on the edges of \"official\" society in their own messy but companionable world, preoccupied with food and warmth -- both physical and emotional. Rather like children, in fact.',\n",
       "        'Parents need to know that the story line is greatly enhanced by the illustrations, which sympathetically portray the lives and looks of the junkyard creatures without sentimentalizing them.\\n'],\n",
       "       ['Children Just Like Me',\n",
       "        'Introduces kids to variety of cultures and places.',\n",
       "        'From a Bedouin village in Jordan to the heart of Hollywood, children are introduced to a wide variety of cultures and places. Although the text is beyond the abilities of many in the target audience, stunning photographs, moving testimonies, and intricate details highlight the lives and dreams of ordinary children.\\n',\n",
       "        \"This inspiring work, produced in conjunction with UNICEF, urges readers to focus on the interests they have in common with other kids. Some of these compelling stories are sorrowful: Seven-year-old Meena, for example, lives on a construction site in New Delhi with her transplanted family, and longs to return to her rural village. Other tales are uplifting, and all are absorbing to read. The book strikes a delicate balance between providing vital information about the culture and region and presenting anecdotal tidbits on topics of interest to children: a child's favorite food, toy, friend, or school subject.\\nChildren the same age as most of the subjects will find the reading too advanced, but the book is an excellent resource for middle-grade children. Each page overflows with information, both textual and visual. Barnabas Kindersley's cheerful photographs document everyday details, including each child's abode and schoolwork. Readers will be challenged and touched by this remarkable work.\",\n",
       "        'Parents need to know that the writing is simple and straightforward, but it highlights high-interest areas for kids. Crisp photographs feature portraits of smiling children in their favorite outfits or traditional garb.\\n'],\n",
       "       ['Cat Dreams', 'Sweet, sleepy book will have cat lovers purring.',\n",
       "        'After a bit of running and jumping, a cat settles down for a catnap. She dreams of raining mice, savoring a giant bowl of cream with kibbles, then tumbling out of a catnip tree. Startled awake, she seeks comfort in the coziest spot in the house: someone’s warm lap.\\n',\n",
       "        'This is a good choice for young children who enjoy animals. Ursula Le Guin’s gentle, rhyming text isn’t very engaging and is sometimes awkward, with occasional moments of grace: “I’m singing a song inside of my fur.” The imagery -- raining mice, a catnip tree -- may catch kids’ interest. The quiet tone and slow pace make it a cozy, snuggly read before nap time. S.D. Schindler’s affectionate portraits nicely capture felines at rest and play.\\nArtwork is full of soft, textured detail.',\n",
       "        \"Parents need to know there's nothing of concern in this gentle picture book.\\n\"]],\n",
       "      dtype=object)"
      ]
     },
     "execution_count": 22,
     "metadata": {},
     "output_type": "execute_result"
    }
   ],
   "source": [
    "x_tr"
   ]
  },
  {
   "cell_type": "code",
   "execution_count": null,
   "metadata": {},
   "outputs": [],
   "source": []
  }
 ],
 "metadata": {
  "kernelspec": {
   "display_name": "base",
   "language": "python",
   "name": "base"
  },
  "language_info": {
   "codemirror_mode": {
    "name": "ipython",
    "version": 3
   },
   "file_extension": ".py",
   "mimetype": "text/x-python",
   "name": "python",
   "nbconvert_exporter": "python",
   "pygments_lexer": "ipython3",
   "version": "3.7.4"
  }
 },
 "nbformat": 4,
 "nbformat_minor": 4
}
