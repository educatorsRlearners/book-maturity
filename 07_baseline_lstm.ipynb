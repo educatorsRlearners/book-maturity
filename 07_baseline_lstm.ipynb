{
 "cells": [
  {
   "cell_type": "code",
   "execution_count": 1,
   "metadata": {},
   "outputs": [
    {
     "name": "stderr",
     "output_type": "stream",
     "text": [
      "Using TensorFlow backend.\n"
     ]
    }
   ],
   "source": [
    "import pandas as pd\n",
    "import numpy as np\n",
    "from sklearn.model_selection import StratifiedShuffleSplit\n",
    "from keras.preprocessing.text import Tokenizer\n",
    "from keras.preprocessing.sequence import pad_sequences"
   ]
  },
  {
   "cell_type": "code",
   "execution_count": 2,
   "metadata": {},
   "outputs": [],
   "source": [
    "train = pd.read_csv('csv/train.csv')\n",
    "valid = pd.read_csv(\"csv/test.csv\")"
   ]
  },
  {
   "cell_type": "code",
   "execution_count": 3,
   "metadata": {},
   "outputs": [
    {
     "data": {
      "text/plain": [
       "'Fractured fairy tale has plenty of twists for fantasy fans.'"
      ]
     },
     "execution_count": 3,
     "metadata": {},
     "output_type": "execute_result"
    }
   ],
   "source": [
    "train.loc[1, \"description\"]"
   ]
  },
  {
   "cell_type": "markdown",
   "metadata": {},
   "source": [
    "## Create the splits"
   ]
  },
  {
   "cell_type": "code",
   "execution_count": 4,
   "metadata": {},
   "outputs": [],
   "source": [
    "x_tr, y_tr = train['description'].values, train['csm_rating'].values\n",
    "x_val, y_val = valid[\"description\"].values, valid[\"csm_rating\"].values"
   ]
  },
  {
   "cell_type": "code",
   "execution_count": 5,
   "metadata": {},
   "outputs": [
    {
     "name": "stdout",
     "output_type": "stream",
     "text": [
      "(4651,) (4651,)\n"
     ]
    }
   ],
   "source": [
    "print(x_tr.shape, y_tr.shape)"
   ]
  },
  {
   "cell_type": "code",
   "execution_count": 6,
   "metadata": {},
   "outputs": [
    {
     "name": "stdout",
     "output_type": "stream",
     "text": [
      "(1164,) (1164,)\n"
     ]
    }
   ],
   "source": [
    "print(x_val.shape, y_val.shape)"
   ]
  },
  {
   "cell_type": "markdown",
   "metadata": {},
   "source": [
    "## Prepare the Data"
   ]
  },
  {
   "cell_type": "code",
   "execution_count": 7,
   "metadata": {},
   "outputs": [
    {
     "name": "stdout",
     "output_type": "stream",
     "text": [
      "14\n",
      "3\n"
     ]
    }
   ],
   "source": [
    "#Tokenize the sentences\n",
    "tokenizer = Tokenizer()\n",
    "\n",
    "#preparing vocabulary\n",
    "tokenizer.fit_on_texts(list(x_tr))\n",
    "\n",
    "#converting text into integer sequences\n",
    "x_tr_seq  = tokenizer.texts_to_sequences(x_tr) \n",
    "x_val_seq = tokenizer.texts_to_sequences(x_val)\n",
    "\n",
    "print(len(max(x_tr_seq, key=len)))\n",
    "print(len(min(x_tr_seq, key=len)))"
   ]
  },
  {
   "cell_type": "code",
   "execution_count": 8,
   "metadata": {},
   "outputs": [
    {
     "name": "stdout",
     "output_type": "stream",
     "text": [
      "14\n",
      "14\n"
     ]
    }
   ],
   "source": [
    "#padding to prepare sequences of same length\n",
    "x_tr_seq  = pad_sequences(x_tr_seq, maxlen=14)\n",
    "x_val_seq = pad_sequences(x_val_seq, maxlen=14)\n",
    "print(len(max(x_tr_seq, key=len)))\n",
    "print(len(min(x_tr_seq, key=len)))"
   ]
  },
  {
   "cell_type": "code",
   "execution_count": 9,
   "metadata": {},
   "outputs": [
    {
     "data": {
      "text/plain": [
       "array([   0,    0,    0,    0, 1028,   99,    3,   25,  618,    1,  334,\n",
       "          8,   12,   72], dtype=int32)"
      ]
     },
     "execution_count": 9,
     "metadata": {},
     "output_type": "execute_result"
    }
   ],
   "source": [
    "x_tr_seq[1]"
   ]
  },
  {
   "cell_type": "code",
   "execution_count": 10,
   "metadata": {},
   "outputs": [
    {
     "name": "stdout",
     "output_type": "stream",
     "text": [
      "5815\n"
     ]
    }
   ],
   "source": [
    "size_of_vocabulary=len(tokenizer.word_index) + 1 #+1 for padding\n",
    "print(size_of_vocabulary)"
   ]
  },
  {
   "cell_type": "markdown",
   "metadata": {},
   "source": [
    "## Create embeddings"
   ]
  },
  {
   "cell_type": "code",
   "execution_count": 11,
   "metadata": {},
   "outputs": [
    {
     "name": "stdout",
     "output_type": "stream",
     "text": [
      "Found 5814 unique tokens.\n"
     ]
    }
   ],
   "source": [
    "word_index = tokenizer.word_index\n",
    "print(\"Found %s unique tokens.\" % len(word_index))"
   ]
  },
  {
   "cell_type": "markdown",
   "metadata": {},
   "source": [
    "## Create the Model"
   ]
  },
  {
   "cell_type": "code",
   "execution_count": 12,
   "metadata": {},
   "outputs": [
    {
     "name": "stdout",
     "output_type": "stream",
     "text": [
      "Model: \"sequential_1\"\n",
      "_________________________________________________________________\n",
      "Layer (type)                 Output Shape              Param #   \n",
      "=================================================================\n",
      "embedding_1 (Embedding)      (None, 14, 300)           1744500   \n",
      "_________________________________________________________________\n",
      "lstm_1 (LSTM)                (None, 14, 128)           219648    \n",
      "_________________________________________________________________\n",
      "global_max_pooling1d_1 (Glob (None, 128)               0         \n",
      "_________________________________________________________________\n",
      "dense_1 (Dense)              (None, 64)                8256      \n",
      "_________________________________________________________________\n",
      "dense_2 (Dense)              (None, 1)                 65        \n",
      "=================================================================\n",
      "Total params: 1,972,469\n",
      "Trainable params: 1,972,469\n",
      "Non-trainable params: 0\n",
      "_________________________________________________________________\n",
      "None\n"
     ]
    }
   ],
   "source": [
    "from keras.models import Sequential\n",
    "from keras.layers import Embedding\n",
    "from keras.layers import LSTM\n",
    "from keras.layers import Activation, Dense\n",
    "from keras.layers import Dense, Input, GlobalMaxPooling1D\n",
    "from keras.callbacks import ModelCheckpoint, EarlyStopping\n",
    "\n",
    "model=Sequential()\n",
    "\n",
    "#embedding layer\n",
    "model.add(Embedding(size_of_vocabulary,300,input_length=14,trainable=True)) \n",
    "\n",
    "#lstm layer\n",
    "model.add(LSTM(128,return_sequences=True,dropout=0.2))\n",
    "\n",
    "#Global Maxpooling\n",
    "model.add(GlobalMaxPooling1D())\n",
    "\n",
    "#Dense Layer\n",
    "model.add(Dense(64,activation='relu')) \n",
    "model.add(Dense(1,activation='sigmoid')) \n",
    "\n",
    "#Add loss function, metrics, optimizer\n",
    "\n",
    "model.compile(optimizer='RMSprop', loss='mse',metrics=[\"mae\", \"mse\"]) \n",
    "\n",
    "#Adding callbacks\n",
    "#es = EarlyStopping(monitor='val_loss', mode='min', verbose=1,patience=10)  \n",
    "mc=ModelCheckpoint('best_model.h5', monitor='val_loss', mode='max', save_best_only=True,verbose=1)  \n",
    "\n",
    "#Print summary of model\n",
    "print(model.summary())"
   ]
  },
  {
   "cell_type": "markdown",
   "metadata": {},
   "source": [
    "## Fit the Model"
   ]
  },
  {
   "cell_type": "code",
   "execution_count": 13,
   "metadata": {},
   "outputs": [
    {
     "name": "stderr",
     "output_type": "stream",
     "text": [
      "/home/evan/anaconda3/lib/python3.7/site-packages/tensorflow_core/python/framework/indexed_slices.py:433: UserWarning: Converting sparse IndexedSlices to a dense Tensor of unknown shape. This may consume a large amount of memory.\n",
      "  \"Converting sparse IndexedSlices to a dense Tensor of unknown shape. \"\n"
     ]
    },
    {
     "name": "stdout",
     "output_type": "stream",
     "text": [
      "Train on 4651 samples, validate on 1164 samples\n",
      "Epoch 1/20\n",
      "4651/4651 [==============================] - 4s 820us/step - loss: 82.0816 - mae: 8.1869 - mse: 82.0816 - val_loss: 81.6274 - val_mae: 8.1615 - val_mse: 81.6274\n",
      "\n",
      "Epoch 00001: val_loss improved from -inf to 81.62736, saving model to best_model.h5\n",
      "Epoch 2/20\n",
      "4651/4651 [==============================] - 3s 651us/step - loss: 81.6952 - mae: 8.1621 - mse: 81.6952 - val_loss: 81.6271 - val_mae: 8.1615 - val_mse: 81.6272\n",
      "\n",
      "Epoch 00002: val_loss did not improve from 81.62736\n",
      "Epoch 3/20\n",
      "4651/4651 [==============================] - 3s 693us/step - loss: 81.6951 - mae: 8.1621 - mse: 81.6951 - val_loss: 81.6271 - val_mae: 8.1615 - val_mse: 81.6272\n",
      "\n",
      "Epoch 00003: val_loss did not improve from 81.62736\n",
      "Epoch 4/20\n",
      "4651/4651 [==============================] - 3s 663us/step - loss: 81.6951 - mae: 8.1621 - mse: 81.6951 - val_loss: 81.6271 - val_mae: 8.1615 - val_mse: 81.6272\n",
      "\n",
      "Epoch 00004: val_loss did not improve from 81.62736\n",
      "Epoch 5/20\n",
      "4651/4651 [==============================] - 3s 688us/step - loss: 81.6951 - mae: 8.1621 - mse: 81.6951 - val_loss: 81.6271 - val_mae: 8.1615 - val_mse: 81.6272\n",
      "\n",
      "Epoch 00005: val_loss did not improve from 81.62736\n",
      "Epoch 6/20\n",
      "4651/4651 [==============================] - 3s 683us/step - loss: 81.6951 - mae: 8.1621 - mse: 81.6951 - val_loss: 81.6271 - val_mae: 8.1615 - val_mse: 81.6272\n",
      "\n",
      "Epoch 00006: val_loss did not improve from 81.62736\n",
      "Epoch 7/20\n",
      "4651/4651 [==============================] - 3s 643us/step - loss: 81.6951 - mae: 8.1621 - mse: 81.6951 - val_loss: 81.6271 - val_mae: 8.1615 - val_mse: 81.6272\n",
      "\n",
      "Epoch 00007: val_loss did not improve from 81.62736\n",
      "Epoch 8/20\n",
      "4651/4651 [==============================] - 3s 653us/step - loss: 81.6951 - mae: 8.1621 - mse: 81.6951 - val_loss: 81.6271 - val_mae: 8.1615 - val_mse: 81.6272\n",
      "\n",
      "Epoch 00008: val_loss did not improve from 81.62736\n",
      "Epoch 9/20\n",
      "4651/4651 [==============================] - 3s 683us/step - loss: 81.6951 - mae: 8.1621 - mse: 81.6951 - val_loss: 81.6271 - val_mae: 8.1615 - val_mse: 81.6272\n",
      "\n",
      "Epoch 00009: val_loss did not improve from 81.62736\n",
      "Epoch 10/20\n",
      "4651/4651 [==============================] - 3s 695us/step - loss: 81.6951 - mae: 8.1621 - mse: 81.6951 - val_loss: 81.6271 - val_mae: 8.1615 - val_mse: 81.6272\n",
      "\n",
      "Epoch 00010: val_loss did not improve from 81.62736\n",
      "Epoch 11/20\n",
      "4651/4651 [==============================] - 4s 793us/step - loss: 81.6951 - mae: 8.1621 - mse: 81.6951 - val_loss: 81.6271 - val_mae: 8.1615 - val_mse: 81.6272\n",
      "\n",
      "Epoch 00011: val_loss did not improve from 81.62736\n",
      "Epoch 12/20\n",
      "4651/4651 [==============================] - 4s 791us/step - loss: 81.6951 - mae: 8.1621 - mse: 81.6951 - val_loss: 81.6271 - val_mae: 8.1615 - val_mse: 81.6272\n",
      "\n",
      "Epoch 00012: val_loss did not improve from 81.62736\n",
      "Epoch 13/20\n",
      "4651/4651 [==============================] - 4s 755us/step - loss: 81.6951 - mae: 8.1621 - mse: 81.6951 - val_loss: 81.6271 - val_mae: 8.1615 - val_mse: 81.6272\n",
      "\n",
      "Epoch 00013: val_loss did not improve from 81.62736\n",
      "Epoch 14/20\n",
      "4651/4651 [==============================] - 3s 658us/step - loss: 81.6951 - mae: 8.1621 - mse: 81.6951 - val_loss: 81.6271 - val_mae: 8.1615 - val_mse: 81.6272\n",
      "\n",
      "Epoch 00014: val_loss did not improve from 81.62736\n",
      "Epoch 15/20\n",
      "4651/4651 [==============================] - 4s 764us/step - loss: 81.6951 - mae: 8.1621 - mse: 81.6951 - val_loss: 81.6271 - val_mae: 8.1615 - val_mse: 81.6272\n",
      "\n",
      "Epoch 00015: val_loss did not improve from 81.62736\n",
      "Epoch 16/20\n",
      "4651/4651 [==============================] - 3s 654us/step - loss: 81.6951 - mae: 8.1621 - mse: 81.6951 - val_loss: 81.6271 - val_mae: 8.1615 - val_mse: 81.6272\n",
      "\n",
      "Epoch 00016: val_loss did not improve from 81.62736\n",
      "Epoch 17/20\n",
      "4651/4651 [==============================] - 3s 670us/step - loss: 81.6951 - mae: 8.1621 - mse: 81.6951 - val_loss: 81.6271 - val_mae: 8.1615 - val_mse: 81.6272\n",
      "\n",
      "Epoch 00017: val_loss did not improve from 81.62736\n",
      "Epoch 18/20\n",
      "4651/4651 [==============================] - 3s 684us/step - loss: 81.6951 - mae: 8.1621 - mse: 81.6951 - val_loss: 81.6271 - val_mae: 8.1615 - val_mse: 81.6272\n",
      "\n",
      "Epoch 00018: val_loss did not improve from 81.62736\n",
      "Epoch 19/20\n",
      "4651/4651 [==============================] - 3s 647us/step - loss: 81.6951 - mae: 8.1621 - mse: 81.6951 - val_loss: 81.6271 - val_mae: 8.1615 - val_mse: 81.6272\n",
      "\n",
      "Epoch 00019: val_loss did not improve from 81.62736\n",
      "Epoch 20/20\n",
      "4651/4651 [==============================] - 3s 651us/step - loss: 81.6951 - mae: 8.1621 - mse: 81.6951 - val_loss: 81.6271 - val_mae: 8.1615 - val_mse: 81.6272\n",
      "\n",
      "Epoch 00020: val_loss did not improve from 81.62736\n"
     ]
    }
   ],
   "source": [
    "history = model.fit(np.array(x_tr_seq),\n",
    "                    np.array(y_tr),\n",
    "                    batch_size=64,\n",
    "                    epochs=20,\n",
    "                    validation_data=(np.array(x_val_seq),np.array(y_val)),\n",
    "                    verbose=1,\n",
    "                    callbacks=[mc])"
   ]
  },
  {
   "cell_type": "code",
   "execution_count": 14,
   "metadata": {},
   "outputs": [
    {
     "name": "stderr",
     "output_type": "stream",
     "text": [
      "/home/evan/anaconda3/lib/python3.7/site-packages/tensorflow_core/python/framework/indexed_slices.py:433: UserWarning: Converting sparse IndexedSlices to a dense Tensor of unknown shape. This may consume a large amount of memory.\n",
      "  \"Converting sparse IndexedSlices to a dense Tensor of unknown shape. \"\n"
     ]
    },
    {
     "name": "stdout",
     "output_type": "stream",
     "text": [
      "Testing set Mean Abs Error:  8.16 \n"
     ]
    },
    {
     "ename": "ValueError",
     "evalue": "Error when checking input: expected embedding_1_input to have shape (14,) but got array with shape (1,)",
     "output_type": "error",
     "traceback": [
      "\u001b[0;31m---------------------------------------------------------------------------\u001b[0m",
      "\u001b[0;31mValueError\u001b[0m                                Traceback (most recent call last)",
      "\u001b[0;32m<ipython-input-14-98cb0cade99b>\u001b[0m in \u001b[0;36m<module>\u001b[0;34m\u001b[0m\n\u001b[1;32m      8\u001b[0m \u001b[0mprint\u001b[0m\u001b[0;34m(\u001b[0m\u001b[0;34m\"Testing set Mean Abs Error: {:5.2f} \"\u001b[0m\u001b[0;34m.\u001b[0m\u001b[0mformat\u001b[0m\u001b[0;34m(\u001b[0m\u001b[0mmae\u001b[0m\u001b[0;34m)\u001b[0m\u001b[0;34m)\u001b[0m\u001b[0;34m\u001b[0m\u001b[0;34m\u001b[0m\u001b[0m\n\u001b[1;32m      9\u001b[0m \u001b[0;34m\u001b[0m\u001b[0m\n\u001b[0;32m---> 10\u001b[0;31m \u001b[0mtest_predictions\u001b[0m \u001b[0;34m=\u001b[0m \u001b[0mmodel\u001b[0m\u001b[0;34m.\u001b[0m\u001b[0mpredict\u001b[0m\u001b[0;34m(\u001b[0m\u001b[0my_val\u001b[0m\u001b[0;34m)\u001b[0m\u001b[0;34m.\u001b[0m\u001b[0mflatten\u001b[0m\u001b[0;34m(\u001b[0m\u001b[0;34m)\u001b[0m\u001b[0;34m\u001b[0m\u001b[0;34m\u001b[0m\u001b[0m\n\u001b[0m",
      "\u001b[0;32m~/anaconda3/lib/python3.7/site-packages/keras/engine/training.py\u001b[0m in \u001b[0;36mpredict\u001b[0;34m(self, x, batch_size, verbose, steps, callbacks, max_queue_size, workers, use_multiprocessing)\u001b[0m\n\u001b[1;32m   1439\u001b[0m \u001b[0;34m\u001b[0m\u001b[0m\n\u001b[1;32m   1440\u001b[0m         \u001b[0;31m# Case 2: Symbolic tensors or Numpy array-like.\u001b[0m\u001b[0;34m\u001b[0m\u001b[0;34m\u001b[0m\u001b[0;34m\u001b[0m\u001b[0m\n\u001b[0;32m-> 1441\u001b[0;31m         \u001b[0mx\u001b[0m\u001b[0;34m,\u001b[0m \u001b[0m_\u001b[0m\u001b[0;34m,\u001b[0m \u001b[0m_\u001b[0m \u001b[0;34m=\u001b[0m \u001b[0mself\u001b[0m\u001b[0;34m.\u001b[0m\u001b[0m_standardize_user_data\u001b[0m\u001b[0;34m(\u001b[0m\u001b[0mx\u001b[0m\u001b[0;34m)\u001b[0m\u001b[0;34m\u001b[0m\u001b[0;34m\u001b[0m\u001b[0m\n\u001b[0m\u001b[1;32m   1442\u001b[0m         \u001b[0;32mif\u001b[0m \u001b[0mself\u001b[0m\u001b[0;34m.\u001b[0m\u001b[0mstateful\u001b[0m\u001b[0;34m:\u001b[0m\u001b[0;34m\u001b[0m\u001b[0;34m\u001b[0m\u001b[0m\n\u001b[1;32m   1443\u001b[0m             \u001b[0;32mif\u001b[0m \u001b[0mx\u001b[0m\u001b[0;34m[\u001b[0m\u001b[0;36m0\u001b[0m\u001b[0;34m]\u001b[0m\u001b[0;34m.\u001b[0m\u001b[0mshape\u001b[0m\u001b[0;34m[\u001b[0m\u001b[0;36m0\u001b[0m\u001b[0;34m]\u001b[0m \u001b[0;34m>\u001b[0m \u001b[0mbatch_size\u001b[0m \u001b[0;32mand\u001b[0m \u001b[0mx\u001b[0m\u001b[0;34m[\u001b[0m\u001b[0;36m0\u001b[0m\u001b[0;34m]\u001b[0m\u001b[0;34m.\u001b[0m\u001b[0mshape\u001b[0m\u001b[0;34m[\u001b[0m\u001b[0;36m0\u001b[0m\u001b[0;34m]\u001b[0m \u001b[0;34m%\u001b[0m \u001b[0mbatch_size\u001b[0m \u001b[0;34m!=\u001b[0m \u001b[0;36m0\u001b[0m\u001b[0;34m:\u001b[0m\u001b[0;34m\u001b[0m\u001b[0;34m\u001b[0m\u001b[0m\n",
      "\u001b[0;32m~/anaconda3/lib/python3.7/site-packages/keras/engine/training.py\u001b[0m in \u001b[0;36m_standardize_user_data\u001b[0;34m(self, x, y, sample_weight, class_weight, check_array_lengths, batch_size)\u001b[0m\n\u001b[1;32m    577\u001b[0m             \u001b[0mfeed_input_shapes\u001b[0m\u001b[0;34m,\u001b[0m\u001b[0;34m\u001b[0m\u001b[0;34m\u001b[0m\u001b[0m\n\u001b[1;32m    578\u001b[0m             \u001b[0mcheck_batch_axis\u001b[0m\u001b[0;34m=\u001b[0m\u001b[0;32mFalse\u001b[0m\u001b[0;34m,\u001b[0m  \u001b[0;31m# Don't enforce the batch size.\u001b[0m\u001b[0;34m\u001b[0m\u001b[0;34m\u001b[0m\u001b[0m\n\u001b[0;32m--> 579\u001b[0;31m             exception_prefix='input')\n\u001b[0m\u001b[1;32m    580\u001b[0m \u001b[0;34m\u001b[0m\u001b[0m\n\u001b[1;32m    581\u001b[0m         \u001b[0;32mif\u001b[0m \u001b[0my\u001b[0m \u001b[0;32mis\u001b[0m \u001b[0;32mnot\u001b[0m \u001b[0;32mNone\u001b[0m\u001b[0;34m:\u001b[0m\u001b[0;34m\u001b[0m\u001b[0;34m\u001b[0m\u001b[0m\n",
      "\u001b[0;32m~/anaconda3/lib/python3.7/site-packages/keras/engine/training_utils.py\u001b[0m in \u001b[0;36mstandardize_input_data\u001b[0;34m(data, names, shapes, check_batch_axis, exception_prefix)\u001b[0m\n\u001b[1;32m    143\u001b[0m                             \u001b[0;34m': expected '\u001b[0m \u001b[0;34m+\u001b[0m \u001b[0mnames\u001b[0m\u001b[0;34m[\u001b[0m\u001b[0mi\u001b[0m\u001b[0;34m]\u001b[0m \u001b[0;34m+\u001b[0m \u001b[0;34m' to have shape '\u001b[0m \u001b[0;34m+\u001b[0m\u001b[0;34m\u001b[0m\u001b[0;34m\u001b[0m\u001b[0m\n\u001b[1;32m    144\u001b[0m                             \u001b[0mstr\u001b[0m\u001b[0;34m(\u001b[0m\u001b[0mshape\u001b[0m\u001b[0;34m)\u001b[0m \u001b[0;34m+\u001b[0m \u001b[0;34m' but got array with shape '\u001b[0m \u001b[0;34m+\u001b[0m\u001b[0;34m\u001b[0m\u001b[0;34m\u001b[0m\u001b[0m\n\u001b[0;32m--> 145\u001b[0;31m                             str(data_shape))\n\u001b[0m\u001b[1;32m    146\u001b[0m     \u001b[0;32mreturn\u001b[0m \u001b[0mdata\u001b[0m\u001b[0;34m\u001b[0m\u001b[0;34m\u001b[0m\u001b[0m\n\u001b[1;32m    147\u001b[0m \u001b[0;34m\u001b[0m\u001b[0m\n",
      "\u001b[0;31mValueError\u001b[0m: Error when checking input: expected embedding_1_input to have shape (14,) but got array with shape (1,)"
     ]
    }
   ],
   "source": [
    "#loading best model\n",
    "from keras.models import load_model\n",
    "model = load_model('best_model.h5')\n",
    "\n",
    "#evaluation \n",
    "loss, mae, mse = model.evaluate(x_val_seq, y_val, verbose=2)\n",
    "\n",
    "print(\"Testing set Mean Abs Error: {:5.2f} \".format(mae))\n",
    "\n",
    "test_predictions = model.predict(y_val).flatten()"
   ]
  },
  {
   "cell_type": "markdown",
   "metadata": {},
   "source": [
    "## [Use Transfer Learning](https://www.analyticsvidhya.com/blog/2020/03/pretrained-word-embeddings-nlp/)"
   ]
  },
  {
   "cell_type": "code",
   "execution_count": null,
   "metadata": {},
   "outputs": [],
   "source": []
  }
 ],
 "metadata": {
  "kernelspec": {
   "display_name": "base",
   "language": "python",
   "name": "base"
  },
  "language_info": {
   "codemirror_mode": {
    "name": "ipython",
    "version": 3
   },
   "file_extension": ".py",
   "mimetype": "text/x-python",
   "name": "python",
   "nbconvert_exporter": "python",
   "pygments_lexer": "ipython3",
   "version": "3.7.4"
  }
 },
 "nbformat": 4,
 "nbformat_minor": 4
}
