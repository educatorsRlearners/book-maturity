{
 "cells": [
  {
   "cell_type": "code",
   "execution_count": 1,
   "metadata": {},
   "outputs": [],
   "source": [
    "import pandas as pd\n",
    "import csv\n",
    "from bs4 import BeautifulSoup\n",
    "import os"
   ]
  },
  {
   "cell_type": "code",
   "execution_count": 2,
   "metadata": {},
   "outputs": [],
   "source": [
    "file = \"lexile/raw/book-reviews/3-willows.html\"\n",
    "with open(file, 'r') as f: \n",
    "        soup = BeautifulSoup(f.read(), 'html.parser')"
   ]
  },
  {
   "cell_type": "markdown",
   "metadata": {},
   "source": [
    "## Get All Data"
   ]
  },
  {
   "cell_type": "code",
   "execution_count": 3,
   "metadata": {},
   "outputs": [],
   "source": [
    "title = soup.h1.text\n",
    "description = soup.find(class_='field field-name-field-one-liner field-type-text field-label-hidden').get_text()\n",
    "csm_age = soup.find(class_=\"csm-green-age\").get_text().replace(\"age \", \"\")[:-1]"
   ]
  },
  {
   "cell_type": "code",
   "execution_count": 4,
   "metadata": {},
   "outputs": [
    {
     "name": "stdout",
     "output_type": "stream",
     "text": [
      "Title: 3 Willows\n",
      "\n",
      "Description: Sisterhood author writes sweet new book about friendship.\n",
      "\n",
      "CSM Recommended Age: 12\n"
     ]
    }
   ],
   "source": [
    "print(\"Title: {}\".format(title))\n",
    "print()\n",
    "print(\"Description: {}\".format(description))\n",
    "print()\n",
    "print(\"CSM Recommended Age: {}\".format(csm_age))"
   ]
  },
  {
   "cell_type": "markdown",
   "metadata": {},
   "source": [
    "### Plot Summary"
   ]
  },
  {
   "cell_type": "code",
   "execution_count": 5,
   "metadata": {},
   "outputs": [],
   "source": [
    "def get_summary(soup):\n",
    "    remove_charachters = [\"\\xa0\\n\", \"\\xa0a\", \"\\xa0\"]\n",
    "    plot_sum = soup.find(class_=\"field field-name-field-what-is-story field-type-text-long field-label-hidden\").get_text()\n",
    "    for charachter in remove_charachters:\n",
    "        plot_sum = plot_sum.replace(charachter, \" \")\n",
    "    return plot_sum"
   ]
  },
  {
   "cell_type": "markdown",
   "metadata": {},
   "source": [
    "### Is It Any Good? "
   ]
  },
  {
   "cell_type": "code",
   "execution_count": 6,
   "metadata": {},
   "outputs": [],
   "source": [
    "def get_csm_review(soup):\n",
    "    remove_charachters = [\"\\xa0\\n\", \"\\xa0a\", \"\\xa0\"]\n",
    "    csm_evaluation = soup.find(class_=\"field field-name-field-any-good field-type-text-long field-label-hidden\").get_text()[:-1]\n",
    "    for charachter in remove_charachters:\n",
    "        csm_evaluation = csm_evaluation.replace(charachter, \" \")\n",
    "    return csm_evaluation"
   ]
  },
  {
   "cell_type": "markdown",
   "metadata": {},
   "source": [
    "### Parent's rating"
   ]
  },
  {
   "cell_type": "code",
   "execution_count": 7,
   "metadata": {},
   "outputs": [
    {
     "data": {
      "text/plain": [
       "'0'"
      ]
     },
     "execution_count": 7,
     "metadata": {},
     "output_type": "execute_result"
    }
   ],
   "source": [
    "def parents_rating(soup): \n",
    "    try:\n",
    "        for s in soup.find_all(class_='user-review-statistics adult'):\n",
    "            adult_rating = s.find(\"div\", attrs={'class': 'stat-wrapper age'})\n",
    "        return adult_rating.text.replace(\"age \", \"\")[:-1]\n",
    "    except:\n",
    "        return \"0\"\n",
    "parents_rating(soup)"
   ]
  },
  {
   "cell_type": "markdown",
   "metadata": {},
   "source": [
    "### Children's rating"
   ]
  },
  {
   "cell_type": "code",
   "execution_count": 8,
   "metadata": {},
   "outputs": [
    {
     "data": {
      "text/plain": [
       "'12'"
      ]
     },
     "execution_count": 8,
     "metadata": {},
     "output_type": "execute_result"
    }
   ],
   "source": [
    "def kids_rating(soup):\n",
    "    try:\n",
    "        for s in soup.find_all(class_='user-review-statistics child'):\n",
    "            childs_rating = s.find(\"div\", attrs={'class': 'stat-wrapper age'})\n",
    "        return childs_rating.text.replace(\"age \", \"\")[:-1]\n",
    "    except:\n",
    "        return '0'\n",
    "kids_rating(soup)"
   ]
  },
  {
   "cell_type": "code",
   "execution_count": 9,
   "metadata": {},
   "outputs": [
    {
     "data": {
      "text/plain": [
       "\"Parents need to know that this book from the author of The Sisterhood of the Traveling Pants ultimately delivers positive messages about doing what's right, making good choices, taking chances, and accepting oneself. Along the way, the three young teen protagonists deaI with a borderline eating disorder, an alcoholic parent, a fickle cute boy, and the tribulations of fitting in with the popular crowd. There are crushes, dates, and kisses, but no sex. The book name-drops characters from the author's Traveling Pants books and may appeal most to fans of the series.\\n\""
      ]
     },
     "execution_count": 9,
     "metadata": {},
     "output_type": "execute_result"
    }
   ],
   "source": [
    "def pntk(soup):\n",
    "    remove_charachters = [\"\\xa0\\n\", \"\\xa0a\", \"\\xa0\"]\n",
    "    pntk = soup.find(class_=\"field field-name-field-parents-need-to-know field-type-text-long field-label-hidden\").get_text()\n",
    "    for charachter in remove_charachters:\n",
    "        pntk = pntk.replace(charachter, \" \")\n",
    "    return pntk\n",
    "pntk(soup)"
   ]
  },
  {
   "cell_type": "markdown",
   "metadata": {},
   "source": [
    "## Get All Data from the Summary box"
   ]
  },
  {
   "cell_type": "code",
   "execution_count": 10,
   "metadata": {},
   "outputs": [
    {
     "data": {
      "text/plain": [
       "[{'Author': 'Ann Brashares',\n",
       "  'Genre': 'Friendship',\n",
       "  'Book type': 'Fiction',\n",
       "  'Publisher': 'Delacorte Press',\n",
       "  'Publication date': 'January 13, 2009',\n",
       "  \"Publisher's recommended age(s)\": '13 - 17',\n",
       "  'Number of pages': '320',\n",
       "  'Last updated': 'July 13, 2017'}]"
      ]
     },
     "execution_count": 10,
     "metadata": {},
     "output_type": "execute_result"
    }
   ],
   "source": [
    "summary = soup.find(class_=\"shutter-summary-pane panel-pane pane-product-details\")\n",
    "links = summary.find_all('li')\n",
    "data = []\n",
    "d = {}\n",
    "for link in links: \n",
    "    k, v = link.text.split(\":\")\n",
    "    k = k.strip()\n",
    "    v = v.strip()\n",
    "    d[k] = v\n",
    "data.append(d)\n",
    "data"
   ]
  },
  {
   "cell_type": "code",
   "execution_count": 36,
   "metadata": {},
   "outputs": [
    {
     "name": "stdout",
     "output_type": "stream",
     "text": [
      "Author: Ann Brashares\n",
      "Genre: Friendship\n",
      "Book type: Fiction\n",
      "Publisher: Delacorte Press\n",
      "Publication date: January 13, 2009\n",
      "Publisher's recommended age(s): 13 - 17\n",
      "Number of pages: 320\n",
      "Last updated: July 13, 2017\n"
     ]
    }
   ],
   "source": [
    "for link in links:\n",
    "    print(link.text)"
   ]
  },
  {
   "cell_type": "code",
   "execution_count": null,
   "metadata": {},
   "outputs": [],
   "source": []
  },
  {
   "cell_type": "code",
   "execution_count": 11,
   "metadata": {},
   "outputs": [],
   "source": [
    "path = 'lexile/raw/book-reviews/'\n",
    "files = os.listdir(path)\n",
    "files = [path + file for file in files]"
   ]
  },
  {
   "cell_type": "code",
   "execution_count": 12,
   "metadata": {},
   "outputs": [],
   "source": [
    "titles = []\n",
    "descriptions = [] \n",
    "plot_sums = []\n",
    "csm_evaluations = []\n",
    "need_to_know = []\n",
    "p_rating = []\n",
    "k_rating = []\n",
    "csm_ages = []"
   ]
  },
  {
   "cell_type": "code",
   "execution_count": 13,
   "metadata": {},
   "outputs": [],
   "source": [
    "for file in files:\n",
    "    with open(file, 'r') as f: \n",
    "        soup = BeautifulSoup(f.read(), 'html.parser')\n",
    "        titles.append(soup.h1.text)\n",
    "        descriptions.append(soup.find(class_='field field-name-field-one-liner field-type-text field-label-hidden').get_text())\n",
    "        csm_ages.append(soup.find(class_=\"csm-green-age\").get_text().replace(\"age \", \"\")[:-1])\n",
    "        plot_sums.append(get_summary(soup))\n",
    "        csm_evaluations.append(get_csm_review(soup))\n",
    "        need_to_know.append(pntk(soup))\n",
    "        p_rating.append(parents_rating(soup))\n",
    "        k_rating.append(kids_rating(soup))"
   ]
  },
  {
   "cell_type": "code",
   "execution_count": 26,
   "metadata": {},
   "outputs": [],
   "source": [
    "df = pd.DataFrame()"
   ]
  },
  {
   "cell_type": "code",
   "execution_count": 27,
   "metadata": {},
   "outputs": [],
   "source": [
    "df['title'] = titles\n",
    "df['description']  = descriptions\n",
    "df['plot'] = plot_sums\n",
    "df['csm_review'] = csm_evaluations\n",
    "df['need_to_know'] = need_to_know\n",
    "df['par_rating'] = p_rating\n",
    "df['kids_rating'] = k_rating\n",
    "df['csm_rating'] = csm_ages\n"
   ]
  },
  {
   "cell_type": "code",
   "execution_count": 37,
   "metadata": {},
   "outputs": [
    {
     "data": {
      "text/html": [
       "<div>\n",
       "<style scoped>\n",
       "    .dataframe tbody tr th:only-of-type {\n",
       "        vertical-align: middle;\n",
       "    }\n",
       "\n",
       "    .dataframe tbody tr th {\n",
       "        vertical-align: top;\n",
       "    }\n",
       "\n",
       "    .dataframe thead th {\n",
       "        text-align: right;\n",
       "    }\n",
       "</style>\n",
       "<table border=\"1\" class=\"dataframe\">\n",
       "  <thead>\n",
       "    <tr style=\"text-align: right;\">\n",
       "      <th></th>\n",
       "      <th>title</th>\n",
       "      <th>description</th>\n",
       "      <th>plot</th>\n",
       "      <th>csm_review</th>\n",
       "      <th>need_to_know</th>\n",
       "      <th>par_rating</th>\n",
       "      <th>kids_rating</th>\n",
       "      <th>csm_rating</th>\n",
       "    </tr>\n",
       "  </thead>\n",
       "  <tbody>\n",
       "    <tr>\n",
       "      <td>0</td>\n",
       "      <td>The Third Twin</td>\n",
       "      <td>Gripping thriller skimps on character developm...</td>\n",
       "      <td>Twins Ava and Alexa \"Lexi\" Rios live in an aff...</td>\n",
       "      <td>THE THIRD TWIN has an interesting, compelling ...</td>\n",
       "      <td>Parents need to know that The Third Twin is a ...</td>\n",
       "      <td>17</td>\n",
       "      <td>14</td>\n",
       "      <td>12</td>\n",
       "    </tr>\n",
       "    <tr>\n",
       "      <td>1</td>\n",
       "      <td>Small Damages</td>\n",
       "      <td>Luminous story of pregnant teen's summer in Sp...</td>\n",
       "      <td>It's the summer of 1996, which 18-year-old Ken...</td>\n",
       "      <td>This could well have been a minefield of clich...</td>\n",
       "      <td>Parents need to know that Small Damages is nar...</td>\n",
       "      <td>0</td>\n",
       "      <td>14</td>\n",
       "      <td>14</td>\n",
       "    </tr>\n",
       "    <tr>\n",
       "      <td>2</td>\n",
       "      <td>The School for Good and Evil, Book 1</td>\n",
       "      <td>Fractured fairy tale has plenty of twists for ...</td>\n",
       "      <td>When best friends Sophie and Agatha are stolen...</td>\n",
       "      <td>The School for Good and Evil is no run-of-the-...</td>\n",
       "      <td>Parents need to know that The School for Good ...</td>\n",
       "      <td>11</td>\n",
       "      <td>11</td>\n",
       "      <td>8</td>\n",
       "    </tr>\n",
       "    <tr>\n",
       "      <td>3</td>\n",
       "      <td>Agent of Chaos: The X-Files Origins, Book 1</td>\n",
       "      <td>Series pictures Mulder as teen, captures essen...</td>\n",
       "      <td>Set in 1979, AGENT OF CHAOS follows a 17-year-...</td>\n",
       "      <td>Popular TV characters don't always make a smoo...</td>\n",
       "      <td>Parents need to know that Agent of Chaos: The ...</td>\n",
       "      <td>0</td>\n",
       "      <td>0</td>\n",
       "      <td>13</td>\n",
       "    </tr>\n",
       "    <tr>\n",
       "      <td>4</td>\n",
       "      <td>Crossing Ebenezer Creek</td>\n",
       "      <td>Heartbreaking novel follows freed slaves on Sh...</td>\n",
       "      <td>CROSSING EBENEZER CREEK is a YA novel from awa...</td>\n",
       "      <td>Beautifully written and poetically rendered, t...</td>\n",
       "      <td>Parents need to know that Crossing Ebenezer Cr...</td>\n",
       "      <td>0</td>\n",
       "      <td>0</td>\n",
       "      <td>13</td>\n",
       "    </tr>\n",
       "  </tbody>\n",
       "</table>\n",
       "</div>"
      ],
      "text/plain": [
       "                                         title  \\\n",
       "0                               The Third Twin   \n",
       "1                                Small Damages   \n",
       "2         The School for Good and Evil, Book 1   \n",
       "3  Agent of Chaos: The X-Files Origins, Book 1   \n",
       "4                      Crossing Ebenezer Creek   \n",
       "\n",
       "                                         description  \\\n",
       "0  Gripping thriller skimps on character developm...   \n",
       "1  Luminous story of pregnant teen's summer in Sp...   \n",
       "2  Fractured fairy tale has plenty of twists for ...   \n",
       "3  Series pictures Mulder as teen, captures essen...   \n",
       "4  Heartbreaking novel follows freed slaves on Sh...   \n",
       "\n",
       "                                                plot  \\\n",
       "0  Twins Ava and Alexa \"Lexi\" Rios live in an aff...   \n",
       "1  It's the summer of 1996, which 18-year-old Ken...   \n",
       "2  When best friends Sophie and Agatha are stolen...   \n",
       "3  Set in 1979, AGENT OF CHAOS follows a 17-year-...   \n",
       "4  CROSSING EBENEZER CREEK is a YA novel from awa...   \n",
       "\n",
       "                                          csm_review  \\\n",
       "0  THE THIRD TWIN has an interesting, compelling ...   \n",
       "1  This could well have been a minefield of clich...   \n",
       "2  The School for Good and Evil is no run-of-the-...   \n",
       "3  Popular TV characters don't always make a smoo...   \n",
       "4  Beautifully written and poetically rendered, t...   \n",
       "\n",
       "                                        need_to_know par_rating kids_rating  \\\n",
       "0  Parents need to know that The Third Twin is a ...         17          14   \n",
       "1  Parents need to know that Small Damages is nar...          0          14   \n",
       "2  Parents need to know that The School for Good ...         11          11   \n",
       "3  Parents need to know that Agent of Chaos: The ...          0           0   \n",
       "4  Parents need to know that Crossing Ebenezer Cr...          0           0   \n",
       "\n",
       "  csm_rating  \n",
       "0         12  \n",
       "1         14  \n",
       "2          8  \n",
       "3         13  \n",
       "4         13  "
      ]
     },
     "execution_count": 37,
     "metadata": {},
     "output_type": "execute_result"
    }
   ],
   "source": [
    "df.head()"
   ]
  },
  {
   "cell_type": "code",
   "execution_count": 39,
   "metadata": {},
   "outputs": [],
   "source": [
    "df.to_csv('book_info.csv', index=False )"
   ]
  }
 ],
 "metadata": {
  "kernelspec": {
   "display_name": "base",
   "language": "python",
   "name": "base"
  },
  "language_info": {
   "codemirror_mode": {
    "name": "ipython",
    "version": 3
   },
   "file_extension": ".py",
   "mimetype": "text/x-python",
   "name": "python",
   "nbconvert_exporter": "python",
   "pygments_lexer": "ipython3",
   "version": "3.7.4"
  }
 },
 "nbformat": 4,
 "nbformat_minor": 4
}
