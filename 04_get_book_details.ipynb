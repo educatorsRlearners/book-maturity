{
 "cells": [
  {
   "cell_type": "code",
   "execution_count": 1,
   "metadata": {},
   "outputs": [],
   "source": [
    "import pandas as pd\n",
    "import csv\n",
    "from bs4 import BeautifulSoup\n",
    "import os"
   ]
  },
  {
   "cell_type": "code",
   "execution_count": 2,
   "metadata": {},
   "outputs": [],
   "source": [
    "file = \"lexile/raw/book-reviews/1984.html\"\n",
    "with open(file, 'r') as f: \n",
    "        soup = BeautifulSoup(f.read(), 'html.parser')"
   ]
  },
  {
   "cell_type": "markdown",
   "metadata": {},
   "source": [
    "## Get All Data"
   ]
  },
  {
   "cell_type": "code",
   "execution_count": 65,
   "metadata": {},
   "outputs": [],
   "source": [
    "title = soup.h1.text\n",
    "description = soup.find(class_='field field-name-field-one-liner field-type-text field-label-hidden').get_text()\n",
    "age = soup.find(class_=\"csm-green-age\").get_text().replace(\"age \", \"\")\n",
    "plot_sum = soup.find(class_=\"field field-name-field-what-is-story field-type-text-long field-label-hidden\").get_text()\n",
    "csm_rating = soup.find(class_=\"field field-name-field-any-good field-type-text-long field-label-hidden\").get_text()[:-1]"
   ]
  },
  {
   "cell_type": "markdown",
   "metadata": {},
   "source": [
    "### Parent's rating"
   ]
  },
  {
   "cell_type": "code",
   "execution_count": 76,
   "metadata": {},
   "outputs": [],
   "source": [
    "def parents_rating(soup): \n",
    "    for s in soup.find_all(class_='user-review-statistics adult'):\n",
    "        adult_rating = s.find(\"div\", attrs={'class': 'stat-wrapper age'})\n",
    "    return adult_rating.text.replace(\"age \", \"\")[:-1])"
   ]
  },
  {
   "cell_type": "markdown",
   "metadata": {},
   "source": [
    "### Children's rating"
   ]
  },
  {
   "cell_type": "code",
   "execution_count": 74,
   "metadata": {},
   "outputs": [],
   "source": [
    "def kids_rating(soup):\n",
    "    for s in soup.find_all(class_='user-review-statistics child'):\n",
    "        childs_rating = s.find(\"div\", attrs={'class': 'stat-wrapper age'})\n",
    "    return childs_rating.text.replace(\"age \", \"\")[:-1]"
   ]
  },
  {
   "cell_type": "code",
   "execution_count": 79,
   "metadata": {},
   "outputs": [
    {
     "data": {
      "text/plain": [
       "'Parents need to know that 1984 presents an unblinking portrait of life lived under constant surveillance and stands as one of the great dystopian satires of the 20th century. Author George Orwell also wrote Animal Farm, a satirical allegory about the abuse of power.\\xa0\\xa0\\n'"
      ]
     },
     "execution_count": 79,
     "metadata": {},
     "output_type": "execute_result"
    }
   ],
   "source": [
    "a = soup.find(class_=\"field field-name-field-parents-need-to-know field-type-text-long field-label-hidden\").get_text()\n",
    "a = a.repl"
   ]
  },
  {
   "cell_type": "markdown",
   "metadata": {},
   "source": [
    "## Get All Data from the Summary box"
   ]
  },
  {
   "cell_type": "code",
   "execution_count": 68,
   "metadata": {},
   "outputs": [
    {
     "data": {
      "text/plain": [
       "[{'Author': 'George Orwell',\n",
       "  'Genre': 'Literary Fiction',\n",
       "  'Topics': 'History',\n",
       "  'Book type': 'Fiction',\n",
       "  'Publisher': 'Plume',\n",
       "  'Publication date': 'June 6, 1949',\n",
       "  'Number of pages': '368',\n",
       "  'Last updated': 'January 15, 2019'}]"
      ]
     },
     "execution_count": 68,
     "metadata": {},
     "output_type": "execute_result"
    }
   ],
   "source": [
    "summary = soup.find(class_=\"shutter-summary-pane panel-pane pane-product-details\")\n",
    "links = summary.find_all('li')\n",
    "data = []\n",
    "d = {}\n",
    "for link in links: \n",
    "    k, v = link.text.split(\":\")\n",
    "    k = k.strip()\n",
    "    v = v.strip()\n",
    "    d[k] = v\n",
    "data.append(d)\n",
    "data"
   ]
  },
  {
   "cell_type": "code",
   "execution_count": 6,
   "metadata": {},
   "outputs": [
    {
     "data": {
      "text/plain": [
       "{'Author': 'George Orwell',\n",
       " 'Genre': 'Literary Fiction',\n",
       " 'Topics': 'History',\n",
       " 'Book type': 'Fiction',\n",
       " 'Publisher': 'Plume',\n",
       " 'Publication date': 'June 6, 1949',\n",
       " 'Number of pages': '368',\n",
       " 'Last updated': 'January 15, 2019'}"
      ]
     },
     "execution_count": 6,
     "metadata": {},
     "output_type": "execute_result"
    }
   ],
   "source": [
    "d"
   ]
  },
  {
   "cell_type": "code",
   "execution_count": null,
   "metadata": {},
   "outputs": [],
   "source": []
  }
 ],
 "metadata": {
  "kernelspec": {
   "display_name": "base",
   "language": "python",
   "name": "base"
  },
  "language_info": {
   "codemirror_mode": {
    "name": "ipython",
    "version": 3
   },
   "file_extension": ".py",
   "mimetype": "text/x-python",
   "name": "python",
   "nbconvert_exporter": "python",
   "pygments_lexer": "ipython3",
   "version": "3.7.4"
  }
 },
 "nbformat": 4,
 "nbformat_minor": 4
}
