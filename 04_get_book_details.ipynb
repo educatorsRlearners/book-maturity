{
 "cells": [
  {
   "cell_type": "code",
   "execution_count": 1,
   "metadata": {},
   "outputs": [],
   "source": [
    "import pandas as pd\n",
    "import csv\n",
    "from bs4 import BeautifulSoup\n",
    "import os"
   ]
  },
  {
   "cell_type": "code",
   "execution_count": 14,
   "metadata": {},
   "outputs": [],
   "source": [
    "file = \"lexile/raw/book-reviews/black-beauty.html\"\n",
    "with open(file, 'r') as f: \n",
    "        soup = BeautifulSoup(f.read(), 'html.parser')"
   ]
  },
  {
   "cell_type": "markdown",
   "metadata": {},
   "source": [
    "## Get All Data"
   ]
  },
  {
   "cell_type": "code",
   "execution_count": 15,
   "metadata": {},
   "outputs": [],
   "source": [
    "title = soup.h1.text\n",
    "description = soup.find(class_='field field-name-field-one-liner field-type-text field-label-hidden').get_text()\n",
    "age = soup.find(class_=\"csm-green-age\").get_text().replace(\"age \", \"\")\n",
    "plot_sum = soup.find(class_=\"field field-name-field-what-is-story field-type-text-long field-label-hidden\").get_text()\n",
    "csm_rating = soup.find(class_=\"field field-name-field-any-good field-type-text-long field-label-hidden\").get_text()[:-1]"
   ]
  },
  {
   "cell_type": "markdown",
   "metadata": {},
   "source": [
    "### Parent's rating"
   ]
  },
  {
   "cell_type": "code",
   "execution_count": 16,
   "metadata": {},
   "outputs": [],
   "source": [
    "def parents_rating(soup): \n",
    "    for s in soup.find_all(class_='user-review-statistics adult'):\n",
    "        adult_rating = s.find(\"div\", attrs={'class': 'stat-wrapper age'})\n",
    "    return adult_rating.text.replace(\"age \", \"\")[:-1]"
   ]
  },
  {
   "cell_type": "markdown",
   "metadata": {},
   "source": [
    "### Children's rating"
   ]
  },
  {
   "cell_type": "code",
   "execution_count": 17,
   "metadata": {},
   "outputs": [],
   "source": [
    "def kids_rating(soup):\n",
    "    for s in soup.find_all(class_='user-review-statistics child'):\n",
    "        childs_rating = s.find(\"div\", attrs={'class': 'stat-wrapper age'})\n",
    "    return childs_rating.text.replace(\"age \", \"\")[:-1]"
   ]
  },
  {
   "cell_type": "code",
   "execution_count": 18,
   "metadata": {},
   "outputs": [
    {
     "data": {
      "text/plain": [
       "'Parents need to know that Anna Sewell\\'s classic 1877 novel\\xa0Black Beauty is written from the point of view of a horse who is shifted to several different owners over the course of his life. His experiences reveal a great deal about how horses should be cared for, and the dangers of unkind treatment. The book was influential in its time; it helped to ban the cruel bearing rein, kicked off the animal-rights movement, and forced more humane treatment of London\\'s human cabbies. The author uses various human voices to share her moral lessons about the evils of mistreating animals (\"Cruelty is the devil\\'s own trademark\") and about the virtues of lovingkindness (\"God is love\"). There are meaningful lessons in this novel, and the abundance\\xa0of detail about horses and their care has made Black Beauty\\xa0a perennial favorite among horse-loving readers. However, some readers may be sensitive to the book\\'s portrayal of violence against horses, including whipping, overworking, mistreatment in the name of \"fashion,\" and one mercy killing. The book also cautions against the evils of drink, illustrated through the character of Reuben, whose personality changes radically when he drinks: When sober, he\\'s a reliable caretaker, but when he\\'s drunk, he becomes irresponsible and thoughtless, endangering the health of horses in his care. In this case, and so many others, horses are at the mercy of their human owners and caregivers, for good and ill. This novel was reissued in 2019 in a hardcover gift edition by\\xa0Candlewick Press, adorned with painterly illustrations and fine drawings.\\xa0\\n'"
      ]
     },
     "execution_count": 18,
     "metadata": {},
     "output_type": "execute_result"
    }
   ],
   "source": [
    "a = soup.find(class_=\"field field-name-field-parents-need-to-know field-type-text-long field-label-hidden\").get_text()\n",
    "a"
   ]
  },
  {
   "cell_type": "markdown",
   "metadata": {},
   "source": [
    "## Get All Data from the Summary box"
   ]
  },
  {
   "cell_type": "code",
   "execution_count": 68,
   "metadata": {},
   "outputs": [
    {
     "data": {
      "text/plain": [
       "[{'Author': 'George Orwell',\n",
       "  'Genre': 'Literary Fiction',\n",
       "  'Topics': 'History',\n",
       "  'Book type': 'Fiction',\n",
       "  'Publisher': 'Plume',\n",
       "  'Publication date': 'June 6, 1949',\n",
       "  'Number of pages': '368',\n",
       "  'Last updated': 'January 15, 2019'}]"
      ]
     },
     "execution_count": 68,
     "metadata": {},
     "output_type": "execute_result"
    }
   ],
   "source": [
    "summary = soup.find(class_=\"shutter-summary-pane panel-pane pane-product-details\")\n",
    "links = summary.find_all('li')\n",
    "data = []\n",
    "d = {}\n",
    "for link in links: \n",
    "    k, v = link.text.split(\":\")\n",
    "    k = k.strip()\n",
    "    v = v.strip()\n",
    "    d[k] = v\n",
    "data.append(d)\n",
    "data"
   ]
  },
  {
   "cell_type": "code",
   "execution_count": 6,
   "metadata": {},
   "outputs": [
    {
     "data": {
      "text/plain": [
       "{'Author': 'George Orwell',\n",
       " 'Genre': 'Literary Fiction',\n",
       " 'Topics': 'History',\n",
       " 'Book type': 'Fiction',\n",
       " 'Publisher': 'Plume',\n",
       " 'Publication date': 'June 6, 1949',\n",
       " 'Number of pages': '368',\n",
       " 'Last updated': 'January 15, 2019'}"
      ]
     },
     "execution_count": 6,
     "metadata": {},
     "output_type": "execute_result"
    }
   ],
   "source": [
    "d"
   ]
  },
  {
   "cell_type": "code",
   "execution_count": null,
   "metadata": {},
   "outputs": [],
   "source": []
  }
 ],
 "metadata": {
  "kernelspec": {
   "display_name": "base",
   "language": "python",
   "name": "base"
  },
  "language_info": {
   "codemirror_mode": {
    "name": "ipython",
    "version": 3
   },
   "file_extension": ".py",
   "mimetype": "text/x-python",
   "name": "python",
   "nbconvert_exporter": "python",
   "pygments_lexer": "ipython3",
   "version": "3.7.4"
  }
 },
 "nbformat": 4,
 "nbformat_minor": 4
}
