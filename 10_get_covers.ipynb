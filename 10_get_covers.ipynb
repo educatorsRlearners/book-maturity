{
 "cells": [
  {
   "cell_type": "code",
   "execution_count": null,
   "metadata": {},
   "outputs": [],
   "source": [
    "import os\n",
    "import string\n",
    "import requests\n",
    "import glob\n",
    "import pandas as pd \n",
    "from bs4 import BeautifulSoup\n",
    "from PIL import Image"
   ]
  },
  {
   "cell_type": "code",
   "execution_count": null,
   "metadata": {},
   "outputs": [],
   "source": [
    "path = \"lexile/raw/book-reviews/\"\n",
    "files = [f for f in glob.glob(path + \"*.html\", recursive=True)]"
   ]
  },
  {
   "cell_type": "code",
   "execution_count": null,
   "metadata": {},
   "outputs": [],
   "source": [
    "file_names = []\n",
    "\n",
    "for file in files:\n",
    "    f = file.split(\"/\")[3]\n",
    "    file_names.append(f[:-5])"
   ]
  },
  {
   "cell_type": "code",
   "execution_count": null,
   "metadata": {},
   "outputs": [],
   "source": [
    "csm_ages = []\n",
    "cover_src = []\n",
    "\n",
    "for file in files:\n",
    "    with open(file, 'r') as f: \n",
    "        soup = BeautifulSoup(f.read(), 'html.parser')\n",
    "        csm_ages.append(soup.find(class_=\"csm-green-age\").get_text().replace(\"age \", \"\")[:-1])\n",
    "        cover = soup.find(class_=\"field field-name-field-product-image field-type-image field-label-hidden\")\n",
    "        cover_src.append(cover.find(\"img\").get('src'))"
   ]
  },
  {
   "cell_type": "code",
   "execution_count": null,
   "metadata": {},
   "outputs": [],
   "source": [
    "filler = [\"_\" for _ in range(len(csm_ages))]"
   ]
  },
  {
   "cell_type": "code",
   "execution_count": null,
   "metadata": {},
   "outputs": [],
   "source": [
    "names = [x+y+z for x,y,z in zip(csm_ages,filler,file_names)]"
   ]
  },
  {
   "cell_type": "code",
   "execution_count": null,
   "metadata": {},
   "outputs": [],
   "source": [
    "info = dict(zip(names, cover_src))"
   ]
  },
  {
   "cell_type": "code",
   "execution_count": null,
   "metadata": {},
   "outputs": [],
   "source": [
    "!mkdir 'covers'"
   ]
  },
  {
   "cell_type": "code",
   "execution_count": null,
   "metadata": {},
   "outputs": [],
   "source": [
    "for file in files:\n",
    "    with open(file, 'r') as f: \n",
    "        soup = BeautifulSoup(f.read(), 'html.parser')\n",
    "        for k, v in info.items():\n",
    "            if \".jpeg?\" in v:\n",
    "                if not os.path.isfile(\"./covers/\" + k + '.jpeg'):\n",
    "                    with open('./covers/' + k + '.jpeg', 'wb') as f:\n",
    "                            f.write(requests.get(v).content)\n",
    "            elif '.jpg?' in v:\n",
    "                if not os.path.isfile(\"./covers/\" + k + '.jpg'):\n",
    "                    with open('./covers/' + k + '.jpg', 'wb') as f:\n",
    "                        f.write(requests.get(v).content)\n",
    "            elif '.png?' in v:\n",
    "                if not os.path.isfile(\"./covers/\" + k + '.png'):\n",
    "                    with open('./covers/' + k + '.png', 'wb') as f:\n",
    "                            f.write(requests.get(v).content)   "
   ]
  },
  {
   "cell_type": "code",
   "execution_count": null,
   "metadata": {},
   "outputs": [],
   "source": [
    "!mkdir covers-jpg"
   ]
  },
  {
   "cell_type": "code",
   "execution_count": null,
   "metadata": {},
   "outputs": [],
   "source": [
    "path2 = \"covers/*\"\n",
    "path3 = \"covers-jpg/\"\n",
    "files = [f for f in glob.glob(path2, recursive=True)]"
   ]
  },
  {
   "cell_type": "code",
   "execution_count": null,
   "metadata": {},
   "outputs": [],
   "source": [
    "def convert (file):\n",
    "    im = Image.open(file)\n",
    "    rgb_im = im.convert('RGB')\n",
    "    new_file = rgb_im.save(path3+file[7:].split(\".\")[0]+\".jpg\")\n",
    "    return new_file"
   ]
  },
  {
   "cell_type": "code",
   "execution_count": null,
   "metadata": {},
   "outputs": [],
   "source": [
    "error = []\n",
    "\n",
    "for file in files:\n",
    "    try:\n",
    "        convert(file)\n",
    "    except OSError:\n",
    "        error.append(file)"
   ]
  },
  {
   "cell_type": "code",
   "execution_count": null,
   "metadata": {},
   "outputs": [],
   "source": [
    "error"
   ]
  },
  {
   "cell_type": "code",
   "execution_count": null,
   "metadata": {},
   "outputs": [],
   "source": [
    "for e in error:\n",
    "    os.remove(e)"
   ]
  }
 ],
 "metadata": {
  "kernelspec": {
   "display_name": "base",
   "language": "python",
   "name": "base"
  },
  "language_info": {
   "codemirror_mode": {
    "name": "ipython",
    "version": 3
   },
   "file_extension": ".py",
   "mimetype": "text/x-python",
   "name": "python",
   "nbconvert_exporter": "python",
   "pygments_lexer": "ipython3",
   "version": "3.7.4"
  }
 },
 "nbformat": 4,
 "nbformat_minor": 4
}
