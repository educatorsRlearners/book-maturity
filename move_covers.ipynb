{
 "cells": [
  {
   "cell_type": "code",
   "execution_count": 28,
   "metadata": {},
   "outputs": [],
   "source": [
    "import glob\n",
    "import string\n",
    "import pandas as pd\n",
    "import os"
   ]
  },
  {
   "cell_type": "code",
   "execution_count": 29,
   "metadata": {},
   "outputs": [
    {
     "data": {
      "text/plain": [
       "['Me Before You.jpeg',\n",
       " 'Railsea.jpeg',\n",
       " \"I'll Love You Till the Cows Come Home.jpeg\",\n",
       " 'Dear Boy,.jpeg',\n",
       " 'Nowhere Near You.jpeg']"
      ]
     },
     "execution_count": 29,
     "metadata": {},
     "output_type": "execute_result"
    }
   ],
   "source": [
    "jpeg = \"lexile/jpeg\"\n",
    "files_jpeg = os.listdir(jpeg)\n",
    "files_jpeg[:5]"
   ]
  },
  {
   "cell_type": "code",
   "execution_count": 30,
   "metadata": {},
   "outputs": [
    {
     "name": "stdout",
     "output_type": "stream",
     "text": [
      "All the Answers.jpg\n"
     ]
    }
   ],
   "source": [
    "files = os.listdir(\"lexile/covers\")    \n",
    "(len(files))\n",
    "print(files[0])"
   ]
  },
  {
   "cell_type": "code",
   "execution_count": 41,
   "metadata": {},
   "outputs": [],
   "source": [
    "files_jpeg_splt = [f[:-5] for f in files_jpeg]\n",
    "files_splt = [f[:-4] for f in files]"
   ]
  },
  {
   "cell_type": "code",
   "execution_count": 44,
   "metadata": {},
   "outputs": [],
   "source": [
    "src_path = \"lexile/covers/\"\n",
    " \n",
    "for file in files_splt:\n",
    "    if file in files_jpeg_splt:\n",
    "        try: \n",
    "            os.rename(src_path + file + \".jpg\", src_path + file + \".jpeg\")\n",
    "        except:\n",
    "            os.rename(src_path + file + \".png\", src_path + file + \".jpeg\")"
   ]
  },
  {
   "cell_type": "code",
   "execution_count": null,
   "metadata": {},
   "outputs": [],
   "source": []
  }
 ],
 "metadata": {
  "kernelspec": {
   "display_name": "base",
   "language": "python",
   "name": "base"
  },
  "language_info": {
   "codemirror_mode": {
    "name": "ipython",
    "version": 3
   },
   "file_extension": ".py",
   "mimetype": "text/x-python",
   "name": "python",
   "nbconvert_exporter": "python",
   "pygments_lexer": "ipython3",
   "version": "3.7.4"
  }
 },
 "nbformat": 4,
 "nbformat_minor": 4
}
