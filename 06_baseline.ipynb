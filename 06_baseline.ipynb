{
 "cells": [
  {
   "cell_type": "code",
   "execution_count": 1,
   "metadata": {},
   "outputs": [],
   "source": [
    "import pandas as pd\n",
    "import numpy as np\n",
    "import seaborn as sns\n",
    "from sklearn.metrics import mean_squared_error\n",
    "from math import sqrt"
   ]
  },
  {
   "cell_type": "code",
   "execution_count": 2,
   "metadata": {},
   "outputs": [
    {
     "name": "stdout",
     "output_type": "stream",
     "text": [
      "<class 'pandas.core.frame.DataFrame'>\n",
      "RangeIndex: 4651 entries, 0 to 4650\n",
      "Data columns (total 24 columns):\n",
      "title                             4651 non-null object\n",
      "description                       4651 non-null object\n",
      "plot                              4651 non-null object\n",
      "csm_review                        4651 non-null object\n",
      "need_to_know                      4651 non-null object\n",
      "par_rating                        1988 non-null float64\n",
      "kids_rating                       2413 non-null float64\n",
      "csm_rating                        4651 non-null int64\n",
      "Author                            4376 non-null object\n",
      "Genre                             4651 non-null object\n",
      "Topics                            3112 non-null object\n",
      "Book type                         4651 non-null object\n",
      "Publisher                         4545 non-null object\n",
      "Publication date                  4651 non-null object\n",
      "Publisher's recommended age(s)    3725 non-null object\n",
      "Number of pages                   4615 non-null float64\n",
      "Available on                      2853 non-null object\n",
      "Last updated                      4651 non-null object\n",
      "Illustrator                       2007 non-null object\n",
      "Authors                           275 non-null object\n",
      "Awards                            55 non-null object\n",
      "Publishers                        26 non-null object\n",
      "Award                             331 non-null object\n",
      "Illustrators                      46 non-null object\n",
      "dtypes: float64(3), int64(1), object(20)\n",
      "memory usage: 872.2+ KB\n"
     ]
    }
   ],
   "source": [
    "train_base = pd.read_csv('csv/train.csv')\n",
    "train_base.info()"
   ]
  },
  {
   "cell_type": "code",
   "execution_count": 3,
   "metadata": {},
   "outputs": [
    {
     "name": "stdout",
     "output_type": "stream",
     "text": [
      "<class 'pandas.core.frame.DataFrame'>\n",
      "RangeIndex: 4651 entries, 0 to 4650\n",
      "Data columns (total 10 columns):\n",
      "title               4651 non-null object\n",
      "description         4651 non-null object\n",
      "plot                4651 non-null object\n",
      "csm_review          4651 non-null object\n",
      "need_to_know        4651 non-null object\n",
      "csm_rating          4651 non-null int64\n",
      "Genre               4651 non-null object\n",
      "Book type           4651 non-null object\n",
      "Publication date    4651 non-null object\n",
      "Last updated        4651 non-null object\n",
      "dtypes: int64(1), object(9)\n",
      "memory usage: 363.5+ KB\n"
     ]
    }
   ],
   "source": [
    "train_base = train_base.dropna(axis='columns')\n",
    "train_base.info()"
   ]
  },
  {
   "cell_type": "code",
   "execution_count": 4,
   "metadata": {},
   "outputs": [],
   "source": [
    "mode = int(train_base.loc[:, \"csm_rating\"].mode())\n",
    "median = int(train_base.loc[:, \"csm_rating\"].median())"
   ]
  },
  {
   "cell_type": "code",
   "execution_count": 5,
   "metadata": {},
   "outputs": [
    {
     "name": "stdout",
     "output_type": "stream",
     "text": [
      "The most common rating is 4.\n",
      "The median is 9.\n"
     ]
    }
   ],
   "source": [
    "print(\"The most common rating is %d.\" % mode)\n",
    "print(\"The median is %d.\" % median)"
   ]
  },
  {
   "cell_type": "code",
   "execution_count": 6,
   "metadata": {},
   "outputs": [
    {
     "name": "stdout",
     "output_type": "stream",
     "text": [
      "<class 'pandas.core.frame.DataFrame'>\n",
      "RangeIndex: 4651 entries, 0 to 4650\n",
      "Data columns (total 12 columns):\n",
      "title               4651 non-null object\n",
      "description         4651 non-null object\n",
      "plot                4651 non-null object\n",
      "csm_review          4651 non-null object\n",
      "need_to_know        4651 non-null object\n",
      "csm_rating          4651 non-null int64\n",
      "Genre               4651 non-null object\n",
      "Book type           4651 non-null object\n",
      "Publication date    4651 non-null object\n",
      "Last updated        4651 non-null object\n",
      "csm_mode            4651 non-null int64\n",
      "csm_median          4651 non-null int64\n",
      "dtypes: int64(3), object(9)\n",
      "memory usage: 436.2+ KB\n"
     ]
    }
   ],
   "source": [
    "train_base[\"csm_mode\"] = mode\n",
    "train_base[\"csm_median\"] = median\n",
    "train_base.info()"
   ]
  },
  {
   "cell_type": "code",
   "execution_count": 7,
   "metadata": {},
   "outputs": [],
   "source": [
    "y_actual = train_base.loc[:, \"csm_rating\"]\n",
    "y_mode = train_base.loc[:, \"csm_mode\"]\n",
    "y_median = train_base.loc[:, \"csm_median\"]"
   ]
  },
  {
   "cell_type": "code",
   "execution_count": 8,
   "metadata": {},
   "outputs": [
    {
     "name": "stdout",
     "output_type": "stream",
     "text": [
      "The rms for the mode is 6.46.\n",
      "The rms for the median is 3.89.\n"
     ]
    }
   ],
   "source": [
    "rms_mode = sqrt(mean_squared_error(y_actual, y_mode))\n",
    "rms_median = sqrt(mean_squared_error(y_actual, y_median))\n",
    "\n",
    "print(\"The rms for the mode is %.2f.\" % rms_mode)\n",
    "print(\"The rms for the median is %.2f.\" % rms_median)"
   ]
  },
  {
   "cell_type": "code",
   "execution_count": 9,
   "metadata": {},
   "outputs": [
    {
     "data": {
      "image/png": "[encoded data removed]",
      "text/plain": [
       "<Figure size 432x288 with 1 Axes>"
      ]
     },
     "metadata": {
      "needs_background": "light"
     },
     "output_type": "display_data"
    }
   ],
   "source": [
    "sns.distplot(train_base.loc[:, \"csm_rating\"], kde=False, bins=16, rug=True);"
   ]
  },
  {
   "cell_type": "markdown",
   "metadata": {},
   "source": [
    "## Strip the date"
   ]
  },
  {
   "cell_type": "code",
   "execution_count": 10,
   "metadata": {},
   "outputs": [],
   "source": [
    "#df['col'] = pd.to_datetime(df['col'])\n",
    "train_base[\"Publication date\"] = train_base[\"Publication date\"].str[-4:]"
   ]
  },
  {
   "cell_type": "code",
   "execution_count": 11,
   "metadata": {},
   "outputs": [
    {
     "name": "stdout",
     "output_type": "stream",
     "text": [
      "<class 'pandas.core.frame.DataFrame'>\n",
      "RangeIndex: 4651 entries, 0 to 4650\n",
      "Data columns (total 12 columns):\n",
      "title               4651 non-null object\n",
      "description         4651 non-null object\n",
      "plot                4651 non-null object\n",
      "csm_review          4651 non-null object\n",
      "need_to_know        4651 non-null object\n",
      "csm_rating          4651 non-null int64\n",
      "Genre               4651 non-null object\n",
      "Book type           4651 non-null object\n",
      "Publication date    4651 non-null object\n",
      "Last updated        4651 non-null object\n",
      "csm_mode            4651 non-null int64\n",
      "csm_median          4651 non-null int64\n",
      "dtypes: int64(3), object(9)\n",
      "memory usage: 436.2+ KB\n"
     ]
    }
   ],
   "source": [
    "train_base.info()"
   ]
  },
  {
   "cell_type": "markdown",
   "metadata": {},
   "source": [
    "## Drop Updated"
   ]
  },
  {
   "cell_type": "code",
   "execution_count": 12,
   "metadata": {},
   "outputs": [],
   "source": [
    "train_base.drop(columns=[\"Last updated\"], inplace=True)"
   ]
  },
  {
   "cell_type": "code",
   "execution_count": 13,
   "metadata": {},
   "outputs": [
    {
     "name": "stdout",
     "output_type": "stream",
     "text": [
      "<class 'pandas.core.frame.DataFrame'>\n",
      "RangeIndex: 4651 entries, 0 to 4650\n",
      "Data columns (total 11 columns):\n",
      "title               4651 non-null object\n",
      "description         4651 non-null object\n",
      "plot                4651 non-null object\n",
      "csm_review          4651 non-null object\n",
      "need_to_know        4651 non-null object\n",
      "csm_rating          4651 non-null int64\n",
      "Genre               4651 non-null object\n",
      "Book type           4651 non-null object\n",
      "Publication date    4651 non-null object\n",
      "csm_mode            4651 non-null int64\n",
      "csm_median          4651 non-null int64\n",
      "dtypes: int64(3), object(8)\n",
      "memory usage: 399.8+ KB\n"
     ]
    }
   ],
   "source": [
    "train_base.info()"
   ]
  },
  {
   "cell_type": "markdown",
   "metadata": {},
   "source": [
    "## Transform Categorical Categories"
   ]
  },
  {
   "cell_type": "markdown",
   "metadata": {},
   "source": [
    "### [Transform Columns](https://machinelearningmastery.com/columntransformer-for-numerical-and-categorical-data/)"
   ]
  },
  {
   "cell_type": "code",
   "execution_count": 14,
   "metadata": {},
   "outputs": [],
   "source": [
    "from sklearn.preprocessing import OneHotEncoder\n",
    "from sklearn.compose import ColumnTransformer"
   ]
  },
  {
   "cell_type": "code",
   "execution_count": 15,
   "metadata": {},
   "outputs": [],
   "source": [
    "cat_encoder = OneHotEncoder()"
   ]
  },
  {
   "cell_type": "code",
   "execution_count": 16,
   "metadata": {},
   "outputs": [],
   "source": [
    "train_genre_cat = train_base[[ \"Genre\"]]\n",
    "train_genre_1 = cat_encoder.fit_transform(train_genre_cat)"
   ]
  },
  {
   "cell_type": "code",
   "execution_count": 17,
   "metadata": {},
   "outputs": [],
   "source": [
    "train_book_type_cat = train_base[[\"Book type\"]]\n",
    "train_genre_1 = cat_encoder.fit_transform(train_book_type_cat)"
   ]
  },
  {
   "cell_type": "code",
   "execution_count": 18,
   "metadata": {},
   "outputs": [
    {
     "data": {
      "text/plain": [
       "<4651x2 sparse matrix of type '<class 'numpy.float64'>'\n",
       "\twith 4651 stored elements in Compressed Sparse Row format>"
      ]
     },
     "execution_count": 18,
     "metadata": {},
     "output_type": "execute_result"
    }
   ],
   "source": [
    "train_genre_1"
   ]
  },
  {
   "cell_type": "code",
   "execution_count": null,
   "metadata": {},
   "outputs": [],
   "source": []
  }
 ],
 "metadata": {
  "kernelspec": {
   "display_name": "base",
   "language": "python",
   "name": "base"
  },
  "language_info": {
   "codemirror_mode": {
    "name": "ipython",
    "version": 3
   },
   "file_extension": ".py",
   "mimetype": "text/x-python",
   "name": "python",
   "nbconvert_exporter": "python",
   "pygments_lexer": "ipython3",
   "version": "3.7.4"
  }
 },
 "nbformat": 4,
 "nbformat_minor": 4
}
