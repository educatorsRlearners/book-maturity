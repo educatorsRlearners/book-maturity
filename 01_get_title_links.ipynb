{
 "cells": [
  {
   "cell_type": "code",
   "execution_count": 1,
   "metadata": {},
   "outputs": [],
   "source": [
    "import os\n",
    "import string\n",
    "import glob\n",
    "import pandas as pd \n",
    "from bs4 import BeautifulSoup\n",
    "from csv import writer"
   ]
  },
  {
   "cell_type": "code",
   "execution_count": 2,
   "metadata": {},
   "outputs": [],
   "source": [
    "path = \"lexile/raw/lists/\"\n",
    "files = [f for f in glob.glob(path + \"*.html\", recursive=True)]\n",
    "base_url = 'https://www.commonsensemedia.org'"
   ]
  },
  {
   "cell_type": "code",
   "execution_count": 3,
   "metadata": {},
   "outputs": [],
   "source": [
    "titles = []\n",
    "links = []\n",
    "urls = []\n",
    "file_names = []"
   ]
  },
  {
   "cell_type": "code",
   "execution_count": 4,
   "metadata": {},
   "outputs": [],
   "source": [
    "def get_titles(soup):\n",
    "    for s in soup.findAll(class_=\"views-field views-field-field-reference-review-ent-prod result-title\"):\n",
    "        titles.append(s.get_text().strip())\n",
    "    return titles"
   ]
  },
  {
   "cell_type": "code",
   "execution_count": 5,
   "metadata": {},
   "outputs": [],
   "source": [
    "def get_href(soup):\n",
    "    for s in soup.findAll(class_=\"views-field views-field-field-reference-review-ent-prod result-title\"):\n",
    "        links.append(s.a)\n",
    "    return links"
   ]
  },
  {
   "cell_type": "code",
   "execution_count": 6,
   "metadata": {},
   "outputs": [],
   "source": [
    "def make_urls(links):\n",
    "    for l in links: \n",
    "        l = str(l)\n",
    "        urls.append(base_url + l.split('\"',2)[1])\n",
    "    return urls"
   ]
  },
  {
   "cell_type": "code",
   "execution_count": 7,
   "metadata": {},
   "outputs": [],
   "source": [
    "def make_f_names(links):\n",
    "    for l in links:\n",
    "        l = str(l)\n",
    "        l = l.split('/')[2]\n",
    "        file_names.append(l.split('\"')[0])\n",
    "    return file_names\n"
   ]
  },
  {
   "cell_type": "code",
   "execution_count": 8,
   "metadata": {},
   "outputs": [],
   "source": [
    "for file in files:\n",
    "    with open(file, 'r') as f: \n",
    "        soup = BeautifulSoup(f.read(), 'html.parser')\n",
    "        get_titles(soup)\n",
    "        get_href(soup)\n",
    "\n",
    "urls = make_urls(links)\n",
    "f_names = make_f_names(links)"
   ]
  },
  {
   "cell_type": "code",
   "execution_count": 9,
   "metadata": {},
   "outputs": [
    {
     "data": {
      "text/html": [
       "<div>\n",
       "<style scoped>\n",
       "    .dataframe tbody tr th:only-of-type {\n",
       "        vertical-align: middle;\n",
       "    }\n",
       "\n",
       "    .dataframe tbody tr th {\n",
       "        vertical-align: top;\n",
       "    }\n",
       "\n",
       "    .dataframe thead th {\n",
       "        text-align: right;\n",
       "    }\n",
       "</style>\n",
       "<table border=\"1\" class=\"dataframe\">\n",
       "  <thead>\n",
       "    <tr style=\"text-align: right;\">\n",
       "      <th></th>\n",
       "      <th>title</th>\n",
       "      <th>f_name</th>\n",
       "      <th>url</th>\n",
       "    </tr>\n",
       "  </thead>\n",
       "  <tbody>\n",
       "    <tr>\n",
       "      <td>0</td>\n",
       "      <td>Joshua Dread</td>\n",
       "      <td>joshua-dread</td>\n",
       "      <td>https://www.commonsensemedia.org/book-reviews/...</td>\n",
       "    </tr>\n",
       "    <tr>\n",
       "      <td>1</td>\n",
       "      <td>Abe Lincoln's Dream</td>\n",
       "      <td>abe-lincolns-dream</td>\n",
       "      <td>https://www.commonsensemedia.org/book-reviews/...</td>\n",
       "    </tr>\n",
       "    <tr>\n",
       "      <td>2</td>\n",
       "      <td>Teeth</td>\n",
       "      <td>teeth</td>\n",
       "      <td>https://www.commonsensemedia.org/book-reviews/...</td>\n",
       "    </tr>\n",
       "    <tr>\n",
       "      <td>3</td>\n",
       "      <td>Nancy Clancy: Secret Admirer</td>\n",
       "      <td>nancy-clancy-secret-admirer</td>\n",
       "      <td>https://www.commonsensemedia.org/book-reviews/...</td>\n",
       "    </tr>\n",
       "    <tr>\n",
       "      <td>4</td>\n",
       "      <td>On the Road to Mr. Mineo's</td>\n",
       "      <td>on-the-road-to-mr-mineos</td>\n",
       "      <td>https://www.commonsensemedia.org/book-reviews/...</td>\n",
       "    </tr>\n",
       "  </tbody>\n",
       "</table>\n",
       "</div>"
      ],
      "text/plain": [
       "                          title                       f_name  \\\n",
       "0                  Joshua Dread                 joshua-dread   \n",
       "1           Abe Lincoln's Dream           abe-lincolns-dream   \n",
       "2                         Teeth                        teeth   \n",
       "3  Nancy Clancy: Secret Admirer  nancy-clancy-secret-admirer   \n",
       "4    On the Road to Mr. Mineo's     on-the-road-to-mr-mineos   \n",
       "\n",
       "                                                 url  \n",
       "0  https://www.commonsensemedia.org/book-reviews/...  \n",
       "1  https://www.commonsensemedia.org/book-reviews/...  \n",
       "2  https://www.commonsensemedia.org/book-reviews/...  \n",
       "3  https://www.commonsensemedia.org/book-reviews/...  \n",
       "4  https://www.commonsensemedia.org/book-reviews/...  "
      ]
     },
     "execution_count": 9,
     "metadata": {},
     "output_type": "execute_result"
    }
   ],
   "source": [
    "df = pd.DataFrame()\n",
    "df['title'] = titles\n",
    "df['f_name'] = f_names\n",
    "df['url'] = urls\n",
    "df.head()"
   ]
  },
  {
   "cell_type": "markdown",
   "metadata": {},
   "source": [
    "## Save to csv"
   ]
  },
  {
   "cell_type": "code",
   "execution_count": 20,
   "metadata": {},
   "outputs": [],
   "source": [
    "!mkdir csv"
   ]
  },
  {
   "cell_type": "code",
   "execution_count": 21,
   "metadata": {},
   "outputs": [],
   "source": [
    "df.to_csv(\"~/final_project/csv/title-url.csv\", index=False)"
   ]
  }
 ],
 "metadata": {
  "kernelspec": {
   "display_name": "base",
   "language": "python",
   "name": "base"
  },
  "language_info": {
   "codemirror_mode": {
    "name": "ipython",
    "version": 3
   },
   "file_extension": ".py",
   "mimetype": "text/x-python",
   "name": "python",
   "nbconvert_exporter": "python",
   "pygments_lexer": "ipython3",
   "version": "3.7.4"
  }
 },
 "nbformat": 4,
 "nbformat_minor": 4
}
