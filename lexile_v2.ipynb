{
 "cells": [
  {
   "cell_type": "markdown",
   "metadata": {},
   "source": [
    "## Step 1: Frame the Problem\n",
    "\n",
    "Currently, stakeholders know can identify which books are too difficult for their children/students to read but not which books are beyond the maturity level of the child/student. This project attempts to rectify this issue. \n",
    "\n",
    "## Step 2: Get the Data"
   ]
  },
  {
   "cell_type": "markdown",
   "metadata": {},
   "source": [
    "[Guide](https://www.dataquest.io/blog/web-scraping-tutorial-python/)"
   ]
  },
  {
   "cell_type": "code",
   "execution_count": 1,
   "metadata": {},
   "outputs": [],
   "source": [
    "import os\n",
    "import string\n",
    "import requests\n",
    "import pandas as pd \n",
    "from bs4 import BeautifulSoup\n",
    "from csv import writer"
   ]
  },
  {
   "cell_type": "code",
   "execution_count": 2,
   "metadata": {},
   "outputs": [],
   "source": [
    "base_url = 'https://www.commonsensemedia.org/book-reviews'\n",
    "page = '?page='\n",
    "all_pages = range(1,291)\n",
    "all_pages_list = [base_url+page+str(p) for p in all_pages]"
   ]
  },
  {
   "cell_type": "code",
   "execution_count": 3,
   "metadata": {},
   "outputs": [],
   "source": [
    "page = requests.get(base_url)\n",
    "\n",
    "soup = BeautifulSoup(page.text, 'html.parser')"
   ]
  },
  {
   "cell_type": "code",
   "execution_count": 4,
   "metadata": {},
   "outputs": [],
   "source": [
    "title = [s.get_text().strip() for s in soup.findAll(class_=\"views-field views-field-field-reference-review-ent-prod result-title\")]"
   ]
  },
  {
   "cell_type": "code",
   "execution_count": 5,
   "metadata": {},
   "outputs": [],
   "source": [
    "stripper = str.maketrans(\"\", \"\", string.punctuation)\n",
    "title_edited = [t.translate(stripper).replace(\" \", \"-\").lower() for t in title] #preps for creating url\n",
    "urls = [base_url + \"/\" + t for t in title_edited] "
   ]
  },
  {
   "cell_type": "code",
   "execution_count": 6,
   "metadata": {},
   "outputs": [
    {
     "data": {
      "text/html": [
       "<div>\n",
       "<style scoped>\n",
       "    .dataframe tbody tr th:only-of-type {\n",
       "        vertical-align: middle;\n",
       "    }\n",
       "\n",
       "    .dataframe tbody tr th {\n",
       "        vertical-align: top;\n",
       "    }\n",
       "\n",
       "    .dataframe thead th {\n",
       "        text-align: right;\n",
       "    }\n",
       "</style>\n",
       "<table border=\"1\" class=\"dataframe\">\n",
       "  <thead>\n",
       "    <tr style=\"text-align: right;\">\n",
       "      <th></th>\n",
       "      <th>title</th>\n",
       "      <th>url</th>\n",
       "    </tr>\n",
       "  </thead>\n",
       "  <tbody>\n",
       "    <tr>\n",
       "      <td>0</td>\n",
       "      <td>Black Beauty</td>\n",
       "      <td>https://www.commonsensemedia.org/book-reviews/...</td>\n",
       "    </tr>\n",
       "    <tr>\n",
       "      <td>1</td>\n",
       "      <td>Love</td>\n",
       "      <td>https://www.commonsensemedia.org/book-reviews/...</td>\n",
       "    </tr>\n",
       "    <tr>\n",
       "      <td>2</td>\n",
       "      <td>Whistle for Willie</td>\n",
       "      <td>https://www.commonsensemedia.org/book-reviews/...</td>\n",
       "    </tr>\n",
       "    <tr>\n",
       "      <td>3</td>\n",
       "      <td>The Little Prince</td>\n",
       "      <td>https://www.commonsensemedia.org/book-reviews/...</td>\n",
       "    </tr>\n",
       "    <tr>\n",
       "      <td>4</td>\n",
       "      <td>The Hobbit</td>\n",
       "      <td>https://www.commonsensemedia.org/book-reviews/...</td>\n",
       "    </tr>\n",
       "    <tr>\n",
       "      <td>5</td>\n",
       "      <td>Middle School Is Worse Than Meatloaf</td>\n",
       "      <td>https://www.commonsensemedia.org/book-reviews/...</td>\n",
       "    </tr>\n",
       "    <tr>\n",
       "      <td>6</td>\n",
       "      <td>Tiger's Quest: Tiger's Curse, Book 2</td>\n",
       "      <td>https://www.commonsensemedia.org/book-reviews/...</td>\n",
       "    </tr>\n",
       "    <tr>\n",
       "      <td>7</td>\n",
       "      <td>Wild Wings</td>\n",
       "      <td>https://www.commonsensemedia.org/book-reviews/...</td>\n",
       "    </tr>\n",
       "    <tr>\n",
       "      <td>8</td>\n",
       "      <td>Junonia</td>\n",
       "      <td>https://www.commonsensemedia.org/book-reviews/...</td>\n",
       "    </tr>\n",
       "    <tr>\n",
       "      <td>9</td>\n",
       "      <td>The Warlock: The Secrets of the Immortal Nicho...</td>\n",
       "      <td>https://www.commonsensemedia.org/book-reviews/...</td>\n",
       "    </tr>\n",
       "    <tr>\n",
       "      <td>10</td>\n",
       "      <td>Art &amp; Max</td>\n",
       "      <td>https://www.commonsensemedia.org/book-reviews/...</td>\n",
       "    </tr>\n",
       "    <tr>\n",
       "      <td>11</td>\n",
       "      <td>Little Pink Pup</td>\n",
       "      <td>https://www.commonsensemedia.org/book-reviews/...</td>\n",
       "    </tr>\n",
       "    <tr>\n",
       "      <td>12</td>\n",
       "      <td>Squish #1: Super Amoeba</td>\n",
       "      <td>https://www.commonsensemedia.org/book-reviews/...</td>\n",
       "    </tr>\n",
       "    <tr>\n",
       "      <td>13</td>\n",
       "      <td>Big Nate Out Loud</td>\n",
       "      <td>https://www.commonsensemedia.org/book-reviews/...</td>\n",
       "    </tr>\n",
       "    <tr>\n",
       "      <td>14</td>\n",
       "      <td>The Dark City: Relic Master, Book 1</td>\n",
       "      <td>https://www.commonsensemedia.org/book-reviews/...</td>\n",
       "    </tr>\n",
       "    <tr>\n",
       "      <td>15</td>\n",
       "      <td>The Throne of Fire: The Kane Chronicles, Book 2</td>\n",
       "      <td>https://www.commonsensemedia.org/book-reviews/...</td>\n",
       "    </tr>\n",
       "    <tr>\n",
       "      <td>16</td>\n",
       "      <td>The Emerald Atlas: The Books of Beginning, Book 1</td>\n",
       "      <td>https://www.commonsensemedia.org/book-reviews/...</td>\n",
       "    </tr>\n",
       "    <tr>\n",
       "      <td>17</td>\n",
       "      <td>What Happened to Goodbye</td>\n",
       "      <td>https://www.commonsensemedia.org/book-reviews/...</td>\n",
       "    </tr>\n",
       "    <tr>\n",
       "      <td>18</td>\n",
       "      <td>Divergent, Book 1</td>\n",
       "      <td>https://www.commonsensemedia.org/book-reviews/...</td>\n",
       "    </tr>\n",
       "    <tr>\n",
       "      <td>19</td>\n",
       "      <td>City of Fallen Angels: The Mortal Instruments,...</td>\n",
       "      <td>https://www.commonsensemedia.org/book-reviews/...</td>\n",
       "    </tr>\n",
       "  </tbody>\n",
       "</table>\n",
       "</div>"
      ],
      "text/plain": [
       "                                                title  \\\n",
       "0                                        Black Beauty   \n",
       "1                                                Love   \n",
       "2                                  Whistle for Willie   \n",
       "3                                   The Little Prince   \n",
       "4                                          The Hobbit   \n",
       "5                Middle School Is Worse Than Meatloaf   \n",
       "6                Tiger's Quest: Tiger's Curse, Book 2   \n",
       "7                                          Wild Wings   \n",
       "8                                             Junonia   \n",
       "9   The Warlock: The Secrets of the Immortal Nicho...   \n",
       "10                                          Art & Max   \n",
       "11                                    Little Pink Pup   \n",
       "12                            Squish #1: Super Amoeba   \n",
       "13                                  Big Nate Out Loud   \n",
       "14                The Dark City: Relic Master, Book 1   \n",
       "15    The Throne of Fire: The Kane Chronicles, Book 2   \n",
       "16  The Emerald Atlas: The Books of Beginning, Book 1   \n",
       "17                           What Happened to Goodbye   \n",
       "18                                  Divergent, Book 1   \n",
       "19  City of Fallen Angels: The Mortal Instruments,...   \n",
       "\n",
       "                                                  url  \n",
       "0   https://www.commonsensemedia.org/book-reviews/...  \n",
       "1   https://www.commonsensemedia.org/book-reviews/...  \n",
       "2   https://www.commonsensemedia.org/book-reviews/...  \n",
       "3   https://www.commonsensemedia.org/book-reviews/...  \n",
       "4   https://www.commonsensemedia.org/book-reviews/...  \n",
       "5   https://www.commonsensemedia.org/book-reviews/...  \n",
       "6   https://www.commonsensemedia.org/book-reviews/...  \n",
       "7   https://www.commonsensemedia.org/book-reviews/...  \n",
       "8   https://www.commonsensemedia.org/book-reviews/...  \n",
       "9   https://www.commonsensemedia.org/book-reviews/...  \n",
       "10  https://www.commonsensemedia.org/book-reviews/...  \n",
       "11  https://www.commonsensemedia.org/book-reviews/...  \n",
       "12  https://www.commonsensemedia.org/book-reviews/...  \n",
       "13  https://www.commonsensemedia.org/book-reviews/...  \n",
       "14  https://www.commonsensemedia.org/book-reviews/...  \n",
       "15  https://www.commonsensemedia.org/book-reviews/...  \n",
       "16  https://www.commonsensemedia.org/book-reviews/...  \n",
       "17  https://www.commonsensemedia.org/book-reviews/...  \n",
       "18  https://www.commonsensemedia.org/book-reviews/...  \n",
       "19  https://www.commonsensemedia.org/book-reviews/...  "
      ]
     },
     "execution_count": 6,
     "metadata": {},
     "output_type": "execute_result"
    }
   ],
   "source": [
    "df = pd.DataFrame()\n",
    "df['title'] = title\n",
    "df['url'] = urls\n",
    "df"
   ]
  },
  {
   "cell_type": "code",
   "execution_count": 19,
   "metadata": {},
   "outputs": [],
   "source": [
    "page2 = requests.get('https://www.commonsensemedia.org/book-reviews/black-beauty')"
   ]
  },
  {
   "cell_type": "code",
   "execution_count": 20,
   "metadata": {},
   "outputs": [],
   "source": [
    "soup2 = BeautifulSoup(page2.text, 'html.parser')\n",
    "summary = soup2.find(class_=\"shutter-summary-pane panel-pane pane-product-details\")"
   ]
  },
  {
   "cell_type": "markdown",
   "metadata": {},
   "source": [
    "# Get all data from the summary box at the bottom"
   ]
  },
  {
   "cell_type": "code",
   "execution_count": 22,
   "metadata": {},
   "outputs": [
    {
     "data": {
      "text/plain": [
       "[{'Author': 'Anna Sewell',\n",
       "  'Genre': 'Literary Fiction',\n",
       "  'Topics': 'Friendship, Great Boy Role Models, Horses and Farm Animals',\n",
       "  'Book type': 'Fiction',\n",
       "  'Publisher': 'Penguin Group',\n",
       "  'Publication date': 'November 24, 1887',\n",
       "  \"Publisher's recommended age(s)\": '9 - 12',\n",
       "  'Number of pages': '275',\n",
       "  'Available on': 'Paperback, Audiobook (unabridged), Audiobook (abridged), Hardback, Kindle',\n",
       "  'Last updated': 'December 04, 2019'}]"
      ]
     },
     "execution_count": 22,
     "metadata": {},
     "output_type": "execute_result"
    }
   ],
   "source": [
    "links = summary.find_all('li')\n",
    "links\n",
    "data = []\n",
    "d = {}\n",
    "for link in links: \n",
    "    k, v = link.text.split(\":\")\n",
    "    k = k.strip()\n",
    "    v = v.strip()\n",
    "    d[k] = v\n",
    "data.append(d)\n",
    "data"
   ]
  },
  {
   "cell_type": "markdown",
   "metadata": {},
   "source": [
    "# Get data from the top of the page"
   ]
  },
  {
   "cell_type": "code",
   "execution_count": 29,
   "metadata": {},
   "outputs": [],
   "source": [
    "summary2 = soup2.find(class_=\"panel-content-top panel-panel clearfix\")"
   ]
  },
  {
   "cell_type": "code",
   "execution_count": null,
   "metadata": {},
   "outputs": [],
   "source": [
    "title = soup2.find('h1').string\n",
    "description = soup2.find(class_='field field-name-field-one-liner field-type-text field-label-hidden').get_text()\n",
    "cs_rec_age = soup2.find(class_=\"field field-name-field-review-recommended-age field-type-list-integer field-label-hidden\").get_text().split(\" \", 1)[1]\n",
    "author = summary.find(class_=\"0 first\").get_text().split(\":\", 1)[1].strip()\n",
    "genre = summary.find(class_=\"1\").get_text().split(\":\", 1)[1].strip()\n",
    "book_type = summary.find(class_=\"types\").get_text().split(\":\", 1)[1].strip()\n",
    "pub = summary.find(class_=\"publishers\").get_text().split(\":\", 1)[1].strip()\n",
    "pub_date = summary.find(class_=\"2\").get_text().split(\":\", 1)[1].strip()\n",
    "pub_rec_age = summary.find(class_=\"3\").get_text().split(\":\", 1)[1].strip()\n",
    "pages = summary.find(class_=\"4\").get_text().split(\":\", 1)[1].strip()\n",
    "versions = summary.find(class_=\"5\").get_text().split(\":\", 1)[1].strip()\n",
    "updated = summary.find(class_=\"6 last\").get_text().split(\":\", 1)[1].strip()\n",
    "themes = summary.find(class_=\"themes\").get_text().split(\":\", 1)[1].strip()"
   ]
  },
  {
   "cell_type": "code",
   "execution_count": null,
   "metadata": {},
   "outputs": [],
   "source": [
    "themes"
   ]
  },
  {
   "cell_type": "code",
   "execution_count": null,
   "metadata": {},
   "outputs": [],
   "source": [
    "soup2.find(id = \"review-product-details-list\")"
   ]
  },
  {
   "cell_type": "markdown",
   "metadata": {},
   "source": [
    "# Idea: Try not putting the scrapping in loops. "
   ]
  },
  {
   "cell_type": "code",
   "execution_count": 8,
   "metadata": {},
   "outputs": [
    {
     "name": "stdout",
     "output_type": "stream",
     "text": [
      "https://www.commonsensemedia.org/book-reviews/black-beauty\n",
      "hi\n",
      "yes\n",
      "boo!\n",
      "hi again\n",
      "https://www.commonsensemedia.org/book-reviews/love\n",
      "hi\n",
      "yes\n",
      "boo!\n",
      "hi again\n",
      "https://www.commonsensemedia.org/book-reviews/whistle-for-willie\n",
      "hi\n",
      "yes\n",
      "boo!\n",
      "hi again\n",
      "https://www.commonsensemedia.org/book-reviews/the-little-prince\n",
      "hi\n",
      "yes\n",
      "boo!\n",
      "hi again\n",
      "https://www.commonsensemedia.org/book-reviews/the-hobbit\n",
      "hi\n",
      "yes\n",
      "boo!\n",
      "hi again\n",
      "https://www.commonsensemedia.org/book-reviews/middle-school-is-worse-than-meatloaf\n",
      "hi\n",
      "yes\n",
      "boo!\n"
     ]
    },
    {
     "ename": "AttributeError",
     "evalue": "'NoneType' object has no attribute 'get_text'",
     "output_type": "error",
     "traceback": [
      "\u001b[0;31m---------------------------------------------------------------------------\u001b[0m",
      "\u001b[0;31mAttributeError\u001b[0m                            Traceback (most recent call last)",
      "\u001b[0;32m<ipython-input-8-9a3719ab3fba>\u001b[0m in \u001b[0;36m<module>\u001b[0;34m\u001b[0m\n\u001b[1;32m     29\u001b[0m         \u001b[0;31m#versions = summary.find(class_=\"5\").get_text().split(\":\", 1)[1].strip()\u001b[0m\u001b[0;34m\u001b[0m\u001b[0;34m\u001b[0m\u001b[0;34m\u001b[0m\u001b[0m\n\u001b[1;32m     30\u001b[0m         \u001b[0;31m#updated = summary.find(class_=\"6 last\").get_text().split(\":\", 1)[1].strip()\u001b[0m\u001b[0;34m\u001b[0m\u001b[0;34m\u001b[0m\u001b[0;34m\u001b[0m\u001b[0m\n\u001b[0;32m---> 31\u001b[0;31m         \u001b[0mthemes\u001b[0m \u001b[0;34m=\u001b[0m \u001b[0msummary\u001b[0m\u001b[0;34m.\u001b[0m\u001b[0mfind\u001b[0m\u001b[0;34m(\u001b[0m\u001b[0mclass_\u001b[0m\u001b[0;34m=\u001b[0m\u001b[0;34m\"themes\"\u001b[0m\u001b[0;34m)\u001b[0m\u001b[0;34m.\u001b[0m\u001b[0mget_text\u001b[0m\u001b[0;34m(\u001b[0m\u001b[0;34m)\u001b[0m\u001b[0;34m.\u001b[0m\u001b[0msplit\u001b[0m\u001b[0;34m(\u001b[0m\u001b[0;34m\":\"\u001b[0m\u001b[0;34m,\u001b[0m \u001b[0;36m1\u001b[0m\u001b[0;34m)\u001b[0m\u001b[0;34m[\u001b[0m\u001b[0;36m1\u001b[0m\u001b[0;34m]\u001b[0m\u001b[0;34m.\u001b[0m\u001b[0mstrip\u001b[0m\u001b[0;34m(\u001b[0m\u001b[0;34m)\u001b[0m\u001b[0;34m\u001b[0m\u001b[0;34m\u001b[0m\u001b[0m\n\u001b[0m\u001b[1;32m     32\u001b[0m         \u001b[0mprint\u001b[0m\u001b[0;34m(\u001b[0m\u001b[0;34m\"hi again\"\u001b[0m\u001b[0;34m)\u001b[0m\u001b[0;34m\u001b[0m\u001b[0;34m\u001b[0m\u001b[0m\n\u001b[1;32m     33\u001b[0m \u001b[0;34m\u001b[0m\u001b[0m\n",
      "\u001b[0;31mAttributeError\u001b[0m: 'NoneType' object has no attribute 'get_text'"
     ]
    }
   ],
   "source": [
    "with open('lexile/books.csv', \"a\") as csv_file:\n",
    "    csv_writer = writer(csv_file)\n",
    "    \n",
    "    #create the header\n",
    "    headers = ['title', 'description', \"author\", \"genre\", 'book_type', 'publisher', \"pub_date\",\\\n",
    "               \"pub_rec_age\", \"pages\", \"themes\", \"cs_rec_age\"]\n",
    "    \n",
    "    csv_writer.writerow(headers)\n",
    "\n",
    "    for url in urls:\n",
    "        print(url)\n",
    "        page = requests.get(url)\n",
    "        soup = BeautifulSoup(page.text, 'html.parser')\n",
    "        summary = soup.find(class_=\"shutter-summary-pane panel-pane pane-product-details\")\n",
    "        print(\"hi\")\n",
    "        title = soup.title.get_text().split(\"[\")[0].strip()\n",
    "        print('yes')\n",
    "        description = soup.find(class_='field field-name-field-one-liner field-type-text field-label-hidden').get_text()\n",
    "        cs_rec_age = soup.find(class_=\"field field-name-field-review-recommended-age field-type-list-integer field-label-hidden\").get_text().split(\" \", 1)[1]\n",
    "        print('boo!')\n",
    "\n",
    "        author = summary.find(class_=\"0 first\").get_text().split(\":\", 1)[1].strip()\n",
    "        genre = summary.find(class_=\"1\").get_text().split(\":\", 1)[1].strip()\n",
    "        book_type = summary.find(class_=\"types\").get_text().split(\":\", 1)[1].strip()\n",
    "        pub = summary.find(class_=\"publishers\").get_text().split(\":\", 1)[1].strip()\n",
    "        pub_date = summary.find(class_=\"2\").get_text().split(\":\", 1)[1].strip()\n",
    "        pub_rec_age = summary.find(class_=\"3\").get_text().split(\":\", 1)[1].strip()\n",
    "        pages = summary.find(class_=\"4\").get_text().split(\":\", 1)[1].strip()\n",
    "        #versions = summary.find(class_=\"5\").get_text().split(\":\", 1)[1].strip()\n",
    "        #updated = summary.find(class_=\"6 last\").get_text().split(\":\", 1)[1].strip()\n",
    "        themes = summary.find(class_=\"themes\").get_text().split(\":\", 1)[1].strip()\n",
    "        print(\"hi again\")\n",
    "    \n",
    "        csv_writer.writerow([title, description, author, genre, book_type, pub, pub_date,\\\n",
    "                             pub_rec_age, pages, versions, themes, cs_rec_age])"
   ]
  },
  {
   "cell_type": "markdown",
   "metadata": {},
   "source": [
    "# Within the Loop"
   ]
  },
  {
   "cell_type": "code",
   "execution_count": null,
   "metadata": {},
   "outputs": [],
   "source": [
    "with open('lexile/books.csv', \"a\") as csv_file:\n",
    "    csv_writer = writer(csv_file)\n",
    "    \n",
    "    #create the header\n",
    "    headers = ['title', 'description', \"author\", \"genre\", 'book_type', 'publisher', \"pub_date\",\\\n",
    "               \"pub_rec_age\", \"pages\", \"versions\", \"updated\", \"themes\", \"cs_rec_age\"]\n",
    "    \n",
    "    csv_writer.writerow(headers)\n",
    "\n",
    "    for url in urls:\n",
    "        print(url)\n",
    "        page = requests.get(url)\n",
    "        soup = BeautifulSoup(page.text, 'html.parser')\n",
    "        summary = soup.find(class_=\"shutter-summary-pane panel-pane pane-product-details\")\n",
    "        print(\"hi\")\n",
    "        for s in soup: \n",
    "            title = soup.title.get_text().split(\"[\")[0].strip()\n",
    "            print('yes')\n",
    "            description = s.find(class_='field field-name-field-one-liner field-type-text field-label-hidden').get_text()\n",
    "            cs_rec_age = s.find(class_=\"field field-name-field-review-recommended-age field-type-list-integer field-label-hidden\").get_text().split(\" \", 1)[1]\n",
    "        print('boo!')\n",
    "\n",
    "        for summ in summary:  \n",
    "\n",
    "            author = summ.find(class_=\"0 first\").get_text().split(\":\", 1)[1].strip()\n",
    "            genre = summ.find(class_=\"1\").get_text().split(\":\", 1)[1].strip()\n",
    "            book_type = summ.find(class_=\"types\").get_text().split(\":\", 1)[1].strip()\n",
    "            pub = summ.find(class_=\"publishers\").get_text().split(\":\", 1)[1].strip()\n",
    "            pub_date = summ.find(class_=\"2\").get_text().split(\":\", 1)[1].strip()\n",
    "            pub_rec_age = summ.find(class_=\"3\").get_text().split(\":\", 1)[1].strip()\n",
    "            pages = summ.find(class_=\"4\").get_text().split(\":\", 1)[1].strip()\n",
    "            versions = summ.find(class_=\"5\").get_text().split(\":\", 1)[1].strip()\n",
    "            updated = summ.find(class_=\"6 last\").get_text().split(\":\", 1)[1].strip()\n",
    "            themes = summ.find(class_=\"themes\").get_text().split(\":\", 1)[1].strip()\n",
    "    \n",
    "        csv_writer.writerow([title, description, author, genre, book_type, pub, pub_date,\\\n",
    "                             pub_rec_age, pages, versions, updated, themes, cs_rec_age])"
   ]
  },
  {
   "cell_type": "code",
   "execution_count": null,
   "metadata": {},
   "outputs": [],
   "source": [
    "with open('lexile/books.csv', \"a\") as csv_file:\n",
    "    csv_writer = writer(csv_file)\n",
    "    \n",
    "    #create the header\n",
    "    headers = ['title', 'description', \"author\", \"genre\", 'book_type', 'publisher', \"pub_date\",\\\n",
    "               \"pub_rec_age\", \"pages\", \"versions\", \"updated\", \"themes\", \"cs_rec_age\"]\n",
    "    \n",
    "    #write a row of headers in the csv\n",
    "    csv_writer.writerow(headers)\n",
    "    \n",
    "    #for sum in summary:\n",
    "    title = soup2.find('h1').string\n",
    "    description = soup2.find(class_='field field-name-field-one-liner field-type-text field-label-hidden').get_text()\n",
    "    cs_rec_age = soup2.find(class_=\"field field-name-field-review-recommended-age field-type-list-integer field-label-hidden\").get_text().split(\" \", 1)[1]\n",
    "    #csv_writer.writerow([title, description, cs_rec_age])\n",
    "    \n",
    "    author = summary.find(class_=\"0 first\").get_text().split(\":\", 1)[1].strip()\n",
    "    genre = summary.find(class_=\"1\").get_text().split(\":\", 1)[1].strip()\n",
    "    book_type = summary.find(class_=\"types\").get_text().split(\":\", 1)[1].strip()\n",
    "    pub = summary.find(class_=\"publishers\").get_text().split(\":\", 1)[1].strip()\n",
    "    pub_date = summary.find(class_=\"2\").get_text().split(\":\", 1)[1].strip()\n",
    "    pub_rec_age = summary.find(class_=\"3\").get_text().split(\":\", 1)[1].strip()\n",
    "    pages = summary.find(class_=\"4\").get_text().split(\":\", 1)[1].strip()\n",
    "    versions = summary.find(class_=\"5\").get_text().split(\":\", 1)[1].strip()\n",
    "    updated = summary.find(class_=\"6 last\").get_text().split(\":\", 1)[1].strip()\n",
    "    themes = summary.find(class_=\"themes\").get_text().split(\":\", 1)[1].strip()\n",
    "\n",
    "    csv_writer.writerow([title, description, author, genre, book_type, publisher, pub_date,\\\n",
    "               pub_rec_age, pages, versions, updated, themes, cs_rec_age])\n",
    "    "
   ]
  },
  {
   "cell_type": "code",
   "execution_count": null,
   "metadata": {},
   "outputs": [],
   "source": [
    "books = soup.findAll(class_=\"content-content-wrapper\")"
   ]
  },
  {
   "cell_type": "code",
   "execution_count": null,
   "metadata": {},
   "outputs": [],
   "source": [
    "with open('lexile/books.csv', 'a') as csv_file:\n",
    "    csv_writer = writer(csv_file)\n",
    "    \n",
    "    #create header in the csv file\n",
    "    headers = ['title', 'description', \"author\", \"age\"]\n",
    "    \n",
    "    #write a row of headers in the csv\n",
    "    csv_writer.writerow(headers)\n",
    "    \n",
    "    #loop\n",
    "    for book in books:\n",
    "        title = book.find(class_=\"views-field views-field-field-reference-review-ent-prod result-title\").get_text()\n",
    "        description = book.find(class_=\"views-field views-field-field-one-liner one-liner\").get_text()\n",
    "        author = book.find(class_=\"views-field views-field-field-term-book-authors review-supplemental\").get_text().replace(\" By \", \"\").rstrip()\n",
    "        age = book.find(class_=\"csm-green-age\").get_text().replace(\"age \", \"\")\n",
    "        csv_writer.writerow([title, description, author, age])"
   ]
  },
  {
   "cell_type": "code",
   "execution_count": null,
   "metadata": {},
   "outputs": [],
   "source": [
    "for page in all_pages_list: \n",
    "    page = requests.get(page)\n",
    "    soup = BeautifulSoup(page.text, 'html.parser')\n",
    "    books = soup.findAll(class_=\"content-content-wrapper\")\n",
    "    with open('lexile/books.csv', 'a') as csv_file:\n",
    "        csv_writer = writer(csv_file)\n",
    "        for book in books:\n",
    "            title = book.find(class_=\"views-field views-field-field-reference-review-ent-prod result-title\").get_text()\n",
    "            description = book.find(class_=\"views-field views-field-field-one-liner one-liner\").get_text()\n",
    "            author = book.find(class_=\"views-field views-field-field-term-book-authors review-supplemental\").get_text().replace(\" By \", \"\").rstrip()\n",
    "            age = book.find(class_=\"csm-green-age\").get_text().replace(\"age \", \"\")\n",
    "            csv_writer.writerow([title, description, author, age])"
   ]
  },
  {
   "cell_type": "code",
   "execution_count": null,
   "metadata": {},
   "outputs": [],
   "source": [
    "df = pd.read_csv('lexile/books.csv')\n",
    "df[df['Title'].str.contains(\"/\")]"
   ]
  },
  {
   "cell_type": "markdown",
   "metadata": {},
   "source": [
    "[Get Book Covers](https://towardsdatascience.com/web-scraping-using-beautifulsoup-edd9441ba734)"
   ]
  },
  {
   "cell_type": "code",
   "execution_count": null,
   "metadata": {},
   "outputs": [],
   "source": [
    "covers = soup.findAll(class_=\"field-content review-product-image\")\n",
    "covers = [cover.findAll(\"img\") for cover in covers]\n",
    "title = [cover[1].get('title') for cover in covers]"
   ]
  },
  {
   "cell_type": "code",
   "execution_count": null,
   "metadata": {},
   "outputs": [],
   "source": [
    "title = [cover[1].get('title') for cover in covers]\n",
    "title = [t[:-18].replace(\"/\", \"_\") for t in title]\n",
    "cover_src = [cover[1].get('src') for cover in covers]"
   ]
  },
  {
   "cell_type": "code",
   "execution_count": null,
   "metadata": {},
   "outputs": [],
   "source": [
    "info = dict(zip(title, cover_src))\n",
    "!mkdir lexile/covers"
   ]
  },
  {
   "cell_type": "code",
   "execution_count": null,
   "metadata": {},
   "outputs": [],
   "source": [
    "for k, v in info.items():\n",
    "    if '.jpg?' in v:\n",
    "        try:\n",
    "            with open('./lexile/covers/' + k + '.jpg', 'wb') as f:\n",
    "                f.write(requests.get(v).content)\n",
    "        except FileNotFoundError as err:\n",
    "            print(k)\n",
    "    else:\n",
    "        try:\n",
    "            with open('./lexile/covers/' + k + '.png', 'wb') as f:\n",
    "                f.write(requests.get(v).content)\n",
    "        except FileNotFoundError as err:\n",
    "            print(k)"
   ]
  },
  {
   "cell_type": "code",
   "execution_count": null,
   "metadata": {},
   "outputs": [],
   "source": [
    "for page in all_pages_list: \n",
    "    page = requests.get(page)\n",
    "    soup = BeautifulSoup(page.text, 'html.parser')\n",
    "    covers = soup.findAll(class_=\"field-content review-product-image\")\n",
    "    covers = [cover.findAll(\"img\") for cover in covers]\n",
    "    title = [cover[1].get('title') for cover in covers]\n",
    "    title = [t[:-18].replace(\"/\", \"_\") for t in title]\n",
    "    cover_src = [cover[1].get('src') for cover in covers]\n",
    "    info = dict(zip(title, cover_src))\n",
    "    for k, v in info.items():\n",
    "        if '.jpg?' in v:\n",
    "            try:\n",
    "                with open('./lexile/covers/' + k + '.jpg', 'wb') as f:\n",
    "                    f.write(requests.get(v).content)\n",
    "            except FileNotFoundError as err:\n",
    "                print(k)\n",
    "        else:\n",
    "            try:\n",
    "                with open('./lexile/covers/' + k + '.png', 'wb') as f:\n",
    "                    f.write(requests.get(v).content)\n",
    "            except FileNotFoundError as err:\n",
    "                print(k)"
   ]
  },
  {
   "cell_type": "markdown",
   "metadata": {},
   "source": [
    "## Step 3: Explore the Data"
   ]
  },
  {
   "cell_type": "markdown",
   "metadata": {},
   "source": [
    "## To do:\n"
   ]
  },
  {
   "cell_type": "code",
   "execution_count": null,
   "metadata": {},
   "outputs": [],
   "source": [
    "!mkdir lexile/test"
   ]
  },
  {
   "cell_type": "code",
   "execution_count": null,
   "metadata": {},
   "outputs": [],
   "source": [
    "for k, v in info.items():\n",
    "    if '.jpg?' in v:\n",
    "        try:\n",
    "            with open('./lexile/covers/' + k + '.jpg', 'wb') as f:\n",
    "                f.write(requests.get(v).content)\n",
    "        except FileNotFoundError as err:\n",
    "            print(k)\n",
    "    else:\n",
    "        try:\n",
    "            with open('./lexile/covers/' + k + '.png', 'wb') as f:\n",
    "                f.write(requests.get(v).content)\n",
    "        except FileNotFoundError as err:\n",
    "            print(k)"
   ]
  },
  {
   "cell_type": "code",
   "execution_count": null,
   "metadata": {},
   "outputs": [],
   "source": []
  },
  {
   "cell_type": "code",
   "execution_count": null,
   "metadata": {},
   "outputs": [],
   "source": []
  }
 ],
 "metadata": {
  "kernelspec": {
   "display_name": "Python 3",
   "language": "python",
   "name": "python3"
  },
  "language_info": {
   "codemirror_mode": {
    "name": "ipython",
    "version": 3
   },
   "file_extension": ".py",
   "mimetype": "text/x-python",
   "name": "python",
   "nbconvert_exporter": "python",
   "pygments_lexer": "ipython3",
   "version": "3.7.4"
  }
 },
 "nbformat": 4,
 "nbformat_minor": 4
}
