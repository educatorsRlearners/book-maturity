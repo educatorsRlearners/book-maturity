{
 "cells": [
  {
   "cell_type": "markdown",
   "metadata": {},
   "source": [
    "## Step 1: Frame the Problem\n",
    "\n",
    "Currently, stakeholders know can identify which books are too difficult for their children/students to read but not which books are beyond the maturity level of the child/student. This project attempts to rectify this issue. \n",
    "\n",
    "## Step 2: Get the Data"
   ]
  },
  {
   "cell_type": "markdown",
   "metadata": {},
   "source": [
    "[Guide](https://www.dataquest.io/blog/web-scraping-tutorial-python/)"
   ]
  },
  {
   "cell_type": "code",
   "execution_count": 7,
   "metadata": {},
   "outputs": [],
   "source": [
    "import os\n",
    "import string\n",
    "import requests\n",
    "import pandas as pd \n",
    "from bs4 import BeautifulSoup\n",
    "from csv import writer"
   ]
  },
  {
   "cell_type": "code",
   "execution_count": 16,
   "metadata": {},
   "outputs": [],
   "source": [
    "base_url = 'https://www.commonsensemedia.org/book-reviews'\n",
    "page = '?page='\n",
    "all_pages = range(1,291)\n",
    "all_pages_list = [base_url+page+str(p) for p in all_pages]"
   ]
  },
  {
   "cell_type": "code",
   "execution_count": 17,
   "metadata": {},
   "outputs": [],
   "source": [
    "page = requests.get(base_url)\n",
    "\n",
    "soup = BeautifulSoup(page.text, 'html.parser')"
   ]
  },
  {
   "cell_type": "code",
   "execution_count": 18,
   "metadata": {},
   "outputs": [],
   "source": [
    "title = [s.get_text().strip() for s in soup.findAll(class_=\"views-field views-field-field-reference-review-ent-prod result-title\")]"
   ]
  },
  {
   "cell_type": "code",
   "execution_count": 19,
   "metadata": {},
   "outputs": [],
   "source": [
    "stripper = str.maketrans(\"\", \"\", string.punctuation)\n",
    "title = [t.translate(stripper).replace(\" \", \"-\").lower() for t in title]\n",
    "#title = [t.replace(\" \", \"-\").lower() for t in title]"
   ]
  },
  {
   "cell_type": "code",
   "execution_count": 21,
   "metadata": {},
   "outputs": [
    {
     "name": "stdout",
     "output_type": "stream",
     "text": [
      "https://www.commonsensemedia.org/book-reviews/black-beauty\n",
      "https://www.commonsensemedia.org/book-reviews/love\n",
      "https://www.commonsensemedia.org/book-reviews/whistle-for-willie\n",
      "https://www.commonsensemedia.org/book-reviews/the-little-prince\n",
      "https://www.commonsensemedia.org/book-reviews/the-hobbit\n",
      "https://www.commonsensemedia.org/book-reviews/middle-school-is-worse-than-meatloaf\n",
      "https://www.commonsensemedia.org/book-reviews/shine\n",
      "https://www.commonsensemedia.org/book-reviews/the-trouble-with-may-amelia\n",
      "https://www.commonsensemedia.org/book-reviews/queen-of-the-falls\n",
      "https://www.commonsensemedia.org/book-reviews/inside-out-and-back-again\n",
      "https://www.commonsensemedia.org/book-reviews/the-adventures-of-mark-twain-by-huckleberry-finn\n",
      "https://www.commonsensemedia.org/book-reviews/a-world-without-heroes-beyonders-book-1\n",
      "https://www.commonsensemedia.org/book-reviews/recovery-road\n",
      "https://www.commonsensemedia.org/book-reviews/little-white-rabbit\n",
      "https://www.commonsensemedia.org/book-reviews/dave-the-potter-artist-poet-slave\n",
      "https://www.commonsensemedia.org/book-reviews/clockwork-angel-infernal-devices-book-1\n",
      "https://www.commonsensemedia.org/book-reviews/interrupting-chicken\n",
      "https://www.commonsensemedia.org/book-reviews/for-the-love-of-music-the-remarkable-story-of-maria-anna-mozart\n",
      "https://www.commonsensemedia.org/book-reviews/i-am-number-four-lorien-legacies-book-1\n",
      "https://www.commonsensemedia.org/book-reviews/heart-of-a-samurai\n"
     ]
    }
   ],
   "source": [
    "\n",
    "for t in title:\n",
    "    print(base_url + \"/\" + t)"
   ]
  },
  {
   "cell_type": "code",
   "execution_count": null,
   "metadata": {},
   "outputs": [],
   "source": [
    "books = soup.findAll(class_=\"content-content-wrapper\")"
   ]
  },
  {
   "cell_type": "code",
   "execution_count": null,
   "metadata": {},
   "outputs": [],
   "source": [
    "with open('lexile/books.csv', 'w') as csv_file:\n",
    "    csv_writer = writer(csv_file)\n",
    "    \n",
    "    #create header in the csv file\n",
    "    headers = ['Title', 'Description', \"Author\", 'Age']\n",
    "    \n",
    "    #write a row of headers in the csv\n",
    "    csv_writer.writerow(headers)\n",
    "    \n",
    "    #loop\n",
    "    for book in books:\n",
    "        title = book.find(class_=\"views-field views-field-field-reference-review-ent-prod result-title\").get_text()\n",
    "        description = book.find(class_=\"views-field views-field-field-one-liner one-liner\").get_text()\n",
    "        author = book.find(class_=\"views-field views-field-field-term-book-authors review-supplemental\").get_text().replace(\" By \", \"\").rstrip()\n",
    "        age = book.find(class_=\"csm-green-age\").get_text().replace(\"age \", \"\")\n",
    "        csv_writer.writerow([title, description, author, age])"
   ]
  },
  {
   "cell_type": "code",
   "execution_count": null,
   "metadata": {},
   "outputs": [],
   "source": [
    "for page in all_pages_list: \n",
    "    page = requests.get(page)\n",
    "    soup = BeautifulSoup(page.text, 'html.parser')\n",
    "    books = soup.findAll(class_=\"content-content-wrapper\")\n",
    "    with open('lexile/books.csv', 'a') as csv_file:\n",
    "        csv_writer = writer(csv_file)\n",
    "        for book in books:\n",
    "            title = book.find(class_=\"views-field views-field-field-reference-review-ent-prod result-title\").get_text()\n",
    "            description = book.find(class_=\"views-field views-field-field-one-liner one-liner\").get_text()\n",
    "            author = book.find(class_=\"views-field views-field-field-term-book-authors review-supplemental\").get_text().replace(\" By \", \"\").rstrip()\n",
    "            age = book.find(class_=\"csm-green-age\").get_text().replace(\"age \", \"\")\n",
    "            csv_writer.writerow([title, description, author, age])"
   ]
  },
  {
   "cell_type": "code",
   "execution_count": null,
   "metadata": {},
   "outputs": [],
   "source": [
    "df = pd.read_csv('lexile/books.csv')\n",
    "df[df['Title'].str.contains(\"/\")]"
   ]
  },
  {
   "cell_type": "markdown",
   "metadata": {},
   "source": [
    "[Get Book Covers](https://towardsdatascience.com/web-scraping-using-beautifulsoup-edd9441ba734)"
   ]
  },
  {
   "cell_type": "code",
   "execution_count": 4,
   "metadata": {},
   "outputs": [],
   "source": [
    "covers = soup.findAll(class_=\"field-content review-product-image\")\n",
    "covers = [cover.findAll(\"img\") for cover in covers]\n",
    "title = [cover[1].get('title') for cover in covers]"
   ]
  },
  {
   "cell_type": "code",
   "execution_count": 5,
   "metadata": {},
   "outputs": [],
   "source": [
    "title = [cover[1].get('title') for cover in covers]\n",
    "title = [t[:-18].replace(\"/\", \"_\") for t in title]\n",
    "cover_src = [cover[1].get('src') for cover in covers]"
   ]
  },
  {
   "cell_type": "code",
   "execution_count": 6,
   "metadata": {},
   "outputs": [],
   "source": [
    "info = dict(zip(title, cover_src))\n",
    "!mkdir lexile/covers"
   ]
  },
  {
   "cell_type": "code",
   "execution_count": 7,
   "metadata": {},
   "outputs": [],
   "source": [
    "for k, v in info.items():\n",
    "    if '.jpg?' in v:\n",
    "        try:\n",
    "            with open('./lexile/covers/' + k + '.jpg', 'wb') as f:\n",
    "                f.write(requests.get(v).content)\n",
    "        except FileNotFoundError as err:\n",
    "            print(k)\n",
    "    else:\n",
    "        try:\n",
    "            with open('./lexile/covers/' + k + '.png', 'wb') as f:\n",
    "                f.write(requests.get(v).content)\n",
    "        except FileNotFoundError as err:\n",
    "            print(k)"
   ]
  },
  {
   "cell_type": "code",
   "execution_count": null,
   "metadata": {},
   "outputs": [],
   "source": [
    "for page in all_pages_list: \n",
    "    page = requests.get(page)\n",
    "    soup = BeautifulSoup(page.text, 'html.parser')\n",
    "    covers = soup.findAll(class_=\"field-content review-product-image\")\n",
    "    covers = [cover.findAll(\"img\") for cover in covers]\n",
    "    title = [cover[1].get('title') for cover in covers]\n",
    "    title = [t[:-18].replace(\"/\", \"_\") for t in title]\n",
    "    cover_src = [cover[1].get('src') for cover in covers]\n",
    "    info = dict(zip(title, cover_src))\n",
    "    for k, v in info.items():\n",
    "        if '.jpg?' in v:\n",
    "            try:\n",
    "                with open('./lexile/covers/' + k + '.jpg', 'wb') as f:\n",
    "                    f.write(requests.get(v).content)\n",
    "            except FileNotFoundError as err:\n",
    "                print(k)\n",
    "        else:\n",
    "            try:\n",
    "                with open('./lexile/covers/' + k + '.png', 'wb') as f:\n",
    "                    f.write(requests.get(v).content)\n",
    "            except FileNotFoundError as err:\n",
    "                print(k)"
   ]
  },
  {
   "cell_type": "markdown",
   "metadata": {},
   "source": [
    "## Step 3: Explore the Data"
   ]
  },
  {
   "cell_type": "markdown",
   "metadata": {},
   "source": [
    "## To do:\n"
   ]
  },
  {
   "cell_type": "code",
   "execution_count": null,
   "metadata": {},
   "outputs": [],
   "source": [
    "!mkdir lexile/test"
   ]
  },
  {
   "cell_type": "code",
   "execution_count": null,
   "metadata": {},
   "outputs": [],
   "source": [
    "for k, v in info.items():\n",
    "    if '.jpg?' in v:\n",
    "        try:\n",
    "            with open('./lexile/covers/' + k + '.jpg', 'wb') as f:\n",
    "                f.write(requests.get(v).content)\n",
    "        except FileNotFoundError as err:\n",
    "            print(k)\n",
    "    else:\n",
    "        try:\n",
    "            with open('./lexile/covers/' + k + '.png', 'wb') as f:\n",
    "                f.write(requests.get(v).content)\n",
    "        except FileNotFoundError as err:\n",
    "            print(k)"
   ]
  },
  {
   "cell_type": "code",
   "execution_count": null,
   "metadata": {},
   "outputs": [],
   "source": []
  },
  {
   "cell_type": "code",
   "execution_count": null,
   "metadata": {},
   "outputs": [],
   "source": []
  }
 ],
 "metadata": {
  "kernelspec": {
   "display_name": "Python 3",
   "language": "python",
   "name": "python3"
  },
  "language_info": {
   "codemirror_mode": {
    "name": "ipython",
    "version": 3
   },
   "file_extension": ".py",
   "mimetype": "text/x-python",
   "name": "python",
   "nbconvert_exporter": "python",
   "pygments_lexer": "ipython3",
   "version": "3.7.4"
  }
 },
 "nbformat": 4,
 "nbformat_minor": 4
}
