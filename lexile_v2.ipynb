{
 "cells": [
  {
   "cell_type": "markdown",
   "metadata": {},
   "source": [
    "## Step 1: Frame the Problem\n",
    "\n",
    "Currently, stakeholders know can identify which books are too difficult for their children/students to read but not which books are beyond the maturity level of the child/student. This project attempts to rectify this issue. \n",
    "\n",
    "## Step 2: Get the Data"
   ]
  },
  {
   "cell_type": "markdown",
   "metadata": {},
   "source": [
    "[Guide](https://www.dataquest.io/blog/web-scraping-tutorial-python/)"
   ]
  },
  {
   "cell_type": "code",
   "execution_count": 1,
   "metadata": {},
   "outputs": [],
   "source": [
    "import os\n",
    "import string\n",
    "import requests\n",
    "import pandas as pd \n",
    "from bs4 import BeautifulSoup\n",
    "from csv import writer"
   ]
  },
  {
   "cell_type": "code",
   "execution_count": 2,
   "metadata": {},
   "outputs": [],
   "source": [
    "base_url = 'https://www.commonsensemedia.org/book-reviews'\n",
    "page = '?page='\n",
    "all_pages = range(1,291)\n",
    "all_pages_list = [base_url+page+str(p) for p in all_pages]"
   ]
  },
  {
   "cell_type": "code",
   "execution_count": 3,
   "metadata": {},
   "outputs": [],
   "source": [
    "page = requests.get(base_url)\n",
    "\n",
    "soup = BeautifulSoup(page.text, 'html.parser')"
   ]
  },
  {
   "cell_type": "code",
   "execution_count": 4,
   "metadata": {},
   "outputs": [],
   "source": [
    "title = [s.get_text().strip() for s in soup.findAll(class_=\"views-field views-field-field-reference-review-ent-prod result-title\")]"
   ]
  },
  {
   "cell_type": "code",
   "execution_count": 5,
   "metadata": {},
   "outputs": [],
   "source": [
    "stripper = str.maketrans(\"\", \"\", string.punctuation)\n",
    "title_edited = [t.translate(stripper).replace(\" \", \"-\").lower() for t in title] #preps for creating url\n",
    "urls = [base_url + \"/\" + t for t in title_edited] "
   ]
  },
  {
   "cell_type": "code",
   "execution_count": 6,
   "metadata": {},
   "outputs": [
    {
     "data": {
      "text/html": [
       "<div>\n",
       "<style scoped>\n",
       "    .dataframe tbody tr th:only-of-type {\n",
       "        vertical-align: middle;\n",
       "    }\n",
       "\n",
       "    .dataframe tbody tr th {\n",
       "        vertical-align: top;\n",
       "    }\n",
       "\n",
       "    .dataframe thead th {\n",
       "        text-align: right;\n",
       "    }\n",
       "</style>\n",
       "<table border=\"1\" class=\"dataframe\">\n",
       "  <thead>\n",
       "    <tr style=\"text-align: right;\">\n",
       "      <th></th>\n",
       "      <th>title</th>\n",
       "      <th>url</th>\n",
       "    </tr>\n",
       "  </thead>\n",
       "  <tbody>\n",
       "    <tr>\n",
       "      <td>0</td>\n",
       "      <td>Black Beauty</td>\n",
       "      <td>https://www.commonsensemedia.org/book-reviews/...</td>\n",
       "    </tr>\n",
       "    <tr>\n",
       "      <td>1</td>\n",
       "      <td>Love</td>\n",
       "      <td>https://www.commonsensemedia.org/book-reviews/...</td>\n",
       "    </tr>\n",
       "    <tr>\n",
       "      <td>2</td>\n",
       "      <td>Whistle for Willie</td>\n",
       "      <td>https://www.commonsensemedia.org/book-reviews/...</td>\n",
       "    </tr>\n",
       "    <tr>\n",
       "      <td>3</td>\n",
       "      <td>The Little Prince</td>\n",
       "      <td>https://www.commonsensemedia.org/book-reviews/...</td>\n",
       "    </tr>\n",
       "    <tr>\n",
       "      <td>4</td>\n",
       "      <td>The Hobbit</td>\n",
       "      <td>https://www.commonsensemedia.org/book-reviews/...</td>\n",
       "    </tr>\n",
       "  </tbody>\n",
       "</table>\n",
       "</div>"
      ],
      "text/plain": [
       "                title                                                url\n",
       "0        Black Beauty  https://www.commonsensemedia.org/book-reviews/...\n",
       "1                Love  https://www.commonsensemedia.org/book-reviews/...\n",
       "2  Whistle for Willie  https://www.commonsensemedia.org/book-reviews/...\n",
       "3   The Little Prince  https://www.commonsensemedia.org/book-reviews/...\n",
       "4          The Hobbit  https://www.commonsensemedia.org/book-reviews/..."
      ]
     },
     "execution_count": 6,
     "metadata": {},
     "output_type": "execute_result"
    }
   ],
   "source": [
    "df = pd.DataFrame()\n",
    "df['title'] = title\n",
    "df['url'] = urls\n",
    "df.head()"
   ]
  },
  {
   "cell_type": "code",
   "execution_count": null,
   "metadata": {},
   "outputs": [],
   "source": [
    "page2 = requests.get('https://www.commonsensemedia.org/book-reviews/black-beauty')"
   ]
  },
  {
   "cell_type": "code",
   "execution_count": 86,
   "metadata": {},
   "outputs": [],
   "source": [
    "soup2 = BeautifulSoup(page2.text, 'html.parser')"
   ]
  },
  {
   "cell_type": "code",
   "execution_count": 87,
   "metadata": {},
   "outputs": [],
   "source": [
    "summary = soup2.find(class_=\"shutter-summary-pane panel-pane pane-product-details\")"
   ]
  },
  {
   "cell_type": "code",
   "execution_count": 92,
   "metadata": {},
   "outputs": [],
   "source": [
    "title = soup2.find('h1').string\n",
    "description = soup2.find(class_='field field-name-field-one-liner field-type-text field-label-hidden').get_text()\n",
    "cs_rec_age = soup2.find(class_=\"field field-name-field-review-recommended-age field-type-list-integer field-label-hidden\").get_text().split(\" \", 1)[1]\n",
    "\n",
    "author = summary.find(class_=\"0 first\").get_text().split(\":\", 1)[1].strip()\n",
    "genre = summary.find(class_=\"1\").get_text().split(\":\", 1)[1].strip()\n",
    "book_type = summary.find(class_=\"types\").get_text().split(\":\", 1)[1].strip()\n",
    "pub = summary.find(class_=\"publishers\").get_text().split(\":\", 1)[1].strip()\n",
    "pub_date = summary.find(class_=\"2\").get_text().split(\":\", 1)[1].strip()\n",
    "pub_rec_age = summary.find(class_=\"3\").get_text().split(\":\", 1)[1].strip()\n",
    "pages = summary.find(class_=\"4\").get_text().split(\":\", 1)[1].strip()\n",
    "versions = summary.find(class_=\"5\").get_text().split(\":\", 1)[1].strip()\n",
    "updated = summary.find(class_=\"6 last\").get_text().split(\":\", 1)[1].strip()\n",
    "themes = summary.find(class_=\"themes\").get_text().split(\":\", 1)[1].strip()\n"
   ]
  },
  {
   "cell_type": "code",
   "execution_count": 93,
   "metadata": {},
   "outputs": [
    {
     "data": {
      "text/plain": [
       "'Classic horse novel has be-kind-to-animals message.'"
      ]
     },
     "execution_count": 93,
     "metadata": {},
     "output_type": "execute_result"
    }
   ],
   "source": [
    "description"
   ]
  },
  {
   "cell_type": "code",
   "execution_count": null,
   "metadata": {},
   "outputs": [],
   "source": [
    "books = soup.findAll(class_=\"content-content-wrapper\")"
   ]
  },
  {
   "cell_type": "code",
   "execution_count": null,
   "metadata": {},
   "outputs": [],
   "source": [
    "with open('lexile/books.csv', 'w') as csv_file:\n",
    "    csv_writer = writer(csv_file)\n",
    "    \n",
    "    #create header in the csv file\n",
    "    headers = ['Title', 'Description', \"Author\", 'Age']\n",
    "    \n",
    "    #write a row of headers in the csv\n",
    "    csv_writer.writerow(headers)\n",
    "    \n",
    "    #loop\n",
    "    for book in books:\n",
    "        title = book.find(class_=\"views-field views-field-field-reference-review-ent-prod result-title\").get_text()\n",
    "        description = book.find(class_=\"views-field views-field-field-one-liner one-liner\").get_text()\n",
    "        author = book.find(class_=\"views-field views-field-field-term-book-authors review-supplemental\").get_text().replace(\" By \", \"\").rstrip()\n",
    "        age = book.find(class_=\"csm-green-age\").get_text().replace(\"age \", \"\")\n",
    "        csv_writer.writerow([title, description, author, age])"
   ]
  },
  {
   "cell_type": "code",
   "execution_count": null,
   "metadata": {},
   "outputs": [],
   "source": [
    "for page in all_pages_list: \n",
    "    page = requests.get(page)\n",
    "    soup = BeautifulSoup(page.text, 'html.parser')\n",
    "    books = soup.findAll(class_=\"content-content-wrapper\")\n",
    "    with open('lexile/books.csv', 'a') as csv_file:\n",
    "        csv_writer = writer(csv_file)\n",
    "        for book in books:\n",
    "            title = book.find(class_=\"views-field views-field-field-reference-review-ent-prod result-title\").get_text()\n",
    "            description = book.find(class_=\"views-field views-field-field-one-liner one-liner\").get_text()\n",
    "            author = book.find(class_=\"views-field views-field-field-term-book-authors review-supplemental\").get_text().replace(\" By \", \"\").rstrip()\n",
    "            age = book.find(class_=\"csm-green-age\").get_text().replace(\"age \", \"\")\n",
    "            csv_writer.writerow([title, description, author, age])"
   ]
  },
  {
   "cell_type": "code",
   "execution_count": null,
   "metadata": {},
   "outputs": [],
   "source": [
    "df = pd.read_csv('lexile/books.csv')\n",
    "df[df['Title'].str.contains(\"/\")]"
   ]
  },
  {
   "cell_type": "markdown",
   "metadata": {},
   "source": [
    "[Get Book Covers](https://towardsdatascience.com/web-scraping-using-beautifulsoup-edd9441ba734)"
   ]
  },
  {
   "cell_type": "code",
   "execution_count": 4,
   "metadata": {},
   "outputs": [],
   "source": [
    "covers = soup.findAll(class_=\"field-content review-product-image\")\n",
    "covers = [cover.findAll(\"img\") for cover in covers]\n",
    "title = [cover[1].get('title') for cover in covers]"
   ]
  },
  {
   "cell_type": "code",
   "execution_count": 5,
   "metadata": {},
   "outputs": [],
   "source": [
    "title = [cover[1].get('title') for cover in covers]\n",
    "title = [t[:-18].replace(\"/\", \"_\") for t in title]\n",
    "cover_src = [cover[1].get('src') for cover in covers]"
   ]
  },
  {
   "cell_type": "code",
   "execution_count": 6,
   "metadata": {},
   "outputs": [],
   "source": [
    "info = dict(zip(title, cover_src))\n",
    "!mkdir lexile/covers"
   ]
  },
  {
   "cell_type": "code",
   "execution_count": 7,
   "metadata": {},
   "outputs": [],
   "source": [
    "for k, v in info.items():\n",
    "    if '.jpg?' in v:\n",
    "        try:\n",
    "            with open('./lexile/covers/' + k + '.jpg', 'wb') as f:\n",
    "                f.write(requests.get(v).content)\n",
    "        except FileNotFoundError as err:\n",
    "            print(k)\n",
    "    else:\n",
    "        try:\n",
    "            with open('./lexile/covers/' + k + '.png', 'wb') as f:\n",
    "                f.write(requests.get(v).content)\n",
    "        except FileNotFoundError as err:\n",
    "            print(k)"
   ]
  },
  {
   "cell_type": "code",
   "execution_count": null,
   "metadata": {},
   "outputs": [],
   "source": [
    "for page in all_pages_list: \n",
    "    page = requests.get(page)\n",
    "    soup = BeautifulSoup(page.text, 'html.parser')\n",
    "    covers = soup.findAll(class_=\"field-content review-product-image\")\n",
    "    covers = [cover.findAll(\"img\") for cover in covers]\n",
    "    title = [cover[1].get('title') for cover in covers]\n",
    "    title = [t[:-18].replace(\"/\", \"_\") for t in title]\n",
    "    cover_src = [cover[1].get('src') for cover in covers]\n",
    "    info = dict(zip(title, cover_src))\n",
    "    for k, v in info.items():\n",
    "        if '.jpg?' in v:\n",
    "            try:\n",
    "                with open('./lexile/covers/' + k + '.jpg', 'wb') as f:\n",
    "                    f.write(requests.get(v).content)\n",
    "            except FileNotFoundError as err:\n",
    "                print(k)\n",
    "        else:\n",
    "            try:\n",
    "                with open('./lexile/covers/' + k + '.png', 'wb') as f:\n",
    "                    f.write(requests.get(v).content)\n",
    "            except FileNotFoundError as err:\n",
    "                print(k)"
   ]
  },
  {
   "cell_type": "markdown",
   "metadata": {},
   "source": [
    "## Step 3: Explore the Data"
   ]
  },
  {
   "cell_type": "markdown",
   "metadata": {},
   "source": [
    "## To do:\n"
   ]
  },
  {
   "cell_type": "code",
   "execution_count": null,
   "metadata": {},
   "outputs": [],
   "source": [
    "!mkdir lexile/test"
   ]
  },
  {
   "cell_type": "code",
   "execution_count": null,
   "metadata": {},
   "outputs": [],
   "source": [
    "for k, v in info.items():\n",
    "    if '.jpg?' in v:\n",
    "        try:\n",
    "            with open('./lexile/covers/' + k + '.jpg', 'wb') as f:\n",
    "                f.write(requests.get(v).content)\n",
    "        except FileNotFoundError as err:\n",
    "            print(k)\n",
    "    else:\n",
    "        try:\n",
    "            with open('./lexile/covers/' + k + '.png', 'wb') as f:\n",
    "                f.write(requests.get(v).content)\n",
    "        except FileNotFoundError as err:\n",
    "            print(k)"
   ]
  },
  {
   "cell_type": "code",
   "execution_count": null,
   "metadata": {},
   "outputs": [],
   "source": []
  },
  {
   "cell_type": "code",
   "execution_count": null,
   "metadata": {},
   "outputs": [],
   "source": []
  }
 ],
 "metadata": {
  "kernelspec": {
   "display_name": "Python 3",
   "language": "python",
   "name": "python3"
  },
  "language_info": {
   "codemirror_mode": {
    "name": "ipython",
    "version": 3
   },
   "file_extension": ".py",
   "mimetype": "text/x-python",
   "name": "python",
   "nbconvert_exporter": "python",
   "pygments_lexer": "ipython3",
   "version": "3.7.4"
  }
 },
 "nbformat": 4,
 "nbformat_minor": 4
}
