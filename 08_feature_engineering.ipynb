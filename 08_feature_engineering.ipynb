{
 "cells": [
  {
   "cell_type": "code",
   "execution_count": 1,
   "metadata": {},
   "outputs": [],
   "source": [
    "import pandas as pd\n",
    "import numpy as np\n"
   ]
  },
  {
   "cell_type": "code",
   "execution_count": 3,
   "metadata": {},
   "outputs": [
    {
     "name": "stdout",
     "output_type": "stream",
     "text": [
      "<class 'pandas.core.frame.DataFrame'>\n",
      "RangeIndex: 4651 entries, 0 to 4650\n",
      "Data columns (total 10 columns):\n",
      "title               4651 non-null object\n",
      "description         4651 non-null object\n",
      "plot                4651 non-null object\n",
      "csm_review          4651 non-null object\n",
      "need_to_know        4651 non-null object\n",
      "csm_rating          4651 non-null int64\n",
      "Genre               4651 non-null object\n",
      "Book type           4651 non-null object\n",
      "Publication date    4651 non-null object\n",
      "Last updated        4651 non-null object\n",
      "dtypes: int64(1), object(9)\n",
      "memory usage: 363.5+ KB\n"
     ]
    }
   ],
   "source": [
    "train_base_lstm = pd.read_csv('csv/train.csv')\n",
    "train_base = train_base.dropna(axis='columns')\n",
    "train_base.info()"
   ]
  },
  {
   "cell_type": "code",
   "execution_count": null,
   "metadata": {},
   "outputs": [],
   "source": [
    "train_set[[\"pub_min_age\", \"pub_max_age\"]] = train_set[\"Publisher\\'s recommended age(s)\"].str.split(\"-\", expand=True)\n",
    "train_set.drop(columns=[\"Publisher\\'s recommended age(s)\", \"Last updated\", \"Award\", \"Awards\"], inplace=True)"
   ]
  },
  {
   "cell_type": "code",
   "execution_count": null,
   "metadata": {},
   "outputs": [],
   "source": [
    "train_set.groupby([\"csm_rating\"]).mean().round().reset_index()"
   ]
  }
 ],
 "metadata": {
  "kernelspec": {
   "display_name": "base",
   "language": "python",
   "name": "base"
  },
  "language_info": {
   "codemirror_mode": {
    "name": "ipython",
    "version": 3
   },
   "file_extension": ".py",
   "mimetype": "text/x-python",
   "name": "python",
   "nbconvert_exporter": "python",
   "pygments_lexer": "ipython3",
   "version": "3.7.4"
  }
 },
 "nbformat": 4,
 "nbformat_minor": 4
}
