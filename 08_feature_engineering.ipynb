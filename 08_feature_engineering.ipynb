{
 "cells": [
  {
   "cell_type": "code",
   "execution_count": null,
   "metadata": {},
   "outputs": [],
   "source": [
    "import pandas as pd\n",
    "import numpy as np"
   ]
  },
  {
   "cell_type": "code",
   "execution_count": null,
   "metadata": {},
   "outputs": [],
   "source": [
    "train_base_lstm = pd.read_csv('csv/train.csv')\n",
    "train_base = train_base.dropna(axis='columns')\n",
    "train_base.info()"
   ]
  },
  {
   "cell_type": "code",
   "execution_count": null,
   "metadata": {},
   "outputs": [],
   "source": [
    "train_set[[\"pub_min_age\", \"pub_max_age\"]] = train_set[\"Publisher\\'s recommended age(s)\"].str.split(\"-\", expand=True)\n",
    "train_set.drop(columns=[\"Publisher\\'s recommended age(s)\", \"Last updated\", \"Award\", \"Awards\"], inplace=True)"
   ]
  },
  {
   "cell_type": "code",
   "execution_count": null,
   "metadata": {},
   "outputs": [],
   "source": [
    "train_set.groupby([\"csm_rating\"]).mean().round().reset_index()"
   ]
  },
  {
   "cell_type": "markdown",
   "metadata": {},
   "source": [
    "## Strip the Date"
   ]
  },
  {
   "cell_type": "code",
   "execution_count": null,
   "metadata": {},
   "outputs": [],
   "source": [
    "#df['col'] = pd.to_datetime(df['col'])\n",
    "train_base[\"Publication date\"] = train_base[\"Publication date\"].str[-4:]"
   ]
  },
  {
   "cell_type": "markdown",
   "metadata": {},
   "source": [
    "## Drop Updated"
   ]
  },
  {
   "cell_type": "code",
   "execution_count": null,
   "metadata": {},
   "outputs": [],
   "source": [
    "train_base.drop(columns=[\"Last updated\"], inplace=True)"
   ]
  },
  {
   "cell_type": "markdown",
   "metadata": {},
   "source": [
    "### [Transform Columns](https://machinelearningmastery.com/columntransformer-for-numerical-and-categorical-data/)"
   ]
  },
  {
   "cell_type": "code",
   "execution_count": null,
   "metadata": {},
   "outputs": [],
   "source": [
    "from sklearn.preprocessing import OneHotEncoder\n",
    "from sklearn.compose import ColumnTransformer\n",
    "cat_encoder = OneHotEncoder()\n",
    "train_genre_cat = train_base[[ \"Genre\"]]\n",
    "train_genre_1 = cat_encoder.fit_transform(train_genre_cat)\n",
    "train_book_type_cat = train_base[[\"Book type\"]]\n",
    "train_genre_1 = cat_encoder.fit_transform(train_book_type_cat)\n",
    "train_genre_1"
   ]
  }
 ],
 "metadata": {
  "kernelspec": {
   "display_name": "base",
   "language": "python",
   "name": "base"
  },
  "language_info": {
   "codemirror_mode": {
    "name": "ipython",
    "version": 3
   },
   "file_extension": ".py",
   "mimetype": "text/x-python",
   "name": "python",
   "nbconvert_exporter": "python",
   "pygments_lexer": "ipython3",
   "version": "3.7.4"
  }
 },
 "nbformat": 4,
 "nbformat_minor": 4
}
