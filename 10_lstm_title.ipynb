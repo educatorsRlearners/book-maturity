{
 "cells": [
  {
   "cell_type": "code",
   "execution_count": 1,
   "metadata": {
    "colab": {
     "base_uri": "https://localhost:8080/",
     "height": 125
    },
    "colab_type": "code",
    "id": "9nn-YIyzJ09Y",
    "outputId": "131a40bc-e4ed-4432-9780-86cb59dfd14f"
   },
   "outputs": [
    {
     "name": "stdout",
     "output_type": "stream",
     "text": [
      "Go to this URL in a browser: https://accounts.google.com/o/oauth2/auth?client_id=947318989803-6bn6qk8qdgf4n4g3pfee6491hc0brc4i.apps.googleusercontent.com&redirect_uri=urn%3aietf%3awg%3aoauth%3a2.0%3aoob&response_type=code&scope=email%20https%3a%2f%2fwww.googleapis.com%2fauth%2fdocs.test%20https%3a%2f%2fwww.googleapis.com%2fauth%2fdrive%20https%3a%2f%2fwww.googleapis.com%2fauth%2fdrive.photos.readonly%20https%3a%2f%2fwww.googleapis.com%2fauth%2fpeopleapi.readonly\n",
      "\n",
      "Enter your authorization code:\n",
      "··········\n",
      "Mounted at /content/drive\n"
     ]
    }
   ],
   "source": [
    "from google.colab import drive\n",
    "drive.mount('/content/drive')"
   ]
  },
  {
   "cell_type": "code",
   "execution_count": null,
   "metadata": {
    "colab": {},
    "colab_type": "code",
    "id": "rhUo7OzGQl4Z"
   },
   "outputs": [],
   "source": [
    "import pandas as pd\n",
    "import numpy as np\n",
    "import tensorflow as tf\n",
    "from math import sqrt\n",
    "\n",
    "from tensorflow.keras.layers import Input, Dense, Embedding, LSTM, Activation, GlobalMaxPooling1D\n",
    "from tensorflow.keras.preprocessing.text import Tokenizer\n",
    "from tensorflow.keras.preprocessing.sequence import pad_sequences\n",
    "\n",
    "from tensorflow.keras.models import Sequential\n",
    "from tensorflow.keras.callbacks import ReduceLROnPlateau, EarlyStopping\n",
    "\n",
    "import matplotlib.pyplot as plt\n",
    "\n",
    "from sklearn.model_selection import StratifiedShuffleSplit"
   ]
  },
  {
   "cell_type": "code",
   "execution_count": null,
   "metadata": {
    "colab": {},
    "colab_type": "code",
    "id": "2pNg4ay8JZmg"
   },
   "outputs": [],
   "source": [
    "#Run Local\n",
    "#df = pd.read_csv(\"csv/book_info_complete.csv\")\n",
    "#Run on COLAB\n",
    "df = pd.read_csv(\"/content/drive/My Drive/final_project/book_info_complete.csv\")"
   ]
  },
  {
   "cell_type": "code",
   "execution_count": 4,
   "metadata": {
    "colab": {
     "base_uri": "https://localhost:8080/",
     "height": 301
    },
    "colab_type": "code",
    "id": "5hNMh6xrJZmm",
    "outputId": "84f92910-4f53-480c-9114-42991e392702"
   },
   "outputs": [
    {
     "name": "stdout",
     "output_type": "stream",
     "text": [
      "<class 'pandas.core.frame.DataFrame'>\n",
      "RangeIndex: 5816 entries, 0 to 5815\n",
      "Data columns (total 9 columns):\n",
      " #   Column            Non-Null Count  Dtype \n",
      "---  ------            --------------  ----- \n",
      " 0   title             5816 non-null   object\n",
      " 1   description       5816 non-null   object\n",
      " 2   plot              5816 non-null   object\n",
      " 3   csm_review        5816 non-null   object\n",
      " 4   need_to_know      5816 non-null   object\n",
      " 5   csm_rating        5816 non-null   int64 \n",
      " 6   Genre             5816 non-null   object\n",
      " 7   Book type         5816 non-null   object\n",
      " 8   Publication date  5816 non-null   object\n",
      "dtypes: int64(1), object(8)\n",
      "memory usage: 409.1+ KB\n"
     ]
    }
   ],
   "source": [
    "df = df.dropna(axis=1)\n",
    "df[\"Publication date\"] = df[\"Publication date\"].str[-4:]\n",
    "df = df.drop(\"Last updated\", axis=1)\n",
    "df.info()"
   ]
  },
  {
   "cell_type": "code",
   "execution_count": null,
   "metadata": {
    "colab": {},
    "colab_type": "code",
    "id": "4PohX-s7w4Q_"
   },
   "outputs": [],
   "source": [
    "df[\"text\"] = df['title'] + \" \" + df[\"Genre\"] + \" \" + df[\"Book type\"]+ \" \" + df[\"Publication date\"]"
   ]
  },
  {
   "cell_type": "markdown",
   "metadata": {
    "colab_type": "text",
    "id": "a1RnxUyXJZmx"
   },
   "source": [
    "## Create the splits"
   ]
  },
  {
   "cell_type": "code",
   "execution_count": null,
   "metadata": {
    "colab": {},
    "colab_type": "code",
    "id": "M0_-59xOJZmy"
   },
   "outputs": [],
   "source": [
    "def splitter(df):\n",
    "    split = StratifiedShuffleSplit(n_splits=1, test_size=0.2, random_state=999)\n",
    "    for train_index, test_index in split.split(df, df['csm_rating']):\n",
    "        train_data= df.loc[train_index]\n",
    "        test_data = df.loc[test_index]\n",
    "    \n",
    "    \n",
    "    return train_data, test_data"
   ]
  },
  {
   "cell_type": "code",
   "execution_count": null,
   "metadata": {
    "colab": {},
    "colab_type": "code",
    "id": "3wkFIijOJZm4"
   },
   "outputs": [],
   "source": [
    "train_data, test_data = splitter(df)"
   ]
  },
  {
   "cell_type": "code",
   "execution_count": null,
   "metadata": {
    "colab": {},
    "colab_type": "code",
    "id": "YjI0Lfc8JZm9"
   },
   "outputs": [],
   "source": [
    "x_tr, y_tr = train_data['text'].values, train_data[\"csm_rating\"].values\n",
    "x_val, y_val = test_data[\"text\"].values, test_data[\"csm_rating\"].values"
   ]
  },
  {
   "cell_type": "code",
   "execution_count": 9,
   "metadata": {
    "colab": {
     "base_uri": "https://localhost:8080/",
     "height": 34
    },
    "colab_type": "code",
    "id": "64omNypEJZnC",
    "outputId": "d594cbdc-df98-4d98-b774-c91a7d0d2c86"
   },
   "outputs": [
    {
     "name": "stdout",
     "output_type": "stream",
     "text": [
      "(4652,) (4652,)\n"
     ]
    }
   ],
   "source": [
    "print(x_tr.shape, y_tr.shape)"
   ]
  },
  {
   "cell_type": "code",
   "execution_count": 10,
   "metadata": {
    "colab": {
     "base_uri": "https://localhost:8080/",
     "height": 34
    },
    "colab_type": "code",
    "id": "6SCDNHa2JZnJ",
    "outputId": "d434788b-63d8-4217-b0d3-c53404834b7b"
   },
   "outputs": [
    {
     "name": "stdout",
     "output_type": "stream",
     "text": [
      "(1164,) (1164,)\n"
     ]
    }
   ],
   "source": [
    "print(x_val.shape, y_val.shape)"
   ]
  },
  {
   "cell_type": "markdown",
   "metadata": {
    "colab_type": "text",
    "id": "Z1CH5m22JZnO"
   },
   "source": [
    "## Prepare the Data"
   ]
  },
  {
   "cell_type": "code",
   "execution_count": 11,
   "metadata": {
    "colab": {
     "base_uri": "https://localhost:8080/",
     "height": 52
    },
    "colab_type": "code",
    "id": "liitdrp9JZnP",
    "outputId": "2893d5f5-66eb-4b87-a583-b0cf9fdbeedf"
   },
   "outputs": [
    {
     "name": "stdout",
     "output_type": "stream",
     "text": [
      "30\n",
      "4\n"
     ]
    }
   ],
   "source": [
    "#Tokenize the sentences\n",
    "tokenizer = Tokenizer()\n",
    "\n",
    "#preparing vocabulary\n",
    "tokenizer.fit_on_texts(list(x_tr))\n",
    "\n",
    "#converting text into integer sequences\n",
    "x_tr_seq  = tokenizer.texts_to_sequences(x_tr) \n",
    "x_val_seq = tokenizer.texts_to_sequences(x_val)\n",
    "\n",
    "print(len(max(x_tr_seq, key=len)))\n",
    "max_length = len(max(x_tr_seq, key=len))\n",
    "print(len(min(x_tr_seq, key=len)))"
   ]
  },
  {
   "cell_type": "code",
   "execution_count": 12,
   "metadata": {
    "colab": {
     "base_uri": "https://localhost:8080/",
     "height": 52
    },
    "colab_type": "code",
    "id": "nGP4OL9XJZnT",
    "outputId": "fbbb8b59-5685-43a7-a66e-31243a7ddaf7"
   },
   "outputs": [
    {
     "name": "stdout",
     "output_type": "stream",
     "text": [
      "30\n",
      "30\n"
     ]
    }
   ],
   "source": [
    "#padding to prepare sequences of same length\n",
    "x_tr_seq  = pad_sequences(x_tr_seq, maxlen=max_length)\n",
    "x_val_seq = pad_sequences(x_val_seq, maxlen=max_length)\n",
    "print(len(max(x_tr_seq, key=len)))\n",
    "print(len(min(x_tr_seq, key=len)))"
   ]
  },
  {
   "cell_type": "code",
   "execution_count": 13,
   "metadata": {
    "colab": {
     "base_uri": "https://localhost:8080/",
     "height": 34
    },
    "colab_type": "code",
    "id": "NuoM9u8HJZnZ",
    "outputId": "696d1b62-0b48-4a80-e280-3f00351080b3"
   },
   "outputs": [
    {
     "name": "stdout",
     "output_type": "stream",
     "text": [
      "5549\n"
     ]
    }
   ],
   "source": [
    "size_of_vocabulary=len(tokenizer.word_index) + 1 #+1 for padding\n",
    "print(size_of_vocabulary)"
   ]
  },
  {
   "cell_type": "markdown",
   "metadata": {
    "colab_type": "text",
    "id": "ThBDgrP8JZnf"
   },
   "source": [
    "## Create embeddings"
   ]
  },
  {
   "cell_type": "code",
   "execution_count": 14,
   "metadata": {
    "colab": {
     "base_uri": "https://localhost:8080/",
     "height": 34
    },
    "colab_type": "code",
    "id": "VdR43fJQJZng",
    "outputId": "4217d6da-bda4-4fae-dc89-a99352904150"
   },
   "outputs": [
    {
     "name": "stdout",
     "output_type": "stream",
     "text": [
      "Found 5548 unique tokens.\n"
     ]
    }
   ],
   "source": [
    "word_index = tokenizer.word_index\n",
    "print(\"Found %s unique tokens.\" % len(word_index))"
   ]
  },
  {
   "cell_type": "markdown",
   "metadata": {
    "colab_type": "text",
    "id": "uF9AT0LdJZnl"
   },
   "source": [
    "## Create the Model"
   ]
  },
  {
   "cell_type": "code",
   "execution_count": 15,
   "metadata": {
    "colab": {
     "base_uri": "https://localhost:8080/",
     "height": 354
    },
    "colab_type": "code",
    "id": "aUdRk0UDJZnl",
    "outputId": "189eda64-bc5e-43d0-f2e0-4cae7b4f59d9"
   },
   "outputs": [
    {
     "name": "stdout",
     "output_type": "stream",
     "text": [
      "Model: \"sequential\"\n",
      "_________________________________________________________________\n",
      "Layer (type)                 Output Shape              Param #   \n",
      "=================================================================\n",
      "embedding (Embedding)        (None, 30, 300)           1664700   \n",
      "_________________________________________________________________\n",
      "lstm (LSTM)                  (None, 30, 128)           219648    \n",
      "_________________________________________________________________\n",
      "global_max_pooling1d (Global (None, 128)               0         \n",
      "_________________________________________________________________\n",
      "dense (Dense)                (None, 64)                8256      \n",
      "_________________________________________________________________\n",
      "dense_1 (Dense)              (None, 1)                 65        \n",
      "=================================================================\n",
      "Total params: 1,892,669\n",
      "Trainable params: 1,892,669\n",
      "Non-trainable params: 0\n",
      "_________________________________________________________________\n",
      "None\n"
     ]
    }
   ],
   "source": [
    "model=Sequential()\n",
    "\n",
    "#embedding layer\n",
    "model.add(Embedding(size_of_vocabulary,300,input_length=max_length,trainable=True)) \n",
    "\n",
    "#lstm layer\n",
    "model.add(LSTM(128,return_sequences=True,dropout=0.2))\n",
    "\n",
    "#Global Maxpooling\n",
    "model.add(GlobalMaxPooling1D())\n",
    "\n",
    "#Dense Layer\n",
    "model.add(Dense(64,activation='relu')) \n",
    "model.add(Dense(1,activation='relu')) \n",
    "\n",
    "#Add loss function, metrics, optimizer\n",
    "#optimizer = tf.keras.optimizers.RMSprop(0.001)\n",
    "\n",
    "model.compile(optimizer=\"RMSprop\", loss='mean_squared_error', metrics=[\"mae\"]) \n",
    "\n",
    "#Print summary of model\n",
    "print(model.summary())"
   ]
  },
  {
   "cell_type": "markdown",
   "metadata": {
    "colab_type": "text",
    "id": "hKZo_lzaJZnr"
   },
   "source": [
    "## Callbacks"
   ]
  },
  {
   "cell_type": "code",
   "execution_count": null,
   "metadata": {
    "colab": {},
    "colab_type": "code",
    "id": "Kl98dyhkJZns"
   },
   "outputs": [],
   "source": [
    "earlystop = EarlyStopping(patience=10)\n",
    "learning_rate_reduction = ReduceLROnPlateau(monitor='val_mae', \n",
    "                                            patience=2, \n",
    "                                            verbose=1, \n",
    "                                            factor=0.5, \n",
    "                                            min_lr=0.00001)\n",
    "\n",
    "callbacks = [earlystop, learning_rate_reduction]"
   ]
  },
  {
   "cell_type": "markdown",
   "metadata": {
    "colab_type": "text",
    "id": "op3MuPCKJZnx"
   },
   "source": [
    "## Fit the Model"
   ]
  },
  {
   "cell_type": "code",
   "execution_count": 17,
   "metadata": {
    "colab": {
     "base_uri": "https://localhost:8080/",
     "height": 656
    },
    "colab_type": "code",
    "id": "_I34WFwPJZny",
    "outputId": "b65b6347-be37-437f-c240-6d04d5e44e24"
   },
   "outputs": [
    {
     "name": "stdout",
     "output_type": "stream",
     "text": [
      "Epoch 1/1000\n",
      "37/37 [==============================] - 1s 29ms/step - loss: 24.7253 - mae: 4.0348 - val_loss: 15.2841 - val_mae: 3.3200 - lr: 0.0010\n",
      "Epoch 2/1000\n",
      "37/37 [==============================] - 1s 16ms/step - loss: 14.7678 - mae: 3.2595 - val_loss: 13.5878 - val_mae: 3.1245 - lr: 0.0010\n",
      "Epoch 3/1000\n",
      "37/37 [==============================] - 1s 16ms/step - loss: 10.3527 - mae: 2.6895 - val_loss: 7.0825 - val_mae: 2.2592 - lr: 0.0010\n",
      "Epoch 4/1000\n",
      "37/37 [==============================] - 1s 15ms/step - loss: 5.3921 - mae: 1.8436 - val_loss: 4.9923 - val_mae: 1.8051 - lr: 0.0010\n",
      "Epoch 5/1000\n",
      "37/37 [==============================] - 1s 16ms/step - loss: 4.1883 - mae: 1.5747 - val_loss: 4.9372 - val_mae: 1.8319 - lr: 0.0010\n",
      "Epoch 6/1000\n",
      "36/37 [============================>.] - ETA: 0s - loss: 3.4426 - mae: 1.3988\n",
      "Epoch 00006: ReduceLROnPlateau reducing learning rate to 0.0005000000237487257.\n",
      "37/37 [==============================] - 1s 16ms/step - loss: 3.4106 - mae: 1.3956 - val_loss: 5.2461 - val_mae: 1.8406 - lr: 0.0010\n",
      "Epoch 7/1000\n",
      "37/37 [==============================] - 1s 16ms/step - loss: 2.5262 - mae: 1.1702 - val_loss: 5.1230 - val_mae: 1.7862 - lr: 5.0000e-04\n",
      "Epoch 8/1000\n",
      "37/37 [==============================] - 1s 17ms/step - loss: 2.2899 - mae: 1.1052 - val_loss: 5.0428 - val_mae: 1.7710 - lr: 5.0000e-04\n",
      "Epoch 9/1000\n",
      "37/37 [==============================] - 1s 16ms/step - loss: 2.1317 - mae: 1.0461 - val_loss: 5.5313 - val_mae: 1.8304 - lr: 5.0000e-04\n",
      "Epoch 10/1000\n",
      "37/37 [==============================] - 1s 16ms/step - loss: 1.9376 - mae: 0.9845 - val_loss: 5.2399 - val_mae: 1.7703 - lr: 5.0000e-04\n",
      "Epoch 11/1000\n",
      "37/37 [==============================] - 1s 16ms/step - loss: 1.7584 - mae: 0.9259 - val_loss: 5.9269 - val_mae: 1.8734 - lr: 5.0000e-04\n",
      "Epoch 12/1000\n",
      "36/37 [============================>.] - ETA: 0s - loss: 1.6929 - mae: 0.9182\n",
      "Epoch 00012: ReduceLROnPlateau reducing learning rate to 0.0002500000118743628.\n",
      "37/37 [==============================] - 1s 16ms/step - loss: 1.6942 - mae: 0.9193 - val_loss: 5.6019 - val_mae: 1.8315 - lr: 5.0000e-04\n",
      "Epoch 13/1000\n",
      "37/37 [==============================] - 1s 16ms/step - loss: 1.3766 - mae: 0.8049 - val_loss: 5.6339 - val_mae: 1.8451 - lr: 2.5000e-04\n",
      "Epoch 14/1000\n",
      "37/37 [==============================] - ETA: 0s - loss: 1.3089 - mae: 0.7791\n",
      "Epoch 00014: ReduceLROnPlateau reducing learning rate to 0.0001250000059371814.\n",
      "37/37 [==============================] - 1s 16ms/step - loss: 1.3089 - mae: 0.7791 - val_loss: 5.3456 - val_mae: 1.7762 - lr: 2.5000e-04\n",
      "Epoch 15/1000\n",
      "37/37 [==============================] - 1s 16ms/step - loss: 1.2158 - mae: 0.7357 - val_loss: 5.4955 - val_mae: 1.7919 - lr: 1.2500e-04\n"
     ]
    }
   ],
   "source": [
    "history = model.fit(np.array(x_tr_seq),\n",
    "                    np.array(y_tr),\n",
    "                    batch_size=128,\n",
    "                    epochs=1000,\n",
    "                    validation_data=(np.array(x_val_seq),np.array(y_val)),\n",
    "                    verbose=1,\n",
    "                    callbacks=callbacks)"
   ]
  },
  {
   "cell_type": "code",
   "execution_count": 18,
   "metadata": {
    "colab": {
     "base_uri": "https://localhost:8080/",
     "height": 52
    },
    "colab_type": "code",
    "id": "ojMu-A3wJZn4",
    "outputId": "a919b294-5107-4c19-a0a1-5b34fb4d7f83"
   },
   "outputs": [
    {
     "name": "stdout",
     "output_type": "stream",
     "text": [
      "37/37 [==============================] - 0s 3ms/step - loss: 5.6324 - mae: 1.7919\n",
      "The val_mae is 1.792.\n"
     ]
    }
   ],
   "source": [
    "#evaluation \n",
    "val_loss, val_mae = model.evaluate(x_val_seq, y_val)\n",
    "\n",
    "print(\"The val_mae is %.3f.\" % val_mae)"
   ]
  },
  {
   "cell_type": "code",
   "execution_count": 19,
   "metadata": {
    "colab": {
     "base_uri": "https://localhost:8080/",
     "height": 513
    },
    "colab_type": "code",
    "id": "QX82za-8JZn_",
    "outputId": "f012a7c0-0707-456e-c3d8-eef092f3bb29"
   },
   "outputs": [
    {
     "data": {
      "image/png": "[encoded data removed]",
      "text/plain": [
       "<Figure size 432x288 with 1 Axes>"
      ]
     },
     "metadata": {
      "tags": []
     },
     "output_type": "display_data"
    },
    {
     "data": {
      "image/png": "[encoded data removed]",
      "text/plain": [
       "<Figure size 432x288 with 1 Axes>"
      ]
     },
     "metadata": {
      "tags": []
     },
     "output_type": "display_data"
    }
   ],
   "source": [
    "plt.plot(history.history[\"loss\"], label=\"loss\");\n",
    "plt.plot(history.history[\"val_loss\"], label=\"val_loss\");\n",
    "plt.legend();\n",
    "plt.show();\n",
    "plt.close();\n",
    "\n",
    "plt.plot(history.history[\"mae\"], label=\"mae\");\n",
    "plt.plot(history.history[\"val_mae\"], label=\"val_mae\");\n",
    "plt.legend();"
   ]
  },
  {
   "cell_type": "markdown",
   "metadata": {
    "colab_type": "text",
    "id": "QSOY8AH2JZoF"
   },
   "source": [
    "## [Use Transfer Learning](https://www.analyticsvidhya.com/blog/2020/03/pretrained-word-embeddings-nlp/)"
   ]
  },
  {
   "cell_type": "code",
   "execution_count": 20,
   "metadata": {
    "colab": {
     "base_uri": "https://localhost:8080/",
     "height": 34
    },
    "colab_type": "code",
    "id": "GdKeDrv9JZoG",
    "outputId": "f841982a-1f92-4d69-fc9c-1df522d28320"
   },
   "outputs": [
    {
     "name": "stdout",
     "output_type": "stream",
     "text": [
      "Loaded 400000 word vectors.\n"
     ]
    }
   ],
   "source": [
    "# load the whole embedding into memory\n",
    "embeddings_index = dict()\n",
    "\n",
    "with open(\"/content/drive/My Drive/Colab Notebooks/glove.6B/glove.6B.300d.txt\") as f:\n",
    "\n",
    "    for line in f:\n",
    "        values = line.split()\n",
    "        word = values[0]\n",
    "        coefs = np.asarray(values[1:], dtype='float32')\n",
    "        embeddings_index[word] = coefs\n",
    "\n",
    "print('Loaded %s word vectors.' % len(embeddings_index))"
   ]
  },
  {
   "cell_type": "code",
   "execution_count": null,
   "metadata": {
    "colab": {},
    "colab_type": "code",
    "id": "dJqtmI0pJZoL"
   },
   "outputs": [],
   "source": [
    "# create a weight matrix for words in training docs\n",
    "embedding_matrix = np.zeros((size_of_vocabulary, 300))\n",
    "\n",
    "for word, i in tokenizer.word_index.items():\n",
    "    embedding_vector = embeddings_index.get(word)\n",
    "    if embedding_vector is not None:\n",
    "        embedding_matrix[i] = embedding_vector"
   ]
  },
  {
   "cell_type": "code",
   "execution_count": 29,
   "metadata": {
    "colab": {
     "base_uri": "https://localhost:8080/",
     "height": 354
    },
    "colab_type": "code",
    "id": "NGM-hGE4JZoQ",
    "outputId": "ccaff0ae-0404-48b0-dae6-2b6991cdbd18"
   },
   "outputs": [
    {
     "name": "stdout",
     "output_type": "stream",
     "text": [
      "Model: \"sequential_3\"\n",
      "_________________________________________________________________\n",
      "Layer (type)                 Output Shape              Param #   \n",
      "=================================================================\n",
      "embedding_3 (Embedding)      (None, 30, 300)           1664700   \n",
      "_________________________________________________________________\n",
      "lstm_3 (LSTM)                (None, 30, 128)           219648    \n",
      "_________________________________________________________________\n",
      "global_max_pooling1d_3 (Glob (None, 128)               0         \n",
      "_________________________________________________________________\n",
      "dense_6 (Dense)              (None, 64)                8256      \n",
      "_________________________________________________________________\n",
      "dense_7 (Dense)              (None, 1)                 65        \n",
      "=================================================================\n",
      "Total params: 1,892,669\n",
      "Trainable params: 227,969\n",
      "Non-trainable params: 1,664,700\n",
      "_________________________________________________________________\n",
      "None\n"
     ]
    }
   ],
   "source": [
    "model2=Sequential()\n",
    "\n",
    "#embedding layer\n",
    "model2.add(Embedding(size_of_vocabulary,\n",
    "                    300,\n",
    "                    weights=[embedding_matrix],\n",
    "                    input_length=max_length,\n",
    "                    trainable=False)) \n",
    "\n",
    "#lstm layer\n",
    "model2.add(LSTM(128,return_sequences=True,dropout=0.2))\n",
    "\n",
    "#Global Maxpooling\n",
    "model2.add(GlobalMaxPooling1D())\n",
    "\n",
    "#Dense Layer\n",
    "model2.add(Dense(64,activation='relu')) \n",
    "model2.add(Dense(1,activation='relu')) \n",
    "\n",
    "#Add loss function, metrics, optimizer\n",
    "#optimizer = tf.keras.optimizers.RMSprop(0.001)\n",
    "\n",
    "model2.compile(optimizer=\"RMSprop\", loss='mean_squared_error', metrics=[\"mae\"]) \n",
    "\n",
    "#Print summary of model\n",
    "print(model2.summary())"
   ]
  },
  {
   "cell_type": "code",
   "execution_count": 30,
   "metadata": {
    "colab": {
     "base_uri": "https://localhost:8080/",
     "height": 1000
    },
    "colab_type": "code",
    "id": "o4IlOKDvJZoU",
    "outputId": "0e05a373-ad53-43a9-a0cd-cf861b45fd3c"
   },
   "outputs": [
    {
     "name": "stdout",
     "output_type": "stream",
     "text": [
      "Epoch 1/1000\n",
      "37/37 [==============================] - 1s 17ms/step - loss: 18.0535 - mae: 3.3394 - val_loss: 6.5507 - val_mae: 2.0037 - lr: 0.0010\n",
      "Epoch 2/1000\n",
      "37/37 [==============================] - 0s 9ms/step - loss: 5.9946 - mae: 1.9540 - val_loss: 5.1979 - val_mae: 1.7876 - lr: 0.0010\n",
      "Epoch 3/1000\n",
      "37/37 [==============================] - 0s 8ms/step - loss: 5.6456 - mae: 1.8716 - val_loss: 6.0998 - val_mae: 1.9497 - lr: 0.0010\n",
      "Epoch 4/1000\n",
      "32/37 [========================>.....] - ETA: 0s - loss: 5.2239 - mae: 1.7945\n",
      "Epoch 00004: ReduceLROnPlateau reducing learning rate to 0.0005000000237487257.\n",
      "37/37 [==============================] - 0s 8ms/step - loss: 5.2588 - mae: 1.7995 - val_loss: 5.1548 - val_mae: 1.7947 - lr: 0.0010\n",
      "Epoch 5/1000\n",
      "37/37 [==============================] - 0s 8ms/step - loss: 4.6829 - mae: 1.6864 - val_loss: 4.7246 - val_mae: 1.7200 - lr: 5.0000e-04\n",
      "Epoch 6/1000\n",
      "37/37 [==============================] - 0s 8ms/step - loss: 4.4742 - mae: 1.6429 - val_loss: 4.6017 - val_mae: 1.7095 - lr: 5.0000e-04\n",
      "Epoch 7/1000\n",
      "37/37 [==============================] - 0s 9ms/step - loss: 4.3903 - mae: 1.6275 - val_loss: 4.6416 - val_mae: 1.7052 - lr: 5.0000e-04\n",
      "Epoch 8/1000\n",
      "37/37 [==============================] - 0s 9ms/step - loss: 4.2328 - mae: 1.5897 - val_loss: 4.6910 - val_mae: 1.7160 - lr: 5.0000e-04\n",
      "Epoch 9/1000\n",
      "33/37 [=========================>....] - ETA: 0s - loss: 4.1393 - mae: 1.5699\n",
      "Epoch 00009: ReduceLROnPlateau reducing learning rate to 0.0002500000118743628.\n",
      "37/37 [==============================] - 0s 8ms/step - loss: 4.1216 - mae: 1.5578 - val_loss: 4.6734 - val_mae: 1.7188 - lr: 5.0000e-04\n",
      "Epoch 10/1000\n",
      "37/37 [==============================] - 0s 9ms/step - loss: 3.9593 - mae: 1.5233 - val_loss: 4.5495 - val_mae: 1.6865 - lr: 2.5000e-04\n",
      "Epoch 11/1000\n",
      "37/37 [==============================] - 0s 8ms/step - loss: 3.8615 - mae: 1.5069 - val_loss: 4.4046 - val_mae: 1.6583 - lr: 2.5000e-04\n",
      "Epoch 12/1000\n",
      "37/37 [==============================] - 0s 9ms/step - loss: 3.8217 - mae: 1.5009 - val_loss: 4.3884 - val_mae: 1.6609 - lr: 2.5000e-04\n",
      "Epoch 13/1000\n",
      "30/37 [=======================>......] - ETA: 0s - loss: 3.8276 - mae: 1.5011\n",
      "Epoch 00013: ReduceLROnPlateau reducing learning rate to 0.0001250000059371814.\n",
      "37/37 [==============================] - 0s 9ms/step - loss: 3.7875 - mae: 1.4966 - val_loss: 4.5121 - val_mae: 1.6767 - lr: 2.5000e-04\n",
      "Epoch 14/1000\n",
      "37/37 [==============================] - 0s 8ms/step - loss: 3.5494 - mae: 1.4445 - val_loss: 4.4036 - val_mae: 1.6622 - lr: 1.2500e-04\n",
      "Epoch 15/1000\n",
      "37/37 [==============================] - 0s 8ms/step - loss: 3.5388 - mae: 1.4314 - val_loss: 4.4153 - val_mae: 1.6547 - lr: 1.2500e-04\n",
      "Epoch 16/1000\n",
      "37/37 [==============================] - 0s 8ms/step - loss: 3.5150 - mae: 1.4256 - val_loss: 4.4022 - val_mae: 1.6522 - lr: 1.2500e-04\n",
      "Epoch 17/1000\n",
      "37/37 [==============================] - 0s 8ms/step - loss: 3.4727 - mae: 1.4228 - val_loss: 4.5845 - val_mae: 1.6868 - lr: 1.2500e-04\n",
      "Epoch 18/1000\n",
      "34/37 [==========================>...] - ETA: 0s - loss: 3.4252 - mae: 1.4049\n",
      "Epoch 00018: ReduceLROnPlateau reducing learning rate to 6.25000029685907e-05.\n",
      "37/37 [==============================] - 0s 8ms/step - loss: 3.4093 - mae: 1.4081 - val_loss: 4.4236 - val_mae: 1.6602 - lr: 1.2500e-04\n",
      "Epoch 19/1000\n",
      "37/37 [==============================] - 0s 8ms/step - loss: 3.3471 - mae: 1.4011 - val_loss: 4.4323 - val_mae: 1.6563 - lr: 6.2500e-05\n",
      "Epoch 20/1000\n",
      "37/37 [==============================] - 0s 8ms/step - loss: 3.3350 - mae: 1.3985 - val_loss: 4.3928 - val_mae: 1.6516 - lr: 6.2500e-05\n",
      "Epoch 21/1000\n",
      "37/37 [==============================] - 0s 8ms/step - loss: 3.3354 - mae: 1.3849 - val_loss: 4.3878 - val_mae: 1.6505 - lr: 6.2500e-05\n",
      "Epoch 22/1000\n",
      "37/37 [==============================] - 0s 8ms/step - loss: 3.3010 - mae: 1.3839 - val_loss: 4.3774 - val_mae: 1.6485 - lr: 6.2500e-05\n",
      "Epoch 23/1000\n",
      "37/37 [==============================] - 0s 8ms/step - loss: 3.2647 - mae: 1.3738 - val_loss: 4.3896 - val_mae: 1.6548 - lr: 6.2500e-05\n",
      "Epoch 24/1000\n",
      "36/37 [============================>.] - ETA: 0s - loss: 3.2723 - mae: 1.3811\n",
      "Epoch 00024: ReduceLROnPlateau reducing learning rate to 3.125000148429535e-05.\n",
      "37/37 [==============================] - 0s 8ms/step - loss: 3.2756 - mae: 1.3811 - val_loss: 4.4849 - val_mae: 1.6704 - lr: 6.2500e-05\n",
      "Epoch 25/1000\n",
      "37/37 [==============================] - 0s 8ms/step - loss: 3.2850 - mae: 1.3852 - val_loss: 4.4397 - val_mae: 1.6616 - lr: 3.1250e-05\n",
      "Epoch 26/1000\n",
      "36/37 [============================>.] - ETA: 0s - loss: 3.2829 - mae: 1.3818\n",
      "Epoch 00026: ReduceLROnPlateau reducing learning rate to 1.5625000742147677e-05.\n",
      "37/37 [==============================] - 0s 8ms/step - loss: 3.2495 - mae: 1.3790 - val_loss: 4.4018 - val_mae: 1.6542 - lr: 3.1250e-05\n",
      "Epoch 27/1000\n",
      "37/37 [==============================] - 0s 8ms/step - loss: 3.2408 - mae: 1.3624 - val_loss: 4.4021 - val_mae: 1.6543 - lr: 1.5625e-05\n",
      "Epoch 28/1000\n",
      "36/37 [============================>.] - ETA: 0s - loss: 3.1961 - mae: 1.3651\n",
      "Epoch 00028: ReduceLROnPlateau reducing learning rate to 1e-05.\n",
      "37/37 [==============================] - 0s 8ms/step - loss: 3.1737 - mae: 1.3629 - val_loss: 4.4311 - val_mae: 1.6593 - lr: 1.5625e-05\n",
      "Epoch 29/1000\n",
      "37/37 [==============================] - 0s 8ms/step - loss: 3.1491 - mae: 1.3512 - val_loss: 4.4232 - val_mae: 1.6578 - lr: 1.0000e-05\n",
      "Epoch 30/1000\n",
      "37/37 [==============================] - 0s 8ms/step - loss: 3.2499 - mae: 1.3675 - val_loss: 4.4373 - val_mae: 1.6601 - lr: 1.0000e-05\n",
      "Epoch 31/1000\n",
      "37/37 [==============================] - 0s 8ms/step - loss: 3.2108 - mae: 1.3652 - val_loss: 4.4259 - val_mae: 1.6580 - lr: 1.0000e-05\n",
      "Epoch 32/1000\n",
      "37/37 [==============================] - 0s 8ms/step - loss: 3.1803 - mae: 1.3559 - val_loss: 4.4176 - val_mae: 1.6565 - lr: 1.0000e-05\n"
     ]
    }
   ],
   "source": [
    "history2 = model2.fit(np.array(x_tr_seq),\n",
    "                    np.array(y_tr),\n",
    "                    batch_size=128,\n",
    "                    epochs=1000,\n",
    "                    validation_data=(np.array(x_val_seq),np.array(y_val)),\n",
    "                    verbose=1,\n",
    "                    callbacks=callbacks)"
   ]
  },
  {
   "cell_type": "code",
   "execution_count": 31,
   "metadata": {
    "colab": {
     "base_uri": "https://localhost:8080/",
     "height": 52
    },
    "colab_type": "code",
    "id": "88gF08odJZoY",
    "outputId": "ba2fd315-0554-44e4-d700-fdd4a85156cc"
   },
   "outputs": [
    {
     "name": "stdout",
     "output_type": "stream",
     "text": [
      "37/37 [==============================] - 0s 3ms/step - loss: 4.5918 - mae: 1.6565\n",
      "The val_mae is 1.657.\n"
     ]
    }
   ],
   "source": [
    "#evaluation \n",
    "_, val_mae = model2.evaluate(x_val_seq, y_val)\n",
    "\n",
    "print(\"The val_mae is %.3f.\" % val_mae)"
   ]
  },
  {
   "cell_type": "code",
   "execution_count": 32,
   "metadata": {
    "colab": {
     "base_uri": "https://localhost:8080/",
     "height": 34
    },
    "colab_type": "code",
    "id": "VjHaGr87fXHA",
    "outputId": "337e83e0-03ea-42bc-ef06-57b4504e96aa"
   },
   "outputs": [
    {
     "name": "stdout",
     "output_type": "stream",
     "text": [
      "INFO:tensorflow:Assets written to: /content/drive/My Drive/final_project/lstm_title/assets\n"
     ]
    }
   ],
   "source": [
    "model2.save('/content/drive/My Drive/final_project/lstm_title')"
   ]
  },
  {
   "cell_type": "code",
   "execution_count": 33,
   "metadata": {
    "colab": {
     "base_uri": "https://localhost:8080/",
     "height": 513
    },
    "colab_type": "code",
    "id": "FY3cjzn3JZoe",
    "outputId": "8c95229b-9fb8-48c3-b08d-7454bc369cc5"
   },
   "outputs": [
    {
     "data": {
      "image/png": "[encoded data removed]",
      "text/plain": [
       "<Figure size 432x288 with 1 Axes>"
      ]
     },
     "metadata": {
      "tags": []
     },
     "output_type": "display_data"
    },
    {
     "data": {
      "image/png": "[encoded data removed]",
      "text/plain": [
       "<Figure size 432x288 with 1 Axes>"
      ]
     },
     "metadata": {
      "tags": []
     },
     "output_type": "display_data"
    }
   ],
   "source": [
    "plt.plot(history2.history[\"loss\"], label=\"loss\");\n",
    "plt.plot(history2.history[\"val_loss\"], label=\"val_loss\");\n",
    "plt.legend();\n",
    "plt.show();\n",
    "plt.close();\n",
    "\n",
    "plt.plot(history2.history[\"mae\"], label=\"mae\");\n",
    "plt.plot(history2.history[\"val_mae\"], label=\"val_mae\");\n",
    "plt.legend();"
   ]
  },
  {
   "cell_type": "code",
   "execution_count": null,
   "metadata": {
    "colab": {},
    "colab_type": "code",
    "id": "3wPhkh6PPdSa"
   },
   "outputs": [],
   "source": [
    "a = model2.predict(x_val_seq)\n",
    "b = model2.predict(x_val_seq)\n",
    "\n",
    "predictions_df = pd.DataFrame({\"title_custom\": list(a), \"title_transfer\": list(b)},\n",
    "                              columns = [\"title_custom\", \"title_transfer\"], \n",
    "                              index=test_data.index)\n",
    "\n",
    "predictions_df.to_csv('/content/drive/My Drive/final_project/lstm_title.csv', index=\"False\")\n"
   ]
  },
  {
   "cell_type": "code",
   "execution_count": null,
   "metadata": {
    "colab": {},
    "colab_type": "code",
    "id": "pfxICpfWuCpB"
   },
   "outputs": [],
   "source": []
  }
 ],
 "metadata": {
  "accelerator": "GPU",
  "colab": {
   "collapsed_sections": [],
   "name": "14_lstm_title.ipynb",
   "provenance": []
  },
  "kernelspec": {
   "display_name": "Python 3",
   "language": "python",
   "name": "python3"
  },
  "language_info": {
   "codemirror_mode": {
    "name": "ipython",
    "version": 3
   },
   "file_extension": ".py",
   "mimetype": "text/x-python",
   "name": "python",
   "nbconvert_exporter": "python",
   "pygments_lexer": "ipython3",
   "version": "3.7.4"
  }
 },
 "nbformat": 4,
 "nbformat_minor": 4
}
