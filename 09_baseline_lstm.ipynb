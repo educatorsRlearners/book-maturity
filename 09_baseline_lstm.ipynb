{
 "cells": [
  {
   "cell_type": "code",
   "execution_count": 1,
   "metadata": {},
   "outputs": [
    {
     "name": "stderr",
     "output_type": "stream",
     "text": [
      "Using TensorFlow backend.\n"
     ]
    }
   ],
   "source": [
    "import pandas as pd\n",
    "import numpy as np\n",
    "import tensorflow as tf\n",
    "from math import sqrt\n",
    "\n",
    "from sklearn.model_selection import StratifiedShuffleSplit\n",
    "from keras.preprocessing.text import Tokenizer\n",
    "from keras.preprocessing.sequence import pad_sequences\n",
    "\n",
    "import matplotlib.pyplot as plt\n",
    "\n",
    "from keras.models import Sequential\n",
    "from keras.layers import Embedding\n",
    "from keras.layers import LSTM\n",
    "from keras.layers import Activation\n",
    "from keras.layers import Dense\n",
    "from keras.layers import Input\n",
    "from keras.layers import GlobalMaxPooling1D\n",
    "from keras.callbacks import ReduceLROnPlateau\n",
    "from keras.callbacks import EarlyStopping"
   ]
  },
  {
   "cell_type": "code",
   "execution_count": 2,
   "metadata": {},
   "outputs": [],
   "source": [
    "#Run Local\n",
    "df = pd.read_csv(\"csv/book_info_complete.csv\")\n",
    "#Run on COLAB\n",
    "#df = pd.read_csv(\"/content/drive/My Drive/final_project/book_info_complete.csv\")"
   ]
  },
  {
   "cell_type": "code",
   "execution_count": 3,
   "metadata": {},
   "outputs": [
    {
     "name": "stdout",
     "output_type": "stream",
     "text": [
      "<class 'pandas.core.frame.DataFrame'>\n",
      "RangeIndex: 5816 entries, 0 to 5815\n",
      "Data columns (total 9 columns):\n",
      "title               5816 non-null object\n",
      "description         5816 non-null object\n",
      "plot                5816 non-null object\n",
      "csm_review          5816 non-null object\n",
      "need_to_know        5816 non-null object\n",
      "csm_rating          5816 non-null int64\n",
      "Genre               5816 non-null object\n",
      "Book type           5816 non-null object\n",
      "Publication date    5816 non-null int64\n",
      "dtypes: int64(2), object(7)\n",
      "memory usage: 409.1+ KB\n"
     ]
    }
   ],
   "source": [
    "df = df.dropna(axis=1)\n",
    "df[\"Publication date\"] = df[\"Publication date\"].str[-4:].astype(int)\n",
    "df = df.drop(\"Last updated\", axis=1)\n",
    "df.info()"
   ]
  },
  {
   "cell_type": "code",
   "execution_count": 4,
   "metadata": {},
   "outputs": [
    {
     "data": {
      "text/plain": [
       "\"Luminous story of pregnant teen's summer in Spain.\""
      ]
     },
     "execution_count": 4,
     "metadata": {},
     "output_type": "execute_result"
    }
   ],
   "source": [
    "df.loc[1, \"description\"]"
   ]
  },
  {
   "cell_type": "markdown",
   "metadata": {},
   "source": [
    "## Create the splits"
   ]
  },
  {
   "cell_type": "code",
   "execution_count": 5,
   "metadata": {},
   "outputs": [],
   "source": [
    "def splitter(df):\n",
    "    split = StratifiedShuffleSplit(n_splits=1, test_size=0.2, random_state=999)\n",
    "    for train_index, test_index in split.split(df, df['csm_rating']):\n",
    "        train_data= df.loc[train_index]\n",
    "        test_data = df.loc[test_index]\n",
    "    \n",
    "    \n",
    "    return train_data, test_data"
   ]
  },
  {
   "cell_type": "code",
   "execution_count": 6,
   "metadata": {},
   "outputs": [],
   "source": [
    "train_data, test_data = splitter(df)"
   ]
  },
  {
   "cell_type": "code",
   "execution_count": 7,
   "metadata": {},
   "outputs": [],
   "source": [
    "x_tr, y_tr = train_data['description'].values, train_data[\"csm_rating\"].values\n",
    "x_val, y_val = test_data[\"description\"].values, test_data[\"csm_rating\"].values"
   ]
  },
  {
   "cell_type": "code",
   "execution_count": 8,
   "metadata": {},
   "outputs": [
    {
     "name": "stdout",
     "output_type": "stream",
     "text": [
      "(4652,) (4652,)\n"
     ]
    }
   ],
   "source": [
    "print(x_tr.shape, y_tr.shape)"
   ]
  },
  {
   "cell_type": "code",
   "execution_count": 9,
   "metadata": {},
   "outputs": [
    {
     "name": "stdout",
     "output_type": "stream",
     "text": [
      "(1164,) (1164,)\n"
     ]
    }
   ],
   "source": [
    "print(x_val.shape, y_val.shape)"
   ]
  },
  {
   "cell_type": "markdown",
   "metadata": {},
   "source": [
    "## Prepare the Data"
   ]
  },
  {
   "cell_type": "code",
   "execution_count": 10,
   "metadata": {},
   "outputs": [
    {
     "name": "stdout",
     "output_type": "stream",
     "text": [
      "14\n",
      "4\n"
     ]
    }
   ],
   "source": [
    "#Tokenize the sentences\n",
    "tokenizer = Tokenizer()\n",
    "\n",
    "#preparing vocabulary\n",
    "tokenizer.fit_on_texts(list(x_tr))\n",
    "\n",
    "#converting text into integer sequences\n",
    "x_tr_seq  = tokenizer.texts_to_sequences(x_tr) \n",
    "x_val_seq = tokenizer.texts_to_sequences(x_val)\n",
    "\n",
    "print(len(max(x_tr_seq, key=len)))\n",
    "print(len(min(x_tr_seq, key=len)))"
   ]
  },
  {
   "cell_type": "code",
   "execution_count": 11,
   "metadata": {},
   "outputs": [
    {
     "name": "stdout",
     "output_type": "stream",
     "text": [
      "14\n",
      "14\n"
     ]
    }
   ],
   "source": [
    "#padding to prepare sequences of same length\n",
    "x_tr_seq  = pad_sequences(x_tr_seq, maxlen=14)\n",
    "x_val_seq = pad_sequences(x_val_seq, maxlen=14)\n",
    "print(len(max(x_tr_seq, key=len)))\n",
    "print(len(min(x_tr_seq, key=len)))"
   ]
  },
  {
   "cell_type": "code",
   "execution_count": 12,
   "metadata": {},
   "outputs": [
    {
     "data": {
      "text/plain": [
       "array([   0,    0,    0,    0,    0,    0,    0,    5,  114,    3,   15,\n",
       "         29,   33, 1039], dtype=int32)"
      ]
     },
     "execution_count": 12,
     "metadata": {},
     "output_type": "execute_result"
    }
   ],
   "source": [
    "x_tr_seq[1]"
   ]
  },
  {
   "cell_type": "code",
   "execution_count": 13,
   "metadata": {},
   "outputs": [],
   "source": [
    "max_length = len(max(x_tr_seq, key=len))"
   ]
  },
  {
   "cell_type": "code",
   "execution_count": 14,
   "metadata": {},
   "outputs": [
    {
     "name": "stdout",
     "output_type": "stream",
     "text": [
      "5799\n"
     ]
    }
   ],
   "source": [
    "size_of_vocabulary=len(tokenizer.word_index) + 1 #+1 for padding\n",
    "print(size_of_vocabulary)"
   ]
  },
  {
   "cell_type": "markdown",
   "metadata": {},
   "source": [
    "## Create embeddings"
   ]
  },
  {
   "cell_type": "code",
   "execution_count": 15,
   "metadata": {},
   "outputs": [
    {
     "name": "stdout",
     "output_type": "stream",
     "text": [
      "Found 5798 unique tokens.\n"
     ]
    }
   ],
   "source": [
    "word_index = tokenizer.word_index\n",
    "print(\"Found %s unique tokens.\" % len(word_index))"
   ]
  },
  {
   "cell_type": "markdown",
   "metadata": {},
   "source": [
    "## Create the Model"
   ]
  },
  {
   "cell_type": "code",
   "execution_count": 16,
   "metadata": {},
   "outputs": [
    {
     "name": "stdout",
     "output_type": "stream",
     "text": [
      "Model: \"sequential_1\"\n",
      "_________________________________________________________________\n",
      "Layer (type)                 Output Shape              Param #   \n",
      "=================================================================\n",
      "embedding_1 (Embedding)      (None, 14, 300)           1739700   \n",
      "_________________________________________________________________\n",
      "lstm_1 (LSTM)                (None, 14, 128)           219648    \n",
      "_________________________________________________________________\n",
      "global_max_pooling1d_1 (Glob (None, 128)               0         \n",
      "_________________________________________________________________\n",
      "dense_1 (Dense)              (None, 64)                8256      \n",
      "_________________________________________________________________\n",
      "dense_2 (Dense)              (None, 1)                 65        \n",
      "=================================================================\n",
      "Total params: 1,967,669\n",
      "Trainable params: 1,967,669\n",
      "Non-trainable params: 0\n",
      "_________________________________________________________________\n",
      "None\n"
     ]
    }
   ],
   "source": [
    "model=Sequential()\n",
    "\n",
    "#embedding layer\n",
    "model.add(Embedding(size_of_vocabulary,300,input_length=max_length,trainable=True)) \n",
    "\n",
    "#lstm layer\n",
    "model.add(LSTM(128,return_sequences=True,dropout=0.2))\n",
    "\n",
    "#Global Maxpooling\n",
    "model.add(GlobalMaxPooling1D())\n",
    "\n",
    "#Dense Layer\n",
    "model.add(Dense(64,activation='relu')) \n",
    "model.add(Dense(1,activation='relu')) \n",
    "\n",
    "#Add loss function, metrics, optimizer\n",
    "#optimizer = tf.keras.optimizers.RMSprop(0.001)\n",
    "\n",
    "model.compile(optimizer=\"RMSprop\", loss='mean_squared_error', metrics=[\"mae\"]) \n",
    "\n",
    "#Print summary of model\n",
    "print(model.summary())"
   ]
  },
  {
   "cell_type": "markdown",
   "metadata": {},
   "source": [
    "## Callbacks"
   ]
  },
  {
   "cell_type": "code",
   "execution_count": 17,
   "metadata": {},
   "outputs": [],
   "source": [
    "earlystop = EarlyStopping(patience=10)\n",
    "learning_rate_reduction = ReduceLROnPlateau(monitor='val_mae', \n",
    "                                            patience=2, \n",
    "                                            verbose=1, \n",
    "                                            factor=0.5, \n",
    "                                            min_lr=0.00001)\n",
    "\n",
    "callbacks = [earlystop, learning_rate_reduction]"
   ]
  },
  {
   "cell_type": "markdown",
   "metadata": {},
   "source": [
    "## Fit the Model"
   ]
  },
  {
   "cell_type": "code",
   "execution_count": 18,
   "metadata": {},
   "outputs": [
    {
     "name": "stderr",
     "output_type": "stream",
     "text": [
      "/home/evan/anaconda3/lib/python3.7/site-packages/tensorflow_core/python/framework/indexed_slices.py:433: UserWarning: Converting sparse IndexedSlices to a dense Tensor of unknown shape. This may consume a large amount of memory.\n",
      "  \"Converting sparse IndexedSlices to a dense Tensor of unknown shape. \"\n"
     ]
    },
    {
     "name": "stdout",
     "output_type": "stream",
     "text": [
      "Train on 4652 samples, validate on 1164 samples\n",
      "Epoch 1/1000\n",
      "4652/4652 [==============================] - 3s 738us/step - loss: 24.3774 - mae: 3.9477 - val_loss: 13.8948 - val_mae: 3.1549\n",
      "Epoch 2/1000\n",
      "4652/4652 [==============================] - 2s 484us/step - loss: 11.4385 - mae: 2.8053 - val_loss: 17.1394 - val_mae: 3.3137\n",
      "Epoch 3/1000\n",
      "4652/4652 [==============================] - 3s 576us/step - loss: 6.7773 - mae: 2.0764 - val_loss: 8.8575 - val_mae: 2.4038\n",
      "Epoch 4/1000\n",
      "4652/4652 [==============================] - 2s 507us/step - loss: 5.0800 - mae: 1.7737 - val_loss: 6.9498 - val_mae: 2.1248\n",
      "Epoch 5/1000\n",
      "4652/4652 [==============================] - 2s 498us/step - loss: 4.1994 - mae: 1.6004 - val_loss: 6.9846 - val_mae: 2.1129\n",
      "Epoch 6/1000\n",
      "4652/4652 [==============================] - 2s 482us/step - loss: 3.5799 - mae: 1.4683 - val_loss: 6.7294 - val_mae: 2.0509\n",
      "Epoch 7/1000\n",
      "4652/4652 [==============================] - 2s 467us/step - loss: 3.0312 - mae: 1.3504 - val_loss: 7.1089 - val_mae: 2.1000\n",
      "Epoch 8/1000\n",
      "4652/4652 [==============================] - 2s 482us/step - loss: 2.6479 - mae: 1.2535 - val_loss: 6.4742 - val_mae: 1.9810\n",
      "Epoch 9/1000\n",
      "4652/4652 [==============================] - 2s 474us/step - loss: 2.5371 - mae: 1.2222 - val_loss: 7.6355 - val_mae: 2.1613\n",
      "Epoch 10/1000\n",
      "4652/4652 [==============================] - 2s 479us/step - loss: 2.1911 - mae: 1.1217 - val_loss: 7.5215 - val_mae: 2.1421\n",
      "\n",
      "Epoch 00010: ReduceLROnPlateau reducing learning rate to 0.0005000000237487257.\n",
      "Epoch 11/1000\n",
      "4652/4652 [==============================] - 2s 478us/step - loss: 1.5764 - mae: 0.9282 - val_loss: 6.6115 - val_mae: 1.9938\n",
      "Epoch 12/1000\n",
      "4652/4652 [==============================] - 2s 469us/step - loss: 1.4588 - mae: 0.8850 - val_loss: 6.8631 - val_mae: 2.0355\n",
      "\n",
      "Epoch 00012: ReduceLROnPlateau reducing learning rate to 0.0002500000118743628.\n",
      "Epoch 13/1000\n",
      "4652/4652 [==============================] - 2s 468us/step - loss: 1.2406 - mae: 0.7994 - val_loss: 6.7648 - val_mae: 2.0207\n",
      "Epoch 14/1000\n",
      "4652/4652 [==============================] - 2s 479us/step - loss: 1.1882 - mae: 0.7747 - val_loss: 6.8071 - val_mae: 2.0209\n",
      "\n",
      "Epoch 00014: ReduceLROnPlateau reducing learning rate to 0.0001250000059371814.\n",
      "Epoch 15/1000\n",
      "4652/4652 [==============================] - 2s 477us/step - loss: 1.0980 - mae: 0.7323 - val_loss: 7.0609 - val_mae: 2.0647\n",
      "Epoch 16/1000\n",
      "4652/4652 [==============================] - 2s 488us/step - loss: 1.0818 - mae: 0.7230 - val_loss: 6.9302 - val_mae: 2.0434\n",
      "\n",
      "Epoch 00016: ReduceLROnPlateau reducing learning rate to 6.25000029685907e-05.\n",
      "Epoch 17/1000\n",
      "4652/4652 [==============================] - 2s 528us/step - loss: 1.0310 - mae: 0.6974 - val_loss: 6.9612 - val_mae: 2.0458\n",
      "Epoch 18/1000\n",
      "4652/4652 [==============================] - 2s 466us/step - loss: 1.0125 - mae: 0.6891 - val_loss: 6.9493 - val_mae: 2.0452\n",
      "\n",
      "Epoch 00018: ReduceLROnPlateau reducing learning rate to 3.125000148429535e-05.\n"
     ]
    }
   ],
   "source": [
    "history = model.fit(np.array(x_tr_seq),\n",
    "                    np.array(y_tr),\n",
    "                    batch_size=128,\n",
    "                    epochs=1000,\n",
    "                    validation_data=(np.array(x_val_seq),np.array(y_val)),\n",
    "                    verbose=1,\n",
    "                    callbacks=callbacks)"
   ]
  },
  {
   "cell_type": "code",
   "execution_count": 19,
   "metadata": {},
   "outputs": [
    {
     "name": "stdout",
     "output_type": "stream",
     "text": [
      "1164/1164 [==============================] - 0s 194us/step\n",
      "The val_mae is 2.045.\n"
     ]
    }
   ],
   "source": [
    "#evaluation \n",
    "val_loss, val_mae = model.evaluate(x_val_seq, y_val)\n",
    "\n",
    "print(\"The val_mae is %.3f.\" % val_mae)"
   ]
  },
  {
   "cell_type": "code",
   "execution_count": 20,
   "metadata": {},
   "outputs": [
    {
     "data": {
      "image/png": "[encoded data removed]",
      "text/plain": [
       "<Figure size 432x288 with 1 Axes>"
      ]
     },
     "metadata": {
      "needs_background": "light"
     },
     "output_type": "display_data"
    },
    {
     "data": {
      "image/png": "[encoded data removed]",
      "text/plain": [
       "<Figure size 432x288 with 1 Axes>"
      ]
     },
     "metadata": {
      "needs_background": "light"
     },
     "output_type": "display_data"
    }
   ],
   "source": [
    "plt.plot(model.history.history[\"loss\"], label=\"loss\");\n",
    "plt.plot(model.history.history[\"val_loss\"], label=\"val_loss\");\n",
    "plt.legend();\n",
    "plt.show();\n",
    "plt.close();\n",
    "\n",
    "plt.plot(model.history.history[\"mae\"], label=\"mae\");\n",
    "plt.plot(model.history.history[\"val_mae\"], label=\"val_mae\");\n",
    "plt.legend();"
   ]
  },
  {
   "cell_type": "markdown",
   "metadata": {},
   "source": [
    "## [Use Transfer Learning](https://www.analyticsvidhya.com/blog/2020/03/pretrained-word-embeddings-nlp/)"
   ]
  },
  {
   "cell_type": "code",
   "execution_count": 21,
   "metadata": {},
   "outputs": [
    {
     "name": "stdout",
     "output_type": "stream",
     "text": [
      "Loaded 400000 word vectors.\n"
     ]
    }
   ],
   "source": [
    "# load the whole embedding into memory\n",
    "embeddings_index = dict()\n",
    "\n",
    "with open(\"glove/glove.6B.300d.txt\") as f:\n",
    "\n",
    "    for line in f:\n",
    "        values = line.split()\n",
    "        word = values[0]\n",
    "        coefs = np.asarray(values[1:], dtype='float32')\n",
    "        embeddings_index[word] = coefs\n",
    "\n",
    "print('Loaded %s word vectors.' % len(embeddings_index))"
   ]
  },
  {
   "cell_type": "code",
   "execution_count": 22,
   "metadata": {},
   "outputs": [],
   "source": [
    "# create a weight matrix for words in training docs\n",
    "embedding_matrix = np.zeros((size_of_vocabulary, 300))\n",
    "\n",
    "for word, i in tokenizer.word_index.items():\n",
    "    embedding_vector = embeddings_index.get(word)\n",
    "    if embedding_vector is not None:\n",
    "        embedding_matrix[i] = embedding_vector"
   ]
  },
  {
   "cell_type": "code",
   "execution_count": 23,
   "metadata": {},
   "outputs": [
    {
     "name": "stdout",
     "output_type": "stream",
     "text": [
      "Model: \"sequential_2\"\n",
      "_________________________________________________________________\n",
      "Layer (type)                 Output Shape              Param #   \n",
      "=================================================================\n",
      "embedding_2 (Embedding)      (None, 14, 300)           1739700   \n",
      "_________________________________________________________________\n",
      "lstm_2 (LSTM)                (None, 14, 128)           219648    \n",
      "_________________________________________________________________\n",
      "global_max_pooling1d_2 (Glob (None, 128)               0         \n",
      "_________________________________________________________________\n",
      "dense_3 (Dense)              (None, 64)                8256      \n",
      "_________________________________________________________________\n",
      "dense_4 (Dense)              (None, 1)                 65        \n",
      "=================================================================\n",
      "Total params: 1,967,669\n",
      "Trainable params: 227,969\n",
      "Non-trainable params: 1,739,700\n",
      "_________________________________________________________________\n",
      "None\n"
     ]
    }
   ],
   "source": [
    "model=Sequential()\n",
    "\n",
    "#embedding layer\n",
    "model.add(Embedding(size_of_vocabulary,\n",
    "                    300,\n",
    "                    weights=[embedding_matrix],\n",
    "                    input_length=max_length,\n",
    "                    trainable=False)) \n",
    "\n",
    "#lstm layer\n",
    "model.add(LSTM(128,return_sequences=True,dropout=0.2))\n",
    "\n",
    "#Global Maxpooling\n",
    "model.add(GlobalMaxPooling1D())\n",
    "\n",
    "#Dense Layer\n",
    "model.add(Dense(64,activation='relu')) \n",
    "model.add(Dense(1,activation='relu')) \n",
    "\n",
    "model.compile(optimizer=\"RMSprop\", loss='mean_squared_error', metrics=[\"mae\"]) \n",
    "\n",
    "#Print summary of model\n",
    "print(model.summary())"
   ]
  },
  {
   "cell_type": "code",
   "execution_count": 24,
   "metadata": {},
   "outputs": [
    {
     "name": "stdout",
     "output_type": "stream",
     "text": [
      "Train on 4652 samples, validate on 1164 samples\n",
      "Epoch 1/1000\n",
      "4652/4652 [==============================] - 2s 514us/step - loss: 19.6867 - mae: 3.4965 - val_loss: 8.5701 - val_mae: 2.3782\n",
      "Epoch 2/1000\n",
      "4652/4652 [==============================] - 1s 285us/step - loss: 7.7170 - mae: 2.2242 - val_loss: 7.6070 - val_mae: 2.1973\n",
      "Epoch 3/1000\n",
      "4652/4652 [==============================] - 2s 360us/step - loss: 7.0111 - mae: 2.0968 - val_loss: 7.8980 - val_mae: 2.1984\n",
      "Epoch 4/1000\n",
      "4652/4652 [==============================] - 2s 352us/step - loss: 6.5527 - mae: 2.0195 - val_loss: 7.1523 - val_mae: 2.0933\n",
      "Epoch 5/1000\n",
      "4652/4652 [==============================] - 2s 331us/step - loss: 6.2012 - mae: 1.9522 - val_loss: 7.8042 - val_mae: 2.2389\n",
      "Epoch 6/1000\n",
      "4652/4652 [==============================] - 1s 299us/step - loss: 5.9721 - mae: 1.9210 - val_loss: 6.4697 - val_mae: 1.9965\n",
      "Epoch 7/1000\n",
      "4652/4652 [==============================] - 1s 298us/step - loss: 5.5651 - mae: 1.8556 - val_loss: 6.7753 - val_mae: 2.0436\n",
      "Epoch 8/1000\n",
      "4652/4652 [==============================] - 1s 304us/step - loss: 5.5614 - mae: 1.8435 - val_loss: 6.6136 - val_mae: 2.0282\n",
      "\n",
      "Epoch 00008: ReduceLROnPlateau reducing learning rate to 0.0005000000237487257.\n",
      "Epoch 9/1000\n",
      "4652/4652 [==============================] - 1s 292us/step - loss: 4.9058 - mae: 1.7378 - val_loss: 6.1703 - val_mae: 1.9540\n",
      "Epoch 10/1000\n",
      "4652/4652 [==============================] - 1s 289us/step - loss: 4.7331 - mae: 1.6931 - val_loss: 7.0706 - val_mae: 2.0845\n",
      "Epoch 11/1000\n",
      "4652/4652 [==============================] - 1s 292us/step - loss: 4.6993 - mae: 1.6797 - val_loss: 6.4881 - val_mae: 2.0031\n",
      "\n",
      "Epoch 00011: ReduceLROnPlateau reducing learning rate to 0.0002500000118743628.\n",
      "Epoch 12/1000\n",
      "4652/4652 [==============================] - 1s 310us/step - loss: 4.3697 - mae: 1.6324 - val_loss: 6.0440 - val_mae: 1.9232\n",
      "Epoch 13/1000\n",
      "4652/4652 [==============================] - 1s 297us/step - loss: 4.2990 - mae: 1.6199 - val_loss: 6.1135 - val_mae: 1.9355\n",
      "Epoch 14/1000\n",
      "4652/4652 [==============================] - 1s 310us/step - loss: 4.2293 - mae: 1.6003 - val_loss: 5.9969 - val_mae: 1.9137\n",
      "Epoch 15/1000\n",
      "4652/4652 [==============================] - 1s 292us/step - loss: 4.1560 - mae: 1.5877 - val_loss: 6.0385 - val_mae: 1.9187\n",
      "Epoch 16/1000\n",
      "4652/4652 [==============================] - 1s 296us/step - loss: 4.0929 - mae: 1.5747 - val_loss: 6.0013 - val_mae: 1.9110\n",
      "Epoch 17/1000\n",
      "4652/4652 [==============================] - 2s 338us/step - loss: 4.0298 - mae: 1.5670 - val_loss: 5.9626 - val_mae: 1.9081\n",
      "Epoch 18/1000\n",
      "4652/4652 [==============================] - 1s 290us/step - loss: 3.9636 - mae: 1.5464 - val_loss: 5.9491 - val_mae: 1.9046\n",
      "Epoch 19/1000\n",
      "4652/4652 [==============================] - 1s 291us/step - loss: 3.8961 - mae: 1.5381 - val_loss: 6.0595 - val_mae: 1.9196\n",
      "Epoch 20/1000\n",
      "4652/4652 [==============================] - 1s 292us/step - loss: 3.7866 - mae: 1.5160 - val_loss: 5.9267 - val_mae: 1.9009\n",
      "Epoch 21/1000\n",
      "4652/4652 [==============================] - 1s 289us/step - loss: 3.7740 - mae: 1.5130 - val_loss: 5.9491 - val_mae: 1.9016\n",
      "Epoch 22/1000\n",
      "4652/4652 [==============================] - 1s 297us/step - loss: 3.6469 - mae: 1.4899 - val_loss: 5.9650 - val_mae: 1.8963\n",
      "Epoch 23/1000\n",
      "4652/4652 [==============================] - 1s 291us/step - loss: 3.6456 - mae: 1.4863 - val_loss: 5.9707 - val_mae: 1.9045\n",
      "Epoch 24/1000\n",
      "4652/4652 [==============================] - 1s 291us/step - loss: 3.5677 - mae: 1.4737 - val_loss: 5.9651 - val_mae: 1.9003\n",
      "\n",
      "Epoch 00024: ReduceLROnPlateau reducing learning rate to 0.0001250000059371814.\n",
      "Epoch 25/1000\n",
      "4652/4652 [==============================] - 1s 299us/step - loss: 3.4613 - mae: 1.4499 - val_loss: 5.9356 - val_mae: 1.8946\n",
      "Epoch 26/1000\n",
      "4652/4652 [==============================] - 1s 301us/step - loss: 3.4263 - mae: 1.4376 - val_loss: 6.0432 - val_mae: 1.9119\n",
      "Epoch 27/1000\n",
      "4652/4652 [==============================] - 1s 291us/step - loss: 3.4209 - mae: 1.4440 - val_loss: 5.9282 - val_mae: 1.8963\n",
      "\n",
      "Epoch 00027: ReduceLROnPlateau reducing learning rate to 6.25000029685907e-05.\n",
      "Epoch 28/1000\n",
      "4652/4652 [==============================] - 1s 294us/step - loss: 3.3281 - mae: 1.4302 - val_loss: 5.9377 - val_mae: 1.8977\n",
      "Epoch 29/1000\n",
      "4652/4652 [==============================] - 2s 334us/step - loss: 3.2681 - mae: 1.4055 - val_loss: 5.9255 - val_mae: 1.8955\n",
      "\n",
      "Epoch 00029: ReduceLROnPlateau reducing learning rate to 3.125000148429535e-05.\n",
      "Epoch 30/1000\n",
      "4652/4652 [==============================] - 1s 285us/step - loss: 3.2599 - mae: 1.4052 - val_loss: 5.9291 - val_mae: 1.8959\n",
      "Epoch 31/1000\n",
      "4652/4652 [==============================] - 1s 288us/step - loss: 3.2614 - mae: 1.4118 - val_loss: 5.9366 - val_mae: 1.8958\n",
      "\n",
      "Epoch 00031: ReduceLROnPlateau reducing learning rate to 1.5625000742147677e-05.\n",
      "Epoch 32/1000\n",
      "4652/4652 [==============================] - 1s 290us/step - loss: 3.2435 - mae: 1.4088 - val_loss: 5.9333 - val_mae: 1.8956\n",
      "Epoch 33/1000\n",
      "4652/4652 [==============================] - 1s 302us/step - loss: 3.2444 - mae: 1.4048 - val_loss: 5.9310 - val_mae: 1.8954\n",
      "\n",
      "Epoch 00033: ReduceLROnPlateau reducing learning rate to 1e-05.\n",
      "Epoch 34/1000\n",
      "4652/4652 [==============================] - 1s 296us/step - loss: 3.1859 - mae: 1.3967 - val_loss: 5.9325 - val_mae: 1.8957\n",
      "Epoch 35/1000\n",
      "4652/4652 [==============================] - 1s 297us/step - loss: 3.1934 - mae: 1.3883 - val_loss: 5.9344 - val_mae: 1.8959\n",
      "Epoch 36/1000\n",
      "4652/4652 [==============================] - 1s 304us/step - loss: 3.2792 - mae: 1.4119 - val_loss: 5.9301 - val_mae: 1.8952\n",
      "Epoch 37/1000\n",
      "4652/4652 [==============================] - 1s 289us/step - loss: 3.2101 - mae: 1.4029 - val_loss: 5.9318 - val_mae: 1.8952\n",
      "Epoch 38/1000\n",
      "4652/4652 [==============================] - 1s 294us/step - loss: 3.1879 - mae: 1.3949 - val_loss: 5.9332 - val_mae: 1.8957\n",
      "Epoch 39/1000\n",
      "4652/4652 [==============================] - 1s 289us/step - loss: 3.2674 - mae: 1.4138 - val_loss: 5.9270 - val_mae: 1.8945\n"
     ]
    }
   ],
   "source": [
    "history = model.fit(np.array(x_tr_seq),\n",
    "                    np.array(y_tr),\n",
    "                    batch_size=128,\n",
    "                    epochs=1000,\n",
    "                    validation_data=(np.array(x_val_seq),np.array(y_val)),\n",
    "                    verbose=1,\n",
    "                    callbacks=callbacks)"
   ]
  },
  {
   "cell_type": "code",
   "execution_count": 25,
   "metadata": {},
   "outputs": [
    {
     "name": "stdout",
     "output_type": "stream",
     "text": [
      "1164/1164 [==============================] - 0s 233us/step\n",
      "The val_mae is 1.894.\n"
     ]
    }
   ],
   "source": [
    "#evaluation \n",
    "_, val_mae = model.evaluate(x_val_seq, y_val)\n",
    "\n",
    "print(\"The val_mae is %.3f.\" % val_mae)"
   ]
  },
  {
   "cell_type": "code",
   "execution_count": 26,
   "metadata": {},
   "outputs": [
    {
     "data": {
      "image/png": "[encoded data removed]",
      "text/plain": [
       "<Figure size 432x288 with 1 Axes>"
      ]
     },
     "metadata": {
      "needs_background": "light"
     },
     "output_type": "display_data"
    },
    {
     "data": {
      "image/png": "[encoded data removed]",
      "text/plain": [
       "<Figure size 432x288 with 1 Axes>"
      ]
     },
     "metadata": {
      "needs_background": "light"
     },
     "output_type": "display_data"
    }
   ],
   "source": [
    "plt.plot(model.history.history[\"loss\"], label=\"loss\");\n",
    "plt.plot(model.history.history[\"val_loss\"], label=\"val_loss\");\n",
    "plt.legend();\n",
    "plt.show();\n",
    "plt.close();\n",
    "\n",
    "plt.plot(model.history.history[\"mae\"], label=\"mae\");\n",
    "plt.plot(model.history.history[\"val_mae\"], label=\"val_mae\");\n",
    "plt.legend();"
   ]
  },
  {
   "cell_type": "code",
   "execution_count": null,
   "metadata": {},
   "outputs": [],
   "source": []
  }
 ],
 "metadata": {
  "kernelspec": {
   "display_name": "base",
   "language": "python",
   "name": "base"
  },
  "language_info": {
   "codemirror_mode": {
    "name": "ipython",
    "version": 3
   },
   "file_extension": ".py",
   "mimetype": "text/x-python",
   "name": "python",
   "nbconvert_exporter": "python",
   "pygments_lexer": "ipython3",
   "version": "3.7.4"
  }
 },
 "nbformat": 4,
 "nbformat_minor": 4
}
