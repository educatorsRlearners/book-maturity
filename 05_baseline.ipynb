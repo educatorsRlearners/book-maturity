{
 "cells": [
  {
   "cell_type": "code",
   "execution_count": 37,
   "metadata": {},
   "outputs": [],
   "source": [
    "import pandas as pd\n",
    "import numpy as np\n",
    "import seaborn as sns\n",
    "import matplotlib.pyplot as plt\n",
    "from matplotlib.ticker import FuncFormatter\n",
    "\n",
    "\n",
    "from sklearn.model_selection import StratifiedShuffleSplit\n",
    "from sklearn.metrics import mean_absolute_error\n",
    "from sklearn.metrics import mean_squared_error\n",
    "from math import sqrt"
   ]
  },
  {
   "cell_type": "code",
   "execution_count": 38,
   "metadata": {},
   "outputs": [],
   "source": [
    "df = pd.read_csv(\"csv/book_info_complete.csv\")"
   ]
  },
  {
   "cell_type": "code",
   "execution_count": 39,
   "metadata": {},
   "outputs": [
    {
     "name": "stdout",
     "output_type": "stream",
     "text": [
      "<class 'pandas.core.frame.DataFrame'>\n",
      "RangeIndex: 5816 entries, 0 to 5815\n",
      "Data columns (total 10 columns):\n",
      "title               5816 non-null object\n",
      "description         5816 non-null object\n",
      "plot                5816 non-null object\n",
      "csm_review          5816 non-null object\n",
      "need_to_know        5816 non-null object\n",
      "csm_rating          5816 non-null int64\n",
      "Genre               5816 non-null object\n",
      "Book type           5816 non-null object\n",
      "Publication date    5816 non-null object\n",
      "Last updated        5816 non-null object\n",
      "dtypes: int64(1), object(9)\n",
      "memory usage: 454.5+ KB\n"
     ]
    }
   ],
   "source": [
    "df = df.dropna(axis='columns')\n",
    "df.info()"
   ]
  },
  {
   "cell_type": "markdown",
   "metadata": {},
   "source": [
    "## Make the Split"
   ]
  },
  {
   "cell_type": "code",
   "execution_count": 40,
   "metadata": {},
   "outputs": [],
   "source": [
    "def splitter(df):\n",
    "    split = StratifiedShuffleSplit(n_splits=1, test_size=0.2, random_state=999)\n",
    "    for train_index, test_index in split.split(df, df['csm_rating']):\n",
    "        train_data= df.loc[train_index]\n",
    "        test_data = df.loc[test_index]\n",
    "    \n",
    "    return train_data, test_data\n",
    "\n",
    "train_data, test_data = splitter(df)"
   ]
  },
  {
   "cell_type": "code",
   "execution_count": 41,
   "metadata": {},
   "outputs": [
    {
     "name": "stdout",
     "output_type": "stream",
     "text": [
      "The most common rating is 4.\n",
      "The median is 9.\n",
      "The mean is 9.\n"
     ]
    }
   ],
   "source": [
    "mode = int(train_data.loc[:, \"csm_rating\"].mode())\n",
    "median = int(train_data.loc[:, \"csm_rating\"].median())\n",
    "mean = int(train_data.loc[:, \"csm_rating\"].mean())\n",
    "\n",
    "print(\"The most common rating is %d.\" % mode)\n",
    "print(\"The median is %d.\" % median)\n",
    "print(\"The mean is %d.\" % mean)"
   ]
  },
  {
   "cell_type": "code",
   "execution_count": 42,
   "metadata": {},
   "outputs": [
    {
     "name": "stdout",
     "output_type": "stream",
     "text": [
      "<class 'pandas.core.frame.DataFrame'>\n",
      "Int64Index: 4652 entries, 3662 to 5209\n",
      "Data columns (total 13 columns):\n",
      "title               4652 non-null object\n",
      "description         4652 non-null object\n",
      "plot                4652 non-null object\n",
      "csm_review          4652 non-null object\n",
      "need_to_know        4652 non-null object\n",
      "csm_rating          4652 non-null int64\n",
      "Genre               4652 non-null object\n",
      "Book type           4652 non-null object\n",
      "Publication date    4652 non-null object\n",
      "Last updated        4652 non-null object\n",
      "csm_mode            4652 non-null int64\n",
      "csm_median          4652 non-null int64\n",
      "csm_mean            4652 non-null int64\n",
      "dtypes: int64(4), object(9)\n",
      "memory usage: 508.8+ KB\n"
     ]
    }
   ],
   "source": [
    "train_data[\"csm_mode\"] = mode\n",
    "train_data[\"csm_median\"] = median\n",
    "train_data[\"csm_mean\"] = mean\n",
    "train_data.info()"
   ]
  },
  {
   "cell_type": "code",
   "execution_count": 50,
   "metadata": {},
   "outputs": [
    {
     "data": {
      "image/png": "[encoded data removed]",
      "text/plain": [
       "<Figure size 432x288 with 1 Axes>"
      ]
     },
     "metadata": {
      "needs_background": "light"
     },
     "output_type": "display_data"
    }
   ],
   "source": [
    "sns_plot = sns.distplot(train_data.loc[:, \"csm_rating\"], \n",
    "             kde=False,\n",
    "             bins=16,\n",
    "             rug=True,\n",
    "             axlabel=\"CSM Rating\")\n",
    "\n",
    "sns_plot.figure.savefig(\"reports/target_distribution.png\")"
   ]
  },
  {
   "cell_type": "code",
   "execution_count": 8,
   "metadata": {},
   "outputs": [],
   "source": [
    "y_actual = test_data.loc[:, \"csm_rating\"]\n",
    "y_mode = np.full(len(y_actual), mode)\n",
    "y_median = np.full(len(y_actual), median)\n",
    "y_mean = np.full(len(y_actual), mean)"
   ]
  },
  {
   "cell_type": "code",
   "execution_count": 9,
   "metadata": {},
   "outputs": [
    {
     "name": "stdout",
     "output_type": "stream",
     "text": [
      "The rmse for the mode is 6.45.\n",
      "The rmse for the median is 3.88.\n",
      "The rmse for the mean is 3.88.\n"
     ]
    }
   ],
   "source": [
    "rmse_mode = sqrt(mean_squared_error(y_actual, y_mode))\n",
    "rmse_median = sqrt(mean_squared_error(y_actual, y_median))\n",
    "rmse_mean = sqrt(mean_squared_error(y_actual, y_mean))\n",
    "\n",
    "print(\"The rmse for the mode is %.2f.\" % rmse_mode)\n",
    "print(\"The rmse for the median is %.2f.\" % rmse_median)\n",
    "print(\"The rmse for the mean is %.2f.\" % rmse_mean)"
   ]
  },
  {
   "cell_type": "code",
   "execution_count": 10,
   "metadata": {},
   "outputs": [
    {
     "name": "stdout",
     "output_type": "stream",
     "text": [
      "The mae for the mode is 5.36.\n",
      "The mae for the median is 3.27.\n",
      "The mae for the mean is 3.27.\n"
     ]
    }
   ],
   "source": [
    "mae_mode = mean_absolute_error(y_actual, y_mode)\n",
    "mae_median = mean_absolute_error(y_actual, y_median)\n",
    "mae_mean = mean_absolute_error(y_actual, y_mean)\n",
    "\n",
    "print(\"The mae for the mode is %.2f.\" % mae_mode)\n",
    "print(\"The mae for the median is %.2f.\" % mae_median)\n",
    "print(\"The mae for the mean is %.2f.\" % mae_mean)"
   ]
  }
 ],
 "metadata": {
  "kernelspec": {
   "display_name": "base",
   "language": "python",
   "name": "base"
  },
  "language_info": {
   "codemirror_mode": {
    "name": "ipython",
    "version": 3
   },
   "file_extension": ".py",
   "mimetype": "text/x-python",
   "name": "python",
   "nbconvert_exporter": "python",
   "pygments_lexer": "ipython3",
   "version": "3.7.4"
  }
 },
 "nbformat": 4,
 "nbformat_minor": 4
}
