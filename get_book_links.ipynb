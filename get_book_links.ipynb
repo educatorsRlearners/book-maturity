{
 "cells": [
  {
   "cell_type": "code",
   "execution_count": 78,
   "metadata": {},
   "outputs": [],
   "source": [
    "import os\n",
    "import re\n",
    "import string\n",
    "import requests\n",
    "import json\n",
    "import glob\n",
    "import pandas as pd \n",
    "from bs4 import BeautifulSoup\n",
    "from csv import writer"
   ]
  },
  {
   "cell_type": "code",
   "execution_count": 2,
   "metadata": {},
   "outputs": [],
   "source": [
    "path = \"lexile/raw/lists/\"\n",
    "files = [f for f in glob.glob(path + \"*.html\", recursive=True)]\n",
    "base_url = 'https://www.commonsensemedia.org/book-reviews'"
   ]
  },
  {
   "cell_type": "code",
   "execution_count": 24,
   "metadata": {},
   "outputs": [],
   "source": [
    "file = files[4]"
   ]
  },
  {
   "cell_type": "code",
   "execution_count": 25,
   "metadata": {},
   "outputs": [],
   "source": [
    "with open(file, 'r') as f: \n",
    "    soup = BeautifulSoup(f.read(), 'html.parser')    "
   ]
  },
  {
   "cell_type": "code",
   "execution_count": 30,
   "metadata": {},
   "outputs": [],
   "source": [
    "titles = []\n",
    "links = []"
   ]
  },
  {
   "cell_type": "code",
   "execution_count": 31,
   "metadata": {},
   "outputs": [
    {
     "data": {
      "text/plain": [
       "['Dear Martin',\n",
       " 'Extremely Loud and Incredibly Close',\n",
       " 'Right Where You Left Me',\n",
       " 'Rory the Dinosaur Needs a Christmas Tree',\n",
       " 'Nativity',\n",
       " 'Robots & Repeats: Secret Coders, Book 4',\n",
       " 'My Brigadista Year',\n",
       " \"Malala's Magic Pencil\",\n",
       " 'My Journey to the Stars',\n",
       " 'Spy School Secret Service: Spy School, Book 5']"
      ]
     },
     "execution_count": 31,
     "metadata": {},
     "output_type": "execute_result"
    }
   ],
   "source": [
    "for s in soup.findAll(class_=\"views-field views-field-field-reference-review-ent-prod result-title\"):\n",
    "    titles.append(s.get_text().strip())\n",
    "\n",
    "titles[:10]"
   ]
  },
  {
   "cell_type": "code",
   "execution_count": 64,
   "metadata": {},
   "outputs": [
    {
     "data": {
      "text/plain": [
       "[<a href=\"/book-reviews/dear-martin\">Dear Martin</a>,\n",
       " <a href=\"/book-reviews/extremely-loud-and-incredibly-close\">Extremely Loud and Incredibly Close</a>,\n",
       " <a href=\"/book-reviews/right-where-you-left-me\">Right Where You Left Me</a>,\n",
       " <a href=\"/book-reviews/rory-the-dinosaur-needs-a-christmas-tree\">Rory the Dinosaur Needs a Christmas Tree</a>,\n",
       " <a href=\"/book-reviews/nativity\">Nativity</a>,\n",
       " <a href=\"/book-reviews/robots-repeats-secret-coders-book-4\">Robots &amp; Repeats: Secret Coders, Book 4</a>,\n",
       " <a href=\"/book-reviews/my-brigadista-year\">My Brigadista Year</a>,\n",
       " <a href=\"/book-reviews/malalas-magic-pencil\">Malala's Magic Pencil</a>,\n",
       " <a href=\"/book-reviews/my-journey-to-the-stars\">My Journey to the Stars</a>,\n",
       " <a href=\"/book-reviews/spy-school-secret-service-spy-school-book-5\">Spy School Secret Service: Spy School, Book 5</a>,\n",
       " <a href=\"/book-reviews/turtles-all-the-way-down\">Turtles All the Way Down</a>,\n",
       " <a href=\"/book-reviews/predator-vs-prey-going-wild-book-2\">Predator vs. Prey: Going Wild, Book 2</a>,\n",
       " <a href=\"/book-reviews/who-was-alexander-hamilton\">Who Was Alexander Hamilton?</a>,\n",
       " <a href=\"/book-reviews/the-epic-fail-of-arturo-zamora\">The Epic Fail of Arturo Zamora</a>,\n",
       " <a href=\"/book-reviews/the-bad-mood-and-the-stick\">The Bad Mood and the Stick</a>,\n",
       " <a href=\"/book-reviews/zelda-and-ivy-series\">Zelda and Ivy Series</a>,\n",
       " <a href=\"/book-reviews/all-the-wind-in-the-world\">All the Wind in the World</a>,\n",
       " <a href=\"/book-reviews/the-language-of-thorns-midnight-tales-and-dangerous-magic\">The Language of Thorns: Midnight Tales and Dangerous Magic</a>,\n",
       " <a href=\"/book-reviews/the-wolf-the-duck-and-the-mouse\">The Wolf, the Duck, and the Mouse</a>,\n",
       " <a href=\"/book-reviews/pashmina\">Pashmina</a>]"
      ]
     },
     "execution_count": 64,
     "metadata": {},
     "output_type": "execute_result"
    }
   ],
   "source": [
    "links = []\n",
    "for s in soup.findAll(class_=\"views-field views-field-field-reference-review-ent-prod result-title\"):\n",
    "    links.append(s.a)\n",
    "links"
   ]
  },
  {
   "cell_type": "code",
   "execution_count": 77,
   "metadata": {},
   "outputs": [],
   "source": []
  },
  {
   "cell_type": "code",
   "execution_count": 113,
   "metadata": {},
   "outputs": [],
   "source": [
    "sample = str(links[0])"
   ]
  },
  {
   "cell_type": "code",
   "execution_count": 114,
   "metadata": {},
   "outputs": [
    {
     "data": {
      "text/plain": [
       "str"
      ]
     },
     "execution_count": 114,
     "metadata": {},
     "output_type": "execute_result"
    }
   ],
   "source": [
    "type(sample)"
   ]
  },
  {
   "cell_type": "code",
   "execution_count": 115,
   "metadata": {},
   "outputs": [
    {
     "data": {
      "text/plain": [
       "['/book-reviews/dear-martin']"
      ]
     },
     "execution_count": 115,
     "metadata": {},
     "output_type": "execute_result"
    }
   ],
   "source": [
    "re.findall(r'\"(.*?)\"', sample)"
   ]
  },
  {
   "cell_type": "code",
   "execution_count": 116,
   "metadata": {},
   "outputs": [],
   "source": [
    "base_url2 = 'https://www.commonsensemedia.org'"
   ]
  },
  {
   "cell_type": "code",
   "execution_count": 130,
   "metadata": {},
   "outputs": [],
   "source": [
    "str_links = []\n",
    "for l in links:\n",
    "    str_links.append(re.search(r'\"([^\"]*)\"', str(l)))"
   ]
  },
  {
   "cell_type": "code",
   "execution_count": 131,
   "metadata": {},
   "outputs": [
    {
     "name": "stdout",
     "output_type": "stream",
     "text": [
      "https://www.commonsensemedia.org<re.Match object; span=(8, 35), match='\"/book-reviews/dear-martin\"'>\n",
      "https://www.commonsensemedia.org<re.Match object; span=(8, 59), match='\"/book-reviews/extremely-loud-and-incredibly-clos>\n",
      "https://www.commonsensemedia.org<re.Match object; span=(8, 47), match='\"/book-reviews/right-where-you-left-me\"'>\n",
      "https://www.commonsensemedia.org<re.Match object; span=(8, 64), match='\"/book-reviews/rory-the-dinosaur-needs-a-christma>\n",
      "https://www.commonsensemedia.org<re.Match object; span=(8, 32), match='\"/book-reviews/nativity\"'>\n",
      "https://www.commonsensemedia.org<re.Match object; span=(8, 59), match='\"/book-reviews/robots-repeats-secret-coders-book->\n",
      "https://www.commonsensemedia.org<re.Match object; span=(8, 42), match='\"/book-reviews/my-brigadista-year\"'>\n",
      "https://www.commonsensemedia.org<re.Match object; span=(8, 44), match='\"/book-reviews/malalas-magic-pencil\"'>\n",
      "https://www.commonsensemedia.org<re.Match object; span=(8, 47), match='\"/book-reviews/my-journey-to-the-stars\"'>\n",
      "https://www.commonsensemedia.org<re.Match object; span=(8, 67), match='\"/book-reviews/spy-school-secret-service-spy-scho>\n",
      "https://www.commonsensemedia.org<re.Match object; span=(8, 48), match='\"/book-reviews/turtles-all-the-way-down\"'>\n",
      "https://www.commonsensemedia.org<re.Match object; span=(8, 58), match='\"/book-reviews/predator-vs-prey-going-wild-book-2>\n",
      "https://www.commonsensemedia.org<re.Match object; span=(8, 50), match='\"/book-reviews/who-was-alexander-hamilton\"'>\n",
      "https://www.commonsensemedia.org<re.Match object; span=(8, 54), match='\"/book-reviews/the-epic-fail-of-arturo-zamora\"'>\n",
      "https://www.commonsensemedia.org<re.Match object; span=(8, 50), match='\"/book-reviews/the-bad-mood-and-the-stick\"'>\n",
      "https://www.commonsensemedia.org<re.Match object; span=(8, 44), match='\"/book-reviews/zelda-and-ivy-series\"'>\n",
      "https://www.commonsensemedia.org<re.Match object; span=(8, 49), match='\"/book-reviews/all-the-wind-in-the-world\"'>\n",
      "https://www.commonsensemedia.org<re.Match object; span=(8, 81), match='\"/book-reviews/the-language-of-thorns-midnight-ta>\n",
      "https://www.commonsensemedia.org<re.Match object; span=(8, 55), match='\"/book-reviews/the-wolf-the-duck-and-the-mouse\"'>\n",
      "https://www.commonsensemedia.org<re.Match object; span=(8, 32), match='\"/book-reviews/pashmina\"'>\n"
     ]
    }
   ],
   "source": [
    "str_links2 = []\n",
    "\n",
    "for l in str_links:\n",
    "    print(base_url2 + str(l))"
   ]
  },
  {
   "cell_type": "code",
   "execution_count": 126,
   "metadata": {},
   "outputs": [
    {
     "data": {
      "text/plain": [
       "[['/book-reviews/dear-martin'],\n",
       " ['/book-reviews/extremely-loud-and-incredibly-close'],\n",
       " ['/book-reviews/right-where-you-left-me'],\n",
       " ['/book-reviews/rory-the-dinosaur-needs-a-christmas-tree'],\n",
       " ['/book-reviews/nativity'],\n",
       " ['/book-reviews/robots-repeats-secret-coders-book-4'],\n",
       " ['/book-reviews/my-brigadista-year'],\n",
       " ['/book-reviews/malalas-magic-pencil'],\n",
       " ['/book-reviews/my-journey-to-the-stars'],\n",
       " ['/book-reviews/spy-school-secret-service-spy-school-book-5'],\n",
       " ['/book-reviews/turtles-all-the-way-down'],\n",
       " ['/book-reviews/predator-vs-prey-going-wild-book-2'],\n",
       " ['/book-reviews/who-was-alexander-hamilton'],\n",
       " ['/book-reviews/the-epic-fail-of-arturo-zamora'],\n",
       " ['/book-reviews/the-bad-mood-and-the-stick'],\n",
       " ['/book-reviews/zelda-and-ivy-series'],\n",
       " ['/book-reviews/all-the-wind-in-the-world'],\n",
       " ['/book-reviews/the-language-of-thorns-midnight-tales-and-dangerous-magic'],\n",
       " ['/book-reviews/the-wolf-the-duck-and-the-mouse'],\n",
       " ['/book-reviews/pashmina']]"
      ]
     },
     "execution_count": 126,
     "metadata": {},
     "output_type": "execute_result"
    }
   ],
   "source": [
    "str_links"
   ]
  },
  {
   "cell_type": "code",
   "execution_count": 132,
   "metadata": {},
   "outputs": [
    {
     "data": {
      "text/plain": [
       "'<a href=\"/book-reviews/dear-martin\">Dear Martin</a>'"
      ]
     },
     "execution_count": 132,
     "metadata": {},
     "output_type": "execute_result"
    }
   ],
   "source": [
    "sample"
   ]
  },
  {
   "cell_type": "code",
   "execution_count": 134,
   "metadata": {},
   "outputs": [
    {
     "data": {
      "text/plain": [
       "'/book-reviews/dear-martin'"
      ]
     },
     "execution_count": 134,
     "metadata": {},
     "output_type": "execute_result"
    }
   ],
   "source": [
    "sample.split('\"',2)[1]"
   ]
  },
  {
   "cell_type": "code",
   "execution_count": null,
   "metadata": {},
   "outputs": [],
   "source": []
  }
 ],
 "metadata": {
  "kernelspec": {
   "display_name": "base",
   "language": "python",
   "name": "base"
  },
  "language_info": {
   "codemirror_mode": {
    "name": "ipython",
    "version": 3
   },
   "file_extension": ".py",
   "mimetype": "text/x-python",
   "name": "python",
   "nbconvert_exporter": "python",
   "pygments_lexer": "ipython3",
   "version": "3.7.4"
  }
 },
 "nbformat": 4,
 "nbformat_minor": 4
}
