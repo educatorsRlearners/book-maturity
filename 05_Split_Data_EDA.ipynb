{
 "cells": [
  {
   "cell_type": "code",
   "execution_count": 1,
   "metadata": {},
   "outputs": [],
   "source": [
    "import pandas as pd\n",
    "import numpy as np\n",
    "import seaborn as sns\n",
    "from pandas_profiling import ProfileReport\n",
    "from sklearn.model_selection import StratifiedShuffleSplit"
   ]
  },
  {
   "cell_type": "code",
   "execution_count": 2,
   "metadata": {},
   "outputs": [
    {
     "data": {
      "text/html": [
       "<div>\n",
       "<style scoped>\n",
       "    .dataframe tbody tr th:only-of-type {\n",
       "        vertical-align: middle;\n",
       "    }\n",
       "\n",
       "    .dataframe tbody tr th {\n",
       "        vertical-align: top;\n",
       "    }\n",
       "\n",
       "    .dataframe thead th {\n",
       "        text-align: right;\n",
       "    }\n",
       "</style>\n",
       "<table border=\"1\" class=\"dataframe\">\n",
       "  <thead>\n",
       "    <tr style=\"text-align: right;\">\n",
       "      <th></th>\n",
       "      <th>title</th>\n",
       "      <th>description</th>\n",
       "      <th>plot</th>\n",
       "      <th>csm_review</th>\n",
       "      <th>need_to_know</th>\n",
       "      <th>par_rating</th>\n",
       "      <th>kids_rating</th>\n",
       "      <th>csm_rating</th>\n",
       "      <th>Author</th>\n",
       "      <th>Genre</th>\n",
       "      <th>...</th>\n",
       "      <th>Publisher's recommended age(s)</th>\n",
       "      <th>Number of pages</th>\n",
       "      <th>Available on</th>\n",
       "      <th>Last updated</th>\n",
       "      <th>Illustrator</th>\n",
       "      <th>Authors</th>\n",
       "      <th>Awards</th>\n",
       "      <th>Publishers</th>\n",
       "      <th>Award</th>\n",
       "      <th>Illustrators</th>\n",
       "    </tr>\n",
       "  </thead>\n",
       "  <tbody>\n",
       "    <tr>\n",
       "      <th>0</th>\n",
       "      <td>The Third Twin</td>\n",
       "      <td>Gripping thriller skimps on character developm...</td>\n",
       "      <td>Twins Ava and Alexa \"Lexi\" Rios live in an aff...</td>\n",
       "      <td>THE THIRD TWIN has an interesting, compelling ...</td>\n",
       "      <td>Parents need to know that The Third Twin is a ...</td>\n",
       "      <td>17.0</td>\n",
       "      <td>14.0</td>\n",
       "      <td>12</td>\n",
       "      <td>CJ Omololu</td>\n",
       "      <td>Mystery</td>\n",
       "      <td>...</td>\n",
       "      <td>12 - 18</td>\n",
       "      <td>336.0</td>\n",
       "      <td>Nook, Hardback, iBooks, Kindle</td>\n",
       "      <td>June 19, 2019</td>\n",
       "      <td>NaN</td>\n",
       "      <td>NaN</td>\n",
       "      <td>NaN</td>\n",
       "      <td>NaN</td>\n",
       "      <td>NaN</td>\n",
       "      <td>NaN</td>\n",
       "    </tr>\n",
       "    <tr>\n",
       "      <th>1</th>\n",
       "      <td>Small Damages</td>\n",
       "      <td>Luminous story of pregnant teen's summer in Sp...</td>\n",
       "      <td>It's the summer of 1996, which 18-year-old Ken...</td>\n",
       "      <td>This could well have been a minefield of clich...</td>\n",
       "      <td>Parents need to know that Small Damages is nar...</td>\n",
       "      <td>NaN</td>\n",
       "      <td>14.0</td>\n",
       "      <td>14</td>\n",
       "      <td>Beth Kephart</td>\n",
       "      <td>Coming of Age</td>\n",
       "      <td>...</td>\n",
       "      <td>14 - 17</td>\n",
       "      <td>304.0</td>\n",
       "      <td>Nook, Hardback, iBooks, Kindle</td>\n",
       "      <td>May 06, 2019</td>\n",
       "      <td>NaN</td>\n",
       "      <td>NaN</td>\n",
       "      <td>NaN</td>\n",
       "      <td>NaN</td>\n",
       "      <td>NaN</td>\n",
       "      <td>NaN</td>\n",
       "    </tr>\n",
       "    <tr>\n",
       "      <th>2</th>\n",
       "      <td>The School for Good and Evil, Book 1</td>\n",
       "      <td>Fractured fairy tale has plenty of twists for ...</td>\n",
       "      <td>When best friends Sophie and Agatha are stolen...</td>\n",
       "      <td>The School for Good and Evil is no run-of-the-...</td>\n",
       "      <td>Parents need to know that The School for Good ...</td>\n",
       "      <td>11.0</td>\n",
       "      <td>11.0</td>\n",
       "      <td>8</td>\n",
       "      <td>Soman Chainani</td>\n",
       "      <td>Fairy Tale</td>\n",
       "      <td>...</td>\n",
       "      <td>8 - 17</td>\n",
       "      <td>496.0</td>\n",
       "      <td>Nook, Audiobook (unabridged), Hardback, iBooks...</td>\n",
       "      <td>October 18, 2017</td>\n",
       "      <td>Iacopo Bruno</td>\n",
       "      <td>NaN</td>\n",
       "      <td>NaN</td>\n",
       "      <td>NaN</td>\n",
       "      <td>NaN</td>\n",
       "      <td>NaN</td>\n",
       "    </tr>\n",
       "    <tr>\n",
       "      <th>3</th>\n",
       "      <td>Agent of Chaos: The X-Files Origins, Book 1</td>\n",
       "      <td>Series pictures Mulder as teen, captures essen...</td>\n",
       "      <td>Set in 1979, AGENT OF CHAOS follows a 17-year-...</td>\n",
       "      <td>Popular TV characters don't always make a smoo...</td>\n",
       "      <td>Parents need to know that Agent of Chaos: The ...</td>\n",
       "      <td>NaN</td>\n",
       "      <td>NaN</td>\n",
       "      <td>13</td>\n",
       "      <td>Kami Garcia</td>\n",
       "      <td>Science Fiction</td>\n",
       "      <td>...</td>\n",
       "      <td>14 - 18</td>\n",
       "      <td>320.0</td>\n",
       "      <td>Nook, Audiobook (abridged), Hardback, iBooks, ...</td>\n",
       "      <td>June 19, 2019</td>\n",
       "      <td>NaN</td>\n",
       "      <td>NaN</td>\n",
       "      <td>NaN</td>\n",
       "      <td>NaN</td>\n",
       "      <td>NaN</td>\n",
       "      <td>NaN</td>\n",
       "    </tr>\n",
       "    <tr>\n",
       "      <th>4</th>\n",
       "      <td>Crossing Ebenezer Creek</td>\n",
       "      <td>Heartbreaking novel follows freed slaves on Sh...</td>\n",
       "      <td>CROSSING EBENEZER CREEK is a YA novel from awa...</td>\n",
       "      <td>Beautifully written and poetically rendered, t...</td>\n",
       "      <td>Parents need to know that Crossing Ebenezer Cr...</td>\n",
       "      <td>NaN</td>\n",
       "      <td>NaN</td>\n",
       "      <td>13</td>\n",
       "      <td>Tonya Bolden</td>\n",
       "      <td>Historical Fiction</td>\n",
       "      <td>...</td>\n",
       "      <td>NaN</td>\n",
       "      <td>240.0</td>\n",
       "      <td>Nook, Audiobook (unabridged), Hardback, Kindle</td>\n",
       "      <td>January 18, 2019</td>\n",
       "      <td>NaN</td>\n",
       "      <td>NaN</td>\n",
       "      <td>NaN</td>\n",
       "      <td>NaN</td>\n",
       "      <td>NaN</td>\n",
       "      <td>NaN</td>\n",
       "    </tr>\n",
       "  </tbody>\n",
       "</table>\n",
       "<p>5 rows × 24 columns</p>\n",
       "</div>"
      ],
      "text/plain": [
       "                                         title  \\\n",
       "0                               The Third Twin   \n",
       "1                                Small Damages   \n",
       "2         The School for Good and Evil, Book 1   \n",
       "3  Agent of Chaos: The X-Files Origins, Book 1   \n",
       "4                      Crossing Ebenezer Creek   \n",
       "\n",
       "                                         description  \\\n",
       "0  Gripping thriller skimps on character developm...   \n",
       "1  Luminous story of pregnant teen's summer in Sp...   \n",
       "2  Fractured fairy tale has plenty of twists for ...   \n",
       "3  Series pictures Mulder as teen, captures essen...   \n",
       "4  Heartbreaking novel follows freed slaves on Sh...   \n",
       "\n",
       "                                                plot  \\\n",
       "0  Twins Ava and Alexa \"Lexi\" Rios live in an aff...   \n",
       "1  It's the summer of 1996, which 18-year-old Ken...   \n",
       "2  When best friends Sophie and Agatha are stolen...   \n",
       "3  Set in 1979, AGENT OF CHAOS follows a 17-year-...   \n",
       "4  CROSSING EBENEZER CREEK is a YA novel from awa...   \n",
       "\n",
       "                                          csm_review  \\\n",
       "0  THE THIRD TWIN has an interesting, compelling ...   \n",
       "1  This could well have been a minefield of clich...   \n",
       "2  The School for Good and Evil is no run-of-the-...   \n",
       "3  Popular TV characters don't always make a smoo...   \n",
       "4  Beautifully written and poetically rendered, t...   \n",
       "\n",
       "                                        need_to_know  par_rating  kids_rating  \\\n",
       "0  Parents need to know that The Third Twin is a ...        17.0         14.0   \n",
       "1  Parents need to know that Small Damages is nar...         NaN         14.0   \n",
       "2  Parents need to know that The School for Good ...        11.0         11.0   \n",
       "3  Parents need to know that Agent of Chaos: The ...         NaN          NaN   \n",
       "4  Parents need to know that Crossing Ebenezer Cr...         NaN          NaN   \n",
       "\n",
       "   csm_rating          Author               Genre  ...  \\\n",
       "0          12      CJ Omololu             Mystery  ...   \n",
       "1          14    Beth Kephart       Coming of Age  ...   \n",
       "2           8  Soman Chainani          Fairy Tale  ...   \n",
       "3          13     Kami Garcia     Science Fiction  ...   \n",
       "4          13    Tonya Bolden  Historical Fiction  ...   \n",
       "\n",
       "  Publisher's recommended age(s) Number of pages  \\\n",
       "0                        12 - 18           336.0   \n",
       "1                        14 - 17           304.0   \n",
       "2                         8 - 17           496.0   \n",
       "3                        14 - 18           320.0   \n",
       "4                            NaN           240.0   \n",
       "\n",
       "                                        Available on      Last updated  \\\n",
       "0                     Nook, Hardback, iBooks, Kindle     June 19, 2019   \n",
       "1                     Nook, Hardback, iBooks, Kindle      May 06, 2019   \n",
       "2  Nook, Audiobook (unabridged), Hardback, iBooks...  October 18, 2017   \n",
       "3  Nook, Audiobook (abridged), Hardback, iBooks, ...     June 19, 2019   \n",
       "4     Nook, Audiobook (unabridged), Hardback, Kindle  January 18, 2019   \n",
       "\n",
       "    Illustrator  Authors Awards Publishers Award Illustrators  \n",
       "0           NaN      NaN    NaN        NaN   NaN          NaN  \n",
       "1           NaN      NaN    NaN        NaN   NaN          NaN  \n",
       "2  Iacopo Bruno      NaN    NaN        NaN   NaN          NaN  \n",
       "3           NaN      NaN    NaN        NaN   NaN          NaN  \n",
       "4           NaN      NaN    NaN        NaN   NaN          NaN  \n",
       "\n",
       "[5 rows x 24 columns]"
      ]
     },
     "execution_count": 2,
     "metadata": {},
     "output_type": "execute_result"
    }
   ],
   "source": [
    "df = pd.read_csv('csv/book_info_complete.csv')\n",
    "df.head()"
   ]
  },
  {
   "cell_type": "markdown",
   "metadata": {},
   "source": [
    "## Create train/test split"
   ]
  },
  {
   "cell_type": "code",
   "execution_count": 3,
   "metadata": {},
   "outputs": [],
   "source": [
    "split = StratifiedShuffleSplit(n_splits=1, test_size=0.2, random_state=13)"
   ]
  },
  {
   "cell_type": "code",
   "execution_count": 4,
   "metadata": {},
   "outputs": [],
   "source": [
    "for train_index, test_index in split.split(df, df['csm_rating']):\n",
    "    train_set = df.loc[train_index]\n",
    "    test_set = df.loc[test_index]"
   ]
  },
  {
   "cell_type": "markdown",
   "metadata": {},
   "source": [
    "## Drop Duplicates"
   ]
  },
  {
   "cell_type": "code",
   "execution_count": 5,
   "metadata": {},
   "outputs": [
    {
     "data": {
      "text/html": [
       "<div>\n",
       "<style scoped>\n",
       "    .dataframe tbody tr th:only-of-type {\n",
       "        vertical-align: middle;\n",
       "    }\n",
       "\n",
       "    .dataframe tbody tr th {\n",
       "        vertical-align: top;\n",
       "    }\n",
       "\n",
       "    .dataframe thead th {\n",
       "        text-align: right;\n",
       "    }\n",
       "</style>\n",
       "<table border=\"1\" class=\"dataframe\">\n",
       "  <thead>\n",
       "    <tr style=\"text-align: right;\">\n",
       "      <th></th>\n",
       "      <th>title</th>\n",
       "      <th>description</th>\n",
       "      <th>plot</th>\n",
       "      <th>csm_review</th>\n",
       "      <th>need_to_know</th>\n",
       "      <th>par_rating</th>\n",
       "      <th>kids_rating</th>\n",
       "      <th>csm_rating</th>\n",
       "      <th>Author</th>\n",
       "      <th>Genre</th>\n",
       "      <th>...</th>\n",
       "      <th>Publisher's recommended age(s)</th>\n",
       "      <th>Number of pages</th>\n",
       "      <th>Available on</th>\n",
       "      <th>Last updated</th>\n",
       "      <th>Illustrator</th>\n",
       "      <th>Authors</th>\n",
       "      <th>Awards</th>\n",
       "      <th>Publishers</th>\n",
       "      <th>Award</th>\n",
       "      <th>Illustrators</th>\n",
       "    </tr>\n",
       "  </thead>\n",
       "  <tbody>\n",
       "    <tr>\n",
       "      <th>812</th>\n",
       "      <td>Stone Rabbit Series</td>\n",
       "      <td>Time-travel comic mixes cartoon mayhem, some l...</td>\n",
       "      <td>Stone Rabbit is just living an ordinary life -...</td>\n",
       "      <td>This funny, silly comic book series is a good ...</td>\n",
       "      <td>Parents need to know that although there's qui...</td>\n",
       "      <td>NaN</td>\n",
       "      <td>6.0</td>\n",
       "      <td>7</td>\n",
       "      <td>Erik Craddock</td>\n",
       "      <td>Humor</td>\n",
       "      <td>...</td>\n",
       "      <td>7 - 10</td>\n",
       "      <td>96.0</td>\n",
       "      <td>NaN</td>\n",
       "      <td>July 22, 2019</td>\n",
       "      <td>Erik Craddock</td>\n",
       "      <td>NaN</td>\n",
       "      <td>NaN</td>\n",
       "      <td>NaN</td>\n",
       "      <td>NaN</td>\n",
       "      <td>NaN</td>\n",
       "    </tr>\n",
       "  </tbody>\n",
       "</table>\n",
       "<p>1 rows × 24 columns</p>\n",
       "</div>"
      ],
      "text/plain": [
       "                   title                                        description  \\\n",
       "812  Stone Rabbit Series  Time-travel comic mixes cartoon mayhem, some l...   \n",
       "\n",
       "                                                  plot  \\\n",
       "812  Stone Rabbit is just living an ordinary life -...   \n",
       "\n",
       "                                            csm_review  \\\n",
       "812  This funny, silly comic book series is a good ...   \n",
       "\n",
       "                                          need_to_know  par_rating  \\\n",
       "812  Parents need to know that although there's qui...         NaN   \n",
       "\n",
       "     kids_rating  csm_rating         Author  Genre  ...  \\\n",
       "812          6.0           7  Erik Craddock  Humor  ...   \n",
       "\n",
       "    Publisher's recommended age(s) Number of pages Available on  \\\n",
       "812                         7 - 10            96.0          NaN   \n",
       "\n",
       "      Last updated    Illustrator  Authors Awards Publishers Award  \\\n",
       "812  July 22, 2019  Erik Craddock      NaN    NaN        NaN   NaN   \n",
       "\n",
       "    Illustrators  \n",
       "812          NaN  \n",
       "\n",
       "[1 rows x 24 columns]"
      ]
     },
     "execution_count": 5,
     "metadata": {},
     "output_type": "execute_result"
    }
   ],
   "source": [
    "duplicateRowsTrain = train_set[train_set.duplicated()]\n",
    "duplicateRowsTrain"
   ]
  },
  {
   "cell_type": "code",
   "execution_count": 6,
   "metadata": {},
   "outputs": [],
   "source": [
    "train_set.drop(812, inplace=True)"
   ]
  },
  {
   "cell_type": "code",
   "execution_count": 7,
   "metadata": {},
   "outputs": [
    {
     "data": {
      "text/plain": [
       "0"
      ]
     },
     "execution_count": 7,
     "metadata": {},
     "output_type": "execute_result"
    }
   ],
   "source": [
    "duplicateRowsTrain = train_set[train_set.duplicated()]\n",
    "len(duplicateRowsTrain)"
   ]
  },
  {
   "cell_type": "code",
   "execution_count": 8,
   "metadata": {},
   "outputs": [
    {
     "data": {
      "text/plain": [
       "0"
      ]
     },
     "execution_count": 8,
     "metadata": {},
     "output_type": "execute_result"
    }
   ],
   "source": [
    "duplicateRowsTest = test_set[test_set.duplicated()]\n",
    "len(duplicateRowsTest)"
   ]
  },
  {
   "cell_type": "code",
   "execution_count": 9,
   "metadata": {},
   "outputs": [
    {
     "data": {
      "text/plain": [
       "4     0.135739\n",
       "14    0.109966\n",
       "9     0.107388\n",
       "8     0.103093\n",
       "13    0.096220\n",
       "10    0.096220\n",
       "12    0.086770\n",
       "3     0.048110\n",
       "15    0.037801\n",
       "6     0.037801\n",
       "11    0.034364\n",
       "5     0.034364\n",
       "7     0.029210\n",
       "2     0.024914\n",
       "16    0.015464\n",
       "17    0.002577\n",
       "Name: csm_rating, dtype: float64"
      ]
     },
     "execution_count": 9,
     "metadata": {},
     "output_type": "execute_result"
    }
   ],
   "source": [
    "test_set['csm_rating'].value_counts() / len(test_set)"
   ]
  },
  {
   "cell_type": "code",
   "execution_count": 10,
   "metadata": {},
   "outputs": [
    {
     "data": {
      "text/plain": [
       "4     0.135455\n",
       "14    0.109869\n",
       "9     0.107074\n",
       "8     0.103204\n",
       "10    0.096538\n",
       "13    0.096538\n",
       "12    0.086433\n",
       "3     0.048592\n",
       "15    0.037841\n",
       "6     0.037626\n",
       "5     0.034186\n",
       "11    0.033971\n",
       "7     0.028811\n",
       "2     0.025371\n",
       "16    0.015266\n",
       "17    0.003225\n",
       "Name: csm_rating, dtype: float64"
      ]
     },
     "execution_count": 10,
     "metadata": {},
     "output_type": "execute_result"
    }
   ],
   "source": [
    "train_set['csm_rating'].value_counts() / len(train_set)"
   ]
  },
  {
   "cell_type": "code",
   "execution_count": 11,
   "metadata": {},
   "outputs": [
    {
     "data": {
      "text/html": [
       "<div>\n",
       "<style scoped>\n",
       "    .dataframe tbody tr th:only-of-type {\n",
       "        vertical-align: middle;\n",
       "    }\n",
       "\n",
       "    .dataframe tbody tr th {\n",
       "        vertical-align: top;\n",
       "    }\n",
       "\n",
       "    .dataframe thead th {\n",
       "        text-align: right;\n",
       "    }\n",
       "</style>\n",
       "<table border=\"1\" class=\"dataframe\">\n",
       "  <thead>\n",
       "    <tr style=\"text-align: right;\">\n",
       "      <th></th>\n",
       "      <th>title</th>\n",
       "      <th>description</th>\n",
       "      <th>plot</th>\n",
       "      <th>csm_review</th>\n",
       "      <th>need_to_know</th>\n",
       "      <th>par_rating</th>\n",
       "      <th>kids_rating</th>\n",
       "      <th>csm_rating</th>\n",
       "      <th>Author</th>\n",
       "      <th>Genre</th>\n",
       "      <th>...</th>\n",
       "      <th>Publisher's recommended age(s)</th>\n",
       "      <th>Number of pages</th>\n",
       "      <th>Available on</th>\n",
       "      <th>Last updated</th>\n",
       "      <th>Illustrator</th>\n",
       "      <th>Authors</th>\n",
       "      <th>Awards</th>\n",
       "      <th>Publishers</th>\n",
       "      <th>Award</th>\n",
       "      <th>Illustrators</th>\n",
       "    </tr>\n",
       "  </thead>\n",
       "  <tbody>\n",
       "    <tr>\n",
       "      <th>5779</th>\n",
       "      <td>Bloodhound: Beka Cooper, Book 2</td>\n",
       "      <td>Second book in fantasy series is more mature t...</td>\n",
       "      <td>BLOODHOUND finds young policewoman -- aka \"Dog...</td>\n",
       "      <td>Like its predecessor, Terrier, Bloodhound is m...</td>\n",
       "      <td>Parents need to know that this fantasy/crime s...</td>\n",
       "      <td>13.0</td>\n",
       "      <td>12.0</td>\n",
       "      <td>12</td>\n",
       "      <td>Tamora Pierce</td>\n",
       "      <td>Fantasy</td>\n",
       "      <td>...</td>\n",
       "      <td>12 - 17</td>\n",
       "      <td>550.0</td>\n",
       "      <td>NaN</td>\n",
       "      <td>June 19, 2019</td>\n",
       "      <td>NaN</td>\n",
       "      <td>NaN</td>\n",
       "      <td>NaN</td>\n",
       "      <td>NaN</td>\n",
       "      <td>NaN</td>\n",
       "      <td>NaN</td>\n",
       "    </tr>\n",
       "    <tr>\n",
       "      <th>2</th>\n",
       "      <td>The School for Good and Evil, Book 1</td>\n",
       "      <td>Fractured fairy tale has plenty of twists for ...</td>\n",
       "      <td>When best friends Sophie and Agatha are stolen...</td>\n",
       "      <td>The School for Good and Evil is no run-of-the-...</td>\n",
       "      <td>Parents need to know that The School for Good ...</td>\n",
       "      <td>11.0</td>\n",
       "      <td>11.0</td>\n",
       "      <td>8</td>\n",
       "      <td>Soman Chainani</td>\n",
       "      <td>Fairy Tale</td>\n",
       "      <td>...</td>\n",
       "      <td>8 - 17</td>\n",
       "      <td>496.0</td>\n",
       "      <td>Nook, Audiobook (unabridged), Hardback, iBooks...</td>\n",
       "      <td>October 18, 2017</td>\n",
       "      <td>Iacopo Bruno</td>\n",
       "      <td>NaN</td>\n",
       "      <td>NaN</td>\n",
       "      <td>NaN</td>\n",
       "      <td>NaN</td>\n",
       "      <td>NaN</td>\n",
       "    </tr>\n",
       "  </tbody>\n",
       "</table>\n",
       "<p>2 rows × 24 columns</p>\n",
       "</div>"
      ],
      "text/plain": [
       "                                     title  \\\n",
       "5779       Bloodhound: Beka Cooper, Book 2   \n",
       "2     The School for Good and Evil, Book 1   \n",
       "\n",
       "                                            description  \\\n",
       "5779  Second book in fantasy series is more mature t...   \n",
       "2     Fractured fairy tale has plenty of twists for ...   \n",
       "\n",
       "                                                   plot  \\\n",
       "5779  BLOODHOUND finds young policewoman -- aka \"Dog...   \n",
       "2     When best friends Sophie and Agatha are stolen...   \n",
       "\n",
       "                                             csm_review  \\\n",
       "5779  Like its predecessor, Terrier, Bloodhound is m...   \n",
       "2     The School for Good and Evil is no run-of-the-...   \n",
       "\n",
       "                                           need_to_know  par_rating  \\\n",
       "5779  Parents need to know that this fantasy/crime s...        13.0   \n",
       "2     Parents need to know that The School for Good ...        11.0   \n",
       "\n",
       "      kids_rating  csm_rating          Author       Genre  ...  \\\n",
       "5779         12.0          12   Tamora Pierce     Fantasy  ...   \n",
       "2            11.0           8  Soman Chainani  Fairy Tale  ...   \n",
       "\n",
       "     Publisher's recommended age(s) Number of pages  \\\n",
       "5779                        12 - 17           550.0   \n",
       "2                            8 - 17           496.0   \n",
       "\n",
       "                                           Available on      Last updated  \\\n",
       "5779                                                NaN     June 19, 2019   \n",
       "2     Nook, Audiobook (unabridged), Hardback, iBooks...  October 18, 2017   \n",
       "\n",
       "       Illustrator  Authors Awards Publishers Award Illustrators  \n",
       "5779           NaN      NaN    NaN        NaN   NaN          NaN  \n",
       "2     Iacopo Bruno      NaN    NaN        NaN   NaN          NaN  \n",
       "\n",
       "[2 rows x 24 columns]"
      ]
     },
     "execution_count": 11,
     "metadata": {},
     "output_type": "execute_result"
    }
   ],
   "source": [
    "train_set.head(2)"
   ]
  },
  {
   "cell_type": "markdown",
   "metadata": {},
   "source": [
    "## Save Train and Test Sets"
   ]
  },
  {
   "cell_type": "code",
   "execution_count": 12,
   "metadata": {},
   "outputs": [],
   "source": [
    "train_set.to_csv('csv/train.csv', index=False, float_format = '%.12g')\n",
    "test_set.to_csv('csv/test.csv', index=False, float_format= '%.12g')"
   ]
  },
  {
   "cell_type": "markdown",
   "metadata": {},
   "source": [
    "## EDA"
   ]
  },
  {
   "cell_type": "code",
   "execution_count": 13,
   "metadata": {},
   "outputs": [
    {
     "name": "stderr",
     "output_type": "stream",
     "text": [
      "/home/evan/anaconda3/lib/python3.7/site-packages/numpy/lib/histograms.py:829: RuntimeWarning: invalid value encountered in greater_equal\n",
      "  keep = (tmp_a >= first_edge)\n",
      "/home/evan/anaconda3/lib/python3.7/site-packages/numpy/lib/histograms.py:830: RuntimeWarning: invalid value encountered in less_equal\n",
      "  keep &= (tmp_a <= last_edge)\n"
     ]
    },
    {
     "data": {
      "image/png": "[encoded data removed]",
      "text/plain": [
       "<Figure size 720x720 with 20 Axes>"
      ]
     },
     "metadata": {
      "needs_background": "light"
     },
     "output_type": "display_data"
    }
   ],
   "source": [
    "sns.pairplot(train_set);"
   ]
  },
  {
   "cell_type": "code",
   "execution_count": 14,
   "metadata": {},
   "outputs": [
    {
     "data": {
      "application/vnd.jupyter.widget-view+json": {
       "model_id": "5b8c2c796bc3473688d0749ec8e4810d",
       "version_major": 2,
       "version_minor": 0
      },
      "text/plain": [
       "HBox(children=(FloatProgress(value=0.0, description='variables', max=24.0, style=ProgressStyle(description_wid…"
      ]
     },
     "metadata": {},
     "output_type": "display_data"
    },
    {
     "name": "stdout",
     "output_type": "stream",
     "text": [
      "\n"
     ]
    },
    {
     "data": {
      "application/vnd.jupyter.widget-view+json": {
       "model_id": "c60304c43b6d419a9bff524e7c120309",
       "version_major": 2,
       "version_minor": 0
      },
      "text/plain": [
       "HBox(children=(FloatProgress(value=0.0, description='correlations', max=5.0, style=ProgressStyle(description_w…"
      ]
     },
     "metadata": {},
     "output_type": "display_data"
    },
    {
     "name": "stdout",
     "output_type": "stream",
     "text": [
      "\n"
     ]
    },
    {
     "data": {
      "application/vnd.jupyter.widget-view+json": {
       "model_id": "04f6218f86d54dd68ccab23eece81329",
       "version_major": 2,
       "version_minor": 0
      },
      "text/plain": [
       "HBox(children=(FloatProgress(value=0.0, description='interactions [continuous]', max=16.0, style=ProgressStyle…"
      ]
     },
     "metadata": {},
     "output_type": "display_data"
    },
    {
     "name": "stdout",
     "output_type": "stream",
     "text": [
      "\n"
     ]
    },
    {
     "data": {
      "application/vnd.jupyter.widget-view+json": {
       "model_id": "1d1b7690b9464682bc971e4c6565dfcb",
       "version_major": 2,
       "version_minor": 0
      },
      "text/plain": [
       "HBox(children=(FloatProgress(value=0.0, description='table', max=1.0, style=ProgressStyle(description_width='i…"
      ]
     },
     "metadata": {},
     "output_type": "display_data"
    },
    {
     "name": "stdout",
     "output_type": "stream",
     "text": [
      "\n"
     ]
    },
    {
     "data": {
      "application/vnd.jupyter.widget-view+json": {
       "model_id": "5d4f8c5f02064435a99baa475099a427",
       "version_major": 2,
       "version_minor": 0
      },
      "text/plain": [
       "HBox(children=(FloatProgress(value=0.0, description='missing', max=4.0, style=ProgressStyle(description_width=…"
      ]
     },
     "metadata": {},
     "output_type": "display_data"
    },
    {
     "name": "stdout",
     "output_type": "stream",
     "text": [
      "\n"
     ]
    },
    {
     "data": {
      "application/vnd.jupyter.widget-view+json": {
       "model_id": "83fc4435c6a7460093f0e8b2b7cc428a",
       "version_major": 2,
       "version_minor": 0
      },
      "text/plain": [
       "HBox(children=(FloatProgress(value=0.0, description='warnings', max=3.0, style=ProgressStyle(description_width…"
      ]
     },
     "metadata": {},
     "output_type": "display_data"
    },
    {
     "name": "stdout",
     "output_type": "stream",
     "text": [
      "\n"
     ]
    },
    {
     "data": {
      "application/vnd.jupyter.widget-view+json": {
       "model_id": "0af1a0d957954963b6c40b1045634120",
       "version_major": 2,
       "version_minor": 0
      },
      "text/plain": [
       "HBox(children=(FloatProgress(value=0.0, description='package', max=1.0, style=ProgressStyle(description_width=…"
      ]
     },
     "metadata": {},
     "output_type": "display_data"
    },
    {
     "name": "stdout",
     "output_type": "stream",
     "text": [
      "\n"
     ]
    },
    {
     "data": {
      "application/vnd.jupyter.widget-view+json": {
       "model_id": "7183168dc7b74dfeb4ea06cc2cd6d99f",
       "version_major": 2,
       "version_minor": 0
      },
      "text/plain": [
       "HBox(children=(FloatProgress(value=0.0, description='build report structure', max=1.0, style=ProgressStyle(des…"
      ]
     },
     "metadata": {},
     "output_type": "display_data"
    },
    {
     "name": "stdout",
     "output_type": "stream",
     "text": [
      "\n"
     ]
    }
   ],
   "source": [
    "profile = ProfileReport(train_set.reset_index(drop=True), title='Pandas Profiling Report', html={'style':{'full_width':True}}, correlations={\"cramers\": {\"calculate\": False}})"
   ]
  },
  {
   "cell_type": "code",
   "execution_count": 15,
   "metadata": {},
   "outputs": [
    {
     "name": "stdout",
     "output_type": "stream",
     "text": [
      "mkdir: cannot create directory ‘lexile/reports’: File exists\n"
     ]
    }
   ],
   "source": [
    "!mkdir lexile/reports"
   ]
  },
  {
   "cell_type": "code",
   "execution_count": 16,
   "metadata": {},
   "outputs": [],
   "source": [
    "profile.to_file(output_file=\"lexile/reports/train_eda.html\")"
   ]
  }
 ],
 "metadata": {
  "kernelspec": {
   "display_name": "base",
   "language": "python",
   "name": "base"
  },
  "language_info": {
   "codemirror_mode": {
    "name": "ipython",
    "version": 3
   },
   "file_extension": ".py",
   "mimetype": "text/x-python",
   "name": "python",
   "nbconvert_exporter": "python",
   "pygments_lexer": "ipython3",
   "version": "3.7.4"
  }
 },
 "nbformat": 4,
 "nbformat_minor": 4
}
