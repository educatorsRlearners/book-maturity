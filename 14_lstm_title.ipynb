{
 "cells": [
  {
   "cell_type": "code",
   "execution_count": 1,
   "metadata": {
    "colab": {
     "base_uri": "https://localhost:8080/",
     "height": 125
    },
    "colab_type": "code",
    "executionInfo": {
     "elapsed": 25483,
     "status": "ok",
     "timestamp": 1586249087604,
     "user": {
      "displayName": "Evan Simpson",
      "photoUrl": "https://lh3.googleusercontent.com/a-/AOh14Gh4p47FxkA9aTnFpdt9dZI0LNlEYYizCC50unaC7Q=s64",
      "userId": "08573321944937795410"
     },
     "user_tz": -120
    },
    "id": "9nn-YIyzJ09Y",
    "outputId": "a6fe45da-7e8f-457c-bc4d-e9652d01e939"
   },
   "outputs": [
    {
     "name": "stdout",
     "output_type": "stream",
     "text": [
      "Go to this URL in a browser: https://accounts.google.com/o/oauth2/auth?client_id=947318989803-6bn6qk8qdgf4n4g3pfee6491hc0brc4i.apps.googleusercontent.com&redirect_uri=urn%3aietf%3awg%3aoauth%3a2.0%3aoob&response_type=code&scope=email%20https%3a%2f%2fwww.googleapis.com%2fauth%2fdocs.test%20https%3a%2f%2fwww.googleapis.com%2fauth%2fdrive%20https%3a%2f%2fwww.googleapis.com%2fauth%2fdrive.photos.readonly%20https%3a%2f%2fwww.googleapis.com%2fauth%2fpeopleapi.readonly\n",
      "\n",
      "Enter your authorization code:\n",
      "··········\n",
      "Mounted at /content/drive\n"
     ]
    }
   ],
   "source": [
    "from google.colab import drive\n",
    "drive.mount('/content/drive')"
   ]
  },
  {
   "cell_type": "code",
   "execution_count": null,
   "metadata": {
    "colab": {},
    "colab_type": "code",
    "id": "rhUo7OzGQl4Z"
   },
   "outputs": [],
   "source": [
    "import pandas as pd\n",
    "import numpy as np\n",
    "import tensorflow as tf\n",
    "from math import sqrt\n",
    "\n",
    "from tensorflow.keras.layers import Input, Dense, Embedding, LSTM, Activation, GlobalMaxPooling1D\n",
    "from tensorflow.keras.preprocessing.text import Tokenizer\n",
    "from tensorflow.keras.preprocessing.sequence import pad_sequences\n",
    "\n",
    "from tensorflow.keras.models import Sequential\n",
    "from tensorflow.keras.callbacks import ReduceLROnPlateau, EarlyStopping\n",
    "\n",
    "import matplotlib.pyplot as plt\n",
    "\n",
    "from sklearn.model_selection import StratifiedShuffleSplit"
   ]
  },
  {
   "cell_type": "code",
   "execution_count": null,
   "metadata": {
    "colab": {},
    "colab_type": "code",
    "id": "2pNg4ay8JZmg"
   },
   "outputs": [],
   "source": [
    "#Run Local\n",
    "#df = pd.read_csv(\"csv/book_info_complete.csv\")\n",
    "#Run on COLAB\n",
    "df = pd.read_csv(\"/content/drive/My Drive/final_project/book_info_complete.csv\")"
   ]
  },
  {
   "cell_type": "code",
   "execution_count": 4,
   "metadata": {
    "colab": {
     "base_uri": "https://localhost:8080/",
     "height": 301
    },
    "colab_type": "code",
    "executionInfo": {
     "elapsed": 568,
     "status": "ok",
     "timestamp": 1586249103026,
     "user": {
      "displayName": "Evan Simpson",
      "photoUrl": "https://lh3.googleusercontent.com/a-/AOh14Gh4p47FxkA9aTnFpdt9dZI0LNlEYYizCC50unaC7Q=s64",
      "userId": "08573321944937795410"
     },
     "user_tz": -120
    },
    "id": "5hNMh6xrJZmm",
    "outputId": "88226434-cacf-4968-a364-f5de97b384b7"
   },
   "outputs": [
    {
     "name": "stdout",
     "output_type": "stream",
     "text": [
      "<class 'pandas.core.frame.DataFrame'>\n",
      "RangeIndex: 5816 entries, 0 to 5815\n",
      "Data columns (total 9 columns):\n",
      " #   Column            Non-Null Count  Dtype \n",
      "---  ------            --------------  ----- \n",
      " 0   title             5816 non-null   object\n",
      " 1   description       5816 non-null   object\n",
      " 2   plot              5816 non-null   object\n",
      " 3   csm_review        5816 non-null   object\n",
      " 4   need_to_know      5816 non-null   object\n",
      " 5   csm_rating        5816 non-null   int64 \n",
      " 6   Genre             5816 non-null   object\n",
      " 7   Book type         5816 non-null   object\n",
      " 8   Publication date  5816 non-null   int64 \n",
      "dtypes: int64(2), object(7)\n",
      "memory usage: 409.1+ KB\n"
     ]
    }
   ],
   "source": [
    "df = df.dropna(axis=1)\n",
    "df[\"Publication date\"] = df[\"Publication date\"].str[-4:].astype(int)\n",
    "df = df.drop(\"Last updated\", axis=1)\n",
    "df.info()"
   ]
  },
  {
   "cell_type": "markdown",
   "metadata": {
    "colab_type": "text",
    "id": "a1RnxUyXJZmx"
   },
   "source": [
    "## Create the splits"
   ]
  },
  {
   "cell_type": "code",
   "execution_count": null,
   "metadata": {
    "colab": {},
    "colab_type": "code",
    "id": "M0_-59xOJZmy"
   },
   "outputs": [],
   "source": [
    "def splitter(df):\n",
    "    split = StratifiedShuffleSplit(n_splits=1, test_size=0.2, random_state=999)\n",
    "    for train_index, test_index in split.split(df, df['csm_rating']):\n",
    "        train_data= df.loc[train_index]\n",
    "        test_data = df.loc[test_index]\n",
    "    \n",
    "    \n",
    "    return train_data, test_data"
   ]
  },
  {
   "cell_type": "code",
   "execution_count": null,
   "metadata": {
    "colab": {},
    "colab_type": "code",
    "id": "3wkFIijOJZm4"
   },
   "outputs": [],
   "source": [
    "train_data, test_data = splitter(df)"
   ]
  },
  {
   "cell_type": "code",
   "execution_count": null,
   "metadata": {
    "colab": {},
    "colab_type": "code",
    "id": "YjI0Lfc8JZm9"
   },
   "outputs": [],
   "source": [
    "x_tr, y_tr = train_data['title'].values, train_data[\"csm_rating\"].values\n",
    "x_val, y_val = test_data[\"title\"].values, test_data[\"csm_rating\"].values"
   ]
  },
  {
   "cell_type": "code",
   "execution_count": 8,
   "metadata": {
    "colab": {
     "base_uri": "https://localhost:8080/",
     "height": 34
    },
    "colab_type": "code",
    "executionInfo": {
     "elapsed": 470,
     "status": "ok",
     "timestamp": 1586249109804,
     "user": {
      "displayName": "Evan Simpson",
      "photoUrl": "https://lh3.googleusercontent.com/a-/AOh14Gh4p47FxkA9aTnFpdt9dZI0LNlEYYizCC50unaC7Q=s64",
      "userId": "08573321944937795410"
     },
     "user_tz": -120
    },
    "id": "64omNypEJZnC",
    "outputId": "bfa90e82-052e-4e82-90f9-e16c8136ab6a"
   },
   "outputs": [
    {
     "name": "stdout",
     "output_type": "stream",
     "text": [
      "(4652,) (4652,)\n"
     ]
    }
   ],
   "source": [
    "print(x_tr.shape, y_tr.shape)"
   ]
  },
  {
   "cell_type": "code",
   "execution_count": 9,
   "metadata": {
    "colab": {
     "base_uri": "https://localhost:8080/",
     "height": 34
    },
    "colab_type": "code",
    "executionInfo": {
     "elapsed": 496,
     "status": "ok",
     "timestamp": 1586249110848,
     "user": {
      "displayName": "Evan Simpson",
      "photoUrl": "https://lh3.googleusercontent.com/a-/AOh14Gh4p47FxkA9aTnFpdt9dZI0LNlEYYizCC50unaC7Q=s64",
      "userId": "08573321944937795410"
     },
     "user_tz": -120
    },
    "id": "6SCDNHa2JZnJ",
    "outputId": "8c1e61c7-1375-4759-d262-2cda41ae2d4c"
   },
   "outputs": [
    {
     "name": "stdout",
     "output_type": "stream",
     "text": [
      "(1164,) (1164,)\n"
     ]
    }
   ],
   "source": [
    "print(x_val.shape, y_val.shape)"
   ]
  },
  {
   "cell_type": "markdown",
   "metadata": {
    "colab_type": "text",
    "id": "Z1CH5m22JZnO"
   },
   "source": [
    "## Prepare the Data"
   ]
  },
  {
   "cell_type": "code",
   "execution_count": 10,
   "metadata": {
    "colab": {
     "base_uri": "https://localhost:8080/",
     "height": 52
    },
    "colab_type": "code",
    "executionInfo": {
     "elapsed": 741,
     "status": "ok",
     "timestamp": 1586249113105,
     "user": {
      "displayName": "Evan Simpson",
      "photoUrl": "https://lh3.googleusercontent.com/a-/AOh14Gh4p47FxkA9aTnFpdt9dZI0LNlEYYizCC50unaC7Q=s64",
      "userId": "08573321944937795410"
     },
     "user_tz": -120
    },
    "id": "liitdrp9JZnP",
    "outputId": "cfe4d535-efbd-401b-8366-b87d2c4bc2ce"
   },
   "outputs": [
    {
     "name": "stdout",
     "output_type": "stream",
     "text": [
      "27\n",
      "1\n"
     ]
    }
   ],
   "source": [
    "#Tokenize the sentences\n",
    "tokenizer = Tokenizer()\n",
    "\n",
    "#preparing vocabulary\n",
    "tokenizer.fit_on_texts(list(x_tr))\n",
    "\n",
    "#converting text into integer sequences\n",
    "x_tr_seq  = tokenizer.texts_to_sequences(x_tr) \n",
    "x_val_seq = tokenizer.texts_to_sequences(x_val)\n",
    "\n",
    "print(len(max(x_tr_seq, key=len)))\n",
    "max_length = len(max(x_tr_seq, key=len))\n",
    "print(len(min(x_tr_seq, key=len)))"
   ]
  },
  {
   "cell_type": "code",
   "execution_count": 11,
   "metadata": {
    "colab": {
     "base_uri": "https://localhost:8080/",
     "height": 52
    },
    "colab_type": "code",
    "executionInfo": {
     "elapsed": 648,
     "status": "ok",
     "timestamp": 1586249120333,
     "user": {
      "displayName": "Evan Simpson",
      "photoUrl": "https://lh3.googleusercontent.com/a-/AOh14Gh4p47FxkA9aTnFpdt9dZI0LNlEYYizCC50unaC7Q=s64",
      "userId": "08573321944937795410"
     },
     "user_tz": -120
    },
    "id": "nGP4OL9XJZnT",
    "outputId": "c1b75e51-a48c-4621-d474-e7f832c0d10e"
   },
   "outputs": [
    {
     "name": "stdout",
     "output_type": "stream",
     "text": [
      "27\n",
      "27\n"
     ]
    }
   ],
   "source": [
    "#padding to prepare sequences of same length\n",
    "x_tr_seq  = pad_sequences(x_tr_seq, maxlen=max_length)\n",
    "x_val_seq = pad_sequences(x_val_seq, maxlen=max_length)\n",
    "print(len(max(x_tr_seq, key=len)))\n",
    "print(len(min(x_tr_seq, key=len)))"
   ]
  },
  {
   "cell_type": "code",
   "execution_count": 12,
   "metadata": {
    "colab": {
     "base_uri": "https://localhost:8080/",
     "height": 34
    },
    "colab_type": "code",
    "executionInfo": {
     "elapsed": 787,
     "status": "ok",
     "timestamp": 1586249121909,
     "user": {
      "displayName": "Evan Simpson",
      "photoUrl": "https://lh3.googleusercontent.com/a-/AOh14Gh4p47FxkA9aTnFpdt9dZI0LNlEYYizCC50unaC7Q=s64",
      "userId": "08573321944937795410"
     },
     "user_tz": -120
    },
    "id": "NuoM9u8HJZnZ",
    "outputId": "ba3683dc-b033-4d36-e456-975ed254b167"
   },
   "outputs": [
    {
     "name": "stdout",
     "output_type": "stream",
     "text": [
      "5428\n"
     ]
    }
   ],
   "source": [
    "size_of_vocabulary=len(tokenizer.word_index) + 1 #+1 for padding\n",
    "print(size_of_vocabulary)"
   ]
  },
  {
   "cell_type": "markdown",
   "metadata": {
    "colab_type": "text",
    "id": "ThBDgrP8JZnf"
   },
   "source": [
    "## Create embeddings"
   ]
  },
  {
   "cell_type": "code",
   "execution_count": 13,
   "metadata": {
    "colab": {
     "base_uri": "https://localhost:8080/",
     "height": 34
    },
    "colab_type": "code",
    "executionInfo": {
     "elapsed": 753,
     "status": "ok",
     "timestamp": 1586249125103,
     "user": {
      "displayName": "Evan Simpson",
      "photoUrl": "https://lh3.googleusercontent.com/a-/AOh14Gh4p47FxkA9aTnFpdt9dZI0LNlEYYizCC50unaC7Q=s64",
      "userId": "08573321944937795410"
     },
     "user_tz": -120
    },
    "id": "VdR43fJQJZng",
    "outputId": "7fb92384-8dfb-409b-fb3e-5c13c508fdf9"
   },
   "outputs": [
    {
     "name": "stdout",
     "output_type": "stream",
     "text": [
      "Found 5427 unique tokens.\n"
     ]
    }
   ],
   "source": [
    "word_index = tokenizer.word_index\n",
    "print(\"Found %s unique tokens.\" % len(word_index))"
   ]
  },
  {
   "cell_type": "markdown",
   "metadata": {
    "colab_type": "text",
    "id": "uF9AT0LdJZnl"
   },
   "source": [
    "## Create the Model"
   ]
  },
  {
   "cell_type": "code",
   "execution_count": 17,
   "metadata": {
    "colab": {
     "base_uri": "https://localhost:8080/",
     "height": 354
    },
    "colab_type": "code",
    "executionInfo": {
     "elapsed": 746,
     "status": "ok",
     "timestamp": 1586249178787,
     "user": {
      "displayName": "Evan Simpson",
      "photoUrl": "https://lh3.googleusercontent.com/a-/AOh14Gh4p47FxkA9aTnFpdt9dZI0LNlEYYizCC50unaC7Q=s64",
      "userId": "08573321944937795410"
     },
     "user_tz": -120
    },
    "id": "aUdRk0UDJZnl",
    "outputId": "028bc176-2d54-4eed-974b-c83307cfb1d6"
   },
   "outputs": [
    {
     "name": "stdout",
     "output_type": "stream",
     "text": [
      "Model: \"sequential_1\"\n",
      "_________________________________________________________________\n",
      "Layer (type)                 Output Shape              Param #   \n",
      "=================================================================\n",
      "embedding_1 (Embedding)      (None, 27, 300)           1628400   \n",
      "_________________________________________________________________\n",
      "lstm_1 (LSTM)                (None, 27, 128)           219648    \n",
      "_________________________________________________________________\n",
      "global_max_pooling1d_1 (Glob (None, 128)               0         \n",
      "_________________________________________________________________\n",
      "dense_2 (Dense)              (None, 64)                8256      \n",
      "_________________________________________________________________\n",
      "dense_3 (Dense)              (None, 1)                 65        \n",
      "=================================================================\n",
      "Total params: 1,856,369\n",
      "Trainable params: 1,856,369\n",
      "Non-trainable params: 0\n",
      "_________________________________________________________________\n",
      "None\n"
     ]
    }
   ],
   "source": [
    "model=Sequential()\n",
    "\n",
    "#embedding layer\n",
    "model.add(Embedding(size_of_vocabulary,300,input_length=max_length,trainable=True)) \n",
    "\n",
    "#lstm layer\n",
    "model.add(LSTM(128,return_sequences=True,dropout=0.2))\n",
    "\n",
    "#Global Maxpooling\n",
    "model.add(GlobalMaxPooling1D())\n",
    "\n",
    "#Dense Layer\n",
    "model.add(Dense(64,activation='relu')) \n",
    "model.add(Dense(1,activation='relu')) \n",
    "\n",
    "#Add loss function, metrics, optimizer\n",
    "#optimizer = tf.keras.optimizers.RMSprop(0.001)\n",
    "\n",
    "model.compile(optimizer=\"RMSprop\", loss='mean_squared_error', metrics=[\"mae\"]) \n",
    "\n",
    "#Print summary of model\n",
    "print(model.summary())"
   ]
  },
  {
   "cell_type": "markdown",
   "metadata": {
    "colab_type": "text",
    "id": "hKZo_lzaJZnr"
   },
   "source": [
    "## Callbacks"
   ]
  },
  {
   "cell_type": "code",
   "execution_count": null,
   "metadata": {
    "colab": {},
    "colab_type": "code",
    "id": "Kl98dyhkJZns"
   },
   "outputs": [],
   "source": [
    "earlystop = EarlyStopping(patience=10)\n",
    "learning_rate_reduction = ReduceLROnPlateau(monitor='val_mae', \n",
    "                                            patience=2, \n",
    "                                            verbose=1, \n",
    "                                            factor=0.5, \n",
    "                                            min_lr=0.00001)\n",
    "\n",
    "callbacks = [earlystop, learning_rate_reduction]"
   ]
  },
  {
   "cell_type": "markdown",
   "metadata": {
    "colab_type": "text",
    "id": "op3MuPCKJZnx"
   },
   "source": [
    "## Fit the Model"
   ]
  },
  {
   "cell_type": "code",
   "execution_count": 19,
   "metadata": {
    "colab": {
     "base_uri": "https://localhost:8080/",
     "height": 727
    },
    "colab_type": "code",
    "executionInfo": {
     "elapsed": 11052,
     "status": "ok",
     "timestamp": 1586249196479,
     "user": {
      "displayName": "Evan Simpson",
      "photoUrl": "https://lh3.googleusercontent.com/a-/AOh14Gh4p47FxkA9aTnFpdt9dZI0LNlEYYizCC50unaC7Q=s64",
      "userId": "08573321944937795410"
     },
     "user_tz": -120
    },
    "id": "_I34WFwPJZny",
    "outputId": "0c29f610-4b5f-42a3-e800-f531fda1442e"
   },
   "outputs": [
    {
     "name": "stdout",
     "output_type": "stream",
     "text": [
      "Epoch 1/1000\n",
      "37/37 [==============================] - 1s 22ms/step - loss: 22.1392 - mae: 3.8417 - val_loss: 15.2338 - val_mae: 3.2965 - lr: 0.0010\n",
      "Epoch 2/1000\n",
      "37/37 [==============================] - 1s 15ms/step - loss: 15.1377 - mae: 3.2939 - val_loss: 14.8752 - val_mae: 3.2636 - lr: 0.0010\n",
      "Epoch 3/1000\n",
      "37/37 [==============================] - 1s 15ms/step - loss: 14.2096 - mae: 3.1827 - val_loss: 14.2455 - val_mae: 3.1960 - lr: 0.0010\n",
      "Epoch 4/1000\n",
      "37/37 [==============================] - 1s 15ms/step - loss: 12.1500 - mae: 2.9156 - val_loss: 12.2851 - val_mae: 2.9545 - lr: 0.0010\n",
      "Epoch 5/1000\n",
      "37/37 [==============================] - 1s 15ms/step - loss: 9.3937 - mae: 2.4787 - val_loss: 15.3951 - val_mae: 3.2035 - lr: 0.0010\n",
      "Epoch 6/1000\n",
      "37/37 [==============================] - 1s 14ms/step - loss: 7.0456 - mae: 2.0774 - val_loss: 11.0732 - val_mae: 2.6804 - lr: 0.0010\n",
      "Epoch 7/1000\n",
      "37/37 [==============================] - 1s 15ms/step - loss: 5.6821 - mae: 1.7950 - val_loss: 12.4985 - val_mae: 2.8456 - lr: 0.0010\n",
      "Epoch 8/1000\n",
      "34/37 [==========================>...] - ETA: 0s - loss: 4.8835 - mae: 1.6140\n",
      "Epoch 00008: ReduceLROnPlateau reducing learning rate to 0.0005000000237487257.\n",
      "37/37 [==============================] - 1s 14ms/step - loss: 4.8870 - mae: 1.6159 - val_loss: 11.8298 - val_mae: 2.6855 - lr: 0.0010\n",
      "Epoch 9/1000\n",
      "37/37 [==============================] - 1s 14ms/step - loss: 3.8216 - mae: 1.3717 - val_loss: 12.0749 - val_mae: 2.7206 - lr: 5.0000e-04\n",
      "Epoch 10/1000\n",
      "37/37 [==============================] - 1s 14ms/step - loss: 3.5383 - mae: 1.2904 - val_loss: 12.0452 - val_mae: 2.6787 - lr: 5.0000e-04\n",
      "Epoch 11/1000\n",
      "37/37 [==============================] - 1s 14ms/step - loss: 3.3113 - mae: 1.2234 - val_loss: 12.4988 - val_mae: 2.7152 - lr: 5.0000e-04\n",
      "Epoch 12/1000\n",
      "34/37 [==========================>...] - ETA: 0s - loss: 3.0863 - mae: 1.1721\n",
      "Epoch 00012: ReduceLROnPlateau reducing learning rate to 0.0002500000118743628.\n",
      "37/37 [==============================] - 1s 14ms/step - loss: 3.0570 - mae: 1.1703 - val_loss: 12.4707 - val_mae: 2.7052 - lr: 5.0000e-04\n",
      "Epoch 13/1000\n",
      "37/37 [==============================] - 1s 15ms/step - loss: 2.7244 - mae: 1.0584 - val_loss: 12.5634 - val_mae: 2.7098 - lr: 2.5000e-04\n",
      "Epoch 14/1000\n",
      "34/37 [==========================>...] - ETA: 0s - loss: 2.6573 - mae: 1.0302\n",
      "Epoch 00014: ReduceLROnPlateau reducing learning rate to 0.0001250000059371814.\n",
      "37/37 [==============================] - 1s 14ms/step - loss: 2.6347 - mae: 1.0292 - val_loss: 12.6200 - val_mae: 2.7159 - lr: 2.5000e-04\n",
      "Epoch 15/1000\n",
      "37/37 [==============================] - 1s 14ms/step - loss: 2.4420 - mae: 0.9770 - val_loss: 12.6676 - val_mae: 2.7340 - lr: 1.2500e-04\n",
      "Epoch 16/1000\n",
      "35/37 [===========================>..] - ETA: 0s - loss: 2.3784 - mae: 0.9536\n",
      "Epoch 00016: ReduceLROnPlateau reducing learning rate to 6.25000029685907e-05.\n",
      "37/37 [==============================] - 1s 14ms/step - loss: 2.4624 - mae: 0.9594 - val_loss: 12.6616 - val_mae: 2.7159 - lr: 1.2500e-04\n"
     ]
    }
   ],
   "source": [
    "history = model.fit(np.array(x_tr_seq),\n",
    "                    np.array(y_tr),\n",
    "                    batch_size=128,\n",
    "                    epochs=1000,\n",
    "                    validation_data=(np.array(x_val_seq),np.array(y_val)),\n",
    "                    verbose=1,\n",
    "                    callbacks=callbacks)"
   ]
  },
  {
   "cell_type": "code",
   "execution_count": 20,
   "metadata": {
    "colab": {
     "base_uri": "https://localhost:8080/",
     "height": 52
    },
    "colab_type": "code",
    "executionInfo": {
     "elapsed": 630,
     "status": "ok",
     "timestamp": 1586249207766,
     "user": {
      "displayName": "Evan Simpson",
      "photoUrl": "https://lh3.googleusercontent.com/a-/AOh14Gh4p47FxkA9aTnFpdt9dZI0LNlEYYizCC50unaC7Q=s64",
      "userId": "08573321944937795410"
     },
     "user_tz": -120
    },
    "id": "ojMu-A3wJZn4",
    "outputId": "0ed73ff7-1689-4346-bff7-c7f0af85cdf4"
   },
   "outputs": [
    {
     "name": "stdout",
     "output_type": "stream",
     "text": [
      "37/37 [==============================] - 0s 2ms/step - loss: 12.6642 - mae: 2.7159\n",
      "The val_mae is 2.716.\n"
     ]
    }
   ],
   "source": [
    "#evaluation \n",
    "val_loss, val_mae = model.evaluate(x_val_seq, y_val)\n",
    "\n",
    "print(\"The val_mae is %.3f.\" % val_mae)"
   ]
  },
  {
   "cell_type": "code",
   "execution_count": 21,
   "metadata": {
    "colab": {
     "base_uri": "https://localhost:8080/",
     "height": 238
    },
    "colab_type": "code",
    "executionInfo": {
     "elapsed": 873,
     "status": "error",
     "timestamp": 1586249209357,
     "user": {
      "displayName": "Evan Simpson",
      "photoUrl": "https://lh3.googleusercontent.com/a-/AOh14Gh4p47FxkA9aTnFpdt9dZI0LNlEYYizCC50unaC7Q=s64",
      "userId": "08573321944937795410"
     },
     "user_tz": -120
    },
    "id": "QX82za-8JZn_",
    "outputId": "34c18383-3a07-4aa3-b09b-bbfc02e26de9"
   },
   "outputs": [
    {
     "ename": "KeyError",
     "evalue": "ignored",
     "output_type": "error",
     "traceback": [
      "\u001b[0;31m---------------------------------------------------------------------------\u001b[0m",
      "\u001b[0;31mKeyError\u001b[0m                                  Traceback (most recent call last)",
      "\u001b[0;32m<ipython-input-21-b9d575144017>\u001b[0m in \u001b[0;36m<module>\u001b[0;34m()\u001b[0m\n\u001b[0;32m----> 1\u001b[0;31m \u001b[0mplt\u001b[0m\u001b[0;34m.\u001b[0m\u001b[0mplot\u001b[0m\u001b[0;34m(\u001b[0m\u001b[0mmodel\u001b[0m\u001b[0;34m.\u001b[0m\u001b[0mhistory\u001b[0m\u001b[0;34m.\u001b[0m\u001b[0mhistory\u001b[0m\u001b[0;34m[\u001b[0m\u001b[0;34m\"loss\"\u001b[0m\u001b[0;34m]\u001b[0m\u001b[0;34m,\u001b[0m \u001b[0mlabel\u001b[0m\u001b[0;34m=\u001b[0m\u001b[0;34m\"loss\"\u001b[0m\u001b[0;34m)\u001b[0m\u001b[0;34m;\u001b[0m\u001b[0;34m\u001b[0m\u001b[0;34m\u001b[0m\u001b[0m\n\u001b[0m\u001b[1;32m      2\u001b[0m \u001b[0mplt\u001b[0m\u001b[0;34m.\u001b[0m\u001b[0mplot\u001b[0m\u001b[0;34m(\u001b[0m\u001b[0mmodel\u001b[0m\u001b[0;34m.\u001b[0m\u001b[0mhistory\u001b[0m\u001b[0;34m.\u001b[0m\u001b[0mhistory\u001b[0m\u001b[0;34m[\u001b[0m\u001b[0;34m\"val_loss\"\u001b[0m\u001b[0;34m]\u001b[0m\u001b[0;34m,\u001b[0m \u001b[0mlabel\u001b[0m\u001b[0;34m=\u001b[0m\u001b[0;34m\"val_loss\"\u001b[0m\u001b[0;34m)\u001b[0m\u001b[0;34m;\u001b[0m\u001b[0;34m\u001b[0m\u001b[0;34m\u001b[0m\u001b[0m\n\u001b[1;32m      3\u001b[0m \u001b[0mplt\u001b[0m\u001b[0;34m.\u001b[0m\u001b[0mlegend\u001b[0m\u001b[0;34m(\u001b[0m\u001b[0;34m)\u001b[0m\u001b[0;34m;\u001b[0m\u001b[0;34m\u001b[0m\u001b[0;34m\u001b[0m\u001b[0m\n\u001b[1;32m      4\u001b[0m \u001b[0mplt\u001b[0m\u001b[0;34m.\u001b[0m\u001b[0mshow\u001b[0m\u001b[0;34m(\u001b[0m\u001b[0;34m)\u001b[0m\u001b[0;34m;\u001b[0m\u001b[0;34m\u001b[0m\u001b[0;34m\u001b[0m\u001b[0m\n\u001b[1;32m      5\u001b[0m \u001b[0mplt\u001b[0m\u001b[0;34m.\u001b[0m\u001b[0mclose\u001b[0m\u001b[0;34m(\u001b[0m\u001b[0;34m)\u001b[0m\u001b[0;34m;\u001b[0m\u001b[0;34m\u001b[0m\u001b[0;34m\u001b[0m\u001b[0m\n",
      "\u001b[0;31mKeyError\u001b[0m: 'loss'"
     ]
    }
   ],
   "source": [
    "plt.plot(model.history.history[\"loss\"], label=\"loss\");\n",
    "plt.plot(model.history.history[\"val_loss\"], label=\"val_loss\");\n",
    "plt.legend();\n",
    "plt.show();\n",
    "plt.close();\n",
    "\n",
    "plt.plot(model.history.history[\"mae\"], label=\"mae\");\n",
    "plt.plot(model.history.history[\"val_mae\"], label=\"val_mae\");\n",
    "plt.legend();"
   ]
  },
  {
   "cell_type": "markdown",
   "metadata": {
    "colab_type": "text",
    "id": "QSOY8AH2JZoF"
   },
   "source": [
    "## [Use Transfer Learning](https://www.analyticsvidhya.com/blog/2020/03/pretrained-word-embeddings-nlp/)"
   ]
  },
  {
   "cell_type": "code",
   "execution_count": 22,
   "metadata": {
    "colab": {
     "base_uri": "https://localhost:8080/",
     "height": 34
    },
    "colab_type": "code",
    "executionInfo": {
     "elapsed": 31347,
     "status": "ok",
     "timestamp": 1586249241598,
     "user": {
      "displayName": "Evan Simpson",
      "photoUrl": "https://lh3.googleusercontent.com/a-/AOh14Gh4p47FxkA9aTnFpdt9dZI0LNlEYYizCC50unaC7Q=s64",
      "userId": "08573321944937795410"
     },
     "user_tz": -120
    },
    "id": "GdKeDrv9JZoG",
    "outputId": "14e3519a-e558-48cc-fe16-e27dfc04eee1"
   },
   "outputs": [
    {
     "name": "stdout",
     "output_type": "stream",
     "text": [
      "Loaded 400000 word vectors.\n"
     ]
    }
   ],
   "source": [
    "# load the whole embedding into memory\n",
    "embeddings_index = dict()\n",
    "\n",
    "with open(\"/content/drive/My Drive/Colab Notebooks/glove.6B/glove.6B.300d.txt\") as f:\n",
    "\n",
    "    for line in f:\n",
    "        values = line.split()\n",
    "        word = values[0]\n",
    "        coefs = np.asarray(values[1:], dtype='float32')\n",
    "        embeddings_index[word] = coefs\n",
    "\n",
    "print('Loaded %s word vectors.' % len(embeddings_index))"
   ]
  },
  {
   "cell_type": "code",
   "execution_count": null,
   "metadata": {
    "colab": {},
    "colab_type": "code",
    "id": "dJqtmI0pJZoL"
   },
   "outputs": [],
   "source": [
    "# create a weight matrix for words in training docs\n",
    "embedding_matrix = np.zeros((size_of_vocabulary, 300))\n",
    "\n",
    "for word, i in tokenizer.word_index.items():\n",
    "    embedding_vector = embeddings_index.get(word)\n",
    "    if embedding_vector is not None:\n",
    "        embedding_matrix[i] = embedding_vector"
   ]
  },
  {
   "cell_type": "code",
   "execution_count": 24,
   "metadata": {
    "colab": {
     "base_uri": "https://localhost:8080/",
     "height": 354
    },
    "colab_type": "code",
    "executionInfo": {
     "elapsed": 1036,
     "status": "ok",
     "timestamp": 1586249251670,
     "user": {
      "displayName": "Evan Simpson",
      "photoUrl": "https://lh3.googleusercontent.com/a-/AOh14Gh4p47FxkA9aTnFpdt9dZI0LNlEYYizCC50unaC7Q=s64",
      "userId": "08573321944937795410"
     },
     "user_tz": -120
    },
    "id": "NGM-hGE4JZoQ",
    "outputId": "7edcf12e-b239-4f18-dea9-f8f5bb507376"
   },
   "outputs": [
    {
     "name": "stdout",
     "output_type": "stream",
     "text": [
      "Model: \"sequential_2\"\n",
      "_________________________________________________________________\n",
      "Layer (type)                 Output Shape              Param #   \n",
      "=================================================================\n",
      "embedding_2 (Embedding)      (None, 27, 300)           1628400   \n",
      "_________________________________________________________________\n",
      "lstm_2 (LSTM)                (None, 27, 128)           219648    \n",
      "_________________________________________________________________\n",
      "global_max_pooling1d_2 (Glob (None, 128)               0         \n",
      "_________________________________________________________________\n",
      "dense_4 (Dense)              (None, 64)                8256      \n",
      "_________________________________________________________________\n",
      "dense_5 (Dense)              (None, 1)                 65        \n",
      "=================================================================\n",
      "Total params: 1,856,369\n",
      "Trainable params: 1,856,369\n",
      "Non-trainable params: 0\n",
      "_________________________________________________________________\n",
      "None\n"
     ]
    }
   ],
   "source": [
    "model2=Sequential()\n",
    "\n",
    "#embedding layer\n",
    "model2.add(Embedding(size_of_vocabulary,300,input_length=max_length,trainable=True)) \n",
    "\n",
    "#lstm layer\n",
    "model2.add(LSTM(128,return_sequences=True,dropout=0.2))\n",
    "\n",
    "#Global Maxpooling\n",
    "model2.add(GlobalMaxPooling1D())\n",
    "\n",
    "#Dense Layer\n",
    "model2.add(Dense(64,activation='relu')) \n",
    "model2.add(Dense(1,activation='relu')) \n",
    "\n",
    "#Add loss function, metrics, optimizer\n",
    "#optimizer = tf.keras.optimizers.RMSprop(0.001)\n",
    "\n",
    "model2.compile(optimizer=\"RMSprop\", loss='mean_squared_error', metrics=[\"mae\"]) \n",
    "\n",
    "#Print summary of model\n",
    "print(model2.summary())"
   ]
  },
  {
   "cell_type": "code",
   "execution_count": 25,
   "metadata": {
    "colab": {
     "base_uri": "https://localhost:8080/",
     "height": 798
    },
    "colab_type": "code",
    "executionInfo": {
     "elapsed": 12509,
     "status": "ok",
     "timestamp": 1586249265000,
     "user": {
      "displayName": "Evan Simpson",
      "photoUrl": "https://lh3.googleusercontent.com/a-/AOh14Gh4p47FxkA9aTnFpdt9dZI0LNlEYYizCC50unaC7Q=s64",
      "userId": "08573321944937795410"
     },
     "user_tz": -120
    },
    "id": "o4IlOKDvJZoU",
    "outputId": "9009d5c7-c9e4-45b0-f1eb-ad54b26e9757"
   },
   "outputs": [
    {
     "name": "stdout",
     "output_type": "stream",
     "text": [
      "Epoch 1/1000\n",
      "37/37 [==============================] - 1s 22ms/step - loss: 23.3708 - mae: 3.9259 - val_loss: 15.0349 - val_mae: 3.2845 - lr: 0.0010\n",
      "Epoch 2/1000\n",
      "37/37 [==============================] - 1s 15ms/step - loss: 15.2558 - mae: 3.3010 - val_loss: 15.7236 - val_mae: 3.3302 - lr: 0.0010\n",
      "Epoch 3/1000\n",
      "37/37 [==============================] - 1s 15ms/step - loss: 15.0287 - mae: 3.2698 - val_loss: 14.8604 - val_mae: 3.2703 - lr: 0.0010\n",
      "Epoch 4/1000\n",
      "37/37 [==============================] - 1s 15ms/step - loss: 13.8881 - mae: 3.1480 - val_loss: 13.6825 - val_mae: 3.1223 - lr: 0.0010\n",
      "Epoch 5/1000\n",
      "37/37 [==============================] - 1s 15ms/step - loss: 11.0095 - mae: 2.7558 - val_loss: 12.7787 - val_mae: 2.9838 - lr: 0.0010\n",
      "Epoch 6/1000\n",
      "37/37 [==============================] - 1s 15ms/step - loss: 8.5447 - mae: 2.3413 - val_loss: 11.4953 - val_mae: 2.7946 - lr: 0.0010\n",
      "Epoch 7/1000\n",
      "37/37 [==============================] - 1s 15ms/step - loss: 6.4227 - mae: 1.9541 - val_loss: 11.3893 - val_mae: 2.7005 - lr: 0.0010\n",
      "Epoch 8/1000\n",
      "37/37 [==============================] - 1s 15ms/step - loss: 5.2412 - mae: 1.7123 - val_loss: 12.8625 - val_mae: 2.8320 - lr: 0.0010\n",
      "Epoch 9/1000\n",
      "37/37 [==============================] - ETA: 0s - loss: 4.5963 - mae: 1.5370\n",
      "Epoch 00009: ReduceLROnPlateau reducing learning rate to 0.0005000000237487257.\n",
      "37/37 [==============================] - 1s 15ms/step - loss: 4.5963 - mae: 1.5370 - val_loss: 12.9101 - val_mae: 2.8521 - lr: 0.0010\n",
      "Epoch 10/1000\n",
      "37/37 [==============================] - 1s 15ms/step - loss: 3.6376 - mae: 1.3160 - val_loss: 12.6976 - val_mae: 2.7797 - lr: 5.0000e-04\n",
      "Epoch 11/1000\n",
      "33/37 [=========================>....] - ETA: 0s - loss: 3.2799 - mae: 1.2338\n",
      "Epoch 00011: ReduceLROnPlateau reducing learning rate to 0.0002500000118743628.\n",
      "37/37 [==============================] - 1s 15ms/step - loss: 3.3259 - mae: 1.2381 - val_loss: 12.2357 - val_mae: 2.7358 - lr: 5.0000e-04\n",
      "Epoch 12/1000\n",
      "37/37 [==============================] - 1s 15ms/step - loss: 2.9458 - mae: 1.1297 - val_loss: 12.4945 - val_mae: 2.7431 - lr: 2.5000e-04\n",
      "Epoch 13/1000\n",
      "36/37 [============================>.] - ETA: 0s - loss: 2.8557 - mae: 1.0938\n",
      "Epoch 00013: ReduceLROnPlateau reducing learning rate to 0.0001250000059371814.\n",
      "37/37 [==============================] - 1s 15ms/step - loss: 2.8976 - mae: 1.0960 - val_loss: 12.5562 - val_mae: 2.7461 - lr: 2.5000e-04\n",
      "Epoch 14/1000\n",
      "37/37 [==============================] - 1s 15ms/step - loss: 2.7104 - mae: 1.0492 - val_loss: 12.6560 - val_mae: 2.7532 - lr: 1.2500e-04\n",
      "Epoch 15/1000\n",
      "36/37 [============================>.] - ETA: 0s - loss: 2.6602 - mae: 1.0295\n",
      "Epoch 00015: ReduceLROnPlateau reducing learning rate to 6.25000029685907e-05.\n",
      "37/37 [==============================] - 1s 15ms/step - loss: 2.6212 - mae: 1.0274 - val_loss: 12.6667 - val_mae: 2.7527 - lr: 1.2500e-04\n",
      "Epoch 16/1000\n",
      "37/37 [==============================] - 1s 15ms/step - loss: 2.5941 - mae: 1.0092 - val_loss: 12.8205 - val_mae: 2.7661 - lr: 6.2500e-05\n",
      "Epoch 17/1000\n",
      "37/37 [==============================] - ETA: 0s - loss: 2.5876 - mae: 0.9943\n",
      "Epoch 00017: ReduceLROnPlateau reducing learning rate to 3.125000148429535e-05.\n",
      "37/37 [==============================] - 1s 15ms/step - loss: 2.5876 - mae: 0.9943 - val_loss: 12.7708 - val_mae: 2.7636 - lr: 6.2500e-05\n"
     ]
    }
   ],
   "source": [
    "history = model2.fit(np.array(x_tr_seq),\n",
    "                    np.array(y_tr),\n",
    "                    batch_size=128,\n",
    "                    epochs=1000,\n",
    "                    validation_data=(np.array(x_val_seq),np.array(y_val)),\n",
    "                    verbose=1,\n",
    "                    callbacks=callbacks)"
   ]
  },
  {
   "cell_type": "code",
   "execution_count": 26,
   "metadata": {
    "colab": {
     "base_uri": "https://localhost:8080/",
     "height": 52
    },
    "colab_type": "code",
    "executionInfo": {
     "elapsed": 655,
     "status": "ok",
     "timestamp": 1586249272435,
     "user": {
      "displayName": "Evan Simpson",
      "photoUrl": "https://lh3.googleusercontent.com/a-/AOh14Gh4p47FxkA9aTnFpdt9dZI0LNlEYYizCC50unaC7Q=s64",
      "userId": "08573321944937795410"
     },
     "user_tz": -120
    },
    "id": "88gF08odJZoY",
    "outputId": "c6e9acb2-cb40-48af-ef3f-65c1e79c92c8"
   },
   "outputs": [
    {
     "name": "stdout",
     "output_type": "stream",
     "text": [
      "37/37 [==============================] - 0s 3ms/step - loss: 12.8958 - mae: 2.7636\n",
      "The val_mae is 2.764.\n"
     ]
    }
   ],
   "source": [
    "#evaluation \n",
    "_, val_mae = model2.evaluate(x_val_seq, y_val)\n",
    "\n",
    "print(\"The val_mae is %.3f.\" % val_mae)"
   ]
  },
  {
   "cell_type": "code",
   "execution_count": 27,
   "metadata": {
    "colab": {
     "base_uri": "https://localhost:8080/",
     "height": 107
    },
    "colab_type": "code",
    "executionInfo": {
     "elapsed": 4514,
     "status": "ok",
     "timestamp": 1586249284087,
     "user": {
      "displayName": "Evan Simpson",
      "photoUrl": "https://lh3.googleusercontent.com/a-/AOh14Gh4p47FxkA9aTnFpdt9dZI0LNlEYYizCC50unaC7Q=s64",
      "userId": "08573321944937795410"
     },
     "user_tz": -120
    },
    "id": "VjHaGr87fXHA",
    "outputId": "14c5378c-fc42-4039-fe60-9680f5ca9f72"
   },
   "outputs": [
    {
     "name": "stdout",
     "output_type": "stream",
     "text": [
      "WARNING:tensorflow:From /usr/local/lib/python3.6/dist-packages/tensorflow/python/ops/resource_variable_ops.py:1817: calling BaseResourceVariable.__init__ (from tensorflow.python.ops.resource_variable_ops) with constraint is deprecated and will be removed in a future version.\n",
      "Instructions for updating:\n",
      "If using Keras pass *_constraint arguments to layers.\n",
      "INFO:tensorflow:Assets written to: /content/drive/My Drive/final_project/lstm_title/assets\n"
     ]
    }
   ],
   "source": [
    "model2.save('/content/drive/My Drive/final_project/lstm_title')"
   ]
  },
  {
   "cell_type": "code",
   "execution_count": 28,
   "metadata": {
    "colab": {
     "base_uri": "https://localhost:8080/",
     "height": 238
    },
    "colab_type": "code",
    "executionInfo": {
     "elapsed": 791,
     "status": "error",
     "timestamp": 1586249287457,
     "user": {
      "displayName": "Evan Simpson",
      "photoUrl": "https://lh3.googleusercontent.com/a-/AOh14Gh4p47FxkA9aTnFpdt9dZI0LNlEYYizCC50unaC7Q=s64",
      "userId": "08573321944937795410"
     },
     "user_tz": -120
    },
    "id": "FY3cjzn3JZoe",
    "outputId": "9e0bf55e-792a-499e-cab7-83aab8612c6c"
   },
   "outputs": [
    {
     "ename": "KeyError",
     "evalue": "ignored",
     "output_type": "error",
     "traceback": [
      "\u001b[0;31m---------------------------------------------------------------------------\u001b[0m",
      "\u001b[0;31mKeyError\u001b[0m                                  Traceback (most recent call last)",
      "\u001b[0;32m<ipython-input-28-3bad321a086e>\u001b[0m in \u001b[0;36m<module>\u001b[0;34m()\u001b[0m\n\u001b[0;32m----> 1\u001b[0;31m \u001b[0mplt\u001b[0m\u001b[0;34m.\u001b[0m\u001b[0mplot\u001b[0m\u001b[0;34m(\u001b[0m\u001b[0mmodel2\u001b[0m\u001b[0;34m.\u001b[0m\u001b[0mhistory\u001b[0m\u001b[0;34m.\u001b[0m\u001b[0mhistory\u001b[0m\u001b[0;34m[\u001b[0m\u001b[0;34m\"loss\"\u001b[0m\u001b[0;34m]\u001b[0m\u001b[0;34m,\u001b[0m \u001b[0mlabel\u001b[0m\u001b[0;34m=\u001b[0m\u001b[0;34m\"loss\"\u001b[0m\u001b[0;34m)\u001b[0m\u001b[0;34m;\u001b[0m\u001b[0;34m\u001b[0m\u001b[0;34m\u001b[0m\u001b[0m\n\u001b[0m\u001b[1;32m      2\u001b[0m \u001b[0mplt\u001b[0m\u001b[0;34m.\u001b[0m\u001b[0mplot\u001b[0m\u001b[0;34m(\u001b[0m\u001b[0mmodel2\u001b[0m\u001b[0;34m.\u001b[0m\u001b[0mhistory\u001b[0m\u001b[0;34m.\u001b[0m\u001b[0mhistory\u001b[0m\u001b[0;34m[\u001b[0m\u001b[0;34m\"val_loss\"\u001b[0m\u001b[0;34m]\u001b[0m\u001b[0;34m,\u001b[0m \u001b[0mlabel\u001b[0m\u001b[0;34m=\u001b[0m\u001b[0;34m\"val_loss\"\u001b[0m\u001b[0;34m)\u001b[0m\u001b[0;34m;\u001b[0m\u001b[0;34m\u001b[0m\u001b[0;34m\u001b[0m\u001b[0m\n\u001b[1;32m      3\u001b[0m \u001b[0mplt\u001b[0m\u001b[0;34m.\u001b[0m\u001b[0mlegend\u001b[0m\u001b[0;34m(\u001b[0m\u001b[0;34m)\u001b[0m\u001b[0;34m;\u001b[0m\u001b[0;34m\u001b[0m\u001b[0;34m\u001b[0m\u001b[0m\n\u001b[1;32m      4\u001b[0m \u001b[0mplt\u001b[0m\u001b[0;34m.\u001b[0m\u001b[0mshow\u001b[0m\u001b[0;34m(\u001b[0m\u001b[0;34m)\u001b[0m\u001b[0;34m;\u001b[0m\u001b[0;34m\u001b[0m\u001b[0;34m\u001b[0m\u001b[0m\n\u001b[1;32m      5\u001b[0m \u001b[0mplt\u001b[0m\u001b[0;34m.\u001b[0m\u001b[0mclose\u001b[0m\u001b[0;34m(\u001b[0m\u001b[0;34m)\u001b[0m\u001b[0;34m;\u001b[0m\u001b[0;34m\u001b[0m\u001b[0;34m\u001b[0m\u001b[0m\n",
      "\u001b[0;31mKeyError\u001b[0m: 'loss'"
     ]
    }
   ],
   "source": [
    "plt.plot(model2.history.history[\"loss\"], label=\"loss\");\n",
    "plt.plot(model2.history.history[\"val_loss\"], label=\"val_loss\");\n",
    "plt.legend();\n",
    "plt.show();\n",
    "plt.close();\n",
    "\n",
    "plt.plot(model2.history.history[\"mae\"], label=\"mae\");\n",
    "plt.plot(model2.history.history[\"val_mae\"], label=\"val_mae\");\n",
    "plt.legend();"
   ]
  },
  {
   "cell_type": "code",
   "execution_count": null,
   "metadata": {
    "colab": {},
    "colab_type": "code",
    "id": "3wPhkh6PPdSa"
   },
   "outputs": [],
   "source": [
    "a = model2.predict(x_val_seq)\n",
    "b = model2.predict(x_val_seq)\n",
    "\n",
    "predictions_df = pd.DataFrame({\"title_custom\": list(a), \"title_transfer\": list(b)},\n",
    "                              columns = [\"title_custom\", \"title_transfer\"], \n",
    "                              index=test_data.index)\n",
    "\n",
    "predictions_df.to_csv('/content/drive/My Drive/final_project/lstm_title.csv', index=\"False\")\n"
   ]
  },
  {
   "cell_type": "code",
   "execution_count": null,
   "metadata": {
    "colab": {},
    "colab_type": "code",
    "id": "pfxICpfWuCpB"
   },
   "outputs": [],
   "source": []
  }
 ],
 "metadata": {
  "accelerator": "GPU",
  "colab": {
   "collapsed_sections": [],
   "name": "14_lstm_title.ipynb",
   "provenance": [],
   "toc_visible": true
  },
  "kernelspec": {
   "display_name": "Python 3",
   "language": "python",
   "name": "python3"
  },
  "language_info": {
   "codemirror_mode": {
    "name": "ipython",
    "version": 3
   },
   "file_extension": ".py",
   "mimetype": "text/x-python",
   "name": "python",
   "nbconvert_exporter": "python",
   "pygments_lexer": "ipython3",
   "version": "3.7.4"
  }
 },
 "nbformat": 4,
 "nbformat_minor": 4
}
