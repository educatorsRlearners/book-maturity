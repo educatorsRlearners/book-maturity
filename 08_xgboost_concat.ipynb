{
 "cells": [
  {
   "cell_type": "code",
   "execution_count": 1,
   "metadata": {
    "colab": {
     "base_uri": "https://localhost:8080/",
     "height": 34
    },
    "colab_type": "code",
    "id": "nCaxSUR2vZ9h",
    "outputId": "2a33bd36-9373-4a9d-8dda-867afa0d8e76"
   },
   "outputs": [
    {
     "name": "stdout",
     "output_type": "stream",
     "text": [
      "Drive already mounted at /content/drive; to attempt to forcibly remount, call drive.mount(\"/content/drive\", force_remount=True).\n"
     ]
    }
   ],
   "source": [
    "from google.colab import drive\n",
    "drive.mount('/content/drive')"
   ]
  },
  {
   "cell_type": "code",
   "execution_count": 2,
   "metadata": {
    "colab": {
     "base_uri": "https://localhost:8080/",
     "height": 52
    },
    "colab_type": "code",
    "id": "9g_tu-uevIzd",
    "outputId": "17d20407-81e9-4f73-92f9-c9c0186025e6"
   },
   "outputs": [
    {
     "name": "stdout",
     "output_type": "stream",
     "text": [
      "[nltk_data] Downloading package stopwords to /root/nltk_data...\n",
      "[nltk_data]   Package stopwords is already up-to-date!\n"
     ]
    }
   ],
   "source": [
    "import pandas as pd\n",
    "import numpy as np\n",
    "import xgboost as xgb\n",
    "\n",
    "from sklearn.model_selection import StratifiedShuffleSplit\n",
    "from sklearn.metrics import mean_absolute_error\n",
    "from sklearn.feature_extraction.text import CountVectorizer\n",
    "from sklearn.preprocessing import OneHotEncoder \n",
    "from sklearn.preprocessing import MinMaxScaler\n",
    "\n",
    "\n",
    "import nltk\n",
    "nltk.download('stopwords')\n",
    "from nltk.corpus import stopwords\n",
    "stop = stopwords.words('english')"
   ]
  },
  {
   "cell_type": "markdown",
   "metadata": {
    "colab_type": "text",
    "id": "wDhutUT4vIzw"
   },
   "source": [
    "# [Tutorial](https://machinelearningmastery.com/gradient-boosting-with-scikit-learn-xgboost-lightgbm-and-catboost/)"
   ]
  },
  {
   "cell_type": "markdown",
   "metadata": {
    "colab_type": "text",
    "id": "-Ghez276vIzz"
   },
   "source": [
    "## Load the Data "
   ]
  },
  {
   "cell_type": "code",
   "execution_count": null,
   "metadata": {
    "colab": {},
    "colab_type": "code",
    "id": "t4j7s59JvIz1"
   },
   "outputs": [],
   "source": [
    "#Run Local\n",
    "#df = pd.read_csv(\"csv/book_info_complete.csv\")\n",
    "#Run on COLAB\n",
    "df = pd.read_csv(\"/content/drive/My Drive/final_project/book_info_complete.csv\")"
   ]
  },
  {
   "cell_type": "code",
   "execution_count": 4,
   "metadata": {
    "colab": {
     "base_uri": "https://localhost:8080/",
     "height": 301
    },
    "colab_type": "code",
    "id": "BY36mGlivI0E",
    "outputId": "3b4cafdb-dbf1-4a69-c6f2-71a0b5951783"
   },
   "outputs": [
    {
     "name": "stdout",
     "output_type": "stream",
     "text": [
      "<class 'pandas.core.frame.DataFrame'>\n",
      "RangeIndex: 5816 entries, 0 to 5815\n",
      "Data columns (total 9 columns):\n",
      " #   Column            Non-Null Count  Dtype \n",
      "---  ------            --------------  ----- \n",
      " 0   title             5816 non-null   object\n",
      " 1   description       5816 non-null   object\n",
      " 2   plot              5816 non-null   object\n",
      " 3   csm_review        5816 non-null   object\n",
      " 4   need_to_know      5816 non-null   object\n",
      " 5   csm_rating        5816 non-null   int64 \n",
      " 6   Genre             5816 non-null   object\n",
      " 7   Book type         5816 non-null   object\n",
      " 8   Publication date  5816 non-null   int64 \n",
      "dtypes: int64(2), object(7)\n",
      "memory usage: 409.1+ KB\n"
     ]
    }
   ],
   "source": [
    "df = df.dropna(axis=1)\n",
    "df[\"Publication date\"] = df[\"Publication date\"].str[-4:].astype(int)\n",
    "df = df.drop(\"Last updated\", axis=1)\n",
    "df.info()"
   ]
  },
  {
   "cell_type": "markdown",
   "metadata": {
    "colab_type": "text",
    "id": "E49m9JeBvI0S"
   },
   "source": [
    "### Lower and remove stop words"
   ]
  },
  {
   "cell_type": "code",
   "execution_count": null,
   "metadata": {
    "colab": {},
    "colab_type": "code",
    "id": "KM82M_2DvI0U"
   },
   "outputs": [],
   "source": [
    "columns = ['title', \"description\", \"plot\", \"csm_review\", \"need_to_know\"]\n",
    "\n",
    "df = df.applymap(lambda x: x.lower() if type(x) == str else x)\n",
    "\n",
    "df[columns] = df[columns].applymap(lambda x: ' '.join([item for item in x.split() if item not in stop]))"
   ]
  },
  {
   "cell_type": "code",
   "execution_count": 6,
   "metadata": {
    "colab": {
     "base_uri": "https://localhost:8080/",
     "height": 111
    },
    "colab_type": "code",
    "id": "ltgGO9GvvI0b",
    "outputId": "e1dedba6-66e0-4aa8-e5e0-f97618063e16"
   },
   "outputs": [
    {
     "data": {
      "text/html": [
       "<div>\n",
       "<style scoped>\n",
       "    .dataframe tbody tr th:only-of-type {\n",
       "        vertical-align: middle;\n",
       "    }\n",
       "\n",
       "    .dataframe tbody tr th {\n",
       "        vertical-align: top;\n",
       "    }\n",
       "\n",
       "    .dataframe thead th {\n",
       "        text-align: right;\n",
       "    }\n",
       "</style>\n",
       "<table border=\"1\" class=\"dataframe\">\n",
       "  <thead>\n",
       "    <tr style=\"text-align: right;\">\n",
       "      <th></th>\n",
       "      <th>title</th>\n",
       "      <th>description</th>\n",
       "      <th>plot</th>\n",
       "      <th>csm_review</th>\n",
       "      <th>need_to_know</th>\n",
       "      <th>csm_rating</th>\n",
       "      <th>Genre</th>\n",
       "      <th>Book type</th>\n",
       "      <th>Publication date</th>\n",
       "    </tr>\n",
       "  </thead>\n",
       "  <tbody>\n",
       "    <tr>\n",
       "      <th>0</th>\n",
       "      <td>third twin</td>\n",
       "      <td>gripping thriller skimps character development.</td>\n",
       "      <td>twins ava alexa \"lexi\" rios live affluent sout...</td>\n",
       "      <td>third twin interesting, compelling premise: bo...</td>\n",
       "      <td>parents need know third twin murder mystery in...</td>\n",
       "      <td>12</td>\n",
       "      <td>mystery</td>\n",
       "      <td>fiction</td>\n",
       "      <td>2015</td>\n",
       "    </tr>\n",
       "  </tbody>\n",
       "</table>\n",
       "</div>"
      ],
      "text/plain": [
       "        title  ... Publication date\n",
       "0  third twin  ...             2015\n",
       "\n",
       "[1 rows x 9 columns]"
      ]
     },
     "execution_count": 6,
     "metadata": {
      "tags": []
     },
     "output_type": "execute_result"
    }
   ],
   "source": [
    "df.head(1)"
   ]
  },
  {
   "cell_type": "markdown",
   "metadata": {
    "colab_type": "text",
    "id": "2sb9CGWvvI0i"
   },
   "source": [
    "## Concatenate All String Columns"
   ]
  },
  {
   "cell_type": "code",
   "execution_count": null,
   "metadata": {
    "colab": {},
    "colab_type": "code",
    "id": "5AYV64IBvI0j"
   },
   "outputs": [],
   "source": [
    "df[\"text\"] = df['title'] + \" \" + df['plot'] + \" \" + df[\"description\"] + \" \" + df[\"csm_review\"] + \" \" + df[\"need_to_know\"]"
   ]
  },
  {
   "cell_type": "markdown",
   "metadata": {
    "colab_type": "text",
    "id": "mO5pK3WxvI0q"
   },
   "source": [
    "### Make the split"
   ]
  },
  {
   "cell_type": "code",
   "execution_count": null,
   "metadata": {
    "colab": {},
    "colab_type": "code",
    "id": "31BDpSFQvI0r"
   },
   "outputs": [],
   "source": [
    "def splitter(df):\n",
    "    split = StratifiedShuffleSplit(n_splits=1, test_size=0.2, random_state=999)\n",
    "    for train_index, test_index in split.split(df, df['csm_rating']):\n",
    "        train_data= df.loc[train_index]\n",
    "        test_data = df.loc[test_index]\n",
    "    \n",
    "    \n",
    "    return train_data, test_data"
   ]
  },
  {
   "cell_type": "code",
   "execution_count": null,
   "metadata": {
    "colab": {},
    "colab_type": "code",
    "id": "VG9vE5yGvI0w"
   },
   "outputs": [],
   "source": [
    "train_data, test_data = splitter(df)"
   ]
  },
  {
   "cell_type": "code",
   "execution_count": 10,
   "metadata": {
    "colab": {
     "base_uri": "https://localhost:8080/",
     "height": 34
    },
    "colab_type": "code",
    "id": "_DIDh8okvI01",
    "outputId": "02ffa4ab-3ffc-4347-fecb-e3b9a760a036"
   },
   "outputs": [
    {
     "data": {
      "text/plain": [
       "(4652, 10)"
      ]
     },
     "execution_count": 10,
     "metadata": {
      "tags": []
     },
     "output_type": "execute_result"
    }
   ],
   "source": [
    "train_data.shape"
   ]
  },
  {
   "cell_type": "code",
   "execution_count": 11,
   "metadata": {
    "colab": {
     "base_uri": "https://localhost:8080/",
     "height": 34
    },
    "colab_type": "code",
    "id": "yGy9dF9evI09",
    "outputId": "c58e8d6c-0f7f-4a5d-c9b5-27d776e11d34"
   },
   "outputs": [
    {
     "data": {
      "text/plain": [
       "(1164, 10)"
      ]
     },
     "execution_count": 11,
     "metadata": {
      "tags": []
     },
     "output_type": "execute_result"
    }
   ],
   "source": [
    "test_data.shape"
   ]
  },
  {
   "cell_type": "markdown",
   "metadata": {
    "colab_type": "text",
    "id": "d58kQGXmvI1G"
   },
   "source": [
    "## One Hot Encode"
   ]
  },
  {
   "cell_type": "markdown",
   "metadata": {
    "colab_type": "text",
    "id": "Np-Qvm26vI1I"
   },
   "source": [
    "### Book Type"
   ]
  },
  {
   "cell_type": "code",
   "execution_count": 12,
   "metadata": {
    "colab": {
     "base_uri": "https://localhost:8080/",
     "height": 70
    },
    "colab_type": "code",
    "id": "dZRBes_8vI1J",
    "outputId": "52ae8150-e92d-4696-c6a0-5455800fa57a"
   },
   "outputs": [
    {
     "data": {
      "text/plain": [
       "fiction        4238\n",
       "non-fiction     414\n",
       "Name: Book type, dtype: int64"
      ]
     },
     "execution_count": 12,
     "metadata": {
      "tags": []
     },
     "output_type": "execute_result"
    }
   ],
   "source": [
    "train_data[\"Book type\"].value_counts()"
   ]
  },
  {
   "cell_type": "code",
   "execution_count": null,
   "metadata": {
    "colab": {},
    "colab_type": "code",
    "id": "vJpMrPY8vI1O"
   },
   "outputs": [],
   "source": [
    "book_type_cat = train_data[[\"Book type\"]]\n",
    "book_type_encoder = OneHotEncoder(handle_unknown=\"ignore\")\n",
    "book_type_cat_1hot = book_type_encoder.fit_transform(book_type_cat)\n",
    "\n",
    "train_book_type_df = pd.DataFrame(data=book_type_cat_1hot.todense(), \n",
    "                            index= train_data.index,\n",
    "                            columns=book_type_encoder.get_feature_names())\n",
    "\n",
    "test_book_type_df = pd.DataFrame(data = book_type_encoder.transform(test_data[[\"Book type\"]]).todense(), \n",
    "                                  index=test_data.index,\n",
    "                                  columns=book_type_encoder.get_feature_names())"
   ]
  },
  {
   "cell_type": "markdown",
   "metadata": {
    "colab_type": "text",
    "id": "cc0IusbkvI1V"
   },
   "source": [
    "## Genre"
   ]
  },
  {
   "cell_type": "code",
   "execution_count": 14,
   "metadata": {
    "colab": {
     "base_uri": "https://localhost:8080/",
     "height": 363
    },
    "colab_type": "code",
    "id": "sJlghvOwvI1X",
    "outputId": "29176e49-cc78-420e-ab29-1d020a1b9460"
   },
   "outputs": [
    {
     "data": {
      "image/png": "[encoded data removed]",
      "text/plain": [
       "<Figure size 432x288 with 1 Axes>"
      ]
     },
     "metadata": {
      "tags": []
     },
     "output_type": "display_data"
    }
   ],
   "source": [
    "train_data[\"Genre\"].hist(xrot=90);"
   ]
  },
  {
   "cell_type": "code",
   "execution_count": null,
   "metadata": {
    "colab": {},
    "colab_type": "code",
    "id": "A6Zo6L8-vI1c"
   },
   "outputs": [],
   "source": [
    "book_genre_cat = train_data[[\"Genre\"]]\n",
    "book_genre_encoder = OneHotEncoder(handle_unknown='ignore')\n",
    "book_genre_cat_1hot = book_genre_encoder.fit_transform(book_genre_cat)\n",
    "\n",
    "train_book_genre_df = pd.DataFrame(book_genre_cat_1hot.todense(), \n",
    "                             index=train_data.index,\n",
    "                             columns=book_genre_encoder.get_feature_names())\n",
    "\n",
    "test_book_genre_df = pd.DataFrame(data = book_genre_encoder.transform(test_data[[\"Genre\"]]).todense(), \n",
    "                                  index=test_data.index,\n",
    "                                  columns=book_genre_encoder.get_feature_names())"
   ]
  },
  {
   "cell_type": "markdown",
   "metadata": {
    "colab_type": "text",
    "id": "aRpv2V0yvI1g"
   },
   "source": [
    "## MinMaxScale Publication Date"
   ]
  },
  {
   "cell_type": "code",
   "execution_count": null,
   "metadata": {
    "colab": {},
    "colab_type": "code",
    "id": "3pFFMmv5vI1i"
   },
   "outputs": [],
   "source": [
    "book_pub_year = train_data[[\"Publication date\"]]\n",
    "min_max_scaler = MinMaxScaler().fit(book_pub_year)\n",
    "bp_year_MM = min_max_scaler.transform(book_pub_year)\n",
    "\n",
    "train_bp_year_df = pd.DataFrame(data=bp_year_MM,\n",
    "                          index=train_data.index, \n",
    "                          columns=[\"book_pub_year\"])\n",
    "\n",
    "test_bp_year_df = pd.DataFrame(data=min_max_scaler.transform(test_data[[\"Publication date\"]]),\n",
    "                              index=test_data.index,\n",
    "                              columns=[\"book_pub_year\"])"
   ]
  },
  {
   "cell_type": "markdown",
   "metadata": {
    "colab_type": "text",
    "id": "uIACyUFTvI1o"
   },
   "source": [
    "## Create BOW"
   ]
  },
  {
   "cell_type": "code",
   "execution_count": null,
   "metadata": {
    "colab": {},
    "colab_type": "code",
    "id": "PMmYnUR-vI1q"
   },
   "outputs": [],
   "source": [
    "def generate_bow(x):\n",
    "    \"\"\"Create a bag of words and return the vecotorizer along with data frames\"\"\"\n",
    "    #instantiate CountVectorizer()\n",
    "    cv=CountVectorizer(min_df=2)\n",
    "    # this step generates word counts for the words in your docs\n",
    "    word_count_vector=cv.fit_transform(train_data[str(x)])\n",
    "    \n",
    "    train = pd.DataFrame(word_count_vector.todense(), \n",
    "                      index=train_data.index, \n",
    "                      columns=cv.get_feature_names())\n",
    "    \n",
    "    test = pd.DataFrame(cv.transform(test_data[str(x)]).todense(), \n",
    "                       index=test_data.index,\n",
    "                       columns=cv.get_feature_names())\n",
    "\n",
    "    return train, test"
   ]
  },
  {
   "cell_type": "code",
   "execution_count": null,
   "metadata": {
    "colab": {},
    "colab_type": "code",
    "id": "m7ElonEtvI1v"
   },
   "outputs": [],
   "source": [
    "train_text_df, test_text_df = generate_bow(\"text\")"
   ]
  },
  {
   "cell_type": "markdown",
   "metadata": {
    "colab_type": "text",
    "id": "T-jpkunAvI14"
   },
   "source": [
    "## Create Create Train and Test Data Frames"
   ]
  },
  {
   "cell_type": "code",
   "execution_count": null,
   "metadata": {
    "colab": {},
    "colab_type": "code",
    "id": "qzrAVQHOvI14"
   },
   "outputs": [],
   "source": [
    "train_x = pd.concat(objs=[train_text_df, train_bp_year_df, train_book_genre_df,\n",
    "                         train_book_type_df],\n",
    "                    axis=1)\n",
    "\n",
    "train_y = train_data['csm_rating']\n",
    "\n",
    "test_x = pd.concat(objs=[test_text_df, test_bp_year_df, test_book_genre_df,\n",
    "                        test_book_type_df],\n",
    "                    axis=1)\n",
    "\n",
    "test_y = test_data['csm_rating']"
   ]
  },
  {
   "cell_type": "code",
   "execution_count": 21,
   "metadata": {
    "colab": {
     "base_uri": "https://localhost:8080/",
     "height": 54
    },
    "colab_type": "code",
    "id": "ylJWDvlF7G7H",
    "outputId": "a5ba8ee6-c5d7-4ef6-a231-253ba17ee8b3"
   },
   "outputs": [
    {
     "data": {
      "text/plain": [
       "'\\nparams = {\\n    \"colsample_bytree\": uniform(0.7, 0.3),\\n    \"gamma\": uniform(0, 1),\\n    \"learning_rate\": uniform(0.003, 1), # default 0.1 \\n    \"max_depth\": randint(1, 100), # default 3\\n    \"n_estimators\": randint(5, 500), # default 100\\n    \"subsample\": uniform(0.7, 0.3)\\n}\\n'"
      ]
     },
     "execution_count": 21,
     "metadata": {
      "tags": []
     },
     "output_type": "execute_result"
    }
   ],
   "source": [
    "\"\"\"\n",
    "params = {\n",
    "    \"colsample_bytree\": uniform(0.7, 0.3),\n",
    "    \"gamma\": uniform(0, 1),\n",
    "    \"learning_rate\": uniform(0.003, 1), # default 0.1 \n",
    "    \"max_depth\": randint(1, 100), # default 3\n",
    "    \"n_estimators\": randint(5, 500), # default 100\n",
    "    \"subsample\": uniform(0.7, 0.3)\n",
    "}\n",
    "\"\"\""
   ]
  },
  {
   "cell_type": "code",
   "execution_count": 25,
   "metadata": {
    "colab": {
     "base_uri": "https://localhost:8080/",
     "height": 1000
    },
    "colab_type": "code",
    "id": "5KZrpKLE0GAH",
    "outputId": "fb63752d-9731-4777-abf3-f13031ae438e"
   },
   "outputs": [
    {
     "name": "stdout",
     "output_type": "stream",
     "text": [
      "Fitting 3 folds for each of 10 candidates, totalling 30 fits\n",
      "[CV] learning_rate=0.3775401188473625, n_estimators=353 ..............\n"
     ]
    },
    {
     "name": "stderr",
     "output_type": "stream",
     "text": [
      "[Parallel(n_jobs=1)]: Using backend SequentialBackend with 1 concurrent workers.\n"
     ]
    },
    {
     "name": "stdout",
     "output_type": "stream",
     "text": [
      "[CV]  learning_rate=0.3775401188473625, n_estimators=353, score=(train=0.779, test=0.738), total= 2.3min\n",
      "[CV] learning_rate=0.3775401188473625, n_estimators=353 ..............\n"
     ]
    },
    {
     "name": "stderr",
     "output_type": "stream",
     "text": [
      "[Parallel(n_jobs=1)]: Done   1 out of   1 | elapsed:  2.3min remaining:    0.0s\n"
     ]
    },
    {
     "name": "stdout",
     "output_type": "stream",
     "text": [
      "[CV]  learning_rate=0.3775401188473625, n_estimators=353, score=(train=0.779, test=0.738), total= 2.2min\n",
      "[CV] learning_rate=0.3775401188473625, n_estimators=353 ..............\n"
     ]
    },
    {
     "name": "stderr",
     "output_type": "stream",
     "text": [
      "[Parallel(n_jobs=1)]: Done   2 out of   2 | elapsed:  4.5min remaining:    0.0s\n"
     ]
    },
    {
     "name": "stdout",
     "output_type": "stream",
     "text": [
      "[CV]  learning_rate=0.3775401188473625, n_estimators=353, score=(train=0.778, test=0.736), total= 2.2min\n",
      "[CV] learning_rate=0.1864347898661638, n_estimators=76 ...............\n",
      "[CV]  learning_rate=0.1864347898661638, n_estimators=76, score=(train=0.769, test=0.724), total=  32.4s\n",
      "[CV] learning_rate=0.1864347898661638, n_estimators=76 ...............\n",
      "[CV]  learning_rate=0.1864347898661638, n_estimators=76, score=(train=0.769, test=0.725), total=  32.2s\n",
      "[CV] learning_rate=0.1864347898661638, n_estimators=76 ...............\n",
      "[CV]  learning_rate=0.1864347898661638, n_estimators=76, score=(train=0.767, test=0.725), total=  33.2s\n",
      "[CV] learning_rate=0.6016584841970366, n_estimators=107 ..............\n",
      "[CV]  learning_rate=0.6016584841970366, n_estimators=107, score=(train=0.779, test=0.738), total=  43.2s\n",
      "[CV] learning_rate=0.6016584841970366, n_estimators=107 ..............\n",
      "[CV]  learning_rate=0.6016584841970366, n_estimators=107, score=(train=0.779, test=0.738), total=  43.1s\n",
      "[CV] learning_rate=0.6016584841970366, n_estimators=107 ..............\n",
      "[CV]  learning_rate=0.6016584841970366, n_estimators=107, score=(train=0.778, test=0.736), total=  44.8s\n",
      "[CV] learning_rate=0.44883275285359114, n_estimators=219 .............\n",
      "[CV]  learning_rate=0.44883275285359114, n_estimators=219, score=(train=0.779, test=0.738), total= 1.4min\n",
      "[CV] learning_rate=0.44883275285359114, n_estimators=219 .............\n",
      "[CV]  learning_rate=0.44883275285359114, n_estimators=219, score=(train=0.779, test=0.738), total= 1.4min\n",
      "[CV] learning_rate=0.44883275285359114, n_estimators=219 .............\n",
      "[CV]  learning_rate=0.44883275285359114, n_estimators=219, score=(train=0.778, test=0.736), total= 1.4min\n",
      "[CV] learning_rate=0.061083612168199464, n_estimators=92 .............\n",
      "[CV]  learning_rate=0.061083612168199464, n_estimators=92, score=(train=0.735, test=0.680), total=  37.7s\n",
      "[CV] learning_rate=0.061083612168199464, n_estimators=92 .............\n",
      "[CV]  learning_rate=0.061083612168199464, n_estimators=92, score=(train=0.735, test=0.683), total=  37.9s\n",
      "[CV] learning_rate=0.061083612168199464, n_estimators=92 .............\n",
      "[CV]  learning_rate=0.061083612168199464, n_estimators=92, score=(train=0.732, test=0.684), total=  38.0s\n",
      "[CV] learning_rate=0.33670861113902184, n_estimators=364 .............\n",
      "[CV]  learning_rate=0.33670861113902184, n_estimators=364, score=(train=0.779, test=0.738), total= 2.3min\n",
      "[CV] learning_rate=0.33670861113902184, n_estimators=364 .............\n",
      "[CV]  learning_rate=0.33670861113902184, n_estimators=364, score=(train=0.779, test=0.738), total= 2.3min\n",
      "[CV] learning_rate=0.33670861113902184, n_estimators=364 .............\n",
      "[CV]  learning_rate=0.33670861113902184, n_estimators=364, score=(train=0.778, test=0.736), total= 2.3min\n",
      "[CV] learning_rate=0.7110725777960455, n_estimators=154 ..............\n",
      "[CV]  learning_rate=0.7110725777960455, n_estimators=154, score=(train=0.779, test=0.738), total=  59.9s\n",
      "[CV] learning_rate=0.7110725777960455, n_estimators=154 ..............\n",
      "[CV]  learning_rate=0.7110725777960455, n_estimators=154, score=(train=0.779, test=0.738), total=  59.9s\n",
      "[CV] learning_rate=0.7110725777960455, n_estimators=154 ..............\n",
      "[CV]  learning_rate=0.7110725777960455, n_estimators=154, score=(train=0.778, test=0.736), total= 1.0min\n",
      "[CV] learning_rate=0.05941157902710026, n_estimators=348 .............\n",
      "[CV]  learning_rate=0.05941157902710026, n_estimators=348, score=(train=0.774, test=0.730), total= 2.2min\n",
      "[CV] learning_rate=0.05941157902710026, n_estimators=348 .............\n",
      "[CV]  learning_rate=0.05941157902710026, n_estimators=348, score=(train=0.773, test=0.731), total= 2.2min\n",
      "[CV] learning_rate=0.05941157902710026, n_estimators=348 .............\n",
      "[CV]  learning_rate=0.05941157902710026, n_estimators=348, score=(train=0.772, test=0.730), total= 2.2min\n",
      "[CV] learning_rate=0.8354426408004217, n_estimators=298 ..............\n",
      "[CV]  learning_rate=0.8354426408004217, n_estimators=298, score=(train=0.779, test=0.738), total= 1.9min\n",
      "[CV] learning_rate=0.8354426408004217, n_estimators=298 ..............\n",
      "[CV]  learning_rate=0.8354426408004217, n_estimators=298, score=(train=0.779, test=0.738), total= 1.9min\n",
      "[CV] learning_rate=0.8354426408004217, n_estimators=298 ..............\n",
      "[CV]  learning_rate=0.8354426408004217, n_estimators=298, score=(train=0.778, test=0.736), total= 1.9min\n",
      "[CV] learning_rate=0.0037787658410143284, n_estimators=448 ...........\n",
      "[CV]  learning_rate=0.0037787658410143284, n_estimators=448, score=(train=0.676, test=0.615), total= 2.8min\n",
      "[CV] learning_rate=0.0037787658410143284, n_estimators=448 ...........\n",
      "[CV]  learning_rate=0.0037787658410143284, n_estimators=448, score=(train=0.675, test=0.621), total= 2.8min\n",
      "[CV] learning_rate=0.0037787658410143284, n_estimators=448 ...........\n",
      "[CV]  learning_rate=0.0037787658410143284, n_estimators=448, score=(train=0.671, test=0.621), total= 2.7min\n"
     ]
    },
    {
     "name": "stderr",
     "output_type": "stream",
     "text": [
      "[Parallel(n_jobs=1)]: Done  30 out of  30 | elapsed: 47.9min finished\n"
     ]
    },
    {
     "name": "stdout",
     "output_type": "stream",
     "text": [
      "Model with rank: 1\n",
      "Mean validation score: 0.737 (std: 0.001)\n",
      "Parameters: {'learning_rate': 0.6016584841970366, 'n_estimators': 107}\n",
      "\n"
     ]
    }
   ],
   "source": [
    "from sklearn.model_selection import cross_val_score, GridSearchCV, KFold, RandomizedSearchCV, train_test_split\n",
    "from scipy.stats import uniform, randint\n",
    "\n",
    "params = {\n",
    "    \"learning_rate\": uniform(0.003, 1),# default 0.1 \n",
    "    \"n_estimators\": randint(5, 500)}\n",
    "    #\"max_depth\": randint(1, 100)} # default 100\n",
    "\n",
    "\n",
    "xgb_model = xgb.XGBRegressor(objective ='reg:squarederror', \n",
    "                             n_jobs=-1,\n",
    "                             booster = \"gblinear\")\n",
    "\n",
    "search = RandomizedSearchCV(xgb_model, \n",
    "                            param_distributions=params, \n",
    "                            random_state=42, \n",
    "                            n_iter=10, \n",
    "                            cv=3, \n",
    "                            verbose=3, \n",
    "                            return_train_score=True)\n",
    "\n",
    "search.fit(train_x, train_y)\n",
    "\n",
    "def report_best_scores(results, n_top=3):\n",
    "    for i in range(1, n_top + 1):\n",
    "        candidates = np.flatnonzero(results['rank_test_score'] == i)\n",
    "        for candidate in candidates:\n",
    "            print(\"Model with rank: {0}\".format(i))\n",
    "            print(\"Mean validation score: {0:.3f} (std: {1:.3f})\".format(\n",
    "                  results['mean_test_score'][candidate],\n",
    "                  results['std_test_score'][candidate]))\n",
    "            print(\"Parameters: {0}\".format(results['params'][candidate]))\n",
    "            print(\"\")\n",
    "\n",
    "report_best_scores(search.cv_results_, 1)"
   ]
  },
  {
   "cell_type": "markdown",
   "metadata": {
    "colab_type": "text",
    "id": "mxekTFNHjDU4"
   },
   "source": [
    "Parameters: {'learning_rate': 0.6016584841970366, 'n_estimators': 107}"
   ]
  },
  {
   "cell_type": "code",
   "execution_count": null,
   "metadata": {
    "colab": {},
    "colab_type": "code",
    "id": "E1eqMNFRvI18"
   },
   "outputs": [],
   "source": [
    "xg_reg = xgb.XGBRegressor(objective='reg:squarederror',\n",
    "                          learning_rate=0.6016584841970366,\n",
    "                          n_estimators=107, \n",
    "                          booster = \"gblinear\")"
   ]
  },
  {
   "cell_type": "code",
   "execution_count": 27,
   "metadata": {
    "colab": {
     "base_uri": "https://localhost:8080/",
     "height": 158
    },
    "colab_type": "code",
    "id": "Bnzhr-jMvI2F",
    "outputId": "5a8b8ef4-4e45-4ac2-da50-e5ff941529bc"
   },
   "outputs": [
    {
     "data": {
      "text/plain": [
       "XGBRegressor(base_score=0.5, booster='gblinear', colsample_bylevel=1,\n",
       "             colsample_bynode=1, colsample_bytree=1, gamma=0,\n",
       "             importance_type='gain', learning_rate=0.6016584841970366,\n",
       "             max_delta_step=0, max_depth=3, min_child_weight=1, missing=None,\n",
       "             n_estimators=107, n_jobs=1, nthread=None,\n",
       "             objective='reg:squarederror', random_state=0, reg_alpha=0,\n",
       "             reg_lambda=1, scale_pos_weight=1, seed=None, silent=None,\n",
       "             subsample=1, verbosity=1)"
      ]
     },
     "execution_count": 27,
     "metadata": {
      "tags": []
     },
     "output_type": "execute_result"
    }
   ],
   "source": [
    "#Fit the model with the training data\n",
    "xg_reg.fit(train_x, train_y)"
   ]
  },
  {
   "cell_type": "code",
   "execution_count": null,
   "metadata": {
    "colab": {},
    "colab_type": "code",
    "id": "ChxDRe0GvI2K"
   },
   "outputs": [],
   "source": [
    "#Predict the taget on the train data set\n",
    "predict_train = xg_reg.predict(train_x)\n",
    "predict_test = xg_reg.predict(test_x)"
   ]
  },
  {
   "cell_type": "code",
   "execution_count": 29,
   "metadata": {
    "colab": {
     "base_uri": "https://localhost:8080/",
     "height": 34
    },
    "colab_type": "code",
    "id": "6YPZGy5rvI2U",
    "outputId": "ba1f3294-6c9e-452e-ce7b-f6c2ad908d10"
   },
   "outputs": [
    {
     "data": {
      "text/plain": [
       "1.5073792377385926"
      ]
     },
     "execution_count": 29,
     "metadata": {
      "tags": []
     },
     "output_type": "execute_result"
    }
   ],
   "source": [
    "mean_absolute_error(train_y, predict_train)"
   ]
  },
  {
   "cell_type": "code",
   "execution_count": 30,
   "metadata": {
    "colab": {
     "base_uri": "https://localhost:8080/",
     "height": 34
    },
    "colab_type": "code",
    "id": "fjRPPCxUvI2Y",
    "outputId": "1bf29c20-9fca-4e0f-a4b3-2a2285124a40"
   },
   "outputs": [
    {
     "data": {
      "text/plain": [
       "1.6206345400449746"
      ]
     },
     "execution_count": 30,
     "metadata": {
      "tags": []
     },
     "output_type": "execute_result"
    }
   ],
   "source": [
    "mean_absolute_error(test_y, predict_test)"
   ]
  },
  {
   "cell_type": "markdown",
   "metadata": {
    "colab_type": "text",
    "id": "AxKh1U9fvI2c"
   },
   "source": [
    "### Transform and Predict on the Test DF"
   ]
  },
  {
   "cell_type": "code",
   "execution_count": null,
   "metadata": {
    "colab": {},
    "colab_type": "code",
    "id": "XRrkEnbpvI2c"
   },
   "outputs": [],
   "source": [
    "#Predict the target on the test dataset\n",
    "predict_test = xg_reg.predict(test_x)"
   ]
  },
  {
   "cell_type": "code",
   "execution_count": 32,
   "metadata": {
    "colab": {
     "base_uri": "https://localhost:8080/",
     "height": 34
    },
    "colab_type": "code",
    "id": "ometCzaHvI2g",
    "outputId": "d34bc6d2-8ef4-4f21-83e5-b57f506c1261"
   },
   "outputs": [
    {
     "data": {
      "text/plain": [
       "1.6206345400449746"
      ]
     },
     "execution_count": 32,
     "metadata": {
      "tags": []
     },
     "output_type": "execute_result"
    }
   ],
   "source": [
    "mean_absolute_error(predict_test, test_y)"
   ]
  },
  {
   "cell_type": "code",
   "execution_count": null,
   "metadata": {
    "colab": {},
    "colab_type": "code",
    "id": "NUnBHwwSvI2k"
   },
   "outputs": [],
   "source": [
    "test_errors = abs(predict_test - test_y)"
   ]
  },
  {
   "cell_type": "code",
   "execution_count": null,
   "metadata": {
    "colab": {},
    "colab_type": "code",
    "id": "IQ0H6ndivI2q"
   },
   "outputs": [],
   "source": [
    "predictions  = pd.Series(predict_test, index=test_data.index, name=\"predictions\")"
   ]
  },
  {
   "cell_type": "code",
   "execution_count": null,
   "metadata": {
    "colab": {},
    "colab_type": "code",
    "id": "t7rFFbAOvI2u"
   },
   "outputs": [],
   "source": [
    "test_errors.name = \"difference\""
   ]
  },
  {
   "cell_type": "code",
   "execution_count": null,
   "metadata": {
    "colab": {},
    "colab_type": "code",
    "id": "qhX67K_KvI2z"
   },
   "outputs": [],
   "source": [
    "test_results = pd.concat([test_data, test_errors, predictions], axis=1)"
   ]
  },
  {
   "cell_type": "code",
   "execution_count": 37,
   "metadata": {
    "colab": {
     "base_uri": "https://localhost:8080/",
     "height": 347
    },
    "colab_type": "code",
    "id": "a7pCl2qevI24",
    "outputId": "4ccb2979-5610-4739-f056-15017030dfdd"
   },
   "outputs": [
    {
     "data": {
      "text/html": [
       "<div>\n",
       "<style scoped>\n",
       "    .dataframe tbody tr th:only-of-type {\n",
       "        vertical-align: middle;\n",
       "    }\n",
       "\n",
       "    .dataframe tbody tr th {\n",
       "        vertical-align: top;\n",
       "    }\n",
       "\n",
       "    .dataframe thead th {\n",
       "        text-align: right;\n",
       "    }\n",
       "</style>\n",
       "<table border=\"1\" class=\"dataframe\">\n",
       "  <thead>\n",
       "    <tr style=\"text-align: right;\">\n",
       "      <th></th>\n",
       "      <th>title</th>\n",
       "      <th>description</th>\n",
       "      <th>plot</th>\n",
       "      <th>csm_review</th>\n",
       "      <th>need_to_know</th>\n",
       "      <th>csm_rating</th>\n",
       "      <th>Genre</th>\n",
       "      <th>Book type</th>\n",
       "      <th>Publication date</th>\n",
       "      <th>text</th>\n",
       "      <th>difference</th>\n",
       "      <th>predictions</th>\n",
       "    </tr>\n",
       "  </thead>\n",
       "  <tbody>\n",
       "    <tr>\n",
       "      <th>1291</th>\n",
       "      <td>uglies: uglies quartet, book 1</td>\n",
       "      <td>thoughtful sci-fi price beauty.</td>\n",
       "      <td>tally grown postapocalyptic world where, age 1...</td>\n",
       "      <td>author scott westerfeld manages delicate balan...</td>\n",
       "      <td>parents need know scott westerfeld's uglies se...</td>\n",
       "      <td>11</td>\n",
       "      <td>science fiction</td>\n",
       "      <td>fiction</td>\n",
       "      <td>2006</td>\n",
       "      <td>uglies: uglies quartet, book 1 tally grown pos...</td>\n",
       "      <td>1.474905</td>\n",
       "      <td>9.525095</td>\n",
       "    </tr>\n",
       "    <tr>\n",
       "      <th>832</th>\n",
       "      <td>courage cat campbell</td>\n",
       "      <td>appealing tale would-be witch laughs, insights.</td>\n",
       "      <td>ever since baby, cat campbell desperately hope...</td>\n",
       "      <td>kids determined pursue dream getting lot disco...</td>\n",
       "      <td>parents need know courage cat campbell appeali...</td>\n",
       "      <td>8</td>\n",
       "      <td>coming of age</td>\n",
       "      <td>fiction</td>\n",
       "      <td>2015</td>\n",
       "      <td>courage cat campbell ever since baby, cat camp...</td>\n",
       "      <td>0.275402</td>\n",
       "      <td>8.275402</td>\n",
       "    </tr>\n",
       "    <tr>\n",
       "      <th>685</th>\n",
       "      <td>indigo spell: bloodlines, book 3</td>\n",
       "      <td>third bloodlines adventure takes romantic, mag...</td>\n",
       "      <td>end golden lily, alchemist prodigy sydney sage...</td>\n",
       "      <td>readers patiently waiting sydney adrian relati...</td>\n",
       "      <td>parents need know indigo spell third installme...</td>\n",
       "      <td>13</td>\n",
       "      <td>fantasy</td>\n",
       "      <td>fiction</td>\n",
       "      <td>2013</td>\n",
       "      <td>indigo spell: bloodlines, book 3 end golden li...</td>\n",
       "      <td>0.526063</td>\n",
       "      <td>12.473937</td>\n",
       "    </tr>\n",
       "    <tr>\n",
       "      <th>5101</th>\n",
       "      <td>love &amp; gelato</td>\n",
       "      <td>teen grapples grief first love charming romance.</td>\n",
       "      <td>17-year-old lina loses mom cancer, honors mom'...</td>\n",
       "      <td>light, fun, fast-paced romance charmer. still ...</td>\n",
       "      <td>parents need know love &amp; gelato combination ro...</td>\n",
       "      <td>12</td>\n",
       "      <td>romance</td>\n",
       "      <td>fiction</td>\n",
       "      <td>2016</td>\n",
       "      <td>love &amp; gelato 17-year-old lina loses mom cance...</td>\n",
       "      <td>2.132259</td>\n",
       "      <td>14.132259</td>\n",
       "    </tr>\n",
       "    <tr>\n",
       "      <th>2617</th>\n",
       "      <td>water horse</td>\n",
       "      <td>another sweet animal tale babe author.</td>\n",
       "      <td>kirstie finds appears unusually large fish egg...</td>\n",
       "      <td>dick king-smith's specialty gentle, fairly eas...</td>\n",
       "      <td>parents need know aside water horse eating swa...</td>\n",
       "      <td>7</td>\n",
       "      <td>fantasy</td>\n",
       "      <td>fiction</td>\n",
       "      <td>1998</td>\n",
       "      <td>water horse kirstie finds appears unusually la...</td>\n",
       "      <td>0.181522</td>\n",
       "      <td>7.181522</td>\n",
       "    </tr>\n",
       "  </tbody>\n",
       "</table>\n",
       "</div>"
      ],
      "text/plain": [
       "                                 title  ... predictions\n",
       "1291    uglies: uglies quartet, book 1  ...    9.525095\n",
       "832               courage cat campbell  ...    8.275402\n",
       "685   indigo spell: bloodlines, book 3  ...   12.473937\n",
       "5101                     love & gelato  ...   14.132259\n",
       "2617                       water horse  ...    7.181522\n",
       "\n",
       "[5 rows x 12 columns]"
      ]
     },
     "execution_count": 37,
     "metadata": {
      "tags": []
     },
     "output_type": "execute_result"
    }
   ],
   "source": [
    "test_results.head()"
   ]
  },
  {
   "cell_type": "code",
   "execution_count": 38,
   "metadata": {
    "colab": {
     "base_uri": "https://localhost:8080/",
     "height": 697
    },
    "colab_type": "code",
    "id": "kOJcuOnavI2_",
    "outputId": "a2319679-b142-4133-c634-4646bfd301e6"
   },
   "outputs": [
    {
     "data": {
      "text/html": [
       "<div>\n",
       "<style scoped>\n",
       "    .dataframe tbody tr th:only-of-type {\n",
       "        vertical-align: middle;\n",
       "    }\n",
       "\n",
       "    .dataframe tbody tr th {\n",
       "        vertical-align: top;\n",
       "    }\n",
       "\n",
       "    .dataframe thead th {\n",
       "        text-align: right;\n",
       "    }\n",
       "</style>\n",
       "<table border=\"1\" class=\"dataframe\">\n",
       "  <thead>\n",
       "    <tr style=\"text-align: right;\">\n",
       "      <th></th>\n",
       "      <th>title</th>\n",
       "      <th>description</th>\n",
       "      <th>plot</th>\n",
       "      <th>csm_review</th>\n",
       "      <th>need_to_know</th>\n",
       "      <th>csm_rating</th>\n",
       "      <th>Genre</th>\n",
       "      <th>Book type</th>\n",
       "      <th>Publication date</th>\n",
       "      <th>text</th>\n",
       "      <th>difference</th>\n",
       "      <th>predictions</th>\n",
       "    </tr>\n",
       "  </thead>\n",
       "  <tbody>\n",
       "    <tr>\n",
       "      <th>2544</th>\n",
       "      <td>witherwood reform school, book 1</td>\n",
       "      <td>creepy school holds kids captive dark, funny f...</td>\n",
       "      <td>ever since mother died, 12-year-old tobias 11-...</td>\n",
       "      <td>kids hard time seeing funny side emotionally h...</td>\n",
       "      <td>parents need know there's plenty cartoonish cr...</td>\n",
       "      <td>9</td>\n",
       "      <td>fantasy</td>\n",
       "      <td>fiction</td>\n",
       "      <td>2015</td>\n",
       "      <td>witherwood reform school, book 1 ever since mo...</td>\n",
       "      <td>0.000337</td>\n",
       "      <td>9.000337</td>\n",
       "    </tr>\n",
       "    <tr>\n",
       "      <th>17</th>\n",
       "      <td>burning kingdoms: internment chronicles, book 2</td>\n",
       "      <td>second, stronger installment focuses characters.</td>\n",
       "      <td>morgan stockhour, remaining family, fellow reb...</td>\n",
       "      <td>lauren destefano's eloquent prose perfectly ca...</td>\n",
       "      <td>parents need know burning kingdoms second laur...</td>\n",
       "      <td>11</td>\n",
       "      <td>contemporary fiction</td>\n",
       "      <td>fiction</td>\n",
       "      <td>2015</td>\n",
       "      <td>burning kingdoms: internment chronicles, book ...</td>\n",
       "      <td>0.003533</td>\n",
       "      <td>11.003533</td>\n",
       "    </tr>\n",
       "    <tr>\n",
       "      <th>5069</th>\n",
       "      <td>impostors</td>\n",
       "      <td>action cool tech uglies quartet spin-off.</td>\n",
       "      <td>impostors, one town knows rafi, first daughter...</td>\n",
       "      <td>page-turner set world uglies quartet high acti...</td>\n",
       "      <td>parents need know impostors first book spin-of...</td>\n",
       "      <td>12</td>\n",
       "      <td>science fiction</td>\n",
       "      <td>fiction</td>\n",
       "      <td>2018</td>\n",
       "      <td>impostors impostors, one town knows rafi, firs...</td>\n",
       "      <td>0.004679</td>\n",
       "      <td>11.995321</td>\n",
       "    </tr>\n",
       "    <tr>\n",
       "      <th>1482</th>\n",
       "      <td>american girls</td>\n",
       "      <td>riveting tale runaway discovering hollywood un...</td>\n",
       "      <td>anna's home life atlanta going great. parents ...</td>\n",
       "      <td>smart, funny, intriguing look teen-to-adult tr...</td>\n",
       "      <td>parents need know american girls coming-of-age...</td>\n",
       "      <td>13</td>\n",
       "      <td>coming of age</td>\n",
       "      <td>fiction</td>\n",
       "      <td>2016</td>\n",
       "      <td>american girls anna's home life atlanta going ...</td>\n",
       "      <td>0.005243</td>\n",
       "      <td>13.005243</td>\n",
       "    </tr>\n",
       "    <tr>\n",
       "      <th>4387</th>\n",
       "      <td>foul fair</td>\n",
       "      <td>dark, violent revenge tale teen update \"macbeth.\"</td>\n",
       "      <td>foul fair, elle khanjara goes big night friend...</td>\n",
       "      <td>over-the-top revenge tale starts intense juicy...</td>\n",
       "      <td>parents need know foul fair modern take willia...</td>\n",
       "      <td>14</td>\n",
       "      <td>contemporary fiction</td>\n",
       "      <td>fiction</td>\n",
       "      <td>2020</td>\n",
       "      <td>foul fair foul fair, elle khanjara goes big ni...</td>\n",
       "      <td>0.008232</td>\n",
       "      <td>13.991768</td>\n",
       "    </tr>\n",
       "    <tr>\n",
       "      <th>1554</th>\n",
       "      <td>school spirits (a hex hall novel)</td>\n",
       "      <td>teen ghost hunter blends high school fun spin-...</td>\n",
       "      <td>school spirits 15-year-old ghost hunter named ...</td>\n",
       "      <td>school spirit unfortunately saves action end; ...</td>\n",
       "      <td>parents need know school spirits, spin-off rac...</td>\n",
       "      <td>12</td>\n",
       "      <td>fantasy</td>\n",
       "      <td>fiction</td>\n",
       "      <td>2013</td>\n",
       "      <td>school spirits (a hex hall novel) school spiri...</td>\n",
       "      <td>0.011222</td>\n",
       "      <td>11.988778</td>\n",
       "    </tr>\n",
       "    <tr>\n",
       "      <th>1446</th>\n",
       "      <td>click, clack, surprise!</td>\n",
       "      <td>fun bath-time book shows lots ways get clean.</td>\n",
       "      <td>click, clack, surprise!, little duck's birthda...</td>\n",
       "      <td>cute installment shows different animals get c...</td>\n",
       "      <td>parents need know doreen cronin's click, clack...</td>\n",
       "      <td>4</td>\n",
       "      <td>picture book</td>\n",
       "      <td>fiction</td>\n",
       "      <td>2016</td>\n",
       "      <td>click, clack, surprise! click, clack, surprise...</td>\n",
       "      <td>0.016390</td>\n",
       "      <td>3.983610</td>\n",
       "    </tr>\n",
       "    <tr>\n",
       "      <th>757</th>\n",
       "      <td>leven thumps gateway foo (leven thumps, book 1)</td>\n",
       "      <td>occasionally fun long poorly written.</td>\n",
       "      <td>orphaned, mistreated leven contacted tiny crea...</td>\n",
       "      <td>book, reads like written gifted 12-year-old, p...</td>\n",
       "      <td>parents need know mild fantasy violence here: ...</td>\n",
       "      <td>9</td>\n",
       "      <td>fantasy</td>\n",
       "      <td>fiction</td>\n",
       "      <td>2006</td>\n",
       "      <td>leven thumps gateway foo (leven thumps, book 1...</td>\n",
       "      <td>0.017899</td>\n",
       "      <td>9.017899</td>\n",
       "    </tr>\n",
       "    <tr>\n",
       "      <th>2010</th>\n",
       "      <td>wainscott weasel</td>\n",
       "      <td>charming tale weasel's adventure protect love.</td>\n",
       "      <td>bagley brown, jr. weasel mostly keeps himself....</td>\n",
       "      <td>tor seidler brings wainscott woods life vivid ...</td>\n",
       "      <td>parents need know wainscott weasel delightful ...</td>\n",
       "      <td>7</td>\n",
       "      <td>adventure</td>\n",
       "      <td>fiction</td>\n",
       "      <td>1993</td>\n",
       "      <td>wainscott weasel bagley brown, jr. weasel most...</td>\n",
       "      <td>0.018264</td>\n",
       "      <td>7.018264</td>\n",
       "    </tr>\n",
       "    <tr>\n",
       "      <th>2053</th>\n",
       "      <td>wish list</td>\n",
       "      <td>wicked key word here, senses.</td>\n",
       "      <td>meg finn's short life mess. mother dead, stepf...</td>\n",
       "      <td>eoin colfer knows grab readers: first 10 pages...</td>\n",
       "      <td>parents need know colfer offers view afterlife...</td>\n",
       "      <td>10</td>\n",
       "      <td>fantasy</td>\n",
       "      <td>fiction</td>\n",
       "      <td>2003</td>\n",
       "      <td>wish list meg finn's short life mess. mother d...</td>\n",
       "      <td>0.019487</td>\n",
       "      <td>9.980513</td>\n",
       "    </tr>\n",
       "  </tbody>\n",
       "</table>\n",
       "</div>"
      ],
      "text/plain": [
       "                                                title  ... predictions\n",
       "2544                 witherwood reform school, book 1  ...    9.000337\n",
       "17    burning kingdoms: internment chronicles, book 2  ...   11.003533\n",
       "5069                                        impostors  ...   11.995321\n",
       "1482                                   american girls  ...   13.005243\n",
       "4387                                        foul fair  ...   13.991768\n",
       "1554                school spirits (a hex hall novel)  ...   11.988778\n",
       "1446                          click, clack, surprise!  ...    3.983610\n",
       "757   leven thumps gateway foo (leven thumps, book 1)  ...    9.017899\n",
       "2010                                 wainscott weasel  ...    7.018264\n",
       "2053                                        wish list  ...    9.980513\n",
       "\n",
       "[10 rows x 12 columns]"
      ]
     },
     "execution_count": 38,
     "metadata": {
      "tags": []
     },
     "output_type": "execute_result"
    }
   ],
   "source": [
    "test_results.sort_values(by=\"difference\").head(10)"
   ]
  },
  {
   "cell_type": "code",
   "execution_count": 39,
   "metadata": {
    "colab": {
     "base_uri": "https://localhost:8080/",
     "height": 697
    },
    "colab_type": "code",
    "id": "QYa0awq3xosD",
    "outputId": "24699edb-8749-46d6-9a19-30662f123a7d"
   },
   "outputs": [
    {
     "data": {
      "text/html": [
       "<div>\n",
       "<style scoped>\n",
       "    .dataframe tbody tr th:only-of-type {\n",
       "        vertical-align: middle;\n",
       "    }\n",
       "\n",
       "    .dataframe tbody tr th {\n",
       "        vertical-align: top;\n",
       "    }\n",
       "\n",
       "    .dataframe thead th {\n",
       "        text-align: right;\n",
       "    }\n",
       "</style>\n",
       "<table border=\"1\" class=\"dataframe\">\n",
       "  <thead>\n",
       "    <tr style=\"text-align: right;\">\n",
       "      <th></th>\n",
       "      <th>title</th>\n",
       "      <th>description</th>\n",
       "      <th>plot</th>\n",
       "      <th>csm_review</th>\n",
       "      <th>need_to_know</th>\n",
       "      <th>csm_rating</th>\n",
       "      <th>Genre</th>\n",
       "      <th>Book type</th>\n",
       "      <th>Publication date</th>\n",
       "      <th>text</th>\n",
       "      <th>difference</th>\n",
       "      <th>predictions</th>\n",
       "    </tr>\n",
       "  </thead>\n",
       "  <tbody>\n",
       "    <tr>\n",
       "      <th>992</th>\n",
       "      <td>no, david!</td>\n",
       "      <td>lovable david's antics relentless.</td>\n",
       "      <td>comes trouble! david shannon's disorderly litt...</td>\n",
       "      <td>david shannon caldecott honor book, reasons ob...</td>\n",
       "      <td>parents need know simple story caters desperad...</td>\n",
       "      <td>2</td>\n",
       "      <td>picture book</td>\n",
       "      <td>fiction</td>\n",
       "      <td>1998</td>\n",
       "      <td>no, david! comes trouble! david shannon's diso...</td>\n",
       "      <td>5.072558</td>\n",
       "      <td>7.072558</td>\n",
       "    </tr>\n",
       "    <tr>\n",
       "      <th>1435</th>\n",
       "      <td>ladybug girl dress-up dilemma</td>\n",
       "      <td>ladybug girl picks halloween costume charming ...</td>\n",
       "      <td>halloween! lulu, advice older brother, must la...</td>\n",
       "      <td>ladybug girl series fires cylinders, ladybug g...</td>\n",
       "      <td>parents need know ladybug girl dress-up dilemm...</td>\n",
       "      <td>3</td>\n",
       "      <td>picture book</td>\n",
       "      <td>fiction</td>\n",
       "      <td>2014</td>\n",
       "      <td>ladybug girl dress-up dilemma halloween! lulu,...</td>\n",
       "      <td>5.081315</td>\n",
       "      <td>8.081315</td>\n",
       "    </tr>\n",
       "    <tr>\n",
       "      <th>2466</th>\n",
       "      <td>art losing</td>\n",
       "      <td>authentic, realistic story addiction, survival...</td>\n",
       "      <td>art losing, 17-year-old harley langston's life...</td>\n",
       "      <td>absorbing, riveting story addiction, family, l...</td>\n",
       "      <td>parents need know lizzy mason's art losing pow...</td>\n",
       "      <td>16</td>\n",
       "      <td>contemporary fiction</td>\n",
       "      <td>fiction</td>\n",
       "      <td>2019</td>\n",
       "      <td>art losing art losing, 17-year-old harley lang...</td>\n",
       "      <td>5.230301</td>\n",
       "      <td>10.769699</td>\n",
       "    </tr>\n",
       "    <tr>\n",
       "      <th>603</th>\n",
       "      <td>alligators around</td>\n",
       "      <td>alligators take readers abcs.</td>\n",
       "      <td>f fooling. g giggles. primer family alligators...</td>\n",
       "      <td>words fun effective illustrations charming, ma...</td>\n",
       "      <td>parents need know words chosen memorability al...</td>\n",
       "      <td>2</td>\n",
       "      <td>alphabet</td>\n",
       "      <td>non-fiction</td>\n",
       "      <td>1969</td>\n",
       "      <td>alligators around f fooling. g giggles. primer...</td>\n",
       "      <td>5.258621</td>\n",
       "      <td>7.258621</td>\n",
       "    </tr>\n",
       "    <tr>\n",
       "      <th>705</th>\n",
       "      <td>silence: queen dead, book 1</td>\n",
       "      <td>paranormal adventure bogs details.</td>\n",
       "      <td>silence, strange encounter cemetery leaves hig...</td>\n",
       "      <td>silence interesting, suspenseful premise engag...</td>\n",
       "      <td>parents need know silence (the first book quee...</td>\n",
       "      <td>16</td>\n",
       "      <td>fantasy</td>\n",
       "      <td>fiction</td>\n",
       "      <td>2012</td>\n",
       "      <td>silence: queen dead, book 1 silence, strange e...</td>\n",
       "      <td>5.296560</td>\n",
       "      <td>10.703440</td>\n",
       "    </tr>\n",
       "    <tr>\n",
       "      <th>2516</th>\n",
       "      <td>beatrix potter: complete tales</td>\n",
       "      <td>beatrix potter one book, pre-k k.</td>\n",
       "      <td>tales peter rabbit, jemima puddle-duck, mr. to...</td>\n",
       "      <td>beatrix potter's art reproduced fine detail br...</td>\n",
       "      <td>parents need know old-fashioned values here. c...</td>\n",
       "      <td>2</td>\n",
       "      <td>animals</td>\n",
       "      <td>fiction</td>\n",
       "      <td>1969</td>\n",
       "      <td>beatrix potter: complete tales tales peter rab...</td>\n",
       "      <td>5.326140</td>\n",
       "      <td>7.326140</td>\n",
       "    </tr>\n",
       "    <tr>\n",
       "      <th>2955</th>\n",
       "      <td>high moon</td>\n",
       "      <td>girl seeks family secrets hopeful jim crow-era...</td>\n",
       "      <td>1943, 12-year-old ella friends myrna nd henry ...</td>\n",
       "      <td>heartfelt tale childhood jim crow south brings...</td>\n",
       "      <td>parents need know high moon hopeful historical...</td>\n",
       "      <td>8</td>\n",
       "      <td>coming of age</td>\n",
       "      <td>fiction</td>\n",
       "      <td>2019</td>\n",
       "      <td>high moon 1943, 12-year-old ella friends myrna...</td>\n",
       "      <td>5.367842</td>\n",
       "      <td>13.367842</td>\n",
       "    </tr>\n",
       "    <tr>\n",
       "      <th>980</th>\n",
       "      <td>fade</td>\n",
       "      <td>dark tale good boy misled temptation.</td>\n",
       "      <td>supernatural morality tale thirteen-year-old p...</td>\n",
       "      <td>fade offers subject intrigues teenagers, read ...</td>\n",
       "      <td>parents need know story focuses otherwise good...</td>\n",
       "      <td>15</td>\n",
       "      <td>fantasy</td>\n",
       "      <td>fiction</td>\n",
       "      <td>1988</td>\n",
       "      <td>fade supernatural morality tale thirteen-year-...</td>\n",
       "      <td>5.395847</td>\n",
       "      <td>9.604153</td>\n",
       "    </tr>\n",
       "    <tr>\n",
       "      <th>2988</th>\n",
       "      <td>escape asylum: asylum, book 0.5</td>\n",
       "      <td>repetitive prequel best longtime fans.</td>\n",
       "      <td>escape asylum opens ricky desmond's admittance...</td>\n",
       "      <td>sometimes prequel popular series add something...</td>\n",
       "      <td>parents need know escape asylum historical pre...</td>\n",
       "      <td>16</td>\n",
       "      <td>horror</td>\n",
       "      <td>fiction</td>\n",
       "      <td>2016</td>\n",
       "      <td>escape asylum: asylum, book 0.5 escape asylum ...</td>\n",
       "      <td>6.089161</td>\n",
       "      <td>9.910839</td>\n",
       "    </tr>\n",
       "    <tr>\n",
       "      <th>5202</th>\n",
       "      <td>pole (and you!)</td>\n",
       "      <td>clever, satirical picture book really kids.</td>\n",
       "      <td>pole know type pole be, tries find \\\"true pole...</td>\n",
       "      <td>satire-savvy fans wordplay stephen colbert's h...</td>\n",
       "      <td>parents need know comedian stephen colbert's p...</td>\n",
       "      <td>12</td>\n",
       "      <td>picture book</td>\n",
       "      <td>fiction</td>\n",
       "      <td>2012</td>\n",
       "      <td>pole (and you!) pole know type pole be, tries ...</td>\n",
       "      <td>6.170554</td>\n",
       "      <td>5.829446</td>\n",
       "    </tr>\n",
       "  </tbody>\n",
       "</table>\n",
       "</div>"
      ],
      "text/plain": [
       "                                title  ... predictions\n",
       "992                        no, david!  ...    7.072558\n",
       "1435    ladybug girl dress-up dilemma  ...    8.081315\n",
       "2466                       art losing  ...   10.769699\n",
       "603                 alligators around  ...    7.258621\n",
       "705       silence: queen dead, book 1  ...   10.703440\n",
       "2516   beatrix potter: complete tales  ...    7.326140\n",
       "2955                        high moon  ...   13.367842\n",
       "980                              fade  ...    9.604153\n",
       "2988  escape asylum: asylum, book 0.5  ...    9.910839\n",
       "5202                  pole (and you!)  ...    5.829446\n",
       "\n",
       "[10 rows x 12 columns]"
      ]
     },
     "execution_count": 39,
     "metadata": {
      "tags": []
     },
     "output_type": "execute_result"
    }
   ],
   "source": [
    "test_results.sort_values(by=\"difference\").tail(10)"
   ]
  },
  {
   "cell_type": "code",
   "execution_count": null,
   "metadata": {
    "colab": {},
    "colab_type": "code",
    "id": "Hhw6ppEIyGtj"
   },
   "outputs": [],
   "source": []
  }
 ],
 "metadata": {
  "colab": {
   "collapsed_sections": [],
   "machine_shape": "hm",
   "name": "08_xgboost_concat.ipynb",
   "provenance": [],
   "toc_visible": true
  },
  "kernelspec": {
   "display_name": "base",
   "language": "python",
   "name": "base"
  },
  "language_info": {
   "codemirror_mode": {
    "name": "ipython",
    "version": 3
   },
   "file_extension": ".py",
   "mimetype": "text/x-python",
   "name": "python",
   "nbconvert_exporter": "python",
   "pygments_lexer": "ipython3",
   "version": "3.7.4"
  }
 },
 "nbformat": 4,
 "nbformat_minor": 4
}
